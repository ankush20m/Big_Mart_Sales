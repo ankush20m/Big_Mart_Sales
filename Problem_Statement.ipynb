{
 "cells": [
  {
   "cell_type": "markdown",
   "metadata": {},
   "source": [
    "<h1 style = 'color: green'> Problem Statement: </h1>\n",
    "\n",
    "<h2>\n",
    "The data scientists at BigMart have collected 2013 sales data for 1559 products across 10 stores in different cities. Also, certain attributes of each product and store have been defined. The aim is to build a predictive model and find out the sales of each product at a particular store.\n",
    "\n",
    "Using this model, BigMart will try to understand the properties of products and stores which play a key role in increasing sales.\n",
    "\n",
    "Please note that the data may have missing values as some stores might not report all the data due to technical glitches. Hence, it will be required to treat them accordingly.\n",
    "</h2>"
   ]
  },
  {
   "cell_type": "markdown",
   "metadata": {},
   "source": [
    "<h1 style='color:green'>Data:</h1>\n",
    "<h2>\n",
    "We have train (8523) and test (5681) data set, train data set has both input and output variable(s). You need to predict the sales for test data set.\n",
    "</h2>"
   ]
  },
  {
   "cell_type": "markdown",
   "metadata": {},
   "source": [
    "<table>\n",
    "    <tr><th>Variable</th> <th>Description</th></tr>\n",
    "    <tr><th>Item_Identifier</th> <td>Unique product ID</td></tr>\n",
    "    <tr><th>Item_Weight</th> <td>Weight of product</td></tr>\n",
    "    <tr><th>Item_Fat_Content</th> <td>Whether the product is low fat or not</td></tr>\n",
    "    <tr><th>Item_Visibility</th> <td>The % of total display area of all products in a store allocated to the particular product</td></tr>\n",
    "    <tr><th>Item_Type</th> <td>The category to which the product belongs</td></tr>\n",
    "    <tr><th>Item_MRP</th> <td>Maximum Retail Price (list price) of the product</td></tr>\n",
    "    <tr><th>Outlet_Identifier</th> <td>Unique store ID</td></tr>\n",
    "    <tr><th>Outlet_Establishment_Year</th> <td>The year in which store was established</td></tr>\n",
    "    <tr><th>Outlet_Size</th> <td>The size of the store in terms of ground area covered</td></tr>\n",
    "    <tr><th>Outlet_Location_Type</th> <td>The type of city in which the store is located</td></tr>\n",
    "    <tr><th>Outlet_Type</th> <td>Whether the outlet is just a grocery store or some sort of supermarket</td></tr>\n",
    "    <tr><th>Item_Outlet_Sales</th> <td>Sales of the product in the particulat store. This is the outcome variable to be predicted.</td></tr>\n",
    "</table>"
   ]
  },
  {
   "cell_type": "markdown",
   "metadata": {},
   "source": [
    "<h1 style='color:green'>Evaluation Metric: RMSE</h1>"
   ]
  }
 ],
 "metadata": {
  "kernelspec": {
   "display_name": "Python 3",
   "language": "python",
   "name": "python3"
  },
  "language_info": {
   "codemirror_mode": {
    "name": "ipython",
    "version": 3
   },
   "file_extension": ".py",
   "mimetype": "text/x-python",
   "name": "python",
   "nbconvert_exporter": "python",
   "pygments_lexer": "ipython3",
   "version": "3.6.5"
  }
 },
 "nbformat": 4,
 "nbformat_minor": 2
}
