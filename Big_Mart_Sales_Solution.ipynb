{
 "cells": [
  {
   "cell_type": "code",
   "execution_count": 1,
   "metadata": {},
   "outputs": [],
   "source": [
    "import numpy as np\n",
    "import pandas as pd\n",
    "import matplotlib.pyplot as plt\n",
    "import seaborn as sb\n",
    "import warnings\n",
    "warnings.filterwarnings(action='ignore')"
   ]
  },
  {
   "cell_type": "code",
   "execution_count": 2,
   "metadata": {},
   "outputs": [
    {
     "data": {
      "text/html": [
       "<div>\n",
       "<style scoped>\n",
       "    .dataframe tbody tr th:only-of-type {\n",
       "        vertical-align: middle;\n",
       "    }\n",
       "\n",
       "    .dataframe tbody tr th {\n",
       "        vertical-align: top;\n",
       "    }\n",
       "\n",
       "    .dataframe thead th {\n",
       "        text-align: right;\n",
       "    }\n",
       "</style>\n",
       "<table border=\"1\" class=\"dataframe\">\n",
       "  <thead>\n",
       "    <tr style=\"text-align: right;\">\n",
       "      <th></th>\n",
       "      <th>Item_Identifier</th>\n",
       "      <th>Item_Weight</th>\n",
       "      <th>Item_Fat_Content</th>\n",
       "      <th>Item_Visibility</th>\n",
       "      <th>Item_Type</th>\n",
       "      <th>Item_MRP</th>\n",
       "      <th>Outlet_Identifier</th>\n",
       "      <th>Outlet_Establishment_Year</th>\n",
       "      <th>Outlet_Size</th>\n",
       "      <th>Outlet_Location_Type</th>\n",
       "      <th>Outlet_Type</th>\n",
       "      <th>Item_Outlet_Sales</th>\n",
       "    </tr>\n",
       "  </thead>\n",
       "  <tbody>\n",
       "    <tr>\n",
       "      <th>0</th>\n",
       "      <td>FDA15</td>\n",
       "      <td>9.30</td>\n",
       "      <td>Low Fat</td>\n",
       "      <td>0.016047</td>\n",
       "      <td>Dairy</td>\n",
       "      <td>249.8092</td>\n",
       "      <td>OUT049</td>\n",
       "      <td>1999</td>\n",
       "      <td>Medium</td>\n",
       "      <td>Tier 1</td>\n",
       "      <td>Supermarket Type1</td>\n",
       "      <td>3735.1380</td>\n",
       "    </tr>\n",
       "    <tr>\n",
       "      <th>1</th>\n",
       "      <td>DRC01</td>\n",
       "      <td>5.92</td>\n",
       "      <td>Regular</td>\n",
       "      <td>0.019278</td>\n",
       "      <td>Soft Drinks</td>\n",
       "      <td>48.2692</td>\n",
       "      <td>OUT018</td>\n",
       "      <td>2009</td>\n",
       "      <td>Medium</td>\n",
       "      <td>Tier 3</td>\n",
       "      <td>Supermarket Type2</td>\n",
       "      <td>443.4228</td>\n",
       "    </tr>\n",
       "    <tr>\n",
       "      <th>2</th>\n",
       "      <td>FDN15</td>\n",
       "      <td>17.50</td>\n",
       "      <td>Low Fat</td>\n",
       "      <td>0.016760</td>\n",
       "      <td>Meat</td>\n",
       "      <td>141.6180</td>\n",
       "      <td>OUT049</td>\n",
       "      <td>1999</td>\n",
       "      <td>Medium</td>\n",
       "      <td>Tier 1</td>\n",
       "      <td>Supermarket Type1</td>\n",
       "      <td>2097.2700</td>\n",
       "    </tr>\n",
       "    <tr>\n",
       "      <th>3</th>\n",
       "      <td>FDX07</td>\n",
       "      <td>19.20</td>\n",
       "      <td>Regular</td>\n",
       "      <td>0.000000</td>\n",
       "      <td>Fruits and Vegetables</td>\n",
       "      <td>182.0950</td>\n",
       "      <td>OUT010</td>\n",
       "      <td>1998</td>\n",
       "      <td>NaN</td>\n",
       "      <td>Tier 3</td>\n",
       "      <td>Grocery Store</td>\n",
       "      <td>732.3800</td>\n",
       "    </tr>\n",
       "    <tr>\n",
       "      <th>4</th>\n",
       "      <td>NCD19</td>\n",
       "      <td>8.93</td>\n",
       "      <td>Low Fat</td>\n",
       "      <td>0.000000</td>\n",
       "      <td>Household</td>\n",
       "      <td>53.8614</td>\n",
       "      <td>OUT013</td>\n",
       "      <td>1987</td>\n",
       "      <td>High</td>\n",
       "      <td>Tier 3</td>\n",
       "      <td>Supermarket Type1</td>\n",
       "      <td>994.7052</td>\n",
       "    </tr>\n",
       "  </tbody>\n",
       "</table>\n",
       "</div>"
      ],
      "text/plain": [
       "  Item_Identifier  Item_Weight Item_Fat_Content  Item_Visibility  \\\n",
       "0           FDA15         9.30          Low Fat         0.016047   \n",
       "1           DRC01         5.92          Regular         0.019278   \n",
       "2           FDN15        17.50          Low Fat         0.016760   \n",
       "3           FDX07        19.20          Regular         0.000000   \n",
       "4           NCD19         8.93          Low Fat         0.000000   \n",
       "\n",
       "               Item_Type  Item_MRP Outlet_Identifier  \\\n",
       "0                  Dairy  249.8092            OUT049   \n",
       "1            Soft Drinks   48.2692            OUT018   \n",
       "2                   Meat  141.6180            OUT049   \n",
       "3  Fruits and Vegetables  182.0950            OUT010   \n",
       "4              Household   53.8614            OUT013   \n",
       "\n",
       "   Outlet_Establishment_Year Outlet_Size Outlet_Location_Type  \\\n",
       "0                       1999      Medium               Tier 1   \n",
       "1                       2009      Medium               Tier 3   \n",
       "2                       1999      Medium               Tier 1   \n",
       "3                       1998         NaN               Tier 3   \n",
       "4                       1987        High               Tier 3   \n",
       "\n",
       "         Outlet_Type  Item_Outlet_Sales  \n",
       "0  Supermarket Type1          3735.1380  \n",
       "1  Supermarket Type2           443.4228  \n",
       "2  Supermarket Type1          2097.2700  \n",
       "3      Grocery Store           732.3800  \n",
       "4  Supermarket Type1           994.7052  "
      ]
     },
     "execution_count": 2,
     "metadata": {},
     "output_type": "execute_result"
    }
   ],
   "source": [
    "train = pd.read_csv(\"../Big_Mart_Sales/Train.csv\")\n",
    "train.head()"
   ]
  },
  {
   "cell_type": "markdown",
   "metadata": {},
   "source": [
    "### Total Columns and Rows in Dataset"
   ]
  },
  {
   "cell_type": "code",
   "execution_count": 3,
   "metadata": {},
   "outputs": [
    {
     "data": {
      "text/plain": [
       "(8523, 12)"
      ]
     },
     "execution_count": 3,
     "metadata": {},
     "output_type": "execute_result"
    }
   ],
   "source": [
    "train.shape"
   ]
  },
  {
   "cell_type": "markdown",
   "metadata": {},
   "source": [
    "### Data Visualization"
   ]
  },
  {
   "cell_type": "code",
   "execution_count": 4,
   "metadata": {},
   "outputs": [
    {
     "data": {
      "image/png": "[encoded data removed]",
      "text/plain": [
       "<Figure size 432x288 with 1 Axes>"
      ]
     },
     "metadata": {},
     "output_type": "display_data"
    }
   ],
   "source": [
    "sb.countplot(train.Item_Type, palette='winter')\n",
    "plt.xticks(rotation = 90)\n",
    "plt.show()"
   ]
  },
  {
   "cell_type": "code",
   "execution_count": 5,
   "metadata": {},
   "outputs": [
    {
     "data": {
      "image/png": "[encoded data removed]",
      "text/plain": [
       "<Figure size 432x288 with 1 Axes>"
      ]
     },
     "metadata": {},
     "output_type": "display_data"
    }
   ],
   "source": [
    "sb.countplot(train.Outlet_Size, palette='winter')\n",
    "plt.show()"
   ]
  },
  {
   "cell_type": "code",
   "execution_count": 6,
   "metadata": {},
   "outputs": [
    {
     "data": {
      "image/png": "[encoded data removed]",
      "text/plain": [
       "<Figure size 432x288 with 1 Axes>"
      ]
     },
     "metadata": {},
     "output_type": "display_data"
    }
   ],
   "source": [
    "sb.countplot(train.Outlet_Type, palette='winter')\n",
    "plt.xticks(rotation = 90)\n",
    "plt.show()"
   ]
  },
  {
   "cell_type": "code",
   "execution_count": 7,
   "metadata": {},
   "outputs": [
    {
     "data": {
      "image/png": "[encoded data removed]",
      "text/plain": [
       "<Figure size 432x288 with 1 Axes>"
      ]
     },
     "metadata": {},
     "output_type": "display_data"
    }
   ],
   "source": [
    "sb.countplot(train.Outlet_Establishment_Year, palette='winter')\n",
    "plt.xticks(rotation = 90)\n",
    "plt.show()"
   ]
  },
  {
   "cell_type": "code",
   "execution_count": 8,
   "metadata": {},
   "outputs": [
    {
     "data": {
      "image/png": "[encoded data removed]",
      "text/plain": [
       "<Figure size 432x288 with 1 Axes>"
      ]
     },
     "metadata": {},
     "output_type": "display_data"
    }
   ],
   "source": [
    "sb.countplot(train.Outlet_Identifier, palette='winter')\n",
    "plt.xticks(rotation = 90)\n",
    "plt.show()"
   ]
  },
  {
   "cell_type": "code",
   "execution_count": 9,
   "metadata": {},
   "outputs": [
    {
     "data": {
      "image/png": "[encoded data removed]",
      "text/plain": [
       "<Figure size 432x288 with 1 Axes>"
      ]
     },
     "metadata": {},
     "output_type": "display_data"
    }
   ],
   "source": [
    "sb.barplot(x = train.Item_Outlet_Sales, y = train.Outlet_Identifier, palette='prism')\n",
    "plt.show()"
   ]
  },
  {
   "cell_type": "code",
   "execution_count": 10,
   "metadata": {},
   "outputs": [
    {
     "data": {
      "image/png": "[encoded data removed]",
      "text/plain": [
       "<Figure size 576x576 with 1 Axes>"
      ]
     },
     "metadata": {},
     "output_type": "display_data"
    }
   ],
   "source": [
    "plt.figure(figsize=(8,8))\n",
    "sb.barplot(x = train.Item_Outlet_Sales, y = train.Item_Type, palette='prism')\n",
    "plt.show()"
   ]
  },
  {
   "cell_type": "code",
   "execution_count": 11,
   "metadata": {},
   "outputs": [
    {
     "data": {
      "image/png": "[encoded data removed]",
      "text/plain": [
       "<Figure size 432x288 with 1 Axes>"
      ]
     },
     "metadata": {},
     "output_type": "display_data"
    }
   ],
   "source": [
    "sb.barplot(x = train.Item_Outlet_Sales, y = train.Outlet_Location_Type, palette='prism')\n",
    "plt.show()"
   ]
  },
  {
   "cell_type": "code",
   "execution_count": 12,
   "metadata": {},
   "outputs": [
    {
     "data": {
      "image/png": "[encoded data removed]",
      "text/plain": [
       "<Figure size 432x288 with 1 Axes>"
      ]
     },
     "metadata": {},
     "output_type": "display_data"
    }
   ],
   "source": [
    "sb.barplot(x = train.Item_Outlet_Sales, y = train.Outlet_Size, palette='prism')\n",
    "plt.show()"
   ]
  },
  {
   "cell_type": "code",
   "execution_count": 13,
   "metadata": {},
   "outputs": [
    {
     "data": {
      "image/png": "[encoded data removed]",
      "text/plain": [
       "<Figure size 432x288 with 1 Axes>"
      ]
     },
     "metadata": {},
     "output_type": "display_data"
    }
   ],
   "source": [
    "sb.barplot(x = train.Item_Outlet_Sales, y = train.Outlet_Size, hue=train.Outlet_Location_Type, palette='prism')\n",
    "plt.show()"
   ]
  },
  {
   "cell_type": "markdown",
   "metadata": {},
   "source": [
    "### Statistical Description"
   ]
  },
  {
   "cell_type": "code",
   "execution_count": 14,
   "metadata": {},
   "outputs": [
    {
     "data": {
      "text/html": [
       "<div>\n",
       "<style scoped>\n",
       "    .dataframe tbody tr th:only-of-type {\n",
       "        vertical-align: middle;\n",
       "    }\n",
       "\n",
       "    .dataframe tbody tr th {\n",
       "        vertical-align: top;\n",
       "    }\n",
       "\n",
       "    .dataframe thead th {\n",
       "        text-align: right;\n",
       "    }\n",
       "</style>\n",
       "<table border=\"1\" class=\"dataframe\">\n",
       "  <thead>\n",
       "    <tr style=\"text-align: right;\">\n",
       "      <th></th>\n",
       "      <th>Item_Weight</th>\n",
       "      <th>Item_Visibility</th>\n",
       "      <th>Item_MRP</th>\n",
       "      <th>Outlet_Establishment_Year</th>\n",
       "      <th>Item_Outlet_Sales</th>\n",
       "    </tr>\n",
       "  </thead>\n",
       "  <tbody>\n",
       "    <tr>\n",
       "      <th>count</th>\n",
       "      <td>7060.000000</td>\n",
       "      <td>8523.000000</td>\n",
       "      <td>8523.000000</td>\n",
       "      <td>8523.000000</td>\n",
       "      <td>8523.000000</td>\n",
       "    </tr>\n",
       "    <tr>\n",
       "      <th>mean</th>\n",
       "      <td>12.857645</td>\n",
       "      <td>0.066132</td>\n",
       "      <td>140.992782</td>\n",
       "      <td>1997.831867</td>\n",
       "      <td>2181.288914</td>\n",
       "    </tr>\n",
       "    <tr>\n",
       "      <th>std</th>\n",
       "      <td>4.643456</td>\n",
       "      <td>0.051598</td>\n",
       "      <td>62.275067</td>\n",
       "      <td>8.371760</td>\n",
       "      <td>1706.499616</td>\n",
       "    </tr>\n",
       "    <tr>\n",
       "      <th>min</th>\n",
       "      <td>4.555000</td>\n",
       "      <td>0.000000</td>\n",
       "      <td>31.290000</td>\n",
       "      <td>1985.000000</td>\n",
       "      <td>33.290000</td>\n",
       "    </tr>\n",
       "    <tr>\n",
       "      <th>25%</th>\n",
       "      <td>8.773750</td>\n",
       "      <td>0.026989</td>\n",
       "      <td>93.826500</td>\n",
       "      <td>1987.000000</td>\n",
       "      <td>834.247400</td>\n",
       "    </tr>\n",
       "    <tr>\n",
       "      <th>50%</th>\n",
       "      <td>12.600000</td>\n",
       "      <td>0.053931</td>\n",
       "      <td>143.012800</td>\n",
       "      <td>1999.000000</td>\n",
       "      <td>1794.331000</td>\n",
       "    </tr>\n",
       "    <tr>\n",
       "      <th>75%</th>\n",
       "      <td>16.850000</td>\n",
       "      <td>0.094585</td>\n",
       "      <td>185.643700</td>\n",
       "      <td>2004.000000</td>\n",
       "      <td>3101.296400</td>\n",
       "    </tr>\n",
       "    <tr>\n",
       "      <th>max</th>\n",
       "      <td>21.350000</td>\n",
       "      <td>0.328391</td>\n",
       "      <td>266.888400</td>\n",
       "      <td>2009.000000</td>\n",
       "      <td>13086.964800</td>\n",
       "    </tr>\n",
       "  </tbody>\n",
       "</table>\n",
       "</div>"
      ],
      "text/plain": [
       "       Item_Weight  Item_Visibility     Item_MRP  Outlet_Establishment_Year  \\\n",
       "count  7060.000000      8523.000000  8523.000000                8523.000000   \n",
       "mean     12.857645         0.066132   140.992782                1997.831867   \n",
       "std       4.643456         0.051598    62.275067                   8.371760   \n",
       "min       4.555000         0.000000    31.290000                1985.000000   \n",
       "25%       8.773750         0.026989    93.826500                1987.000000   \n",
       "50%      12.600000         0.053931   143.012800                1999.000000   \n",
       "75%      16.850000         0.094585   185.643700                2004.000000   \n",
       "max      21.350000         0.328391   266.888400                2009.000000   \n",
       "\n",
       "       Item_Outlet_Sales  \n",
       "count        8523.000000  \n",
       "mean         2181.288914  \n",
       "std          1706.499616  \n",
       "min            33.290000  \n",
       "25%           834.247400  \n",
       "50%          1794.331000  \n",
       "75%          3101.296400  \n",
       "max         13086.964800  "
      ]
     },
     "execution_count": 14,
     "metadata": {},
     "output_type": "execute_result"
    }
   ],
   "source": [
    "train.describe()"
   ]
  },
  {
   "cell_type": "markdown",
   "metadata": {},
   "source": [
    "### Here Item visibility can't have a minimum value 0\n",
    "### So, treat 0 as a missing information"
   ]
  },
  {
   "cell_type": "markdown",
   "metadata": {},
   "source": [
    "### Check NaN (missing values) values"
   ]
  },
  {
   "cell_type": "code",
   "execution_count": 15,
   "metadata": {},
   "outputs": [
    {
     "data": {
      "text/plain": [
       "Item_Identifier                 0\n",
       "Item_Weight                  1463\n",
       "Item_Fat_Content                0\n",
       "Item_Visibility                 0\n",
       "Item_Type                       0\n",
       "Item_MRP                        0\n",
       "Outlet_Identifier               0\n",
       "Outlet_Establishment_Year       0\n",
       "Outlet_Size                  2410\n",
       "Outlet_Location_Type            0\n",
       "Outlet_Type                     0\n",
       "Item_Outlet_Sales               0\n",
       "dtype: int64"
      ]
     },
     "execution_count": 15,
     "metadata": {},
     "output_type": "execute_result"
    }
   ],
   "source": [
    "train.isnull().sum()"
   ]
  },
  {
   "cell_type": "markdown",
   "metadata": {},
   "source": [
    "### Check missing values represented by other symbols if any"
   ]
  },
  {
   "cell_type": "code",
   "execution_count": 16,
   "metadata": {},
   "outputs": [
    {
     "data": {
      "text/plain": [
       "Item_Identifier               object\n",
       "Item_Weight                  float64\n",
       "Item_Fat_Content              object\n",
       "Item_Visibility              float64\n",
       "Item_Type                     object\n",
       "Item_MRP                     float64\n",
       "Outlet_Identifier             object\n",
       "Outlet_Establishment_Year      int64\n",
       "Outlet_Size                   object\n",
       "Outlet_Location_Type          object\n",
       "Outlet_Type                   object\n",
       "Item_Outlet_Sales            float64\n",
       "dtype: object"
      ]
     },
     "execution_count": 16,
     "metadata": {},
     "output_type": "execute_result"
    }
   ],
   "source": [
    "train.dtypes"
   ]
  },
  {
   "cell_type": "code",
   "execution_count": 17,
   "metadata": {},
   "outputs": [
    {
     "data": {
      "text/html": [
       "<div>\n",
       "<style scoped>\n",
       "    .dataframe tbody tr th:only-of-type {\n",
       "        vertical-align: middle;\n",
       "    }\n",
       "\n",
       "    .dataframe tbody tr th {\n",
       "        vertical-align: top;\n",
       "    }\n",
       "\n",
       "    .dataframe thead th {\n",
       "        text-align: right;\n",
       "    }\n",
       "</style>\n",
       "<table border=\"1\" class=\"dataframe\">\n",
       "  <thead>\n",
       "    <tr style=\"text-align: right;\">\n",
       "      <th></th>\n",
       "      <th>Item_Identifier</th>\n",
       "      <th>Item_Fat_Content</th>\n",
       "      <th>Item_Type</th>\n",
       "      <th>Outlet_Identifier</th>\n",
       "      <th>Outlet_Size</th>\n",
       "      <th>Outlet_Location_Type</th>\n",
       "      <th>Outlet_Type</th>\n",
       "    </tr>\n",
       "  </thead>\n",
       "  <tbody>\n",
       "    <tr>\n",
       "      <th>count</th>\n",
       "      <td>8523</td>\n",
       "      <td>8523</td>\n",
       "      <td>8523</td>\n",
       "      <td>8523</td>\n",
       "      <td>6113</td>\n",
       "      <td>8523</td>\n",
       "      <td>8523</td>\n",
       "    </tr>\n",
       "    <tr>\n",
       "      <th>unique</th>\n",
       "      <td>1559</td>\n",
       "      <td>5</td>\n",
       "      <td>16</td>\n",
       "      <td>10</td>\n",
       "      <td>3</td>\n",
       "      <td>3</td>\n",
       "      <td>4</td>\n",
       "    </tr>\n",
       "    <tr>\n",
       "      <th>top</th>\n",
       "      <td>FDW13</td>\n",
       "      <td>Low Fat</td>\n",
       "      <td>Fruits and Vegetables</td>\n",
       "      <td>OUT027</td>\n",
       "      <td>Medium</td>\n",
       "      <td>Tier 3</td>\n",
       "      <td>Supermarket Type1</td>\n",
       "    </tr>\n",
       "    <tr>\n",
       "      <th>freq</th>\n",
       "      <td>10</td>\n",
       "      <td>5089</td>\n",
       "      <td>1232</td>\n",
       "      <td>935</td>\n",
       "      <td>2793</td>\n",
       "      <td>3350</td>\n",
       "      <td>5577</td>\n",
       "    </tr>\n",
       "  </tbody>\n",
       "</table>\n",
       "</div>"
      ],
      "text/plain": [
       "       Item_Identifier Item_Fat_Content              Item_Type  \\\n",
       "count             8523             8523                   8523   \n",
       "unique            1559                5                     16   \n",
       "top              FDW13          Low Fat  Fruits and Vegetables   \n",
       "freq                10             5089                   1232   \n",
       "\n",
       "       Outlet_Identifier Outlet_Size Outlet_Location_Type        Outlet_Type  \n",
       "count               8523        6113                 8523               8523  \n",
       "unique                10           3                    3                  4  \n",
       "top               OUT027      Medium               Tier 3  Supermarket Type1  \n",
       "freq                 935        2793                 3350               5577  "
      ]
     },
     "execution_count": 17,
     "metadata": {},
     "output_type": "execute_result"
    }
   ],
   "source": [
    "train.describe(include=['object'])"
   ]
  },
  {
   "cell_type": "code",
   "execution_count": 18,
   "metadata": {},
   "outputs": [
    {
     "data": {
      "text/plain": [
       "['Item_Identifier',\n",
       " 'Item_Fat_Content',\n",
       " 'Item_Type',\n",
       " 'Outlet_Identifier',\n",
       " 'Outlet_Size',\n",
       " 'Outlet_Location_Type',\n",
       " 'Outlet_Type']"
      ]
     },
     "execution_count": 18,
     "metadata": {},
     "output_type": "execute_result"
    }
   ],
   "source": [
    "cat_features = train.describe(include=['object']).columns.tolist()\n",
    "cat_features"
   ]
  },
  {
   "cell_type": "markdown",
   "metadata": {},
   "source": [
    "### Check unique values for these cat_features: "
   ]
  },
  {
   "cell_type": "code",
   "execution_count": 19,
   "metadata": {},
   "outputs": [
    {
     "name": "stdout",
     "output_type": "stream",
     "text": [
      "Column: Item_Identifier\n",
      "['FDA15' 'DRC01' 'FDN15' ... 'NCF55' 'NCW30' 'NCW05']\n",
      "\n",
      "Column: Item_Fat_Content\n",
      "['Low Fat' 'Regular' 'low fat' 'LF' 'reg']\n",
      "\n",
      "Column: Item_Type\n",
      "['Dairy' 'Soft Drinks' 'Meat' 'Fruits and Vegetables' 'Household'\n",
      " 'Baking Goods' 'Snack Foods' 'Frozen Foods' 'Breakfast'\n",
      " 'Health and Hygiene' 'Hard Drinks' 'Canned' 'Breads' 'Starchy Foods'\n",
      " 'Others' 'Seafood']\n",
      "\n",
      "Column: Outlet_Identifier\n",
      "['OUT049' 'OUT018' 'OUT010' 'OUT013' 'OUT027' 'OUT045' 'OUT017' 'OUT046'\n",
      " 'OUT035' 'OUT019']\n",
      "\n",
      "Column: Outlet_Size\n",
      "['Medium' nan 'High' 'Small']\n",
      "\n",
      "Column: Outlet_Location_Type\n",
      "['Tier 1' 'Tier 3' 'Tier 2']\n",
      "\n",
      "Column: Outlet_Type\n",
      "['Supermarket Type1' 'Supermarket Type2' 'Grocery Store'\n",
      " 'Supermarket Type3']\n",
      "\n"
     ]
    }
   ],
   "source": [
    "for i in cat_features:\n",
    "    print(\"Column:\",i)\n",
    "    print(train[i].unique())\n",
    "    print(\"\")"
   ]
  },
  {
   "cell_type": "markdown",
   "metadata": {},
   "source": [
    "### Unique values for Item Identifier"
   ]
  },
  {
   "cell_type": "code",
   "execution_count": 20,
   "metadata": {},
   "outputs": [
    {
     "data": {
      "text/plain": [
       "1559"
      ]
     },
     "execution_count": 20,
     "metadata": {},
     "output_type": "execute_result"
    }
   ],
   "source": [
    "train['Item_Identifier'].nunique()"
   ]
  },
  {
   "cell_type": "code",
   "execution_count": 21,
   "metadata": {},
   "outputs": [
    {
     "name": "stdout",
     "output_type": "stream",
     "text": [
      "FDA15 DRC01 FDN15 FDX07 NCD19 FDP36 FDO10 FDP10 FDH17 FDU28 FDY07 FDA03 FDX32 FDS46 FDF32 FDP49 NCB42 DRI11 FDU02 FDN22 FDW12 NCB30 FDC37 FDR28 NCD06 FDV10 DRJ59 FDE51 FDC14 FDV38 NCS17 FDP33 FDO23 DRH01 NCX29 FDV20 DRZ11 FDX10 FDB34 FDK43 FDA46 FDC02 FDL50 FDM39 NCP05 FDV49 FDL12 FDS02 NCL17 FDM40 FDR13 FDA43 NCP18 FDK21 NCX54 DRK35 FDY21 FDI26 FDM20 FDV27 FDF09 FDY40 FDY45 FDC46 FDH19 FDZ03 DRH37 NCI17 FDJ58 FDH35 FDG02 NCZ18 FDC29 FDQ10 FDN48 FDL04 FDV25 FDD58 FDN04 FDV45 NCL18 FDR12 FDG20 FDZ55 FDQ49 FDN33 FDN27 FDW20 DRG27 DRI25 FDA44 NCR17 FDU04 FDF41 FDB56 FDT28 FDD10 FDW57 DRB48 FDP09 FDH14 FDA47 FDG12 DRE60 DRK49 FDD03 FDS52 FDW39 FDX34 FDV11 FDD17 FDZ16 FDZ46 DRA12 FDY58 NCF19 DRJ13 FDB14 FDJ38 FDW11 FDL40 DRI49 DRG23 NCP30 FDY25 NCH54 NCR53 NCO26 FDB51 FDX44 NCN07 NCC31 NCO55 NCC30 FDI16 FDP16 FDB11 NCB06 FDA45 DRJ25 FDI04 DRK12 FDX20 NCI18 FDB36 FDN13 DRD24 FDQ28 FDM22 FDR07 DRF49 FDW51 DRL01 FDP25 NCM43 FDK44 FDM15 FDS31 FDI32 FDR47 FDB35 NCU05 DRY23 FDO24 FDV39 NCO17 FDU50 FDT12 FDK58 FDO08 NCW29 FDE04 NCB19 FDV15 FDL58 FDA08 FDT43 NCX06 FDT20 FDB41 NCN55 FDE40 FDX49 NCM53 FDE36 FDN57 FDI24 FDI19 FDF24 FDG52 DRF36 FDS45 FDX40 DRC27 NCD30 NCZ54 FDE10 FDR44 FDP28 FDX15 FDA39 FDY24 FDC60 FDH28 FDT25 NCO07 DRF27 FDS49 FDX25 NCX42 FDG33 FDL56 FDF14 DRM47 FDX21 NCR38 NCR18 NCU41 FDY56 DRJ51 FDU44 FDL43 FDF05 DRF15 FDL20 FDV32 FDJ34 FDG08 FDQ04 FDW13 FDY03 FDS12 FDJ55 DRK01 FDG28 FDY38 FDN01 NCR54 FDG29 FDG24 FDG59 FDM28 FDW04 FDS26 FDQ56 FDK51 FDL22 FDY55 FDZ10 FDZ32 NCF07 DRE49 FDJ08 FDT39 FDE08 FDB57 NCT54 FDM25 FDF20 FDH27 FDV60 FDY59 FDK36 NCM31 FDE33 FDU36 FDV13 NCQ54 DRP47 FDB21 FDR04 FDX23 FDX19 FDD40 FDA01 FDS33 FDM50 FDB29 FDF46 FDA33 FDC08 FDB53 FDY31 DRQ35 FDX36 DRD13 FDC52 FDB45 NCK19 FDV51 FDZ35 NCW17 FDV59 DRH39 FDN60 FDU55 FDN58 FDC41 FDO01 NCO43 FDQ07 FDF28 FDM01 FDY49 FDR24 NCY18 NCY30 FDJ22 DRI37 FDL27 NCO30 NCB07 FDP59 FDR59 FDT27 DRI01 FDU09 FDH26 FDN39 FDH40 FDJ56 DRN47 FDX60 FDT22 FDX26 FDG45 FDD44 FDS15 FDL51 FDL32 FDZ07 NCW53 NCA54 FDX09 FDO51 FDW49 FDB27 FDF45 FDV02 FDY28 FDX31 FDR43 FDP51 FDL52 FDC50 FDT57 FDP22 FDY32 FDW07 NCF18 FDG35 FDY34 NCE19 NCK31 NCJ29 FDT59 NCX41 FDU45 FDW24 FDF22 FDM60 FDR02 DRP35 FDS48 NCZ42 FDZ38 NCB55 FDC15 FDF11 FDW35 FDB44 NCC06 FDB17 FDW43 FDA27 FDN32 FDZ27 FDW23 FDU01 FDF10 DRH03 FDW27 DRI13 NCR05 FDI35 FDX08 NCJ18 FDJ41 FDU08 FDS09 DRH15 NCV17 NCO54 FDE24 FDH53 FDZ13 FDW28 FDU46 NCE43 NCC42 FDQ20 FDA13 FDZ15 NCV42 DRI51 FDO28 NCS54 FDH16 FDR52 NCH06 FDA36 FDU56 FDT09 FDU25 FDK41 FDM24 FDQ45 DRK59 FDR21 FDT44 FDX14 FDH57 NCT41 FDO11 NCP42 FDN09 FDP32 FDV57 FDR56 FDA40 NCG42 NCK54 FDE16 FDB15 FDC40 FDE53 FDK24 FDW31 NCM07 DRN36 FDQ37 FDK28 FDL48 DRL23 DRD37 FDZ47 NCJ54 FDD08 NCN18 NCI29 NCE06 FDU52 FDN16 NCM55 FDR49 FDA16 FDO19 FDO04 NCL19 FDR60 FDV37 FDG53 DRG01 FDB38 FDI27 FDD29 NCR41 FDW44 FDU21 FDI14 FDW50 FDT31 FDJ14 NCQ43 FDZ22 FDU38 FDS32 DRH13 DRF03 FDJ20 FDE22 FDX22 DRM11 FDL25 FDT08 FDO22 NCM41 FDJ21 FDC53 FDQ09 DRE25 FDL08 FDW03 FDC17 FDE34 FDO44 NCF31 FDG14 NCH30 FDR36 NCJ30 FDR08 NCQ50 FDL46 DRK37 FDK48 FDV58 FDZ52 NCF42 FDQ48 FDR58 NCE07 FDK14 FDC11 NCQ41 FDX46 FDC35 FDH45 FDX33 DRJ35 FDP13 FDP24 NCQ42 FDU14 FDT32 FDK20 FDU13 FDE05 FDE58 FDZ01 FDM08 FDS58 FDZ26 FDY51 FDL34 DRG39 NCG43 FDT01 DRF01 FDF53 FDR20 FDD38 FDH32 NCJ42 FDW22 FDE32 FDA34 FDG38 NCE31 FDS19 FDU11 FDL02 DRK23 FDO27 FDB16 NCB18 NCL53 FDR16 NCQ05 FDF44 FDK15 FDS10 FDU32 FDG09 FDE39 NCH55 FDC33 NCV54 NCQ02 NCU17 NCZ06 DRH25 NCI43 NCQ53 NCT18 FDM14 FDX57 NCV05 FDX39 FDA23 NCV06 DRI39 FDH21 FDR26 FDA14 FDG21 NCQ38 FDN20 NCN29 FDI28 FDZ28 FDO52 FDU10 FDS28 FDJ03 FDQ51 NCK06 FDY09 FDA10 FDO34 FDE38 FDF40 FDY02 FDS03 FDB59 FDO15 FDV56 FDY26 DRE13 FDD50 FDC04 NCR29 FDZ04 FDU16 FDV07 FDW01 FDC10 DRC12 DRK39 DRB25 FDK26 FDM52 NCO06 FDK34 FDO45 FDF08 FDH58 FDE02 FDR23 FDY35 FDG44 FDQ23 FDY22 NCN41 FDO36 FDH20 FDN12 FDB09 FDA09 FDL24 FDP03 FDO13 DRD49 FDQ15 NCP50 FDN23 FDS44 NCI54 FDA21 FDI41 FDE35 DRJ24 NCK17 FDD36 DRD60 NCM19 FDV12 FDQ31 FDK55 DRG15 FDV01 FDT21 FDT10 FDN02 FDJ40 DRE27 FDS27 DRM59 NCV30 FDA51 FDM46 FDK02 FDJ57 FDJ45 NCB31 FDT50 NCY41 FDJ60 FDS21 FDQ08 FDS47 DRM48 FDW46 FDU40 DRE12 FDX35 FDD51 FDY27 NCN06 FDR57 FDR19 FDJ33 FDA52 FDZ08 FDR27 NCK42 FDZ12 NCI31 FDX16 NCA05 DRG51 NCR30 FDM56 DRM37 FDN56 FDO49 FDC09 NCZ41 FDP19 FDQ24 DRL11 FDN52 FDF21 FDS51 FDE45 FDX50 NCN14 FDQ21 FDL38 DRL37 FDZ39 FDH10 FDS35 FDN21 NCO18 FDD05 FDX59 FDZ23 FDX27 FDR14 FDZ56 NCL55 FDD59 DRF23 FDT49 FDH22 FDT34 FDB39 FDQ22 NCN43 FDG57 FDU22 NCC43 FDP01 FDF52 FDZ33 FDP48 FDW56 FDC26 FDF34 FDD04 NCJ31 FDO57 FDM36 NCY05 DRK11 NCL30 DRJ39 NCP06 FDZ44 FDV46 DRG03 FDU37 FDI57 FDM45 FDB26 FDZ25 NCN26 FDO38 FDG31 FDI45 FDE17 NCG06 FDQ57 NCP29 FDM02 FDR46 FDE50 FDS16 FDU15 FDO09 FDB40 DRN11 FDF04 FDE41 FDW08 NCD54 FDN34 FDL39 FDH33 DRH23 FDD21 FDK60 FDY12 FDP11 FDC21 NCF54 FDV43 DRC36 NCW42 FDL13 FDV22 NCB43 FDQ46 FDC44 FDB22 FDV23 FDK10 FDL33 FDD20 NCM54 FDW48 NCM06 FDT46 FDT38 FDO40 FDP12 FDI44 FDG16 FDY11 FDY60 NCM05 FDA49 FDY52 FDJ02 FDW40 FDY08 FDM21 NCM42 NCD07 FDD09 DRH59 DRA24 FDY36 FDG34 FDK22 FDO33 FDD46 FDU34 FDA26 FDP38 FDA50 FDY10 FDT19 FDA28 FDB05 FDK45 FDR48 FDY15 FDM51 FDW09 FDV44 NCP43 FDL26 DRM35 DRD15 FDV04 FDG46 NCN05 FDO58 DRH49 NCZ05 NCP54 FDF57 FDA02 DRJ37 NCP55 FDW45 FDK38 NCZ30 FDK08 NCG19 FDQ01 FDL44 DRM23 NCE18 DRZ24 FDT48 DRG11 FDP60 FDC32 NCH18 DRE37 DRC13 FDG47 NCT05 FDN50 FDU60 FDX02 NCO41 FDQ59 NCZ53 FDD34 FDY43 FDN44 FDD32 FDA56 FDT13 NCY29 NCA42 FDG26 FDH24 FDT52 FDT04 NCL54 FDQ32 FDE29 FDB37 FDN46 FDV28 FDW37 FDV40 FDZ57 FDY46 FDX45 FDB33 FDT58 NCL31 FDJ44 FDS50 FDO50 FDU20 DRK13 FDI20 FDG17 NCK29 FDM32 FDC51 FDF16 FDI46 FDZ21 FDR32 DRF25 FDH05 FDD52 FDR55 FDP04 FDQ14 DRN59 NCR06 FDB58 NCV41 FDW19 FDO56 FDN10 FDY20 FDV34 NCX18 NCZ17 FDD57 FDZ48 FDZ31 FDA04 FDL21 DRG49 FDR51 FDC39 FDP45 FDC56 FDE59 FDB04 NCK05 FDR03 FDQ03 FDC59 DRB13 NCE54 FDP23 NCL29 FDM57 FDZ36 FDO46 FDD16 FDZ20 FDY44 FDW38 FDY33 DRH51 FDI50 FDB60 FDA20 NCX05 DRF37 FDJ26 FDZ58 FDZ50 NCG18 FDH50 DRO35 FDP52 FDC05 NCA41 FDX56 FDS01 FDW34 NCP02 FDZ49 NCJ17 FDI53 FDW02 FDO48 FDF56 FDL57 FDV52 NCS41 FDF12 FDM13 FDW55 NCT29 NCS42 FDD47 DRE03 NCM18 FDE20 FDI33 NCT06 FDK52 FDJ36 NCK18 FDB08 FDX43 FDU58 FDL09 FDR37 FDG56 NCC55 FDA25 FDV33 FDX47 FDB02 FDI56 DRJ49 FDP26 FDO32 FDR34 FDU59 FDN31 FDT55 FDC03 FDL14 FDP39 FDT11 FDU48 FDT45 FDE56 FDZ34 FDV24 FDQ39 FDE11 NCU54 FDO60 NCS06 FDQ55 NCO02 FDB12 FDT40 NCO05 FDM04 FDH08 NCQ06 FDZ40 NCM17 FDU03 NCX30 FDV08 DRK47 DRI47 FDR35 FDK03 FDZ59 FDL03 DRC25 NCG07 FDL45 FDC45 FDI40 FDQ11 FDQ52 FDJ27 FDT26 NCH07 FDP44 FDI48 NCF06 NCL05 FDT24 FDS11 FDC28 DRE15 NCI42 FDX37 FDM09 NCW54 FDF47 DRD01 FDN25 FDW36 FDP20 FDR45 FDZ45 FDB23 NCM26 FDK40 NCL42 FDY04 NCG30 NCH29 NCM29 FDD53 NCP41 FDJ28 FDH44 NCY54 DRA59 FDS55 NCN19 FDH09 FDS25 NCI30 FDM33 NCA53 FDS56 FDT07 FDJ10 FDA38 FDW32 NCW18 FDQ44 FDQ34 FDN08 FDK57 DRG48 FDH52 NCH43 FDD35 FDR01 FDS23 FDJ53 FDA32 FDX01 FDA48 FDI09 DRF13 FDK25 FDC20 FDQ19 FDV50 DRG37 FDS08 FDG22 DRJ47 FDZ43 FDJ50 FDV35 DRL35 FDS24 FDS13 FDW26 FDQ12 FDL36 DRJ11 NCT17 DRH36 NCA17 FDG41 NCS38 FDQ16 FDS40 FDV31 NCD42 FDW21 DRF60 FDQ36 FDP34 FDI02 FDG50 FDV48 FDH02 NCD43 FDE46 NCO42 FDR40 DRE48 FDV16 FDY19 FDD41 NCK07 FDZ60 FDW47 FDX58 FDS04 FDK16 NCU42 FDS37 FDO25 FDS57 FDI52 FDG40 FDU49 NCM30 DRO47 NCY06 NCL41 FDM58 FDI07 DRL47 FDQ25 FDE26 FDD56 FDQ13 DRD25 FDT16 NCB54 FDA31 FDM12 FDY47 FDT03 FDB49 FDE47 FDU23 FDV09 NCA30 FDH41 FDS43 FDP37 FDJ09 FDC57 DRD27 FDI12 FDQ33 FDQ27 FDH34 FDB20 DRL60 DRJ23 FDQ26 NCA06 FDJ07 FDP56 FDF26 FDA11 DRI23 NCJ05 FDI21 FDH12 FDD02 FDL28 FDR10 FDR15 FDQ40 FDS34 FDT56 FDU24 FDX11 FDF35 FDD22 FDT60 FDF17 NCP53 FDF29 FDI10 FDR09 FDO03 FDD26 FDO39 FDX51 FDC38 FDP07 FDK27 FDP31 FDM10 FDD11 FDN45 FDJ04 NCT42 FDD45 FDK56 FDX03 NCU18 FDJ48 FDV21 FDK09 NCN42 FDL16 FDM34 FDG60 DRD12 FDJ16 FDI22 NCC07 FDM16 FDT36 FDH38 FDC16 FDT33 FDU31 DRJ01 NCF43 NCS53 DRB24 FDE23 FDW60 NCQ18 NCE30 FDW25 NCY17 NCS18 FDB32 FDG10 FDF38 FDW59 FDY57 FDY16 FDA22 FDV03 FDP27 FDZ37 FDL10 FDE09 FDF33 FDR31 NCQ29 NCI55 FDD14 NCD18 NCE55 FDX48 DRF48 FDU51 NCC19 NCO29 FDX55 FDZ19 NCV53 FDA35 FDX24 NCS05 FDK04 FDI58 FDG58 FDI60 FDW52 FDN38 FDU39 FDR25 FDM44 FDM27 NCA29 NCJ43 FDX28 FDW15 FDO20 NCR50 FDN28 FDY13 FDA57 FDB52 FDS07 FDO31 FDP57 FDO21 FDW58 NCL07 FDU12 FDV47 FDU57 FDF02 DRG13 NCN53 FDI15 NCN17 FDN24 DRH11 FDJ15 DRF51 FDO37 FDW10 DRN37 FDA37 FDU35 FDS59 FDL15 FDB28 FDY37 FDP58 FDF58 FDB47 FDV14 FDC23 FDU33 DRO59 FDD48 NCK30 FDW33 FDT37 FDP46 NCC18 FDU07 FDE21 FDX38 FDH48 FDI38 NCX53 NCN30 FDK33 FDU26 FDR39 NCG55 NCC54 FDR33 FDT14 DRL49 NCT30 FDU27 FDS20 FDA07 FDZ51 NCN54 FDR11 NCR42 FDX04 FDN03 FDM03 FDT23 FDB50 NCG54 FDJ52 FDE28 FDA58 DRB01 NCZ29 FDF50 FDT51 FDP40 FDF39 FDQ58 FDA55 FDA19 FDF59 FDJ46 FDC47 FDC22 FDD39 DRE01 NCS30 FDH47 FDP08 NCY42 FDE44 FDJ12 FDV36 NCW41 FDX12 NCY53 NCH42 FDH46 FDV26 DRI03 NCL06 NCO14 FDI08 FDZ14 FDS14 NCK53 FDH56 NCQ30 FDG32 FDK32 FDY48 NCU06 FDM38 FDT15 NCJ19 NCI06 FDV19 FDQ47 NCW06 FDO16 DRN35 FDV55 FDB03 FDJ32 FDC34 FDG05 NCJ06 FDD23 FDX52 FDO12 FDT35 FDU19 FDY50 FDE57 FDE14 FDG04 FDE52 DRL59 FDI34 FDC58 FDT02 FDH04 FDK46 FDR22 FDH60 FDY39 NCF30 FDN49 DRC24 FDS60 FDZ02 FDW16 NCQ17 NCO53 FDU47 FDK50 NCE42 FDZ09 NCU30 DRG36 NCD31 NCV29 NCP17 DRM49 FDY14 DRI59 FDY01 FDT47 NCS29 NCT53 FDP21 FDD33 DRC49 FDB10 FDS39 NCU29 NCP14 FDC48 FDW14 FDS36 NCA18 FDQ60 FDI36 FDI05 FDS22 FDN40 NCV18 FDP15 NCD55 DRG25 FDN51 FDB46 NCX17 FDH31 FDX13 NCU53 FDD28 FDU43 NCF55 NCW30 NCW05 "
     ]
    }
   ],
   "source": [
    "for i in train['Item_Identifier'].unique():\n",
    "    print(i, end=\" \")"
   ]
  },
  {
   "cell_type": "markdown",
   "metadata": {},
   "source": [
    "### Here in Item Fat Content: Low Fat, low fat and LF are same as Low Fat and Regular and reg are same as Regular. So will correct these preprocessing"
   ]
  },
  {
   "cell_type": "code",
   "execution_count": 22,
   "metadata": {},
   "outputs": [],
   "source": [
    "train['Item_Fat_Content'] = train['Item_Fat_Content'].replace(\"low fat\", \"Low Fat\")\n",
    "train['Item_Fat_Content'] = train['Item_Fat_Content'].replace(\"LF\", \"Low Fat\")\n",
    "train['Item_Fat_Content'] = train['Item_Fat_Content'].replace(\"reg\", \"Regular\")"
   ]
  },
  {
   "cell_type": "code",
   "execution_count": 23,
   "metadata": {},
   "outputs": [
    {
     "data": {
      "text/plain": [
       "array(['Low Fat', 'Regular'], dtype=object)"
      ]
     },
     "execution_count": 23,
     "metadata": {},
     "output_type": "execute_result"
    }
   ],
   "source": [
    "train.Item_Fat_Content.unique()"
   ]
  },
  {
   "cell_type": "markdown",
   "metadata": {},
   "source": [
    "### Missing values handling:"
   ]
  },
  {
   "cell_type": "markdown",
   "metadata": {},
   "source": [
    "### For Item Weight, we will check Mean value of Item Weight for all items categorized by Item Type and also will check Mean value of Item Weight for all items categorized by Item Identifier"
   ]
  },
  {
   "cell_type": "code",
   "execution_count": 24,
   "metadata": {},
   "outputs": [
    {
     "data": {
      "text/plain": [
       "array(['Dairy', 'Soft Drinks', 'Meat', 'Fruits and Vegetables',\n",
       "       'Household', 'Baking Goods', 'Snack Foods', 'Frozen Foods',\n",
       "       'Breakfast', 'Health and Hygiene', 'Hard Drinks', 'Canned',\n",
       "       'Breads', 'Starchy Foods', 'Others', 'Seafood'], dtype=object)"
      ]
     },
     "execution_count": 24,
     "metadata": {},
     "output_type": "execute_result"
    }
   ],
   "source": [
    "train.Item_Type.unique()"
   ]
  },
  {
   "cell_type": "code",
   "execution_count": 25,
   "metadata": {},
   "outputs": [
    {
     "data": {
      "text/plain": [
       "13.42606890459367"
      ]
     },
     "execution_count": 25,
     "metadata": {},
     "output_type": "execute_result"
    }
   ],
   "source": [
    "train[train['Item_Type'] == 'Dairy']['Item_Weight'].mean(skipna=True)"
   ]
  },
  {
   "cell_type": "code",
   "execution_count": 26,
   "metadata": {},
   "outputs": [
    {
     "name": "stdout",
     "output_type": "stream",
     "text": [
      "Average Item Weight of all Items for Item Type Dairy is 13.426069\n",
      "Average Item Weight of all Items for Item Type Soft Drinks is 11.847460\n",
      "Average Item Weight of all Items for Item Type Meat is 12.817344\n",
      "Average Item Weight of all Items for Item Type Fruits and Vegetables is 13.224769\n",
      "Average Item Weight of all Items for Item Type Household is 13.384736\n",
      "Average Item Weight of all Items for Item Type Baking Goods is 12.277108\n",
      "Average Item Weight of all Items for Item Type Snack Foods is 12.987880\n",
      "Average Item Weight of all Items for Item Type Frozen Foods is 12.867061\n",
      "Average Item Weight of all Items for Item Type Breakfast is 12.768202\n",
      "Average Item Weight of all Items for Item Type Health and Hygiene is 13.142314\n",
      "Average Item Weight of all Items for Item Type Hard Drinks is 11.400328\n",
      "Average Item Weight of all Items for Item Type Canned is 12.305705\n",
      "Average Item Weight of all Items for Item Type Breads is 11.346936\n",
      "Average Item Weight of all Items for Item Type Starchy Foods is 13.690731\n",
      "Average Item Weight of all Items for Item Type Others is 13.853285\n",
      "Average Item Weight of all Items for Item Type Seafood is 12.552843\n"
     ]
    }
   ],
   "source": [
    "for j in train.Item_Type.unique():\n",
    "    avg = train[train['Item_Type'] == j]['Item_Weight'].mean(skipna = True)\n",
    "    print(\"Average Item Weight of all Items for Item Type %s is %f\" %(j, avg))"
   ]
  },
  {
   "cell_type": "code",
   "execution_count": 27,
   "metadata": {},
   "outputs": [
    {
     "name": "stdout",
     "output_type": "stream",
     "text": [
      "Average Item Weight of all Items for Item Identifier FDA15 is 9.300000\n",
      "Average Item Weight of all Items for Item Identifier DRC01 is 5.920000\n",
      "Average Item Weight of all Items for Item Identifier FDN15 is 17.500000\n",
      "Average Item Weight of all Items for Item Identifier FDX07 is 19.200000\n",
      "Average Item Weight of all Items for Item Identifier NCD19 is 8.930000\n",
      "Average Item Weight of all Items for Item Identifier FDP36 is 10.395000\n",
      "Average Item Weight of all Items for Item Identifier FDO10 is 13.650000\n",
      "Average Item Weight of all Items for Item Identifier FDP10 is 19.000000\n",
      "Average Item Weight of all Items for Item Identifier FDH17 is 16.200000\n",
      "Average Item Weight of all Items for Item Identifier FDU28 is 19.200000\n",
      "Average Item Weight of all Items for Item Identifier FDY07 is 11.800000\n",
      "Average Item Weight of all Items for Item Identifier FDA03 is 18.500000\n",
      "Average Item Weight of all Items for Item Identifier FDX32 is 15.100000\n",
      "Average Item Weight of all Items for Item Identifier FDS46 is 17.600000\n",
      "Average Item Weight of all Items for Item Identifier FDF32 is 16.350000\n",
      "Average Item Weight of all Items for Item Identifier FDP49 is 9.000000\n",
      "Average Item Weight of all Items for Item Identifier NCB42 is 11.800000\n",
      "Average Item Weight of all Items for Item Identifier DRI11 is 8.260000\n",
      "Average Item Weight of all Items for Item Identifier FDU02 is 13.350000\n",
      "Average Item Weight of all Items for Item Identifier FDN22 is 18.850000\n",
      "Average Item Weight of all Items for Item Identifier FDW12 is 8.315000\n",
      "Average Item Weight of all Items for Item Identifier NCB30 is 14.600000\n",
      "Average Item Weight of all Items for Item Identifier FDC37 is 15.500000\n",
      "Average Item Weight of all Items for Item Identifier FDR28 is 13.850000\n",
      "Average Item Weight of all Items for Item Identifier NCD06 is 13.000000\n",
      "Average Item Weight of all Items for Item Identifier FDV10 is 7.645000\n",
      "Average Item Weight of all Items for Item Identifier DRJ59 is 11.650000\n",
      "Average Item Weight of all Items for Item Identifier FDE51 is 5.925000\n",
      "Average Item Weight of all Items for Item Identifier FDC14 is 14.500000\n",
      "Average Item Weight of all Items for Item Identifier FDV38 is 19.250000\n",
      "Average Item Weight of all Items for Item Identifier NCS17 is 18.600000\n",
      "Average Item Weight of all Items for Item Identifier FDP33 is 18.700000\n",
      "Average Item Weight of all Items for Item Identifier FDO23 is 17.850000\n",
      "Average Item Weight of all Items for Item Identifier DRH01 is 17.500000\n",
      "Average Item Weight of all Items for Item Identifier NCX29 is 10.000000\n",
      "Average Item Weight of all Items for Item Identifier FDV20 is 20.200000\n",
      "Average Item Weight of all Items for Item Identifier DRZ11 is 8.850000\n",
      "Average Item Weight of all Items for Item Identifier FDX10 is 6.385000\n",
      "Average Item Weight of all Items for Item Identifier FDB34 is 15.250000\n",
      "Average Item Weight of all Items for Item Identifier FDK43 is 9.800000\n",
      "Average Item Weight of all Items for Item Identifier FDA46 is 13.600000\n",
      "Average Item Weight of all Items for Item Identifier FDC02 is 21.350000\n",
      "Average Item Weight of all Items for Item Identifier FDL50 is 12.150000\n",
      "Average Item Weight of all Items for Item Identifier FDM39 is 6.420000\n",
      "Average Item Weight of all Items for Item Identifier NCP05 is 19.600000\n",
      "Average Item Weight of all Items for Item Identifier FDV49 is 10.000000\n",
      "Average Item Weight of all Items for Item Identifier FDL12 is 15.850000\n",
      "Average Item Weight of all Items for Item Identifier FDS02 is 10.195000\n",
      "Average Item Weight of all Items for Item Identifier NCL17 is 7.390000\n",
      "Average Item Weight of all Items for Item Identifier FDM40 is 10.195000\n",
      "Average Item Weight of all Items for Item Identifier FDR13 is 9.895000\n",
      "Average Item Weight of all Items for Item Identifier FDA43 is 10.895000\n",
      "Average Item Weight of all Items for Item Identifier NCP18 is 12.150000\n",
      "Average Item Weight of all Items for Item Identifier FDK21 is 7.905000\n",
      "Average Item Weight of all Items for Item Identifier NCX54 is 9.195000\n",
      "Average Item Weight of all Items for Item Identifier DRK35 is 8.365000\n",
      "Average Item Weight of all Items for Item Identifier FDY21 is 15.100000\n",
      "Average Item Weight of all Items for Item Identifier FDI26 is 5.940000\n",
      "Average Item Weight of all Items for Item Identifier FDM20 is 10.000000\n",
      "Average Item Weight of all Items for Item Identifier FDV27 is 7.970000\n",
      "Average Item Weight of all Items for Item Identifier FDF09 is 6.215000\n",
      "Average Item Weight of all Items for Item Identifier FDY40 is 15.500000\n",
      "Average Item Weight of all Items for Item Identifier FDY45 is 17.500000\n",
      "Average Item Weight of all Items for Item Identifier FDC46 is 17.700000\n",
      "Average Item Weight of all Items for Item Identifier FDH19 is 19.350000\n",
      "Average Item Weight of all Items for Item Identifier FDZ03 is 13.650000\n",
      "Average Item Weight of all Items for Item Identifier DRH37 is 17.600000\n",
      "Average Item Weight of all Items for Item Identifier NCI17 is 8.645000\n",
      "Average Item Weight of all Items for Item Identifier FDJ58 is 15.600000\n",
      "Average Item Weight of all Items for Item Identifier FDH35 is 18.250000\n",
      "Average Item Weight of all Items for Item Identifier FDG02 is 7.855000\n",
      "Average Item Weight of all Items for Item Identifier NCZ18 is 7.825000\n",
      "Average Item Weight of all Items for Item Identifier FDC29 is 8.390000\n",
      "Average Item Weight of all Items for Item Identifier FDQ10 is 12.850000\n",
      "Average Item Weight of all Items for Item Identifier FDN48 is 13.350000\n",
      "Average Item Weight of all Items for Item Identifier FDL04 is 19.000000\n",
      "Average Item Weight of all Items for Item Identifier FDV25 is 5.905000\n",
      "Average Item Weight of all Items for Item Identifier FDD58 is 7.760000\n",
      "Average Item Weight of all Items for Item Identifier FDN04 is 11.800000\n",
      "Average Item Weight of all Items for Item Identifier FDV45 is 16.750000\n",
      "Average Item Weight of all Items for Item Identifier NCL18 is 18.850000\n",
      "Average Item Weight of all Items for Item Identifier FDR12 is 12.600000\n",
      "Average Item Weight of all Items for Item Identifier FDG20 is 15.500000\n",
      "Average Item Weight of all Items for Item Identifier FDZ55 is 6.055000\n",
      "Average Item Weight of all Items for Item Identifier FDQ49 is 20.200000\n",
      "Average Item Weight of all Items for Item Identifier FDN33 is 6.305000\n",
      "Average Item Weight of all Items for Item Identifier FDN27 is 20.850000\n",
      "Average Item Weight of all Items for Item Identifier FDW20 is 20.750000\n",
      "Average Item Weight of all Items for Item Identifier DRG27 is 8.895000\n",
      "Average Item Weight of all Items for Item Identifier DRI25 is 19.600000\n",
      "Average Item Weight of all Items for Item Identifier FDA44 is 19.700000\n",
      "Average Item Weight of all Items for Item Identifier NCR17 is 9.800000\n",
      "Average Item Weight of all Items for Item Identifier FDU04 is 7.930000\n",
      "Average Item Weight of all Items for Item Identifier FDF41 is 12.150000\n",
      "Average Item Weight of all Items for Item Identifier FDB56 is 8.750000\n",
      "Average Item Weight of all Items for Item Identifier FDT28 is 13.300000\n",
      "Average Item Weight of all Items for Item Identifier FDD10 is 20.600000\n",
      "Average Item Weight of all Items for Item Identifier FDW57 is 8.310000\n",
      "Average Item Weight of all Items for Item Identifier DRB48 is 16.750000\n",
      "Average Item Weight of all Items for Item Identifier FDP09 is 19.750000\n",
      "Average Item Weight of all Items for Item Identifier FDH14 is 17.100000\n",
      "Average Item Weight of all Items for Item Identifier FDA47 is 10.500000\n",
      "Average Item Weight of all Items for Item Identifier FDG12 is 6.635000\n",
      "Average Item Weight of all Items for Item Identifier DRE60 is 9.395000\n",
      "Average Item Weight of all Items for Item Identifier DRK49 is 14.150000\n",
      "Average Item Weight of all Items for Item Identifier FDD03 is 13.300000\n",
      "Average Item Weight of all Items for Item Identifier FDS52 is 8.890000\n",
      "Average Item Weight of all Items for Item Identifier FDW39 is 6.690000\n",
      "Average Item Weight of all Items for Item Identifier FDX34 is 6.195000\n",
      "Average Item Weight of all Items for Item Identifier FDV11 is 9.100000\n",
      "Average Item Weight of all Items for Item Identifier FDD17 is 7.500000\n",
      "Average Item Weight of all Items for Item Identifier FDZ16 is 16.850000\n",
      "Average Item Weight of all Items for Item Identifier FDZ46 is 7.485000\n",
      "Average Item Weight of all Items for Item Identifier DRA12 is 11.600000\n",
      "Average Item Weight of all Items for Item Identifier FDY58 is 11.650000\n",
      "Average Item Weight of all Items for Item Identifier NCF19 is 13.000000\n",
      "Average Item Weight of all Items for Item Identifier DRJ13 is 12.650000\n",
      "Average Item Weight of all Items for Item Identifier FDB14 is 20.250000\n",
      "Average Item Weight of all Items for Item Identifier FDJ38 is 8.600000\n",
      "Average Item Weight of all Items for Item Identifier FDW11 is 12.600000\n",
      "Average Item Weight of all Items for Item Identifier FDL40 is 17.700000\n"
     ]
    },
    {
     "name": "stdout",
     "output_type": "stream",
     "text": [
      "Average Item Weight of all Items for Item Identifier DRI49 is 14.150000\n",
      "Average Item Weight of all Items for Item Identifier DRG23 is 8.880000\n",
      "Average Item Weight of all Items for Item Identifier NCP30 is 20.500000\n",
      "Average Item Weight of all Items for Item Identifier FDY25 is 12.000000\n",
      "Average Item Weight of all Items for Item Identifier NCH54 is 13.500000\n",
      "Average Item Weight of all Items for Item Identifier NCR53 is 12.150000\n",
      "Average Item Weight of all Items for Item Identifier NCO26 is 7.235000\n",
      "Average Item Weight of all Items for Item Identifier FDB51 is 6.920000\n",
      "Average Item Weight of all Items for Item Identifier FDX44 is 9.300000\n",
      "Average Item Weight of all Items for Item Identifier NCN07 is 18.500000\n",
      "Average Item Weight of all Items for Item Identifier NCC31 is 8.020000\n",
      "Average Item Weight of all Items for Item Identifier NCO55 is 12.800000\n",
      "Average Item Weight of all Items for Item Identifier NCC30 is 16.600000\n",
      "Average Item Weight of all Items for Item Identifier FDI16 is 14.000000\n",
      "Average Item Weight of all Items for Item Identifier FDP16 is 18.600000\n",
      "Average Item Weight of all Items for Item Identifier FDB11 is 16.000000\n",
      "Average Item Weight of all Items for Item Identifier NCB06 is 17.600000\n",
      "Average Item Weight of all Items for Item Identifier FDA45 is 21.250000\n",
      "Average Item Weight of all Items for Item Identifier DRJ25 is 14.600000\n",
      "Average Item Weight of all Items for Item Identifier FDI04 is 13.650000\n",
      "Average Item Weight of all Items for Item Identifier DRK12 is 9.500000\n",
      "Average Item Weight of all Items for Item Identifier FDX20 is 7.365000\n",
      "Average Item Weight of all Items for Item Identifier NCI18 is 18.350000\n",
      "Average Item Weight of all Items for Item Identifier FDB36 is 5.465000\n",
      "Average Item Weight of all Items for Item Identifier FDN13 is 18.600000\n",
      "Average Item Weight of all Items for Item Identifier DRD24 is 13.850000\n",
      "Average Item Weight of all Items for Item Identifier FDQ28 is 14.000000\n",
      "Average Item Weight of all Items for Item Identifier FDM22 is 14.000000\n",
      "Average Item Weight of all Items for Item Identifier FDR07 is 21.350000\n",
      "Average Item Weight of all Items for Item Identifier DRF49 is 7.270000\n",
      "Average Item Weight of all Items for Item Identifier FDW51 is 6.155000\n",
      "Average Item Weight of all Items for Item Identifier DRL01 is 19.500000\n",
      "Average Item Weight of all Items for Item Identifier FDP25 is 15.200000\n",
      "Average Item Weight of all Items for Item Identifier NCM43 is 14.500000\n",
      "Average Item Weight of all Items for Item Identifier FDK44 is 16.600000\n",
      "Average Item Weight of all Items for Item Identifier FDM15 is 11.800000\n",
      "Average Item Weight of all Items for Item Identifier FDS31 is 13.100000\n",
      "Average Item Weight of all Items for Item Identifier FDI32 is 17.700000\n",
      "Average Item Weight of all Items for Item Identifier FDR47 is 17.850000\n",
      "Average Item Weight of all Items for Item Identifier FDB35 is 12.300000\n",
      "Average Item Weight of all Items for Item Identifier NCU05 is 11.800000\n",
      "Average Item Weight of all Items for Item Identifier DRY23 is 9.395000\n",
      "Average Item Weight of all Items for Item Identifier FDO24 is 11.100000\n",
      "Average Item Weight of all Items for Item Identifier FDV39 is 11.300000\n",
      "Average Item Weight of all Items for Item Identifier NCO17 is 10.000000\n",
      "Average Item Weight of all Items for Item Identifier FDU50 is 5.750000\n",
      "Average Item Weight of all Items for Item Identifier FDT12 is 6.215000\n",
      "Average Item Weight of all Items for Item Identifier FDK58 is 11.350000\n",
      "Average Item Weight of all Items for Item Identifier FDO08 is 11.100000\n",
      "Average Item Weight of all Items for Item Identifier NCW29 is 14.000000\n",
      "Average Item Weight of all Items for Item Identifier FDE04 is 19.750000\n",
      "Average Item Weight of all Items for Item Identifier NCB19 is 6.525000\n",
      "Average Item Weight of all Items for Item Identifier FDV15 is 10.300000\n",
      "Average Item Weight of all Items for Item Identifier FDL58 is 5.780000\n",
      "Average Item Weight of all Items for Item Identifier FDA08 is 11.850000\n",
      "Average Item Weight of all Items for Item Identifier FDT43 is 16.350000\n",
      "Average Item Weight of all Items for Item Identifier NCX06 is 17.600000\n",
      "Average Item Weight of all Items for Item Identifier FDT20 is 10.500000\n",
      "Average Item Weight of all Items for Item Identifier FDB41 is 19.000000\n",
      "Average Item Weight of all Items for Item Identifier NCN55 is 14.600000\n",
      "Average Item Weight of all Items for Item Identifier FDE40 is 15.600000\n",
      "Average Item Weight of all Items for Item Identifier FDX49 is 4.615000\n",
      "Average Item Weight of all Items for Item Identifier NCM53 is 18.750000\n",
      "Average Item Weight of all Items for Item Identifier FDE36 is 5.260000\n",
      "Average Item Weight of all Items for Item Identifier FDN57 is 18.250000\n",
      "Average Item Weight of all Items for Item Identifier FDI24 is 10.300000\n",
      "Average Item Weight of all Items for Item Identifier FDI19 is 15.100000\n",
      "Average Item Weight of all Items for Item Identifier FDF24 is 15.500000\n",
      "Average Item Weight of all Items for Item Identifier FDG52 is 13.650000\n",
      "Average Item Weight of all Items for Item Identifier DRF36 is 16.100000\n",
      "Average Item Weight of all Items for Item Identifier FDS45 is 5.175000\n",
      "Average Item Weight of all Items for Item Identifier FDX40 is 12.850000\n",
      "Average Item Weight of all Items for Item Identifier DRC27 is 13.800000\n",
      "Average Item Weight of all Items for Item Identifier NCD30 is 19.700000\n",
      "Average Item Weight of all Items for Item Identifier NCZ54 is 14.650000\n",
      "Average Item Weight of all Items for Item Identifier FDE10 is 6.670000\n",
      "Average Item Weight of all Items for Item Identifier FDR44 is 6.110000\n",
      "Average Item Weight of all Items for Item Identifier FDP28 is 13.650000\n",
      "Average Item Weight of all Items for Item Identifier FDX15 is 17.200000\n",
      "Average Item Weight of all Items for Item Identifier FDA39 is 6.320000\n",
      "Average Item Weight of all Items for Item Identifier FDY24 is 4.880000\n",
      "Average Item Weight of all Items for Item Identifier FDC60 is 5.425000\n",
      "Average Item Weight of all Items for Item Identifier FDH28 is 15.850000\n",
      "Average Item Weight of all Items for Item Identifier FDT25 is 7.500000\n",
      "Average Item Weight of all Items for Item Identifier NCO07 is 9.060000\n",
      "Average Item Weight of all Items for Item Identifier DRF27 is 8.930000\n",
      "Average Item Weight of all Items for Item Identifier FDS49 is 9.000000\n",
      "Average Item Weight of all Items for Item Identifier FDX25 is 16.700000\n",
      "Average Item Weight of all Items for Item Identifier NCX42 is 6.360000\n",
      "Average Item Weight of all Items for Item Identifier FDG33 is 5.365000\n",
      "Average Item Weight of all Items for Item Identifier FDL56 is 14.100000\n",
      "Average Item Weight of all Items for Item Identifier FDF14 is 7.550000\n",
      "Average Item Weight of all Items for Item Identifier DRM47 is 9.300000\n",
      "Average Item Weight of all Items for Item Identifier FDX21 is 7.050000\n",
      "Average Item Weight of all Items for Item Identifier NCR38 is 17.250000\n",
      "Average Item Weight of all Items for Item Identifier NCR18 is 15.850000\n",
      "Average Item Weight of all Items for Item Identifier NCU41 is 18.850000\n",
      "Average Item Weight of all Items for Item Identifier FDY56 is 16.350000\n",
      "Average Item Weight of all Items for Item Identifier DRJ51 is 14.100000\n",
      "Average Item Weight of all Items for Item Identifier FDU44 is 12.150000\n",
      "Average Item Weight of all Items for Item Identifier FDL43 is 10.100000\n",
      "Average Item Weight of all Items for Item Identifier FDF05 is 17.500000\n",
      "Average Item Weight of all Items for Item Identifier DRF15 is 18.350000\n",
      "Average Item Weight of all Items for Item Identifier FDL20 is 17.100000\n",
      "Average Item Weight of all Items for Item Identifier FDV32 is 7.785000\n",
      "Average Item Weight of all Items for Item Identifier FDJ34 is 11.800000\n",
      "Average Item Weight of all Items for Item Identifier FDG08 is 13.150000\n",
      "Average Item Weight of all Items for Item Identifier FDQ04 is 6.400000\n",
      "Average Item Weight of all Items for Item Identifier FDW13 is 8.500000\n",
      "Average Item Weight of all Items for Item Identifier FDY03 is 17.600000\n",
      "Average Item Weight of all Items for Item Identifier FDS12 is 9.100000\n",
      "Average Item Weight of all Items for Item Identifier FDJ55 is 12.800000\n",
      "Average Item Weight of all Items for Item Identifier DRK01 is 7.630000\n",
      "Average Item Weight of all Items for Item Identifier FDG28 is 9.285000\n",
      "Average Item Weight of all Items for Item Identifier FDY38 is 13.600000\n",
      "Average Item Weight of all Items for Item Identifier FDN01 is 8.895000\n",
      "Average Item Weight of all Items for Item Identifier NCR54 is 16.350000\n",
      "Average Item Weight of all Items for Item Identifier FDG29 is 17.600000\n",
      "Average Item Weight of all Items for Item Identifier FDG24 is 7.975000\n",
      "Average Item Weight of all Items for Item Identifier FDG59 is 15.850000\n",
      "Average Item Weight of all Items for Item Identifier FDM28 is 15.700000\n",
      "Average Item Weight of all Items for Item Identifier FDW04 is 8.985000\n",
      "Average Item Weight of all Items for Item Identifier FDS26 is 20.350000\n",
      "Average Item Weight of all Items for Item Identifier FDQ56 is 6.590000\n",
      "Average Item Weight of all Items for Item Identifier FDK51 is 19.850000\n",
      "Average Item Weight of all Items for Item Identifier FDL22 is 16.850000\n",
      "Average Item Weight of all Items for Item Identifier FDY55 is 16.750000\n"
     ]
    },
    {
     "name": "stdout",
     "output_type": "stream",
     "text": [
      "Average Item Weight of all Items for Item Identifier FDZ10 is 17.850000\n",
      "Average Item Weight of all Items for Item Identifier FDZ32 is 7.785000\n",
      "Average Item Weight of all Items for Item Identifier NCF07 is 9.000000\n",
      "Average Item Weight of all Items for Item Identifier DRE49 is 20.750000\n",
      "Average Item Weight of all Items for Item Identifier FDJ08 is 11.100000\n",
      "Average Item Weight of all Items for Item Identifier FDT39 is 6.260000\n",
      "Average Item Weight of all Items for Item Identifier FDE08 is 18.200000\n",
      "Average Item Weight of all Items for Item Identifier FDB57 is 20.250000\n",
      "Average Item Weight of all Items for Item Identifier NCT54 is 8.695000\n",
      "Average Item Weight of all Items for Item Identifier FDM25 is 10.695000\n",
      "Average Item Weight of all Items for Item Identifier FDF20 is 12.850000\n",
      "Average Item Weight of all Items for Item Identifier FDH27 is 7.075000\n",
      "Average Item Weight of all Items for Item Identifier FDV60 is 20.200000\n",
      "Average Item Weight of all Items for Item Identifier FDY59 is 8.195000\n",
      "Average Item Weight of all Items for Item Identifier FDK36 is 7.090000\n",
      "Average Item Weight of all Items for Item Identifier NCM31 is 6.095000\n",
      "Average Item Weight of all Items for Item Identifier FDE33 is 19.350000\n",
      "Average Item Weight of all Items for Item Identifier FDU36 is 6.150000\n",
      "Average Item Weight of all Items for Item Identifier FDV13 is 17.350000\n",
      "Average Item Weight of all Items for Item Identifier NCQ54 is 17.700000\n",
      "Average Item Weight of all Items for Item Identifier DRP47 is 15.750000\n",
      "Average Item Weight of all Items for Item Identifier FDB21 is 7.475000\n",
      "Average Item Weight of all Items for Item Identifier FDR04 is 7.075000\n",
      "Average Item Weight of all Items for Item Identifier FDX23 is 6.445000\n",
      "Average Item Weight of all Items for Item Identifier FDX19 is 19.100000\n",
      "Average Item Weight of all Items for Item Identifier FDD40 is 20.250000\n",
      "Average Item Weight of all Items for Item Identifier FDA01 is 15.000000\n",
      "Average Item Weight of all Items for Item Identifier FDS33 is 6.670000\n",
      "Average Item Weight of all Items for Item Identifier FDM50 is 13.000000\n",
      "Average Item Weight of all Items for Item Identifier FDB29 is 16.700000\n",
      "Average Item Weight of all Items for Item Identifier FDF46 is 7.070000\n",
      "Average Item Weight of all Items for Item Identifier FDA33 is 6.480000\n",
      "Average Item Weight of all Items for Item Identifier FDC08 is 19.000000\n",
      "Average Item Weight of all Items for Item Identifier FDB53 is 13.350000\n",
      "Average Item Weight of all Items for Item Identifier FDY31 is 5.980000\n",
      "Average Item Weight of all Items for Item Identifier DRQ35 is 9.300000\n",
      "Average Item Weight of all Items for Item Identifier FDX36 is 9.695000\n",
      "Average Item Weight of all Items for Item Identifier DRD13 is 15.000000\n",
      "Average Item Weight of all Items for Item Identifier FDC52 is 11.150000\n",
      "Average Item Weight of all Items for Item Identifier FDB45 is 20.850000\n",
      "Average Item Weight of all Items for Item Identifier NCK19 is 9.800000\n",
      "Average Item Weight of all Items for Item Identifier FDV51 is 16.350000\n",
      "Average Item Weight of all Items for Item Identifier FDZ35 is 9.600000\n",
      "Average Item Weight of all Items for Item Identifier NCW17 is 18.000000\n",
      "Average Item Weight of all Items for Item Identifier FDV59 is 13.350000\n",
      "Average Item Weight of all Items for Item Identifier DRH39 is 20.700000\n",
      "Average Item Weight of all Items for Item Identifier FDN60 is 15.100000\n",
      "Average Item Weight of all Items for Item Identifier FDU55 is 16.200000\n",
      "Average Item Weight of all Items for Item Identifier FDN58 is 13.800000\n",
      "Average Item Weight of all Items for Item Identifier FDC41 is 15.600000\n",
      "Average Item Weight of all Items for Item Identifier FDO01 is 21.100000\n",
      "Average Item Weight of all Items for Item Identifier NCO43 is 5.500000\n",
      "Average Item Weight of all Items for Item Identifier FDQ07 is 15.100000\n",
      "Average Item Weight of all Items for Item Identifier FDF28 is 15.700000\n",
      "Average Item Weight of all Items for Item Identifier FDM01 is 7.895000\n",
      "Average Item Weight of all Items for Item Identifier FDY49 is 17.200000\n",
      "Average Item Weight of all Items for Item Identifier FDR24 is 17.350000\n",
      "Average Item Weight of all Items for Item Identifier NCY18 is 7.285000\n",
      "Average Item Weight of all Items for Item Identifier NCY30 is 20.250000\n",
      "Average Item Weight of all Items for Item Identifier FDJ22 is 18.750000\n",
      "Average Item Weight of all Items for Item Identifier DRI37 is 15.850000\n",
      "Average Item Weight of all Items for Item Identifier FDL27 is 6.170000\n",
      "Average Item Weight of all Items for Item Identifier NCO30 is 19.500000\n",
      "Average Item Weight of all Items for Item Identifier NCB07 is 19.200000\n",
      "Average Item Weight of all Items for Item Identifier FDP59 is 20.850000\n",
      "Average Item Weight of all Items for Item Identifier FDR59 is 14.500000\n",
      "Average Item Weight of all Items for Item Identifier FDT27 is 11.395000\n",
      "Average Item Weight of all Items for Item Identifier DRI01 is 7.970000\n",
      "Average Item Weight of all Items for Item Identifier FDU09 is 7.710000\n",
      "Average Item Weight of all Items for Item Identifier FDH26 is 19.250000\n",
      "Average Item Weight of all Items for Item Identifier FDN39 is 19.350000\n",
      "Average Item Weight of all Items for Item Identifier FDH40 is 11.600000\n",
      "Average Item Weight of all Items for Item Identifier FDJ56 is 8.985000\n",
      "Average Item Weight of all Items for Item Identifier DRN47 is 12.100000\n",
      "Average Item Weight of all Items for Item Identifier FDX60 is 14.350000\n",
      "Average Item Weight of all Items for Item Identifier FDT22 is 10.395000\n",
      "Average Item Weight of all Items for Item Identifier FDX26 is 17.700000\n",
      "Average Item Weight of all Items for Item Identifier FDG45 is 8.100000\n",
      "Average Item Weight of all Items for Item Identifier FDD44 is 8.050000\n",
      "Average Item Weight of all Items for Item Identifier FDS15 is 9.195000\n",
      "Average Item Weight of all Items for Item Identifier FDL51 is 20.700000\n",
      "Average Item Weight of all Items for Item Identifier FDL32 is 15.700000\n",
      "Average Item Weight of all Items for Item Identifier FDZ07 is 15.100000\n",
      "Average Item Weight of all Items for Item Identifier NCW53 is 18.350000\n",
      "Average Item Weight of all Items for Item Identifier NCA54 is 16.500000\n",
      "Average Item Weight of all Items for Item Identifier FDX09 is 9.000000\n",
      "Average Item Weight of all Items for Item Identifier FDO51 is 6.785000\n",
      "Average Item Weight of all Items for Item Identifier FDW49 is 19.500000\n",
      "Average Item Weight of all Items for Item Identifier FDB27 is 7.575000\n",
      "Average Item Weight of all Items for Item Identifier FDF45 is 18.200000\n",
      "Average Item Weight of all Items for Item Identifier FDV02 is 16.750000\n",
      "Average Item Weight of all Items for Item Identifier FDY28 is 7.470000\n",
      "Average Item Weight of all Items for Item Identifier FDX31 is 20.350000\n",
      "Average Item Weight of all Items for Item Identifier FDR43 is 18.200000\n",
      "Average Item Weight of all Items for Item Identifier FDP51 is 13.850000\n",
      "Average Item Weight of all Items for Item Identifier FDL52 is 6.635000\n",
      "Average Item Weight of all Items for Item Identifier FDC50 is 15.850000\n",
      "Average Item Weight of all Items for Item Identifier FDT57 is 15.200000\n",
      "Average Item Weight of all Items for Item Identifier FDP22 is 14.650000\n",
      "Average Item Weight of all Items for Item Identifier FDY32 is 7.605000\n",
      "Average Item Weight of all Items for Item Identifier FDW07 is 18.000000\n",
      "Average Item Weight of all Items for Item Identifier NCF18 is 18.350000\n",
      "Average Item Weight of all Items for Item Identifier FDG35 is 21.200000\n",
      "Average Item Weight of all Items for Item Identifier FDY34 is 10.500000\n",
      "Average Item Weight of all Items for Item Identifier NCE19 is 8.970000\n",
      "Average Item Weight of all Items for Item Identifier NCK31 is 10.895000\n",
      "Average Item Weight of all Items for Item Identifier NCJ29 is 10.600000\n",
      "Average Item Weight of all Items for Item Identifier FDT59 is 13.650000\n",
      "Average Item Weight of all Items for Item Identifier NCX41 is 19.000000\n",
      "Average Item Weight of all Items for Item Identifier FDU45 is 15.600000\n",
      "Average Item Weight of all Items for Item Identifier FDW24 is 6.800000\n",
      "Average Item Weight of all Items for Item Identifier FDF22 is 6.865000\n",
      "Average Item Weight of all Items for Item Identifier FDM60 is 10.800000\n",
      "Average Item Weight of all Items for Item Identifier FDR02 is 16.700000\n",
      "Average Item Weight of all Items for Item Identifier DRP35 is 18.850000\n",
      "Average Item Weight of all Items for Item Identifier FDS48 is 15.150000\n",
      "Average Item Weight of all Items for Item Identifier NCZ42 is 10.500000\n",
      "Average Item Weight of all Items for Item Identifier FDZ38 is 17.600000\n",
      "Average Item Weight of all Items for Item Identifier NCB55 is 15.700000\n",
      "Average Item Weight of all Items for Item Identifier FDC15 is 18.100000\n",
      "Average Item Weight of all Items for Item Identifier FDF11 is 10.195000\n",
      "Average Item Weight of all Items for Item Identifier FDW35 is 10.600000\n",
      "Average Item Weight of all Items for Item Identifier FDB44 is 6.655000\n"
     ]
    },
    {
     "name": "stdout",
     "output_type": "stream",
     "text": [
      "Average Item Weight of all Items for Item Identifier NCC06 is 19.000000\n",
      "Average Item Weight of all Items for Item Identifier FDB17 is 13.150000\n",
      "Average Item Weight of all Items for Item Identifier FDW43 is 20.100000\n",
      "Average Item Weight of all Items for Item Identifier FDA27 is 20.350000\n",
      "Average Item Weight of all Items for Item Identifier FDN32 is 17.500000\n",
      "Average Item Weight of all Items for Item Identifier FDZ27 is 7.935000\n",
      "Average Item Weight of all Items for Item Identifier FDW23 is 5.765000\n",
      "Average Item Weight of all Items for Item Identifier FDU01 is 20.250000\n",
      "Average Item Weight of all Items for Item Identifier FDF10 is 15.500000\n",
      "Average Item Weight of all Items for Item Identifier DRH03 is 17.250000\n",
      "Average Item Weight of all Items for Item Identifier FDW27 is 5.860000\n",
      "Average Item Weight of all Items for Item Identifier DRI13 is 15.350000\n",
      "Average Item Weight of all Items for Item Identifier NCR05 is 10.100000\n",
      "Average Item Weight of all Items for Item Identifier FDI35 is 14.000000\n",
      "Average Item Weight of all Items for Item Identifier FDX08 is 12.850000\n",
      "Average Item Weight of all Items for Item Identifier NCJ18 is 12.350000\n",
      "Average Item Weight of all Items for Item Identifier FDJ41 is 6.850000\n",
      "Average Item Weight of all Items for Item Identifier FDU08 is 10.300000\n",
      "Average Item Weight of all Items for Item Identifier FDS09 is 8.895000\n",
      "Average Item Weight of all Items for Item Identifier DRH15 is 8.775000\n",
      "Average Item Weight of all Items for Item Identifier NCV17 is 18.850000\n",
      "Average Item Weight of all Items for Item Identifier NCO54 is 19.500000\n",
      "Average Item Weight of all Items for Item Identifier FDE24 is 14.850000\n",
      "Average Item Weight of all Items for Item Identifier FDH53 is 20.500000\n",
      "Average Item Weight of all Items for Item Identifier FDZ13 is 7.840000\n",
      "Average Item Weight of all Items for Item Identifier FDW28 is 18.250000\n",
      "Average Item Weight of all Items for Item Identifier FDU46 is 10.300000\n",
      "Average Item Weight of all Items for Item Identifier NCE43 is 12.500000\n",
      "Average Item Weight of all Items for Item Identifier NCC42 is 15.000000\n",
      "Average Item Weight of all Items for Item Identifier FDQ20 is 8.325000\n",
      "Average Item Weight of all Items for Item Identifier FDA13 is 15.850000\n",
      "Average Item Weight of all Items for Item Identifier FDZ15 is 13.100000\n",
      "Average Item Weight of all Items for Item Identifier NCV42 is 6.260000\n",
      "Average Item Weight of all Items for Item Identifier DRI51 is 17.250000\n",
      "Average Item Weight of all Items for Item Identifier FDO28 is 5.765000\n",
      "Average Item Weight of all Items for Item Identifier NCS54 is 13.600000\n",
      "Average Item Weight of all Items for Item Identifier FDH16 is 10.500000\n",
      "Average Item Weight of all Items for Item Identifier FDR52 is 12.650000\n",
      "Average Item Weight of all Items for Item Identifier NCH06 is 12.300000\n",
      "Average Item Weight of all Items for Item Identifier FDA36 is 5.985000\n",
      "Average Item Weight of all Items for Item Identifier FDU56 is 16.850000\n",
      "Average Item Weight of all Items for Item Identifier FDT09 is 15.150000\n",
      "Average Item Weight of all Items for Item Identifier FDU25 is 12.350000\n",
      "Average Item Weight of all Items for Item Identifier FDK41 is 14.300000\n",
      "Average Item Weight of all Items for Item Identifier FDM24 is 6.135000\n",
      "Average Item Weight of all Items for Item Identifier FDQ45 is 9.500000\n",
      "Average Item Weight of all Items for Item Identifier DRK59 is 8.895000\n",
      "Average Item Weight of all Items for Item Identifier FDR21 is 19.700000\n",
      "Average Item Weight of all Items for Item Identifier FDT44 is 16.600000\n",
      "Average Item Weight of all Items for Item Identifier FDX14 is 13.100000\n",
      "Average Item Weight of all Items for Item Identifier FDH57 is 10.895000\n",
      "Average Item Weight of all Items for Item Identifier NCT41 is 15.700000\n",
      "Average Item Weight of all Items for Item Identifier FDO11 is 8.000000\n",
      "Average Item Weight of all Items for Item Identifier NCP42 is 8.510000\n",
      "Average Item Weight of all Items for Item Identifier FDN09 is 14.150000\n",
      "Average Item Weight of all Items for Item Identifier FDP32 is 6.650000\n",
      "Average Item Weight of all Items for Item Identifier FDV57 is 15.250000\n",
      "Average Item Weight of all Items for Item Identifier FDR56 is 15.500000\n",
      "Average Item Weight of all Items for Item Identifier FDA40 is 16.000000\n",
      "Average Item Weight of all Items for Item Identifier NCG42 is 19.200000\n",
      "Average Item Weight of all Items for Item Identifier NCK54 is 12.150000\n",
      "Average Item Weight of all Items for Item Identifier FDE16 is 8.895000\n",
      "Average Item Weight of all Items for Item Identifier FDB15 is 10.895000\n",
      "Average Item Weight of all Items for Item Identifier FDC40 is 16.000000\n",
      "Average Item Weight of all Items for Item Identifier FDE53 is 10.895000\n",
      "Average Item Weight of all Items for Item Identifier FDK24 is 9.195000\n",
      "Average Item Weight of all Items for Item Identifier FDW31 is 11.350000\n",
      "Average Item Weight of all Items for Item Identifier NCM07 is 9.395000\n",
      "Average Item Weight of all Items for Item Identifier DRN36 is 15.200000\n",
      "Average Item Weight of all Items for Item Identifier FDQ37 is 20.750000\n",
      "Average Item Weight of all Items for Item Identifier FDK28 is 5.695000\n",
      "Average Item Weight of all Items for Item Identifier FDL48 is 19.350000\n",
      "Average Item Weight of all Items for Item Identifier DRL23 is 18.350000\n",
      "Average Item Weight of all Items for Item Identifier DRD37 is 9.800000\n",
      "Average Item Weight of all Items for Item Identifier FDZ47 is 20.700000\n",
      "Average Item Weight of all Items for Item Identifier NCJ54 is 9.895000\n",
      "Average Item Weight of all Items for Item Identifier FDD08 is 8.300000\n",
      "Average Item Weight of all Items for Item Identifier NCN18 is 8.895000\n",
      "Average Item Weight of all Items for Item Identifier NCI29 is 8.600000\n",
      "Average Item Weight of all Items for Item Identifier NCE06 is 5.825000\n",
      "Average Item Weight of all Items for Item Identifier FDU52 is 7.560000\n",
      "Average Item Weight of all Items for Item Identifier FDN16 is 12.600000\n",
      "Average Item Weight of all Items for Item Identifier NCM55 is 15.600000\n",
      "Average Item Weight of all Items for Item Identifier FDR49 is 8.710000\n",
      "Average Item Weight of all Items for Item Identifier FDA16 is 6.695000\n",
      "Average Item Weight of all Items for Item Identifier FDO19 is 17.700000\n",
      "Average Item Weight of all Items for Item Identifier FDO04 is 16.600000\n",
      "Average Item Weight of all Items for Item Identifier NCL19 is 15.350000\n",
      "Average Item Weight of all Items for Item Identifier FDR60 is 14.300000\n",
      "Average Item Weight of all Items for Item Identifier FDV37 is 13.000000\n",
      "Average Item Weight of all Items for Item Identifier FDG53 is 10.000000\n",
      "Average Item Weight of all Items for Item Identifier DRG01 is 14.800000\n",
      "Average Item Weight of all Items for Item Identifier FDB38 is 19.500000\n",
      "Average Item Weight of all Items for Item Identifier FDI27 is 8.710000\n",
      "Average Item Weight of all Items for Item Identifier FDD29 is 12.150000\n",
      "Average Item Weight of all Items for Item Identifier NCR41 is 17.850000\n",
      "Average Item Weight of all Items for Item Identifier FDW44 is 9.500000\n",
      "Average Item Weight of all Items for Item Identifier FDU21 is 11.800000\n",
      "Average Item Weight of all Items for Item Identifier FDI14 is 14.100000\n",
      "Average Item Weight of all Items for Item Identifier FDW50 is 13.100000\n",
      "Average Item Weight of all Items for Item Identifier FDT31 is 19.750000\n",
      "Average Item Weight of all Items for Item Identifier FDJ14 is 10.300000\n",
      "Average Item Weight of all Items for Item Identifier NCQ43 is 17.750000\n",
      "Average Item Weight of all Items for Item Identifier FDZ22 is 9.395000\n",
      "Average Item Weight of all Items for Item Identifier FDU38 is 10.800000\n",
      "Average Item Weight of all Items for Item Identifier FDS32 is 17.750000\n",
      "Average Item Weight of all Items for Item Identifier DRH13 is 8.575000\n",
      "Average Item Weight of all Items for Item Identifier DRF03 is 19.100000\n",
      "Average Item Weight of all Items for Item Identifier FDJ20 is 20.700000\n",
      "Average Item Weight of all Items for Item Identifier FDE22 is 9.695000\n",
      "Average Item Weight of all Items for Item Identifier FDX22 is 6.785000\n",
      "Average Item Weight of all Items for Item Identifier DRM11 is 6.570000\n",
      "Average Item Weight of all Items for Item Identifier FDL25 is 6.920000\n",
      "Average Item Weight of all Items for Item Identifier FDT08 is 13.650000\n",
      "Average Item Weight of all Items for Item Identifier FDO22 is 13.500000\n",
      "Average Item Weight of all Items for Item Identifier NCM41 is 16.500000\n",
      "Average Item Weight of all Items for Item Identifier FDJ21 is 16.700000\n"
     ]
    },
    {
     "name": "stdout",
     "output_type": "stream",
     "text": [
      "Average Item Weight of all Items for Item Identifier FDC53 is 8.680000\n",
      "Average Item Weight of all Items for Item Identifier FDQ09 is 7.235000\n",
      "Average Item Weight of all Items for Item Identifier DRE25 is 15.350000\n",
      "Average Item Weight of all Items for Item Identifier FDL08 is 10.800000\n",
      "Average Item Weight of all Items for Item Identifier FDW03 is 5.630000\n",
      "Average Item Weight of all Items for Item Identifier FDC17 is 12.150000\n",
      "Average Item Weight of all Items for Item Identifier FDE34 is 9.195000\n",
      "Average Item Weight of all Items for Item Identifier FDO44 is 12.600000\n",
      "Average Item Weight of all Items for Item Identifier NCF31 is 9.130000\n",
      "Average Item Weight of all Items for Item Identifier FDG14 is 9.000000\n",
      "Average Item Weight of all Items for Item Identifier NCH30 is 17.100000\n",
      "Average Item Weight of all Items for Item Identifier FDR36 is 6.715000\n",
      "Average Item Weight of all Items for Item Identifier NCJ30 is 5.820000\n",
      "Average Item Weight of all Items for Item Identifier FDR08 is 18.700000\n",
      "Average Item Weight of all Items for Item Identifier NCQ50 is 18.750000\n",
      "Average Item Weight of all Items for Item Identifier FDL46 is 20.350000\n",
      "Average Item Weight of all Items for Item Identifier DRK37 is 5.000000\n",
      "Average Item Weight of all Items for Item Identifier FDK48 is 7.445000\n",
      "Average Item Weight of all Items for Item Identifier FDV58 is 20.850000\n",
      "Average Item Weight of all Items for Item Identifier FDZ52 is 19.200000\n",
      "Average Item Weight of all Items for Item Identifier NCF42 is 17.350000\n",
      "Average Item Weight of all Items for Item Identifier FDQ48 is 14.300000\n",
      "Average Item Weight of all Items for Item Identifier FDR58 is 6.675000\n",
      "Average Item Weight of all Items for Item Identifier NCE07 is 8.180000\n",
      "Average Item Weight of all Items for Item Identifier FDK14 is 6.980000\n",
      "Average Item Weight of all Items for Item Identifier FDC11 is 20.500000\n",
      "Average Item Weight of all Items for Item Identifier NCQ41 is 14.800000\n",
      "Average Item Weight of all Items for Item Identifier FDX46 is 12.300000\n",
      "Average Item Weight of all Items for Item Identifier FDC35 is 7.435000\n",
      "Average Item Weight of all Items for Item Identifier FDH45 is 15.100000\n",
      "Average Item Weight of all Items for Item Identifier FDX33 is 9.195000\n",
      "Average Item Weight of all Items for Item Identifier DRJ35 is 10.100000\n",
      "Average Item Weight of all Items for Item Identifier FDP13 is 8.100000\n",
      "Average Item Weight of all Items for Item Identifier FDP24 is 20.600000\n",
      "Average Item Weight of all Items for Item Identifier NCQ42 is 20.350000\n",
      "Average Item Weight of all Items for Item Identifier FDU14 is 17.750000\n",
      "Average Item Weight of all Items for Item Identifier FDT32 is 19.000000\n",
      "Average Item Weight of all Items for Item Identifier FDK20 is 12.600000\n",
      "Average Item Weight of all Items for Item Identifier FDU13 is 8.355000\n",
      "Average Item Weight of all Items for Item Identifier FDE05 is 10.895000\n",
      "Average Item Weight of all Items for Item Identifier FDE58 is 18.500000\n",
      "Average Item Weight of all Items for Item Identifier FDZ01 is 8.975000\n",
      "Average Item Weight of all Items for Item Identifier FDM08 is 10.100000\n",
      "Average Item Weight of all Items for Item Identifier FDS58 is 9.285000\n",
      "Average Item Weight of all Items for Item Identifier FDZ26 is 11.600000\n",
      "Average Item Weight of all Items for Item Identifier FDY51 is 12.500000\n",
      "Average Item Weight of all Items for Item Identifier FDL34 is 16.000000\n",
      "Average Item Weight of all Items for Item Identifier DRG39 is 14.150000\n",
      "Average Item Weight of all Items for Item Identifier NCG43 is 20.200000\n",
      "Average Item Weight of all Items for Item Identifier FDT01 is 13.650000\n",
      "Average Item Weight of all Items for Item Identifier DRF01 is 5.655000\n",
      "Average Item Weight of all Items for Item Identifier FDF53 is 20.750000\n",
      "Average Item Weight of all Items for Item Identifier FDR20 is 20.000000\n",
      "Average Item Weight of all Items for Item Identifier FDD38 is 16.750000\n",
      "Average Item Weight of all Items for Item Identifier FDH32 is 12.800000\n",
      "Average Item Weight of all Items for Item Identifier NCJ42 is 19.750000\n",
      "Average Item Weight of all Items for Item Identifier FDW22 is 9.695000\n",
      "Average Item Weight of all Items for Item Identifier FDE32 is 20.700000\n",
      "Average Item Weight of all Items for Item Identifier FDA34 is 11.500000\n",
      "Average Item Weight of all Items for Item Identifier FDG38 is 8.975000\n",
      "Average Item Weight of all Items for Item Identifier NCE31 is 7.670000\n",
      "Average Item Weight of all Items for Item Identifier FDS19 is 13.800000\n",
      "Average Item Weight of all Items for Item Identifier FDU11 is 4.785000\n",
      "Average Item Weight of all Items for Item Identifier FDL02 is 20.000000\n",
      "Average Item Weight of all Items for Item Identifier DRK23 is 8.395000\n",
      "Average Item Weight of all Items for Item Identifier FDO27 is 6.175000\n",
      "Average Item Weight of all Items for Item Identifier FDB16 is 8.210000\n",
      "Average Item Weight of all Items for Item Identifier NCB18 is 19.600000\n",
      "Average Item Weight of all Items for Item Identifier NCL53 is 7.500000\n",
      "Average Item Weight of all Items for Item Identifier FDR16 is 5.845000\n",
      "Average Item Weight of all Items for Item Identifier NCQ05 is 11.395000\n",
      "Average Item Weight of all Items for Item Identifier FDF44 is 7.170000\n",
      "Average Item Weight of all Items for Item Identifier FDK15 is 10.800000\n",
      "Average Item Weight of all Items for Item Identifier FDS10 is 19.200000\n",
      "Average Item Weight of all Items for Item Identifier FDU32 is 8.785000\n",
      "Average Item Weight of all Items for Item Identifier FDG09 is 20.600000\n",
      "Average Item Weight of all Items for Item Identifier FDE39 is 7.890000\n",
      "Average Item Weight of all Items for Item Identifier NCH55 is 16.350000\n",
      "Average Item Weight of all Items for Item Identifier FDC33 is 8.960000\n",
      "Average Item Weight of all Items for Item Identifier NCV54 is 11.100000\n",
      "Average Item Weight of all Items for Item Identifier NCQ02 is 12.600000\n",
      "Average Item Weight of all Items for Item Identifier NCU17 is 5.320000\n",
      "Average Item Weight of all Items for Item Identifier NCZ06 is 19.600000\n",
      "Average Item Weight of all Items for Item Identifier DRH25 is 18.700000\n",
      "Average Item Weight of all Items for Item Identifier NCI43 is 19.850000\n",
      "Average Item Weight of all Items for Item Identifier NCQ53 is 17.600000\n",
      "Average Item Weight of all Items for Item Identifier NCT18 is 14.600000\n",
      "Average Item Weight of all Items for Item Identifier FDM14 is 13.800000\n",
      "Average Item Weight of all Items for Item Identifier FDX57 is 17.250000\n",
      "Average Item Weight of all Items for Item Identifier NCV05 is 10.100000\n",
      "Average Item Weight of all Items for Item Identifier FDX39 is 14.300000\n",
      "Average Item Weight of all Items for Item Identifier FDA23 is 9.800000\n",
      "Average Item Weight of all Items for Item Identifier NCV06 is 11.300000\n",
      "Average Item Weight of all Items for Item Identifier DRI39 is 13.800000\n",
      "Average Item Weight of all Items for Item Identifier FDH21 is 10.395000\n",
      "Average Item Weight of all Items for Item Identifier FDR26 is 20.700000\n",
      "Average Item Weight of all Items for Item Identifier FDA14 is 16.100000\n",
      "Average Item Weight of all Items for Item Identifier FDG21 is 17.350000\n",
      "Average Item Weight of all Items for Item Identifier NCQ38 is 16.350000\n",
      "Average Item Weight of all Items for Item Identifier FDN20 is 19.350000\n",
      "Average Item Weight of all Items for Item Identifier NCN29 is 15.200000\n",
      "Average Item Weight of all Items for Item Identifier FDI28 is 14.300000\n",
      "Average Item Weight of all Items for Item Identifier FDZ28 is 20.000000\n",
      "Average Item Weight of all Items for Item Identifier FDO52 is 11.600000\n",
      "Average Item Weight of all Items for Item Identifier FDU10 is 10.100000\n",
      "Average Item Weight of all Items for Item Identifier FDS28 is 8.180000\n",
      "Average Item Weight of all Items for Item Identifier FDJ03 is 12.350000\n",
      "Average Item Weight of all Items for Item Identifier FDQ51 is 16.000000\n",
      "Average Item Weight of all Items for Item Identifier NCK06 is 5.030000\n",
      "Average Item Weight of all Items for Item Identifier FDY09 is 15.600000\n",
      "Average Item Weight of all Items for Item Identifier FDA10 is 20.350000\n",
      "Average Item Weight of all Items for Item Identifier FDO34 is 17.700000\n",
      "Average Item Weight of all Items for Item Identifier FDE38 is 6.520000\n",
      "Average Item Weight of all Items for Item Identifier FDF40 is 20.250000\n",
      "Average Item Weight of all Items for Item Identifier FDY02 is 8.945000\n",
      "Average Item Weight of all Items for Item Identifier FDS03 is 7.825000\n",
      "Average Item Weight of all Items for Item Identifier FDB59 is 18.250000\n",
      "Average Item Weight of all Items for Item Identifier FDO15 is 16.750000\n",
      "Average Item Weight of all Items for Item Identifier FDV56 is 16.100000\n",
      "Average Item Weight of all Items for Item Identifier FDY26 is 20.600000\n",
      "Average Item Weight of all Items for Item Identifier DRE13 is 6.280000\n",
      "Average Item Weight of all Items for Item Identifier FDD50 is 18.850000\n",
      "Average Item Weight of all Items for Item Identifier FDC04 is 15.600000\n",
      "Average Item Weight of all Items for Item Identifier NCR29 is 7.565000\n",
      "Average Item Weight of all Items for Item Identifier FDZ04 is 9.310000\n",
      "Average Item Weight of all Items for Item Identifier FDU16 is 19.250000\n",
      "Average Item Weight of all Items for Item Identifier FDV07 is 9.500000\n",
      "Average Item Weight of all Items for Item Identifier FDW01 is 14.500000\n",
      "Average Item Weight of all Items for Item Identifier FDC10 is 9.800000\n",
      "Average Item Weight of all Items for Item Identifier DRC12 is 17.850000\n",
      "Average Item Weight of all Items for Item Identifier DRK39 is 7.020000\n",
      "Average Item Weight of all Items for Item Identifier DRB25 is 12.300000\n",
      "Average Item Weight of all Items for Item Identifier FDK26 is 5.460000\n",
      "Average Item Weight of all Items for Item Identifier FDM52 is 15.100000\n",
      "Average Item Weight of all Items for Item Identifier NCO06 is 19.250000\n",
      "Average Item Weight of all Items for Item Identifier FDK34 is 13.350000\n",
      "Average Item Weight of all Items for Item Identifier FDO45 is 13.150000\n"
     ]
    },
    {
     "name": "stdout",
     "output_type": "stream",
     "text": [
      "Average Item Weight of all Items for Item Identifier FDF08 is 14.300000\n",
      "Average Item Weight of all Items for Item Identifier FDH58 is 12.300000\n",
      "Average Item Weight of all Items for Item Identifier FDE02 is 8.710000\n",
      "Average Item Weight of all Items for Item Identifier FDR23 is 15.850000\n",
      "Average Item Weight of all Items for Item Identifier FDY35 is 17.600000\n",
      "Average Item Weight of all Items for Item Identifier FDG44 is 6.130000\n",
      "Average Item Weight of all Items for Item Identifier FDQ23 is 6.550000\n",
      "Average Item Weight of all Items for Item Identifier FDY22 is 16.500000\n",
      "Average Item Weight of all Items for Item Identifier NCN41 is 17.000000\n",
      "Average Item Weight of all Items for Item Identifier FDO36 is 19.700000\n",
      "Average Item Weight of all Items for Item Identifier FDH20 is 16.100000\n",
      "Average Item Weight of all Items for Item Identifier FDN12 is 15.600000\n",
      "Average Item Weight of all Items for Item Identifier FDB09 is 16.250000\n",
      "Average Item Weight of all Items for Item Identifier FDA09 is 13.350000\n",
      "Average Item Weight of all Items for Item Identifier FDL24 is 10.300000\n",
      "Average Item Weight of all Items for Item Identifier FDP03 is 5.150000\n",
      "Average Item Weight of all Items for Item Identifier FDO13 is 7.865000\n",
      "Average Item Weight of all Items for Item Identifier DRD49 is 9.895000\n",
      "Average Item Weight of all Items for Item Identifier FDQ15 is 20.350000\n",
      "Average Item Weight of all Items for Item Identifier NCP50 is 17.350000\n",
      "Average Item Weight of all Items for Item Identifier FDN23 is 6.575000\n",
      "Average Item Weight of all Items for Item Identifier FDS44 is 12.650000\n",
      "Average Item Weight of all Items for Item Identifier NCI54 is 15.200000\n",
      "Average Item Weight of all Items for Item Identifier FDA21 is 13.650000\n",
      "Average Item Weight of all Items for Item Identifier FDI41 is 18.500000\n",
      "Average Item Weight of all Items for Item Identifier FDE35 is 7.060000\n",
      "Average Item Weight of all Items for Item Identifier DRJ24 is 11.800000\n",
      "Average Item Weight of all Items for Item Identifier NCK17 is 11.000000\n",
      "Average Item Weight of all Items for Item Identifier FDD36 is 13.300000\n",
      "Average Item Weight of all Items for Item Identifier DRD60 is 15.700000\n",
      "Average Item Weight of all Items for Item Identifier NCM19 is 12.650000\n",
      "Average Item Weight of all Items for Item Identifier FDV12 is 16.700000\n",
      "Average Item Weight of all Items for Item Identifier FDQ31 is 5.785000\n",
      "Average Item Weight of all Items for Item Identifier FDK55 is 18.500000\n",
      "Average Item Weight of all Items for Item Identifier DRG15 is 6.130000\n",
      "Average Item Weight of all Items for Item Identifier FDV01 is 19.200000\n",
      "Average Item Weight of all Items for Item Identifier FDT21 is 7.420000\n",
      "Average Item Weight of all Items for Item Identifier FDT10 is 16.700000\n",
      "Average Item Weight of all Items for Item Identifier FDN02 is 16.500000\n",
      "Average Item Weight of all Items for Item Identifier FDJ40 is 13.600000\n",
      "Average Item Weight of all Items for Item Identifier DRE27 is 11.850000\n",
      "Average Item Weight of all Items for Item Identifier FDS27 is 10.195000\n",
      "Average Item Weight of all Items for Item Identifier DRM59 is 5.880000\n",
      "Average Item Weight of all Items for Item Identifier NCV30 is 20.200000\n",
      "Average Item Weight of all Items for Item Identifier FDA51 is 8.050000\n",
      "Average Item Weight of all Items for Item Identifier FDM46 is 7.365000\n",
      "Average Item Weight of all Items for Item Identifier FDK02 is 12.500000\n",
      "Average Item Weight of all Items for Item Identifier FDJ57 is 7.420000\n",
      "Average Item Weight of all Items for Item Identifier FDJ45 is 17.750000\n",
      "Average Item Weight of all Items for Item Identifier NCB31 is 6.235000\n",
      "Average Item Weight of all Items for Item Identifier FDT50 is 6.750000\n",
      "Average Item Weight of all Items for Item Identifier NCY41 is 16.750000\n",
      "Average Item Weight of all Items for Item Identifier FDJ60 is 19.350000\n",
      "Average Item Weight of all Items for Item Identifier FDS21 is 19.850000\n",
      "Average Item Weight of all Items for Item Identifier FDQ08 is 15.700000\n",
      "Average Item Weight of all Items for Item Identifier FDS47 is 16.750000\n",
      "Average Item Weight of all Items for Item Identifier DRM48 is 15.200000\n",
      "Average Item Weight of all Items for Item Identifier FDW46 is 13.000000\n",
      "Average Item Weight of all Items for Item Identifier FDU40 is 20.850000\n",
      "Average Item Weight of all Items for Item Identifier DRE12 is 4.590000\n",
      "Average Item Weight of all Items for Item Identifier FDX35 is 5.035000\n",
      "Average Item Weight of all Items for Item Identifier FDD51 is 11.150000\n",
      "Average Item Weight of all Items for Item Identifier FDY27 is 6.380000\n",
      "Average Item Weight of all Items for Item Identifier NCN06 is 8.390000\n",
      "Average Item Weight of all Items for Item Identifier FDR57 is 5.675000\n",
      "Average Item Weight of all Items for Item Identifier FDR19 is 13.500000\n",
      "Average Item Weight of all Items for Item Identifier FDJ33 is 8.895000\n",
      "Average Item Weight of all Items for Item Identifier FDA52 is 16.200000\n",
      "Average Item Weight of all Items for Item Identifier FDZ08 is 12.500000\n",
      "Average Item Weight of all Items for Item Identifier FDR27 is 15.100000\n",
      "Average Item Weight of all Items for Item Identifier NCK42 is 7.475000\n",
      "Average Item Weight of all Items for Item Identifier FDZ12 is 9.170000\n",
      "Average Item Weight of all Items for Item Identifier NCI31 is 20.000000\n",
      "Average Item Weight of all Items for Item Identifier FDX16 is 17.850000\n",
      "Average Item Weight of all Items for Item Identifier NCA05 is 20.750000\n",
      "Average Item Weight of all Items for Item Identifier DRG51 is 12.100000\n",
      "Average Item Weight of all Items for Item Identifier NCR30 is 20.600000\n",
      "Average Item Weight of all Items for Item Identifier FDM56 is 16.700000\n",
      "Average Item Weight of all Items for Item Identifier DRM37 is 15.350000\n",
      "Average Item Weight of all Items for Item Identifier FDN56 is 5.460000\n",
      "Average Item Weight of all Items for Item Identifier FDO49 is 10.600000\n",
      "Average Item Weight of all Items for Item Identifier FDC09 is 15.500000\n",
      "Average Item Weight of all Items for Item Identifier NCZ41 is 19.850000\n",
      "Average Item Weight of all Items for Item Identifier FDP19 is 11.500000\n",
      "Average Item Weight of all Items for Item Identifier FDQ24 is 15.700000\n",
      "Average Item Weight of all Items for Item Identifier DRL11 is 10.500000\n",
      "Average Item Weight of all Items for Item Identifier FDN52 is nan\n",
      "Average Item Weight of all Items for Item Identifier FDF21 is 10.300000\n",
      "Average Item Weight of all Items for Item Identifier FDS51 is 13.350000\n",
      "Average Item Weight of all Items for Item Identifier FDE45 is 12.100000\n",
      "Average Item Weight of all Items for Item Identifier FDX50 is 20.100000\n",
      "Average Item Weight of all Items for Item Identifier NCN14 is 19.100000\n",
      "Average Item Weight of all Items for Item Identifier FDQ21 is 21.250000\n",
      "Average Item Weight of all Items for Item Identifier FDL38 is 13.800000\n",
      "Average Item Weight of all Items for Item Identifier DRL37 is 15.500000\n",
      "Average Item Weight of all Items for Item Identifier FDZ39 is 19.700000\n",
      "Average Item Weight of all Items for Item Identifier FDH10 is 21.000000\n",
      "Average Item Weight of all Items for Item Identifier FDS35 is 9.300000\n",
      "Average Item Weight of all Items for Item Identifier FDN21 is 18.600000\n",
      "Average Item Weight of all Items for Item Identifier NCO18 is 13.150000\n",
      "Average Item Weight of all Items for Item Identifier FDD05 is 19.350000\n",
      "Average Item Weight of all Items for Item Identifier FDX59 is 10.195000\n",
      "Average Item Weight of all Items for Item Identifier FDZ23 is 17.750000\n",
      "Average Item Weight of all Items for Item Identifier FDX27 is 20.700000\n",
      "Average Item Weight of all Items for Item Identifier FDR14 is 11.650000\n",
      "Average Item Weight of all Items for Item Identifier FDZ56 is 16.250000\n",
      "Average Item Weight of all Items for Item Identifier NCL55 is 12.150000\n",
      "Average Item Weight of all Items for Item Identifier FDD59 is 10.500000\n",
      "Average Item Weight of all Items for Item Identifier DRF23 is 4.610000\n",
      "Average Item Weight of all Items for Item Identifier FDT49 is 7.000000\n",
      "Average Item Weight of all Items for Item Identifier FDH22 is 6.405000\n",
      "Average Item Weight of all Items for Item Identifier FDT34 is 9.300000\n",
      "Average Item Weight of all Items for Item Identifier FDB39 is 11.600000\n",
      "Average Item Weight of all Items for Item Identifier FDQ22 is 16.750000\n",
      "Average Item Weight of all Items for Item Identifier NCN43 is 12.150000\n",
      "Average Item Weight of all Items for Item Identifier FDG57 is 14.700000\n",
      "Average Item Weight of all Items for Item Identifier FDU22 is 12.350000\n",
      "Average Item Weight of all Items for Item Identifier NCC43 is 7.390000\n",
      "Average Item Weight of all Items for Item Identifier FDP01 is 20.750000\n",
      "Average Item Weight of all Items for Item Identifier FDF52 is 9.300000\n",
      "Average Item Weight of all Items for Item Identifier FDZ33 is 10.195000\n",
      "Average Item Weight of all Items for Item Identifier FDP48 is 7.520000\n",
      "Average Item Weight of all Items for Item Identifier FDW56 is 7.680000\n",
      "Average Item Weight of all Items for Item Identifier FDC26 is 10.195000\n"
     ]
    },
    {
     "name": "stdout",
     "output_type": "stream",
     "text": [
      "Average Item Weight of all Items for Item Identifier FDF34 is 9.300000\n",
      "Average Item Weight of all Items for Item Identifier FDD04 is 16.000000\n",
      "Average Item Weight of all Items for Item Identifier NCJ31 is 19.200000\n",
      "Average Item Weight of all Items for Item Identifier FDO57 is 20.750000\n",
      "Average Item Weight of all Items for Item Identifier FDM36 is 11.650000\n",
      "Average Item Weight of all Items for Item Identifier NCY05 is 13.500000\n",
      "Average Item Weight of all Items for Item Identifier DRK11 is 8.210000\n",
      "Average Item Weight of all Items for Item Identifier NCL30 is 18.100000\n",
      "Average Item Weight of all Items for Item Identifier DRJ39 is 20.250000\n",
      "Average Item Weight of all Items for Item Identifier NCP06 is 20.700000\n",
      "Average Item Weight of all Items for Item Identifier FDZ44 is 8.185000\n",
      "Average Item Weight of all Items for Item Identifier FDV46 is 18.200000\n",
      "Average Item Weight of all Items for Item Identifier DRG03 is 14.500000\n",
      "Average Item Weight of all Items for Item Identifier FDU37 is 9.500000\n",
      "Average Item Weight of all Items for Item Identifier FDI57 is 19.850000\n",
      "Average Item Weight of all Items for Item Identifier FDM45 is 8.655000\n",
      "Average Item Weight of all Items for Item Identifier FDB26 is 14.000000\n",
      "Average Item Weight of all Items for Item Identifier FDZ25 is 15.700000\n",
      "Average Item Weight of all Items for Item Identifier NCN26 is 10.850000\n",
      "Average Item Weight of all Items for Item Identifier FDO38 is 17.250000\n",
      "Average Item Weight of all Items for Item Identifier FDG31 is 12.150000\n",
      "Average Item Weight of all Items for Item Identifier FDI45 is 13.100000\n",
      "Average Item Weight of all Items for Item Identifier FDE17 is 20.100000\n",
      "Average Item Weight of all Items for Item Identifier NCG06 is 16.350000\n",
      "Average Item Weight of all Items for Item Identifier FDQ57 is 7.275000\n",
      "Average Item Weight of all Items for Item Identifier NCP29 is 8.420000\n",
      "Average Item Weight of all Items for Item Identifier FDM02 is 12.500000\n",
      "Average Item Weight of all Items for Item Identifier FDR46 is 16.850000\n",
      "Average Item Weight of all Items for Item Identifier FDE50 is 19.700000\n",
      "Average Item Weight of all Items for Item Identifier FDS16 is 15.150000\n",
      "Average Item Weight of all Items for Item Identifier FDU15 is 13.650000\n",
      "Average Item Weight of all Items for Item Identifier FDO09 is 13.500000\n",
      "Average Item Weight of all Items for Item Identifier FDB40 is 17.500000\n",
      "Average Item Weight of all Items for Item Identifier DRN11 is 7.850000\n",
      "Average Item Weight of all Items for Item Identifier FDF04 is 17.500000\n",
      "Average Item Weight of all Items for Item Identifier FDE41 is 9.195000\n",
      "Average Item Weight of all Items for Item Identifier FDW08 is 12.100000\n",
      "Average Item Weight of all Items for Item Identifier NCD54 is 21.100000\n",
      "Average Item Weight of all Items for Item Identifier FDN34 is 15.600000\n",
      "Average Item Weight of all Items for Item Identifier FDL39 is 16.100000\n",
      "Average Item Weight of all Items for Item Identifier FDH33 is 12.850000\n",
      "Average Item Weight of all Items for Item Identifier DRH23 is 14.650000\n",
      "Average Item Weight of all Items for Item Identifier FDD21 is 10.300000\n",
      "Average Item Weight of all Items for Item Identifier FDK60 is 16.500000\n",
      "Average Item Weight of all Items for Item Identifier FDY12 is 9.800000\n",
      "Average Item Weight of all Items for Item Identifier FDP11 is 15.850000\n",
      "Average Item Weight of all Items for Item Identifier FDC21 is 14.600000\n",
      "Average Item Weight of all Items for Item Identifier NCF54 is 18.000000\n",
      "Average Item Weight of all Items for Item Identifier FDV43 is 16.000000\n",
      "Average Item Weight of all Items for Item Identifier DRC36 is 13.000000\n",
      "Average Item Weight of all Items for Item Identifier NCW42 is 18.200000\n",
      "Average Item Weight of all Items for Item Identifier FDL13 is 13.850000\n",
      "Average Item Weight of all Items for Item Identifier FDV22 is 14.850000\n",
      "Average Item Weight of all Items for Item Identifier NCB43 is 20.200000\n",
      "Average Item Weight of all Items for Item Identifier FDQ46 is 7.510000\n",
      "Average Item Weight of all Items for Item Identifier FDC44 is 15.600000\n",
      "Average Item Weight of all Items for Item Identifier FDB22 is 8.020000\n",
      "Average Item Weight of all Items for Item Identifier FDV23 is 11.000000\n",
      "Average Item Weight of all Items for Item Identifier FDK10 is 5.785000\n",
      "Average Item Weight of all Items for Item Identifier FDL33 is 7.235000\n",
      "Average Item Weight of all Items for Item Identifier FDD20 is 14.150000\n",
      "Average Item Weight of all Items for Item Identifier NCM54 is 17.700000\n",
      "Average Item Weight of all Items for Item Identifier FDW48 is 18.000000\n",
      "Average Item Weight of all Items for Item Identifier NCM06 is 7.475000\n",
      "Average Item Weight of all Items for Item Identifier FDT46 is 11.350000\n",
      "Average Item Weight of all Items for Item Identifier FDT38 is 18.700000\n",
      "Average Item Weight of all Items for Item Identifier FDO40 is 17.100000\n",
      "Average Item Weight of all Items for Item Identifier FDP12 is 9.800000\n",
      "Average Item Weight of all Items for Item Identifier FDI44 is 16.100000\n",
      "Average Item Weight of all Items for Item Identifier FDG16 is 15.250000\n",
      "Average Item Weight of all Items for Item Identifier FDY11 is 6.710000\n",
      "Average Item Weight of all Items for Item Identifier FDY60 is 10.500000\n",
      "Average Item Weight of all Items for Item Identifier NCM05 is 6.825000\n",
      "Average Item Weight of all Items for Item Identifier FDA49 is 19.700000\n",
      "Average Item Weight of all Items for Item Identifier FDY52 is 6.365000\n",
      "Average Item Weight of all Items for Item Identifier FDJ02 is 17.200000\n",
      "Average Item Weight of all Items for Item Identifier FDW40 is 14.000000\n",
      "Average Item Weight of all Items for Item Identifier FDY08 is 9.395000\n",
      "Average Item Weight of all Items for Item Identifier FDM21 is 20.200000\n",
      "Average Item Weight of all Items for Item Identifier NCM42 is 6.130000\n",
      "Average Item Weight of all Items for Item Identifier NCD07 is 9.100000\n",
      "Average Item Weight of all Items for Item Identifier FDD09 is 13.500000\n",
      "Average Item Weight of all Items for Item Identifier DRH59 is 10.800000\n",
      "Average Item Weight of all Items for Item Identifier DRA24 is 19.350000\n",
      "Average Item Weight of all Items for Item Identifier FDY36 is 12.300000\n",
      "Average Item Weight of all Items for Item Identifier FDG34 is 11.500000\n",
      "Average Item Weight of all Items for Item Identifier FDK22 is 9.800000\n",
      "Average Item Weight of all Items for Item Identifier FDO33 is 14.750000\n",
      "Average Item Weight of all Items for Item Identifier FDD46 is 6.035000\n",
      "Average Item Weight of all Items for Item Identifier FDU34 is 18.250000\n",
      "Average Item Weight of all Items for Item Identifier FDA26 is 7.855000\n",
      "Average Item Weight of all Items for Item Identifier FDP38 is 10.100000\n",
      "Average Item Weight of all Items for Item Identifier FDA50 is 16.250000\n",
      "Average Item Weight of all Items for Item Identifier FDY10 is 17.600000\n",
      "Average Item Weight of all Items for Item Identifier FDT19 is 7.590000\n",
      "Average Item Weight of all Items for Item Identifier FDA28 is 16.100000\n",
      "Average Item Weight of all Items for Item Identifier FDB05 is 5.155000\n",
      "Average Item Weight of all Items for Item Identifier FDK45 is 11.650000\n",
      "Average Item Weight of all Items for Item Identifier FDR48 is 11.650000\n",
      "Average Item Weight of all Items for Item Identifier FDY15 is 18.250000\n",
      "Average Item Weight of all Items for Item Identifier FDM51 is 11.800000\n",
      "Average Item Weight of all Items for Item Identifier FDW09 is 13.650000\n",
      "Average Item Weight of all Items for Item Identifier FDV44 is 8.365000\n",
      "Average Item Weight of all Items for Item Identifier NCP43 is 17.750000\n",
      "Average Item Weight of all Items for Item Identifier FDL26 is 18.000000\n",
      "Average Item Weight of all Items for Item Identifier DRM35 is 9.695000\n",
      "Average Item Weight of all Items for Item Identifier DRD15 is 10.600000\n",
      "Average Item Weight of all Items for Item Identifier FDV04 is 7.825000\n",
      "Average Item Weight of all Items for Item Identifier FDG46 is 8.630000\n",
      "Average Item Weight of all Items for Item Identifier NCN05 is 8.235000\n",
      "Average Item Weight of all Items for Item Identifier FDO58 is 19.600000\n",
      "Average Item Weight of all Items for Item Identifier DRH49 is 19.700000\n",
      "Average Item Weight of all Items for Item Identifier NCZ05 is 8.485000\n",
      "Average Item Weight of all Items for Item Identifier NCP54 is 15.350000\n",
      "Average Item Weight of all Items for Item Identifier FDF57 is 14.500000\n",
      "Average Item Weight of all Items for Item Identifier FDA02 is 14.000000\n",
      "Average Item Weight of all Items for Item Identifier DRJ37 is 10.800000\n",
      "Average Item Weight of all Items for Item Identifier NCP55 is 14.650000\n",
      "Average Item Weight of all Items for Item Identifier FDW45 is 18.000000\n",
      "Average Item Weight of all Items for Item Identifier FDK38 is 6.650000\n",
      "Average Item Weight of all Items for Item Identifier NCZ30 is 6.590000\n",
      "Average Item Weight of all Items for Item Identifier FDK08 is 9.195000\n",
      "Average Item Weight of all Items for Item Identifier NCG19 is 20.250000\n",
      "Average Item Weight of all Items for Item Identifier FDQ01 is 19.700000\n",
      "Average Item Weight of all Items for Item Identifier FDL44 is 18.250000\n",
      "Average Item Weight of all Items for Item Identifier DRM23 is 16.600000\n",
      "Average Item Weight of all Items for Item Identifier NCE18 is 10.000000\n",
      "Average Item Weight of all Items for Item Identifier DRZ24 is 7.535000\n",
      "Average Item Weight of all Items for Item Identifier FDT48 is 4.920000\n",
      "Average Item Weight of all Items for Item Identifier DRG11 is 6.385000\n",
      "Average Item Weight of all Items for Item Identifier FDP60 is 17.350000\n",
      "Average Item Weight of all Items for Item Identifier FDC32 is 18.350000\n",
      "Average Item Weight of all Items for Item Identifier NCH18 is 9.300000\n",
      "Average Item Weight of all Items for Item Identifier DRE37 is 13.500000\n",
      "Average Item Weight of all Items for Item Identifier DRC13 is 8.260000\n",
      "Average Item Weight of all Items for Item Identifier FDG47 is 12.800000\n",
      "Average Item Weight of all Items for Item Identifier NCT05 is 10.895000\n",
      "Average Item Weight of all Items for Item Identifier FDN50 is 16.850000\n",
      "Average Item Weight of all Items for Item Identifier FDU60 is 20.000000\n",
      "Average Item Weight of all Items for Item Identifier FDX02 is 16.000000\n",
      "Average Item Weight of all Items for Item Identifier NCO41 is 12.500000\n",
      "Average Item Weight of all Items for Item Identifier FDQ59 is 9.800000\n",
      "Average Item Weight of all Items for Item Identifier NCZ53 is 9.600000\n",
      "Average Item Weight of all Items for Item Identifier FDD34 is 7.945000\n",
      "Average Item Weight of all Items for Item Identifier FDY43 is 14.850000\n",
      "Average Item Weight of all Items for Item Identifier FDN44 is 13.150000\n",
      "Average Item Weight of all Items for Item Identifier FDD32 is 17.700000\n",
      "Average Item Weight of all Items for Item Identifier FDA56 is 9.210000\n",
      "Average Item Weight of all Items for Item Identifier FDT13 is 14.850000\n",
      "Average Item Weight of all Items for Item Identifier NCY29 is 13.650000\n",
      "Average Item Weight of all Items for Item Identifier NCA42 is 6.965000\n",
      "Average Item Weight of all Items for Item Identifier FDG26 is 18.850000\n"
     ]
    },
    {
     "name": "stdout",
     "output_type": "stream",
     "text": [
      "Average Item Weight of all Items for Item Identifier FDH24 is 20.700000\n",
      "Average Item Weight of all Items for Item Identifier FDT52 is 9.695000\n",
      "Average Item Weight of all Items for Item Identifier FDT04 is 17.250000\n",
      "Average Item Weight of all Items for Item Identifier NCL54 is 12.600000\n",
      "Average Item Weight of all Items for Item Identifier FDQ32 is 17.850000\n",
      "Average Item Weight of all Items for Item Identifier FDE29 is 8.905000\n",
      "Average Item Weight of all Items for Item Identifier FDB37 is 20.250000\n",
      "Average Item Weight of all Items for Item Identifier FDN46 is 7.210000\n",
      "Average Item Weight of all Items for Item Identifier FDV28 is 16.100000\n",
      "Average Item Weight of all Items for Item Identifier FDW37 is 19.200000\n",
      "Average Item Weight of all Items for Item Identifier FDV40 is 17.350000\n",
      "Average Item Weight of all Items for Item Identifier FDZ57 is 10.000000\n",
      "Average Item Weight of all Items for Item Identifier FDY46 is 18.600000\n",
      "Average Item Weight of all Items for Item Identifier FDX45 is 16.750000\n",
      "Average Item Weight of all Items for Item Identifier FDB33 is 17.750000\n",
      "Average Item Weight of all Items for Item Identifier FDT58 is 9.000000\n",
      "Average Item Weight of all Items for Item Identifier NCL31 is 7.390000\n",
      "Average Item Weight of all Items for Item Identifier FDJ44 is 12.300000\n",
      "Average Item Weight of all Items for Item Identifier FDS50 is 17.000000\n",
      "Average Item Weight of all Items for Item Identifier FDO50 is 16.250000\n",
      "Average Item Weight of all Items for Item Identifier FDU20 is 19.350000\n",
      "Average Item Weight of all Items for Item Identifier DRK13 is 11.800000\n",
      "Average Item Weight of all Items for Item Identifier FDI20 is 19.100000\n",
      "Average Item Weight of all Items for Item Identifier FDG17 is 6.865000\n",
      "Average Item Weight of all Items for Item Identifier NCK29 is 5.615000\n",
      "Average Item Weight of all Items for Item Identifier FDM32 is 20.500000\n",
      "Average Item Weight of all Items for Item Identifier FDC51 is 10.895000\n",
      "Average Item Weight of all Items for Item Identifier FDF16 is 7.300000\n",
      "Average Item Weight of all Items for Item Identifier FDI46 is 9.500000\n",
      "Average Item Weight of all Items for Item Identifier FDZ21 is 17.600000\n",
      "Average Item Weight of all Items for Item Identifier FDR32 is 6.780000\n",
      "Average Item Weight of all Items for Item Identifier DRF25 is 9.000000\n",
      "Average Item Weight of all Items for Item Identifier FDH05 is 14.350000\n",
      "Average Item Weight of all Items for Item Identifier FDD52 is 18.250000\n",
      "Average Item Weight of all Items for Item Identifier FDR55 is 12.150000\n",
      "Average Item Weight of all Items for Item Identifier FDP04 is 15.350000\n",
      "Average Item Weight of all Items for Item Identifier FDQ14 is 9.270000\n",
      "Average Item Weight of all Items for Item Identifier DRN59 is 15.000000\n",
      "Average Item Weight of all Items for Item Identifier NCR06 is 12.500000\n",
      "Average Item Weight of all Items for Item Identifier FDB58 is 10.500000\n",
      "Average Item Weight of all Items for Item Identifier NCV41 is 14.350000\n",
      "Average Item Weight of all Items for Item Identifier FDW19 is 12.350000\n",
      "Average Item Weight of all Items for Item Identifier FDO56 is 10.195000\n",
      "Average Item Weight of all Items for Item Identifier FDN10 is 11.500000\n",
      "Average Item Weight of all Items for Item Identifier FDY20 is 12.500000\n",
      "Average Item Weight of all Items for Item Identifier FDV34 is 10.695000\n",
      "Average Item Weight of all Items for Item Identifier NCX18 is 14.150000\n",
      "Average Item Weight of all Items for Item Identifier NCZ17 is 12.150000\n",
      "Average Item Weight of all Items for Item Identifier FDD57 is 18.100000\n",
      "Average Item Weight of all Items for Item Identifier FDZ48 is 17.750000\n",
      "Average Item Weight of all Items for Item Identifier FDZ31 is 15.350000\n",
      "Average Item Weight of all Items for Item Identifier FDA04 is 11.300000\n",
      "Average Item Weight of all Items for Item Identifier FDL21 is 15.850000\n",
      "Average Item Weight of all Items for Item Identifier DRG49 is 7.810000\n",
      "Average Item Weight of all Items for Item Identifier FDR51 is 9.035000\n",
      "Average Item Weight of all Items for Item Identifier FDC39 is 7.405000\n",
      "Average Item Weight of all Items for Item Identifier FDP45 is 15.700000\n",
      "Average Item Weight of all Items for Item Identifier FDC56 is 7.720000\n",
      "Average Item Weight of all Items for Item Identifier FDE59 is 12.150000\n",
      "Average Item Weight of all Items for Item Identifier FDB04 is 11.350000\n",
      "Average Item Weight of all Items for Item Identifier NCK05 is 20.100000\n",
      "Average Item Weight of all Items for Item Identifier FDR03 is 15.700000\n",
      "Average Item Weight of all Items for Item Identifier FDQ03 is 15.000000\n",
      "Average Item Weight of all Items for Item Identifier FDC59 is 16.700000\n",
      "Average Item Weight of all Items for Item Identifier DRB13 is 6.115000\n",
      "Average Item Weight of all Items for Item Identifier NCE54 is 20.700000\n",
      "Average Item Weight of all Items for Item Identifier FDP23 is 6.710000\n",
      "Average Item Weight of all Items for Item Identifier NCL29 is 9.695000\n",
      "Average Item Weight of all Items for Item Identifier FDM57 is 11.650000\n",
      "Average Item Weight of all Items for Item Identifier FDZ36 is 6.035000\n",
      "Average Item Weight of all Items for Item Identifier FDO46 is 9.600000\n",
      "Average Item Weight of all Items for Item Identifier FDD16 is 20.500000\n",
      "Average Item Weight of all Items for Item Identifier FDZ20 is 16.100000\n",
      "Average Item Weight of all Items for Item Identifier FDY44 is 14.150000\n",
      "Average Item Weight of all Items for Item Identifier FDW38 is 5.325000\n",
      "Average Item Weight of all Items for Item Identifier FDY33 is 14.500000\n",
      "Average Item Weight of all Items for Item Identifier DRH51 is 17.600000\n",
      "Average Item Weight of all Items for Item Identifier FDI50 is 8.420000\n",
      "Average Item Weight of all Items for Item Identifier FDB60 is 9.300000\n",
      "Average Item Weight of all Items for Item Identifier FDA20 is 6.780000\n",
      "Average Item Weight of all Items for Item Identifier NCX05 is 15.200000\n",
      "Average Item Weight of all Items for Item Identifier DRF37 is 17.250000\n",
      "Average Item Weight of all Items for Item Identifier FDJ26 is 15.300000\n",
      "Average Item Weight of all Items for Item Identifier FDZ58 is 17.850000\n",
      "Average Item Weight of all Items for Item Identifier FDZ50 is 12.800000\n",
      "Average Item Weight of all Items for Item Identifier NCG18 is 15.300000\n",
      "Average Item Weight of all Items for Item Identifier FDH50 is 15.000000\n",
      "Average Item Weight of all Items for Item Identifier DRO35 is 13.850000\n",
      "Average Item Weight of all Items for Item Identifier FDP52 is 18.700000\n",
      "Average Item Weight of all Items for Item Identifier FDC05 is 13.100000\n",
      "Average Item Weight of all Items for Item Identifier NCA41 is 16.750000\n",
      "Average Item Weight of all Items for Item Identifier FDX56 is 17.100000\n",
      "Average Item Weight of all Items for Item Identifier FDS01 is 11.600000\n",
      "Average Item Weight of all Items for Item Identifier FDW34 is 9.600000\n",
      "Average Item Weight of all Items for Item Identifier NCP02 is 7.105000\n",
      "Average Item Weight of all Items for Item Identifier FDZ49 is 11.000000\n",
      "Average Item Weight of all Items for Item Identifier NCJ17 is 7.680000\n",
      "Average Item Weight of all Items for Item Identifier FDI53 is 8.895000\n",
      "Average Item Weight of all Items for Item Identifier FDW02 is 4.805000\n",
      "Average Item Weight of all Items for Item Identifier FDO48 is 15.000000\n",
      "Average Item Weight of all Items for Item Identifier FDF56 is 16.700000\n",
      "Average Item Weight of all Items for Item Identifier FDL57 is 15.100000\n",
      "Average Item Weight of all Items for Item Identifier FDV52 is 20.700000\n",
      "Average Item Weight of all Items for Item Identifier NCS41 is 12.850000\n",
      "Average Item Weight of all Items for Item Identifier FDF12 is 8.235000\n",
      "Average Item Weight of all Items for Item Identifier FDM13 is 6.425000\n",
      "Average Item Weight of all Items for Item Identifier FDW55 is 12.600000\n",
      "Average Item Weight of all Items for Item Identifier NCT29 is 12.600000\n",
      "Average Item Weight of all Items for Item Identifier NCS42 is 8.600000\n",
      "Average Item Weight of all Items for Item Identifier FDD47 is 7.600000\n",
      "Average Item Weight of all Items for Item Identifier DRE03 is 19.600000\n",
      "Average Item Weight of all Items for Item Identifier NCM18 is 13.000000\n",
      "Average Item Weight of all Items for Item Identifier FDE20 is 11.350000\n",
      "Average Item Weight of all Items for Item Identifier FDI33 is 16.500000\n",
      "Average Item Weight of all Items for Item Identifier NCT06 is 17.100000\n",
      "Average Item Weight of all Items for Item Identifier FDK52 is 18.250000\n",
      "Average Item Weight of all Items for Item Identifier FDJ36 is 14.500000\n",
      "Average Item Weight of all Items for Item Identifier NCK18 is 9.600000\n",
      "Average Item Weight of all Items for Item Identifier FDB08 is 6.055000\n",
      "Average Item Weight of all Items for Item Identifier FDX43 is 5.655000\n",
      "Average Item Weight of all Items for Item Identifier FDU58 is 6.610000\n",
      "Average Item Weight of all Items for Item Identifier FDL09 is 19.600000\n",
      "Average Item Weight of all Items for Item Identifier FDR37 is 16.500000\n",
      "Average Item Weight of all Items for Item Identifier FDG56 is 13.300000\n",
      "Average Item Weight of all Items for Item Identifier NCC55 is 10.695000\n",
      "Average Item Weight of all Items for Item Identifier FDA25 is 16.500000\n",
      "Average Item Weight of all Items for Item Identifier FDV33 is 9.600000\n",
      "Average Item Weight of all Items for Item Identifier FDX47 is 6.550000\n",
      "Average Item Weight of all Items for Item Identifier FDB02 is 9.695000\n",
      "Average Item Weight of all Items for Item Identifier FDI56 is 7.325000\n"
     ]
    },
    {
     "name": "stdout",
     "output_type": "stream",
     "text": [
      "Average Item Weight of all Items for Item Identifier DRJ49 is 6.865000\n",
      "Average Item Weight of all Items for Item Identifier FDP26 is 7.785000\n",
      "Average Item Weight of all Items for Item Identifier FDO32 is 6.360000\n",
      "Average Item Weight of all Items for Item Identifier FDR34 is 17.000000\n",
      "Average Item Weight of all Items for Item Identifier FDU59 is 5.780000\n",
      "Average Item Weight of all Items for Item Identifier FDN31 is 11.500000\n",
      "Average Item Weight of all Items for Item Identifier FDT55 is 13.600000\n",
      "Average Item Weight of all Items for Item Identifier FDC03 is 8.575000\n",
      "Average Item Weight of all Items for Item Identifier FDL14 is 8.115000\n",
      "Average Item Weight of all Items for Item Identifier FDP39 is 12.650000\n",
      "Average Item Weight of all Items for Item Identifier FDT11 is 5.940000\n",
      "Average Item Weight of all Items for Item Identifier FDU48 is 18.850000\n",
      "Average Item Weight of all Items for Item Identifier FDT45 is 15.850000\n",
      "Average Item Weight of all Items for Item Identifier FDE56 is 17.250000\n",
      "Average Item Weight of all Items for Item Identifier FDZ34 is 6.695000\n",
      "Average Item Weight of all Items for Item Identifier FDV24 is 5.635000\n",
      "Average Item Weight of all Items for Item Identifier FDQ39 is 14.800000\n",
      "Average Item Weight of all Items for Item Identifier FDE11 is 17.700000\n",
      "Average Item Weight of all Items for Item Identifier NCU54 is 8.880000\n",
      "Average Item Weight of all Items for Item Identifier FDO60 is 20.000000\n",
      "Average Item Weight of all Items for Item Identifier NCS06 is 7.935000\n",
      "Average Item Weight of all Items for Item Identifier FDQ55 is 13.650000\n",
      "Average Item Weight of all Items for Item Identifier NCO02 is 11.150000\n",
      "Average Item Weight of all Items for Item Identifier FDB12 is 11.150000\n",
      "Average Item Weight of all Items for Item Identifier FDT40 is 5.985000\n",
      "Average Item Weight of all Items for Item Identifier NCO05 is 7.270000\n",
      "Average Item Weight of all Items for Item Identifier FDM04 is 9.195000\n",
      "Average Item Weight of all Items for Item Identifier FDH08 is 7.510000\n",
      "Average Item Weight of all Items for Item Identifier NCQ06 is 13.000000\n",
      "Average Item Weight of all Items for Item Identifier FDZ40 is 8.935000\n",
      "Average Item Weight of all Items for Item Identifier NCM17 is 7.930000\n",
      "Average Item Weight of all Items for Item Identifier FDU03 is 18.700000\n",
      "Average Item Weight of all Items for Item Identifier NCX30 is 16.700000\n",
      "Average Item Weight of all Items for Item Identifier FDV08 is 7.350000\n",
      "Average Item Weight of all Items for Item Identifier DRK47 is 7.905000\n",
      "Average Item Weight of all Items for Item Identifier DRI47 is 14.700000\n",
      "Average Item Weight of all Items for Item Identifier FDR35 is 12.500000\n",
      "Average Item Weight of all Items for Item Identifier FDK03 is 12.600000\n",
      "Average Item Weight of all Items for Item Identifier FDZ59 is 6.630000\n",
      "Average Item Weight of all Items for Item Identifier FDL03 is 19.250000\n",
      "Average Item Weight of all Items for Item Identifier DRC25 is 5.730000\n",
      "Average Item Weight of all Items for Item Identifier NCG07 is 12.300000\n",
      "Average Item Weight of all Items for Item Identifier FDL45 is 15.600000\n",
      "Average Item Weight of all Items for Item Identifier FDC45 is 17.000000\n",
      "Average Item Weight of all Items for Item Identifier FDI40 is 11.500000\n",
      "Average Item Weight of all Items for Item Identifier FDQ11 is 5.695000\n",
      "Average Item Weight of all Items for Item Identifier FDQ52 is 17.000000\n",
      "Average Item Weight of all Items for Item Identifier FDJ27 is 17.700000\n",
      "Average Item Weight of all Items for Item Identifier FDT26 is 18.850000\n",
      "Average Item Weight of all Items for Item Identifier NCH07 is 13.150000\n",
      "Average Item Weight of all Items for Item Identifier FDP44 is 16.500000\n",
      "Average Item Weight of all Items for Item Identifier FDI48 is 11.850000\n",
      "Average Item Weight of all Items for Item Identifier NCF06 is 6.235000\n",
      "Average Item Weight of all Items for Item Identifier NCL05 is 19.600000\n",
      "Average Item Weight of all Items for Item Identifier FDT24 is 12.350000\n",
      "Average Item Weight of all Items for Item Identifier FDS11 is 7.050000\n",
      "Average Item Weight of all Items for Item Identifier FDC28 is 7.905000\n",
      "Average Item Weight of all Items for Item Identifier DRE15 is 13.350000\n",
      "Average Item Weight of all Items for Item Identifier NCI42 is 18.750000\n",
      "Average Item Weight of all Items for Item Identifier FDX37 is 16.200000\n",
      "Average Item Weight of all Items for Item Identifier FDM09 is 11.150000\n",
      "Average Item Weight of all Items for Item Identifier NCW54 is 7.500000\n",
      "Average Item Weight of all Items for Item Identifier FDF47 is 20.850000\n",
      "Average Item Weight of all Items for Item Identifier DRD01 is 12.100000\n",
      "Average Item Weight of all Items for Item Identifier FDN25 is 7.895000\n",
      "Average Item Weight of all Items for Item Identifier FDW36 is 11.150000\n",
      "Average Item Weight of all Items for Item Identifier FDP20 is 19.850000\n",
      "Average Item Weight of all Items for Item Identifier FDR45 is 10.800000\n",
      "Average Item Weight of all Items for Item Identifier FDZ45 is 14.100000\n",
      "Average Item Weight of all Items for Item Identifier FDB23 is 19.200000\n",
      "Average Item Weight of all Items for Item Identifier NCM26 is 20.500000\n",
      "Average Item Weight of all Items for Item Identifier FDK40 is 7.035000\n",
      "Average Item Weight of all Items for Item Identifier NCL42 is 18.850000\n",
      "Average Item Weight of all Items for Item Identifier FDY04 is 17.700000\n",
      "Average Item Weight of all Items for Item Identifier NCG30 is 20.200000\n",
      "Average Item Weight of all Items for Item Identifier NCH29 is 5.510000\n",
      "Average Item Weight of all Items for Item Identifier NCM29 is 11.500000\n",
      "Average Item Weight of all Items for Item Identifier FDD53 is 16.200000\n",
      "Average Item Weight of all Items for Item Identifier NCP41 is 16.600000\n",
      "Average Item Weight of all Items for Item Identifier FDJ28 is 12.300000\n",
      "Average Item Weight of all Items for Item Identifier FDH44 is 19.100000\n",
      "Average Item Weight of all Items for Item Identifier NCY54 is 8.430000\n",
      "Average Item Weight of all Items for Item Identifier DRA59 is 8.270000\n",
      "Average Item Weight of all Items for Item Identifier FDS55 is 7.020000\n",
      "Average Item Weight of all Items for Item Identifier NCN19 is 13.100000\n",
      "Average Item Weight of all Items for Item Identifier FDH09 is 12.600000\n",
      "Average Item Weight of all Items for Item Identifier FDS25 is 6.885000\n",
      "Average Item Weight of all Items for Item Identifier NCI30 is 20.250000\n",
      "Average Item Weight of all Items for Item Identifier FDM33 is 15.600000\n",
      "Average Item Weight of all Items for Item Identifier NCA53 is 11.395000\n",
      "Average Item Weight of all Items for Item Identifier FDS56 is 5.785000\n",
      "Average Item Weight of all Items for Item Identifier FDT07 is 5.820000\n",
      "Average Item Weight of all Items for Item Identifier FDJ10 is 5.095000\n",
      "Average Item Weight of all Items for Item Identifier FDA38 is 5.440000\n",
      "Average Item Weight of all Items for Item Identifier FDW32 is 18.350000\n",
      "Average Item Weight of all Items for Item Identifier NCW18 is 15.100000\n",
      "Average Item Weight of all Items for Item Identifier FDQ44 is 20.500000\n",
      "Average Item Weight of all Items for Item Identifier FDQ34 is 10.850000\n",
      "Average Item Weight of all Items for Item Identifier FDN08 is 7.720000\n",
      "Average Item Weight of all Items for Item Identifier FDK57 is nan\n",
      "Average Item Weight of all Items for Item Identifier DRG48 is 5.780000\n",
      "Average Item Weight of all Items for Item Identifier FDH52 is 9.420000\n",
      "Average Item Weight of all Items for Item Identifier NCH43 is 8.420000\n",
      "Average Item Weight of all Items for Item Identifier FDD35 is 12.150000\n",
      "Average Item Weight of all Items for Item Identifier FDR01 is 5.405000\n",
      "Average Item Weight of all Items for Item Identifier FDS23 is 4.635000\n",
      "Average Item Weight of all Items for Item Identifier FDJ53 is 10.500000\n",
      "Average Item Weight of all Items for Item Identifier FDA32 is 14.000000\n",
      "Average Item Weight of all Items for Item Identifier FDX01 is 10.100000\n",
      "Average Item Weight of all Items for Item Identifier FDA48 is 12.100000\n",
      "Average Item Weight of all Items for Item Identifier FDI09 is 20.750000\n",
      "Average Item Weight of all Items for Item Identifier DRF13 is 12.100000\n",
      "Average Item Weight of all Items for Item Identifier FDK25 is 11.600000\n",
      "Average Item Weight of all Items for Item Identifier FDC20 is 10.650000\n",
      "Average Item Weight of all Items for Item Identifier FDQ19 is 7.350000\n",
      "Average Item Weight of all Items for Item Identifier FDV50 is 14.300000\n",
      "Average Item Weight of all Items for Item Identifier DRG37 is 16.200000\n",
      "Average Item Weight of all Items for Item Identifier FDS08 is 5.735000\n",
      "Average Item Weight of all Items for Item Identifier FDG22 is 17.600000\n",
      "Average Item Weight of all Items for Item Identifier DRJ47 is 18.250000\n",
      "Average Item Weight of all Items for Item Identifier FDZ43 is 11.000000\n",
      "Average Item Weight of all Items for Item Identifier FDJ50 is 8.645000\n",
      "Average Item Weight of all Items for Item Identifier FDV35 is 19.500000\n",
      "Average Item Weight of all Items for Item Identifier DRL35 is 15.700000\n",
      "Average Item Weight of all Items for Item Identifier FDS24 is 20.850000\n",
      "Average Item Weight of all Items for Item Identifier FDS13 is 6.465000\n",
      "Average Item Weight of all Items for Item Identifier FDW26 is 11.800000\n",
      "Average Item Weight of all Items for Item Identifier FDQ12 is 12.650000\n",
      "Average Item Weight of all Items for Item Identifier FDL36 is 15.100000\n",
      "Average Item Weight of all Items for Item Identifier DRJ11 is 9.500000\n",
      "Average Item Weight of all Items for Item Identifier NCT17 is 10.800000\n",
      "Average Item Weight of all Items for Item Identifier DRH36 is 16.200000\n",
      "Average Item Weight of all Items for Item Identifier NCA17 is 20.600000\n",
      "Average Item Weight of all Items for Item Identifier FDG41 is 8.840000\n",
      "Average Item Weight of all Items for Item Identifier NCS38 is 8.600000\n",
      "Average Item Weight of all Items for Item Identifier FDQ16 is 19.700000\n",
      "Average Item Weight of all Items for Item Identifier FDS40 is 15.350000\n",
      "Average Item Weight of all Items for Item Identifier FDV31 is 9.800000\n",
      "Average Item Weight of all Items for Item Identifier NCD42 is 16.500000\n",
      "Average Item Weight of all Items for Item Identifier FDW21 is 5.340000\n",
      "Average Item Weight of all Items for Item Identifier DRF60 is 10.800000\n",
      "Average Item Weight of all Items for Item Identifier FDQ36 is 7.855000\n"
     ]
    },
    {
     "name": "stdout",
     "output_type": "stream",
     "text": [
      "Average Item Weight of all Items for Item Identifier FDP34 is 12.850000\n",
      "Average Item Weight of all Items for Item Identifier FDI02 is 15.700000\n",
      "Average Item Weight of all Items for Item Identifier FDG50 is 7.405000\n",
      "Average Item Weight of all Items for Item Identifier FDV48 is 9.195000\n",
      "Average Item Weight of all Items for Item Identifier FDH02 is 7.270000\n",
      "Average Item Weight of all Items for Item Identifier NCD43 is 8.850000\n",
      "Average Item Weight of all Items for Item Identifier FDE46 is 18.600000\n",
      "Average Item Weight of all Items for Item Identifier NCO42 is 21.250000\n",
      "Average Item Weight of all Items for Item Identifier FDR40 is 9.100000\n",
      "Average Item Weight of all Items for Item Identifier DRE48 is 8.430000\n",
      "Average Item Weight of all Items for Item Identifier FDV16 is 7.750000\n",
      "Average Item Weight of all Items for Item Identifier FDY19 is 19.750000\n",
      "Average Item Weight of all Items for Item Identifier FDD41 is 6.765000\n",
      "Average Item Weight of all Items for Item Identifier NCK07 is 10.650000\n",
      "Average Item Weight of all Items for Item Identifier FDZ60 is 20.500000\n",
      "Average Item Weight of all Items for Item Identifier FDW47 is 15.000000\n",
      "Average Item Weight of all Items for Item Identifier FDX58 is 13.150000\n",
      "Average Item Weight of all Items for Item Identifier FDS04 is 10.195000\n",
      "Average Item Weight of all Items for Item Identifier FDK16 is 9.065000\n",
      "Average Item Weight of all Items for Item Identifier NCU42 is 9.000000\n",
      "Average Item Weight of all Items for Item Identifier FDS37 is 7.655000\n",
      "Average Item Weight of all Items for Item Identifier FDO25 is 6.300000\n",
      "Average Item Weight of all Items for Item Identifier FDS57 is 15.500000\n",
      "Average Item Weight of all Items for Item Identifier FDI52 is 18.700000\n",
      "Average Item Weight of all Items for Item Identifier FDG40 is 13.650000\n",
      "Average Item Weight of all Items for Item Identifier FDU49 is 19.500000\n",
      "Average Item Weight of all Items for Item Identifier NCM30 is 19.100000\n",
      "Average Item Weight of all Items for Item Identifier DRO47 is 10.195000\n",
      "Average Item Weight of all Items for Item Identifier NCY06 is 15.250000\n",
      "Average Item Weight of all Items for Item Identifier NCL41 is 12.350000\n",
      "Average Item Weight of all Items for Item Identifier FDM58 is 16.850000\n",
      "Average Item Weight of all Items for Item Identifier FDI07 is 12.350000\n",
      "Average Item Weight of all Items for Item Identifier DRL47 is 19.700000\n",
      "Average Item Weight of all Items for Item Identifier FDQ25 is 8.630000\n",
      "Average Item Weight of all Items for Item Identifier FDE26 is 9.300000\n",
      "Average Item Weight of all Items for Item Identifier FDD56 is 15.200000\n",
      "Average Item Weight of all Items for Item Identifier FDQ13 is 11.100000\n",
      "Average Item Weight of all Items for Item Identifier DRD25 is 6.135000\n",
      "Average Item Weight of all Items for Item Identifier FDT16 is 9.895000\n",
      "Average Item Weight of all Items for Item Identifier NCB54 is 8.760000\n",
      "Average Item Weight of all Items for Item Identifier FDA31 is 7.100000\n",
      "Average Item Weight of all Items for Item Identifier FDM12 is 16.700000\n",
      "Average Item Weight of all Items for Item Identifier FDY47 is 8.600000\n",
      "Average Item Weight of all Items for Item Identifier FDT03 is 21.250000\n",
      "Average Item Weight of all Items for Item Identifier FDB49 is 8.300000\n",
      "Average Item Weight of all Items for Item Identifier FDE47 is 14.150000\n",
      "Average Item Weight of all Items for Item Identifier FDU23 is 12.150000\n",
      "Average Item Weight of all Items for Item Identifier FDV09 is 12.100000\n",
      "Average Item Weight of all Items for Item Identifier NCA30 is 19.000000\n",
      "Average Item Weight of all Items for Item Identifier FDH41 is 9.000000\n",
      "Average Item Weight of all Items for Item Identifier FDS43 is 11.650000\n",
      "Average Item Weight of all Items for Item Identifier FDP37 is 15.600000\n",
      "Average Item Weight of all Items for Item Identifier FDJ09 is 15.000000\n",
      "Average Item Weight of all Items for Item Identifier FDC57 is 20.100000\n",
      "Average Item Weight of all Items for Item Identifier DRD27 is 18.750000\n",
      "Average Item Weight of all Items for Item Identifier FDI12 is 9.395000\n",
      "Average Item Weight of all Items for Item Identifier FDQ33 is 13.350000\n",
      "Average Item Weight of all Items for Item Identifier FDQ27 is 5.190000\n",
      "Average Item Weight of all Items for Item Identifier FDH34 is 8.630000\n",
      "Average Item Weight of all Items for Item Identifier FDB20 is 7.720000\n",
      "Average Item Weight of all Items for Item Identifier DRL60 is 8.520000\n",
      "Average Item Weight of all Items for Item Identifier DRJ23 is 18.350000\n",
      "Average Item Weight of all Items for Item Identifier FDQ26 is 13.500000\n",
      "Average Item Weight of all Items for Item Identifier NCA06 is 20.500000\n",
      "Average Item Weight of all Items for Item Identifier FDJ07 is 7.260000\n",
      "Average Item Weight of all Items for Item Identifier FDP56 is 8.185000\n",
      "Average Item Weight of all Items for Item Identifier FDF26 is 6.825000\n",
      "Average Item Weight of all Items for Item Identifier FDA11 is 7.750000\n",
      "Average Item Weight of all Items for Item Identifier DRI23 is 18.850000\n",
      "Average Item Weight of all Items for Item Identifier NCJ05 is 18.700000\n",
      "Average Item Weight of all Items for Item Identifier FDI21 is 5.590000\n",
      "Average Item Weight of all Items for Item Identifier FDH12 is 9.600000\n",
      "Average Item Weight of all Items for Item Identifier FDD02 is 16.600000\n",
      "Average Item Weight of all Items for Item Identifier FDL28 is 10.000000\n",
      "Average Item Weight of all Items for Item Identifier FDR10 is 17.600000\n",
      "Average Item Weight of all Items for Item Identifier FDR15 is 9.300000\n",
      "Average Item Weight of all Items for Item Identifier FDQ40 is 11.100000\n",
      "Average Item Weight of all Items for Item Identifier FDS34 is 19.350000\n",
      "Average Item Weight of all Items for Item Identifier FDT56 is 16.000000\n",
      "Average Item Weight of all Items for Item Identifier FDU24 is 6.780000\n",
      "Average Item Weight of all Items for Item Identifier FDX11 is 16.000000\n",
      "Average Item Weight of all Items for Item Identifier FDF35 is 15.000000\n",
      "Average Item Weight of all Items for Item Identifier FDD22 is 10.000000\n",
      "Average Item Weight of all Items for Item Identifier FDT60 is 12.000000\n",
      "Average Item Weight of all Items for Item Identifier FDF17 is 5.190000\n",
      "Average Item Weight of all Items for Item Identifier NCP53 is 14.750000\n",
      "Average Item Weight of all Items for Item Identifier FDF29 is 15.100000\n",
      "Average Item Weight of all Items for Item Identifier FDI10 is 8.510000\n",
      "Average Item Weight of all Items for Item Identifier FDR09 is 18.250000\n",
      "Average Item Weight of all Items for Item Identifier FDO03 is 10.395000\n",
      "Average Item Weight of all Items for Item Identifier FDD26 is 8.710000\n",
      "Average Item Weight of all Items for Item Identifier FDO39 is 6.985000\n",
      "Average Item Weight of all Items for Item Identifier FDX51 is 9.500000\n",
      "Average Item Weight of all Items for Item Identifier FDC38 is 15.700000\n",
      "Average Item Weight of all Items for Item Identifier FDP07 is 18.200000\n",
      "Average Item Weight of all Items for Item Identifier FDK27 is 11.000000\n",
      "Average Item Weight of all Items for Item Identifier FDP31 is 21.100000\n",
      "Average Item Weight of all Items for Item Identifier FDM10 is 18.250000\n",
      "Average Item Weight of all Items for Item Identifier FDD11 is 12.850000\n",
      "Average Item Weight of all Items for Item Identifier FDN45 is 19.350000\n",
      "Average Item Weight of all Items for Item Identifier FDJ04 is 18.000000\n",
      "Average Item Weight of all Items for Item Identifier NCT42 is 5.880000\n",
      "Average Item Weight of all Items for Item Identifier FDD45 is 8.615000\n",
      "Average Item Weight of all Items for Item Identifier FDK56 is 9.695000\n",
      "Average Item Weight of all Items for Item Identifier FDX03 is 15.850000\n",
      "Average Item Weight of all Items for Item Identifier NCU18 is 15.100000\n",
      "Average Item Weight of all Items for Item Identifier FDJ48 is 11.300000\n",
      "Average Item Weight of all Items for Item Identifier FDV21 is 11.500000\n",
      "Average Item Weight of all Items for Item Identifier FDK09 is 15.200000\n",
      "Average Item Weight of all Items for Item Identifier NCN42 is 20.250000\n",
      "Average Item Weight of all Items for Item Identifier FDL16 is 12.850000\n",
      "Average Item Weight of all Items for Item Identifier FDM34 is 19.000000\n",
      "Average Item Weight of all Items for Item Identifier FDG60 is 20.350000\n",
      "Average Item Weight of all Items for Item Identifier DRD12 is 6.960000\n",
      "Average Item Weight of all Items for Item Identifier FDJ16 is 9.195000\n",
      "Average Item Weight of all Items for Item Identifier FDI22 is 12.600000\n",
      "Average Item Weight of all Items for Item Identifier NCC07 is 19.600000\n",
      "Average Item Weight of all Items for Item Identifier FDM16 is 8.155000\n",
      "Average Item Weight of all Items for Item Identifier FDT36 is 12.300000\n",
      "Average Item Weight of all Items for Item Identifier FDH38 is 6.425000\n",
      "Average Item Weight of all Items for Item Identifier FDC16 is 11.500000\n",
      "Average Item Weight of all Items for Item Identifier FDT33 is 7.810000\n",
      "Average Item Weight of all Items for Item Identifier FDU31 is 10.500000\n",
      "Average Item Weight of all Items for Item Identifier DRJ01 is 6.135000\n",
      "Average Item Weight of all Items for Item Identifier NCF43 is 8.510000\n",
      "Average Item Weight of all Items for Item Identifier NCS53 is 14.500000\n",
      "Average Item Weight of all Items for Item Identifier DRB24 is 8.785000\n",
      "Average Item Weight of all Items for Item Identifier FDE23 is 17.600000\n",
      "Average Item Weight of all Items for Item Identifier FDW60 is 5.440000\n",
      "Average Item Weight of all Items for Item Identifier NCQ18 is 15.750000\n",
      "Average Item Weight of all Items for Item Identifier NCE30 is 16.000000\n",
      "Average Item Weight of all Items for Item Identifier FDW25 is 5.175000\n",
      "Average Item Weight of all Items for Item Identifier NCY17 is 18.200000\n",
      "Average Item Weight of all Items for Item Identifier NCS18 is 12.650000\n",
      "Average Item Weight of all Items for Item Identifier FDB32 is 20.600000\n",
      "Average Item Weight of all Items for Item Identifier FDG10 is 6.630000\n",
      "Average Item Weight of all Items for Item Identifier FDF38 is 11.800000\n",
      "Average Item Weight of all Items for Item Identifier FDW59 is 13.150000\n",
      "Average Item Weight of all Items for Item Identifier FDY57 is 20.200000\n",
      "Average Item Weight of all Items for Item Identifier FDY16 is 18.350000\n",
      "Average Item Weight of all Items for Item Identifier FDA22 is 7.435000\n",
      "Average Item Weight of all Items for Item Identifier FDV03 is 17.600000\n",
      "Average Item Weight of all Items for Item Identifier FDP27 is 8.155000\n",
      "Average Item Weight of all Items for Item Identifier FDZ37 is 8.100000\n",
      "Average Item Weight of all Items for Item Identifier FDL10 is 8.395000\n",
      "Average Item Weight of all Items for Item Identifier FDE09 is 8.775000\n",
      "Average Item Weight of all Items for Item Identifier FDF33 is 7.970000\n",
      "Average Item Weight of all Items for Item Identifier FDR31 is 6.460000\n",
      "Average Item Weight of all Items for Item Identifier NCQ29 is 12.000000\n",
      "Average Item Weight of all Items for Item Identifier NCI55 is 18.600000\n",
      "Average Item Weight of all Items for Item Identifier FDD14 is 20.700000\n",
      "Average Item Weight of all Items for Item Identifier NCD18 is 16.000000\n",
      "Average Item Weight of all Items for Item Identifier NCE55 is 8.920000\n",
      "Average Item Weight of all Items for Item Identifier FDX48 is 17.750000\n",
      "Average Item Weight of all Items for Item Identifier DRF48 is 5.730000\n",
      "Average Item Weight of all Items for Item Identifier FDU51 is 20.200000\n",
      "Average Item Weight of all Items for Item Identifier NCC19 is 6.570000\n",
      "Average Item Weight of all Items for Item Identifier NCO29 is 11.150000\n",
      "Average Item Weight of all Items for Item Identifier FDX55 is 15.100000\n",
      "Average Item Weight of all Items for Item Identifier FDZ19 is 6.425000\n",
      "Average Item Weight of all Items for Item Identifier NCV53 is 8.270000\n",
      "Average Item Weight of all Items for Item Identifier FDA35 is 14.850000\n"
     ]
    },
    {
     "name": "stdout",
     "output_type": "stream",
     "text": [
      "Average Item Weight of all Items for Item Identifier FDX24 is 8.355000\n",
      "Average Item Weight of all Items for Item Identifier NCS05 is 11.500000\n",
      "Average Item Weight of all Items for Item Identifier FDK04 is 7.360000\n",
      "Average Item Weight of all Items for Item Identifier FDI58 is 7.640000\n",
      "Average Item Weight of all Items for Item Identifier FDG58 is 10.695000\n",
      "Average Item Weight of all Items for Item Identifier FDI60 is 7.220000\n",
      "Average Item Weight of all Items for Item Identifier FDW52 is 14.000000\n",
      "Average Item Weight of all Items for Item Identifier FDN38 is 6.615000\n",
      "Average Item Weight of all Items for Item Identifier FDU39 is 18.850000\n",
      "Average Item Weight of all Items for Item Identifier FDR25 is 17.000000\n",
      "Average Item Weight of all Items for Item Identifier FDM44 is 12.500000\n",
      "Average Item Weight of all Items for Item Identifier FDM27 is 12.350000\n",
      "Average Item Weight of all Items for Item Identifier NCA29 is 10.500000\n",
      "Average Item Weight of all Items for Item Identifier NCJ43 is 6.635000\n",
      "Average Item Weight of all Items for Item Identifier FDX28 is 6.325000\n",
      "Average Item Weight of all Items for Item Identifier FDW15 is 15.350000\n",
      "Average Item Weight of all Items for Item Identifier FDO20 is 12.850000\n",
      "Average Item Weight of all Items for Item Identifier NCR50 is 20.200000\n",
      "Average Item Weight of all Items for Item Identifier FDN28 is 5.880000\n",
      "Average Item Weight of all Items for Item Identifier FDY13 is 12.100000\n",
      "Average Item Weight of all Items for Item Identifier FDA57 is 18.850000\n",
      "Average Item Weight of all Items for Item Identifier FDB52 is 17.750000\n",
      "Average Item Weight of all Items for Item Identifier FDS07 is 12.350000\n",
      "Average Item Weight of all Items for Item Identifier FDO31 is 6.760000\n",
      "Average Item Weight of all Items for Item Identifier FDP57 is 17.500000\n",
      "Average Item Weight of all Items for Item Identifier FDO21 is 11.600000\n",
      "Average Item Weight of all Items for Item Identifier FDW58 is 20.750000\n",
      "Average Item Weight of all Items for Item Identifier NCL07 is 13.850000\n",
      "Average Item Weight of all Items for Item Identifier FDU12 is 15.500000\n",
      "Average Item Weight of all Items for Item Identifier FDV47 is 17.100000\n",
      "Average Item Weight of all Items for Item Identifier FDU57 is 8.270000\n",
      "Average Item Weight of all Items for Item Identifier FDF02 is 16.200000\n",
      "Average Item Weight of all Items for Item Identifier DRG13 is 17.250000\n",
      "Average Item Weight of all Items for Item Identifier NCN53 is 5.175000\n",
      "Average Item Weight of all Items for Item Identifier FDI15 is 13.800000\n",
      "Average Item Weight of all Items for Item Identifier NCN17 is 11.000000\n",
      "Average Item Weight of all Items for Item Identifier FDN24 is 14.100000\n",
      "Average Item Weight of all Items for Item Identifier DRH11 is 5.980000\n",
      "Average Item Weight of all Items for Item Identifier FDJ15 is 11.350000\n",
      "Average Item Weight of all Items for Item Identifier DRF51 is 15.750000\n",
      "Average Item Weight of all Items for Item Identifier FDO37 is 8.060000\n",
      "Average Item Weight of all Items for Item Identifier FDW10 is 21.200000\n",
      "Average Item Weight of all Items for Item Identifier DRN37 is 9.600000\n",
      "Average Item Weight of all Items for Item Identifier FDA37 is 7.810000\n",
      "Average Item Weight of all Items for Item Identifier FDU35 is 6.440000\n",
      "Average Item Weight of all Items for Item Identifier FDS59 is 14.800000\n",
      "Average Item Weight of all Items for Item Identifier FDL15 is 17.850000\n",
      "Average Item Weight of all Items for Item Identifier FDB28 is 6.615000\n",
      "Average Item Weight of all Items for Item Identifier FDY37 is 17.000000\n",
      "Average Item Weight of all Items for Item Identifier FDP58 is 11.100000\n",
      "Average Item Weight of all Items for Item Identifier FDF58 is 13.300000\n",
      "Average Item Weight of all Items for Item Identifier FDB47 is 8.800000\n",
      "Average Item Weight of all Items for Item Identifier FDV14 is 19.850000\n",
      "Average Item Weight of all Items for Item Identifier FDC23 is 18.000000\n",
      "Average Item Weight of all Items for Item Identifier FDU33 is 7.630000\n",
      "Average Item Weight of all Items for Item Identifier DRO59 is 11.800000\n",
      "Average Item Weight of all Items for Item Identifier FDD48 is 10.395000\n",
      "Average Item Weight of all Items for Item Identifier NCK30 is 14.850000\n",
      "Average Item Weight of all Items for Item Identifier FDW33 is 9.395000\n",
      "Average Item Weight of all Items for Item Identifier FDT37 is 14.150000\n",
      "Average Item Weight of all Items for Item Identifier FDP46 is 15.350000\n",
      "Average Item Weight of all Items for Item Identifier NCC18 is 19.100000\n",
      "Average Item Weight of all Items for Item Identifier FDU07 is 11.100000\n",
      "Average Item Weight of all Items for Item Identifier FDE21 is 12.800000\n",
      "Average Item Weight of all Items for Item Identifier FDX38 is 10.500000\n",
      "Average Item Weight of all Items for Item Identifier FDH48 is 13.500000\n",
      "Average Item Weight of all Items for Item Identifier FDI38 is 13.350000\n",
      "Average Item Weight of all Items for Item Identifier NCX53 is 20.100000\n",
      "Average Item Weight of all Items for Item Identifier NCN30 is 16.350000\n",
      "Average Item Weight of all Items for Item Identifier FDK33 is 17.850000\n",
      "Average Item Weight of all Items for Item Identifier FDU26 is 16.700000\n",
      "Average Item Weight of all Items for Item Identifier FDR39 is 20.350000\n",
      "Average Item Weight of all Items for Item Identifier NCG55 is 16.250000\n",
      "Average Item Weight of all Items for Item Identifier NCC54 is 17.750000\n",
      "Average Item Weight of all Items for Item Identifier FDR33 is 7.310000\n",
      "Average Item Weight of all Items for Item Identifier FDT14 is 10.695000\n",
      "Average Item Weight of all Items for Item Identifier DRL49 is 13.150000\n",
      "Average Item Weight of all Items for Item Identifier NCT30 is 9.100000\n",
      "Average Item Weight of all Items for Item Identifier FDU27 is 18.600000\n",
      "Average Item Weight of all Items for Item Identifier FDS20 is 8.850000\n",
      "Average Item Weight of all Items for Item Identifier FDA07 is 7.550000\n",
      "Average Item Weight of all Items for Item Identifier FDZ51 is 11.300000\n",
      "Average Item Weight of all Items for Item Identifier NCN54 is 20.350000\n",
      "Average Item Weight of all Items for Item Identifier FDR11 is 10.500000\n",
      "Average Item Weight of all Items for Item Identifier NCR42 is 9.105000\n",
      "Average Item Weight of all Items for Item Identifier FDX04 is 19.600000\n",
      "Average Item Weight of all Items for Item Identifier FDN03 is 9.800000\n",
      "Average Item Weight of all Items for Item Identifier FDM03 is 12.650000\n",
      "Average Item Weight of all Items for Item Identifier FDT23 is 7.720000\n",
      "Average Item Weight of all Items for Item Identifier FDB50 is 13.000000\n",
      "Average Item Weight of all Items for Item Identifier NCG54 is 12.100000\n",
      "Average Item Weight of all Items for Item Identifier FDJ52 is 7.145000\n",
      "Average Item Weight of all Items for Item Identifier FDE28 is 9.500000\n",
      "Average Item Weight of all Items for Item Identifier FDA58 is 9.395000\n",
      "Average Item Weight of all Items for Item Identifier DRB01 is 7.390000\n",
      "Average Item Weight of all Items for Item Identifier NCZ29 is 15.000000\n",
      "Average Item Weight of all Items for Item Identifier FDF50 is 4.905000\n",
      "Average Item Weight of all Items for Item Identifier FDT51 is 11.650000\n",
      "Average Item Weight of all Items for Item Identifier FDP40 is 4.555000\n",
      "Average Item Weight of all Items for Item Identifier FDF39 is 14.850000\n",
      "Average Item Weight of all Items for Item Identifier FDQ58 is 7.315000\n",
      "Average Item Weight of all Items for Item Identifier FDA55 is 17.200000\n",
      "Average Item Weight of all Items for Item Identifier FDA19 is 7.520000\n",
      "Average Item Weight of all Items for Item Identifier FDF59 is 12.500000\n",
      "Average Item Weight of all Items for Item Identifier FDJ46 is 11.100000\n",
      "Average Item Weight of all Items for Item Identifier FDC47 is 15.000000\n",
      "Average Item Weight of all Items for Item Identifier FDC22 is 6.890000\n",
      "Average Item Weight of all Items for Item Identifier FDD39 is 16.700000\n",
      "Average Item Weight of all Items for Item Identifier DRE01 is 10.100000\n",
      "Average Item Weight of all Items for Item Identifier NCS30 is 5.945000\n",
      "Average Item Weight of all Items for Item Identifier FDH47 is 13.500000\n",
      "Average Item Weight of all Items for Item Identifier FDP08 is 20.500000\n",
      "Average Item Weight of all Items for Item Identifier NCY42 is 6.380000\n",
      "Average Item Weight of all Items for Item Identifier FDE44 is 14.650000\n",
      "Average Item Weight of all Items for Item Identifier FDJ12 is 8.895000\n",
      "Average Item Weight of all Items for Item Identifier FDV36 is 18.700000\n",
      "Average Item Weight of all Items for Item Identifier NCW41 is 18.000000\n",
      "Average Item Weight of all Items for Item Identifier FDX12 is 18.200000\n",
      "Average Item Weight of all Items for Item Identifier NCY53 is 20.000000\n",
      "Average Item Weight of all Items for Item Identifier NCH42 is 6.860000\n",
      "Average Item Weight of all Items for Item Identifier FDH46 is 6.935000\n",
      "Average Item Weight of all Items for Item Identifier FDV26 is 20.250000\n",
      "Average Item Weight of all Items for Item Identifier DRI03 is 6.030000\n",
      "Average Item Weight of all Items for Item Identifier NCL06 is 14.650000\n",
      "Average Item Weight of all Items for Item Identifier NCO14 is 9.600000\n",
      "Average Item Weight of all Items for Item Identifier FDI08 is 18.200000\n",
      "Average Item Weight of all Items for Item Identifier FDZ14 is 7.710000\n",
      "Average Item Weight of all Items for Item Identifier FDS14 is 7.285000\n",
      "Average Item Weight of all Items for Item Identifier NCK53 is 11.600000\n",
      "Average Item Weight of all Items for Item Identifier FDH56 is 9.800000\n",
      "Average Item Weight of all Items for Item Identifier NCQ30 is 7.725000\n",
      "Average Item Weight of all Items for Item Identifier FDG32 is 19.850000\n",
      "Average Item Weight of all Items for Item Identifier FDK32 is 16.250000\n",
      "Average Item Weight of all Items for Item Identifier FDY48 is 14.000000\n"
     ]
    },
    {
     "name": "stdout",
     "output_type": "stream",
     "text": [
      "Average Item Weight of all Items for Item Identifier NCU06 is 17.600000\n",
      "Average Item Weight of all Items for Item Identifier FDM38 is 5.885000\n",
      "Average Item Weight of all Items for Item Identifier FDT15 is 12.150000\n",
      "Average Item Weight of all Items for Item Identifier NCJ19 is 18.600000\n",
      "Average Item Weight of all Items for Item Identifier NCI06 is 11.300000\n",
      "Average Item Weight of all Items for Item Identifier FDV19 is 14.850000\n",
      "Average Item Weight of all Items for Item Identifier FDQ47 is 7.155000\n",
      "Average Item Weight of all Items for Item Identifier NCW06 is 16.200000\n",
      "Average Item Weight of all Items for Item Identifier FDO16 is 5.480000\n",
      "Average Item Weight of all Items for Item Identifier DRN35 is 8.010000\n",
      "Average Item Weight of all Items for Item Identifier FDV55 is 17.750000\n",
      "Average Item Weight of all Items for Item Identifier FDB03 is 17.750000\n",
      "Average Item Weight of all Items for Item Identifier FDJ32 is 10.695000\n",
      "Average Item Weight of all Items for Item Identifier FDC34 is 16.000000\n",
      "Average Item Weight of all Items for Item Identifier FDG05 is 11.000000\n",
      "Average Item Weight of all Items for Item Identifier NCJ06 is 20.100000\n",
      "Average Item Weight of all Items for Item Identifier FDD23 is 9.500000\n",
      "Average Item Weight of all Items for Item Identifier FDX52 is 11.500000\n",
      "Average Item Weight of all Items for Item Identifier FDO12 is 15.750000\n",
      "Average Item Weight of all Items for Item Identifier FDT35 is 19.850000\n",
      "Average Item Weight of all Items for Item Identifier FDU19 is 8.770000\n",
      "Average Item Weight of all Items for Item Identifier FDY50 is 5.800000\n",
      "Average Item Weight of all Items for Item Identifier FDE57 is 9.600000\n",
      "Average Item Weight of all Items for Item Identifier FDE14 is 13.650000\n",
      "Average Item Weight of all Items for Item Identifier FDG04 is 13.100000\n",
      "Average Item Weight of all Items for Item Identifier FDE52 is nan\n",
      "Average Item Weight of all Items for Item Identifier DRL59 is 16.750000\n",
      "Average Item Weight of all Items for Item Identifier FDI34 is 10.650000\n",
      "Average Item Weight of all Items for Item Identifier FDC58 is 10.195000\n",
      "Average Item Weight of all Items for Item Identifier FDT02 is 12.600000\n",
      "Average Item Weight of all Items for Item Identifier FDH04 is 6.115000\n",
      "Average Item Weight of all Items for Item Identifier FDK46 is 9.600000\n",
      "Average Item Weight of all Items for Item Identifier FDR22 is 19.350000\n",
      "Average Item Weight of all Items for Item Identifier FDH60 is 19.700000\n",
      "Average Item Weight of all Items for Item Identifier FDY39 is 5.305000\n",
      "Average Item Weight of all Items for Item Identifier NCF30 is 17.000000\n",
      "Average Item Weight of all Items for Item Identifier FDN49 is 17.250000\n",
      "Average Item Weight of all Items for Item Identifier DRC24 is 17.850000\n",
      "Average Item Weight of all Items for Item Identifier FDS60 is 20.850000\n",
      "Average Item Weight of all Items for Item Identifier FDZ02 is 6.905000\n",
      "Average Item Weight of all Items for Item Identifier FDW16 is 17.350000\n",
      "Average Item Weight of all Items for Item Identifier NCQ17 is 10.300000\n",
      "Average Item Weight of all Items for Item Identifier NCO53 is 16.200000\n",
      "Average Item Weight of all Items for Item Identifier FDU47 is 12.800000\n",
      "Average Item Weight of all Items for Item Identifier FDK50 is 7.960000\n",
      "Average Item Weight of all Items for Item Identifier NCE42 is 21.100000\n",
      "Average Item Weight of all Items for Item Identifier FDZ09 is 17.600000\n",
      "Average Item Weight of all Items for Item Identifier NCU30 is 5.110000\n",
      "Average Item Weight of all Items for Item Identifier DRG36 is 14.150000\n",
      "Average Item Weight of all Items for Item Identifier NCD31 is 12.100000\n",
      "Average Item Weight of all Items for Item Identifier NCV29 is 11.800000\n",
      "Average Item Weight of all Items for Item Identifier NCP17 is 19.350000\n",
      "Average Item Weight of all Items for Item Identifier DRM49 is 6.110000\n",
      "Average Item Weight of all Items for Item Identifier FDY14 is 10.300000\n",
      "Average Item Weight of all Items for Item Identifier DRI59 is 9.500000\n",
      "Average Item Weight of all Items for Item Identifier FDY01 is 11.800000\n",
      "Average Item Weight of all Items for Item Identifier FDT47 is 5.260000\n",
      "Average Item Weight of all Items for Item Identifier NCS29 is 9.000000\n",
      "Average Item Weight of all Items for Item Identifier NCT53 is 5.400000\n",
      "Average Item Weight of all Items for Item Identifier FDP21 is 7.420000\n",
      "Average Item Weight of all Items for Item Identifier FDD33 is 12.850000\n",
      "Average Item Weight of all Items for Item Identifier DRC49 is 8.670000\n",
      "Average Item Weight of all Items for Item Identifier FDB10 is 10.000000\n",
      "Average Item Weight of all Items for Item Identifier FDS39 is 6.895000\n",
      "Average Item Weight of all Items for Item Identifier NCU29 is 7.685000\n",
      "Average Item Weight of all Items for Item Identifier NCP14 is 8.275000\n",
      "Average Item Weight of all Items for Item Identifier FDC48 is 9.195000\n",
      "Average Item Weight of all Items for Item Identifier FDW14 is 8.300000\n",
      "Average Item Weight of all Items for Item Identifier FDS36 is 8.380000\n",
      "Average Item Weight of all Items for Item Identifier NCA18 is 10.100000\n",
      "Average Item Weight of all Items for Item Identifier FDQ60 is nan\n",
      "Average Item Weight of all Items for Item Identifier FDI36 is 12.500000\n",
      "Average Item Weight of all Items for Item Identifier FDI05 is 8.350000\n",
      "Average Item Weight of all Items for Item Identifier FDS22 is 16.850000\n",
      "Average Item Weight of all Items for Item Identifier FDN40 is 5.880000\n",
      "Average Item Weight of all Items for Item Identifier NCV18 is 6.775000\n",
      "Average Item Weight of all Items for Item Identifier FDP15 is 15.200000\n",
      "Average Item Weight of all Items for Item Identifier NCD55 is 14.000000\n",
      "Average Item Weight of all Items for Item Identifier DRG25 is 10.500000\n",
      "Average Item Weight of all Items for Item Identifier FDN51 is 17.850000\n",
      "Average Item Weight of all Items for Item Identifier FDB46 is 10.500000\n",
      "Average Item Weight of all Items for Item Identifier NCX17 is 21.250000\n",
      "Average Item Weight of all Items for Item Identifier FDH31 is 12.000000\n",
      "Average Item Weight of all Items for Item Identifier FDX13 is 7.725000\n",
      "Average Item Weight of all Items for Item Identifier NCU53 is 5.485000\n",
      "Average Item Weight of all Items for Item Identifier FDD28 is 10.695000\n",
      "Average Item Weight of all Items for Item Identifier FDU43 is 19.350000\n",
      "Average Item Weight of all Items for Item Identifier NCF55 is 6.675000\n",
      "Average Item Weight of all Items for Item Identifier NCW30 is 5.210000\n",
      "Average Item Weight of all Items for Item Identifier NCW05 is 20.250000\n"
     ]
    }
   ],
   "source": [
    "for j in train.Item_Identifier.unique():\n",
    "    avg = train[train['Item_Identifier'] == j]['Item_Weight'].mean(skipna = True)\n",
    "    print(\"Average Item Weight of all Items for Item Identifier %s is %f\" %(j, avg))"
   ]
  },
  {
   "cell_type": "markdown",
   "metadata": {},
   "source": [
    "### We will select second approach i.e. wherever there are missing info of Item Weight for Unique Item Identifier, we will replace those missing info with Mean Value"
   ]
  },
  {
   "cell_type": "code",
   "execution_count": 28,
   "metadata": {},
   "outputs": [],
   "source": [
    "iwvalues = []; iwindex = []\n",
    "\n",
    "for j in train.Item_Identifier.unique():\n",
    "    \n",
    "    avg = train[train['Item_Identifier'] == j]['Item_Weight'].mean(skipna = True)\n",
    "    \n",
    "    result = train[train['Item_Identifier'] == j]['Item_Weight'].fillna(round(avg, 2))\n",
    "    \n",
    "    for k in result.values:\n",
    "        iwvalues.append(k)\n",
    "    for k in result.index:\n",
    "        iwindex.append(k)"
   ]
  },
  {
   "cell_type": "code",
   "execution_count": 29,
   "metadata": {},
   "outputs": [
    {
     "data": {
      "text/plain": [
       "0       9.30\n",
       "831     9.30\n",
       "2599    9.30\n",
       "2643    9.30\n",
       "4874    9.30\n",
       "5413    9.30\n",
       "6696    9.30\n",
       "7543    9.30\n",
       "1       5.92\n",
       "2272    5.92\n",
       "dtype: float64"
      ]
     },
     "execution_count": 29,
     "metadata": {},
     "output_type": "execute_result"
    }
   ],
   "source": [
    "result = pd.Series(iwvalues, index=iwindex)\n",
    "result.head(10)"
   ]
  },
  {
   "cell_type": "code",
   "execution_count": 30,
   "metadata": {},
   "outputs": [],
   "source": [
    "result.sort_index(inplace=True)"
   ]
  },
  {
   "cell_type": "code",
   "execution_count": 31,
   "metadata": {},
   "outputs": [
    {
     "data": {
      "text/plain": [
       "0     9.300\n",
       "1     5.920\n",
       "2    17.500\n",
       "3    19.200\n",
       "4     8.930\n",
       "5    10.395\n",
       "6    13.650\n",
       "7    19.000\n",
       "8    16.200\n",
       "9    19.200\n",
       "dtype: float64"
      ]
     },
     "execution_count": 31,
     "metadata": {},
     "output_type": "execute_result"
    }
   ],
   "source": [
    "result.head(10)"
   ]
  },
  {
   "cell_type": "markdown",
   "metadata": {},
   "source": [
    "### Checking index positions for columns"
   ]
  },
  {
   "cell_type": "code",
   "execution_count": 32,
   "metadata": {
    "scrolled": true
   },
   "outputs": [
    {
     "name": "stdout",
     "output_type": "stream",
     "text": [
      "(0, 'Item_Identifier')\n",
      "(1, 'Item_Weight')\n",
      "(2, 'Item_Fat_Content')\n",
      "(3, 'Item_Visibility')\n",
      "(4, 'Item_Type')\n",
      "(5, 'Item_MRP')\n",
      "(6, 'Outlet_Identifier')\n",
      "(7, 'Outlet_Establishment_Year')\n",
      "(8, 'Outlet_Size')\n",
      "(9, 'Outlet_Location_Type')\n",
      "(10, 'Outlet_Type')\n",
      "(11, 'Item_Outlet_Sales')\n"
     ]
    }
   ],
   "source": [
    "for i in enumerate(train.columns):\n",
    "    print(i)"
   ]
  },
  {
   "cell_type": "markdown",
   "metadata": {},
   "source": [
    "### Drop Original Item Weight Column and Place new same named column containing non null values"
   ]
  },
  {
   "cell_type": "code",
   "execution_count": 33,
   "metadata": {},
   "outputs": [],
   "source": [
    "train.drop('Item_Weight', axis=1, inplace=True)"
   ]
  },
  {
   "cell_type": "code",
   "execution_count": 34,
   "metadata": {},
   "outputs": [],
   "source": [
    "train.insert(1, 'Item_Weight', result.values)"
   ]
  },
  {
   "cell_type": "markdown",
   "metadata": {},
   "source": [
    "### Check Missing Info for Item Weight"
   ]
  },
  {
   "cell_type": "code",
   "execution_count": 35,
   "metadata": {},
   "outputs": [
    {
     "data": {
      "text/plain": [
       "Item_Identifier                 0\n",
       "Item_Weight                     4\n",
       "Item_Fat_Content                0\n",
       "Item_Visibility                 0\n",
       "Item_Type                       0\n",
       "Item_MRP                        0\n",
       "Outlet_Identifier               0\n",
       "Outlet_Establishment_Year       0\n",
       "Outlet_Size                  2410\n",
       "Outlet_Location_Type            0\n",
       "Outlet_Type                     0\n",
       "Item_Outlet_Sales               0\n",
       "dtype: int64"
      ]
     },
     "execution_count": 35,
     "metadata": {},
     "output_type": "execute_result"
    }
   ],
   "source": [
    "train.isnull().sum()"
   ]
  },
  {
   "cell_type": "markdown",
   "metadata": {},
   "source": [
    "### Let's find out which FOUR observations we have missing info"
   ]
  },
  {
   "cell_type": "code",
   "execution_count": 36,
   "metadata": {},
   "outputs": [
    {
     "data": {
      "text/plain": [
       "0    False\n",
       "1    False\n",
       "2    False\n",
       "3    False\n",
       "4    False\n",
       "Name: Item_Weight, dtype: bool"
      ]
     },
     "execution_count": 36,
     "metadata": {},
     "output_type": "execute_result"
    }
   ],
   "source": [
    "f = train['Item_Weight'].isnull()\n",
    "f.head()"
   ]
  },
  {
   "cell_type": "code",
   "execution_count": 37,
   "metadata": {},
   "outputs": [
    {
     "name": "stdout",
     "output_type": "stream",
     "text": [
      "Row Label: 927\n",
      "Item_Identifier                          FDN52\n",
      "Item_Weight                                NaN\n",
      "Item_Fat_Content                       Regular\n",
      "Item_Visibility                       0.130933\n",
      "Item_Type                         Frozen Foods\n",
      "Item_MRP                               86.9198\n",
      "Outlet_Identifier                       OUT027\n",
      "Outlet_Establishment_Year                 1985\n",
      "Outlet_Size                             Medium\n",
      "Outlet_Location_Type                    Tier 3\n",
      "Outlet_Type                  Supermarket Type3\n",
      "Item_Outlet_Sales                      1569.96\n",
      "Name: 927, dtype: object\n",
      "\n",
      "Row Label: 1922\n",
      "Item_Identifier                          FDK57\n",
      "Item_Weight                                NaN\n",
      "Item_Fat_Content                       Low Fat\n",
      "Item_Visibility                      0.0799041\n",
      "Item_Type                          Snack Foods\n",
      "Item_MRP                               120.044\n",
      "Outlet_Identifier                       OUT027\n",
      "Outlet_Establishment_Year                 1985\n",
      "Outlet_Size                             Medium\n",
      "Outlet_Location_Type                    Tier 3\n",
      "Outlet_Type                  Supermarket Type3\n",
      "Item_Outlet_Sales                      4434.23\n",
      "Name: 1922, dtype: object\n",
      "\n",
      "Row Label: 4187\n",
      "Item_Identifier                          FDE52\n",
      "Item_Weight                                NaN\n",
      "Item_Fat_Content                       Regular\n",
      "Item_Visibility                      0.0297421\n",
      "Item_Type                                Dairy\n",
      "Item_MRP                               88.9514\n",
      "Outlet_Identifier                       OUT027\n",
      "Outlet_Establishment_Year                 1985\n",
      "Outlet_Size                             Medium\n",
      "Outlet_Location_Type                    Tier 3\n",
      "Outlet_Type                  Supermarket Type3\n",
      "Item_Outlet_Sales                       3453.5\n",
      "Name: 4187, dtype: object\n",
      "\n",
      "Row Label: 5022\n",
      "Item_Identifier                      FDQ60\n",
      "Item_Weight                            NaN\n",
      "Item_Fat_Content                   Regular\n",
      "Item_Visibility                   0.191501\n",
      "Item_Type                     Baking Goods\n",
      "Item_MRP                            121.21\n",
      "Outlet_Identifier                   OUT019\n",
      "Outlet_Establishment_Year             1985\n",
      "Outlet_Size                          Small\n",
      "Outlet_Location_Type                Tier 1\n",
      "Outlet_Type                  Grocery Store\n",
      "Item_Outlet_Sales                   120.51\n",
      "Name: 5022, dtype: object\n",
      "\n"
     ]
    }
   ],
   "source": [
    "j = train['Item_Weight'].isnull()\n",
    "for i,k in zip(j.index, j.values):\n",
    "    if k == True:\n",
    "        print(\"Row Label:\",i)\n",
    "        print(train.loc[i])\n",
    "        print(\"\")"
   ]
  },
  {
   "cell_type": "markdown",
   "metadata": {},
   "source": [
    "### Drop these 4 Rows"
   ]
  },
  {
   "cell_type": "code",
   "execution_count": 38,
   "metadata": {},
   "outputs": [],
   "source": [
    "j = train['Item_Weight'].isnull()\n",
    "for k, m in zip(j.index, j.values):\n",
    "    if m == True:\n",
    "        train.drop(labels = k, axis=0, inplace=True)"
   ]
  },
  {
   "cell_type": "code",
   "execution_count": 39,
   "metadata": {},
   "outputs": [
    {
     "data": {
      "text/plain": [
       "Item_Identifier                 0\n",
       "Item_Weight                     0\n",
       "Item_Fat_Content                0\n",
       "Item_Visibility                 0\n",
       "Item_Type                       0\n",
       "Item_MRP                        0\n",
       "Outlet_Identifier               0\n",
       "Outlet_Establishment_Year       0\n",
       "Outlet_Size                  2410\n",
       "Outlet_Location_Type            0\n",
       "Outlet_Type                     0\n",
       "Item_Outlet_Sales               0\n",
       "dtype: int64"
      ]
     },
     "execution_count": 39,
     "metadata": {},
     "output_type": "execute_result"
    }
   ],
   "source": [
    "train.isnull().sum()"
   ]
  },
  {
   "cell_type": "markdown",
   "metadata": {},
   "source": [
    "### Missing values handling for Item Visibility same as we have done for Item Weight"
   ]
  },
  {
   "cell_type": "code",
   "execution_count": 40,
   "metadata": {},
   "outputs": [
    {
     "data": {
      "text/html": [
       "<div>\n",
       "<style scoped>\n",
       "    .dataframe tbody tr th:only-of-type {\n",
       "        vertical-align: middle;\n",
       "    }\n",
       "\n",
       "    .dataframe tbody tr th {\n",
       "        vertical-align: top;\n",
       "    }\n",
       "\n",
       "    .dataframe thead th {\n",
       "        text-align: right;\n",
       "    }\n",
       "</style>\n",
       "<table border=\"1\" class=\"dataframe\">\n",
       "  <thead>\n",
       "    <tr style=\"text-align: right;\">\n",
       "      <th></th>\n",
       "      <th>Item_Identifier</th>\n",
       "      <th>Item_Weight</th>\n",
       "      <th>Item_Fat_Content</th>\n",
       "      <th>Item_Visibility</th>\n",
       "      <th>Item_Type</th>\n",
       "      <th>Item_MRP</th>\n",
       "      <th>Outlet_Identifier</th>\n",
       "      <th>Outlet_Establishment_Year</th>\n",
       "      <th>Outlet_Size</th>\n",
       "      <th>Outlet_Location_Type</th>\n",
       "      <th>Outlet_Type</th>\n",
       "      <th>Item_Outlet_Sales</th>\n",
       "    </tr>\n",
       "  </thead>\n",
       "  <tbody>\n",
       "    <tr>\n",
       "      <th>3</th>\n",
       "      <td>FDX07</td>\n",
       "      <td>19.200</td>\n",
       "      <td>Regular</td>\n",
       "      <td>0.0</td>\n",
       "      <td>Fruits and Vegetables</td>\n",
       "      <td>182.0950</td>\n",
       "      <td>OUT010</td>\n",
       "      <td>1998</td>\n",
       "      <td>NaN</td>\n",
       "      <td>Tier 3</td>\n",
       "      <td>Grocery Store</td>\n",
       "      <td>732.3800</td>\n",
       "    </tr>\n",
       "    <tr>\n",
       "      <th>4</th>\n",
       "      <td>NCD19</td>\n",
       "      <td>8.930</td>\n",
       "      <td>Low Fat</td>\n",
       "      <td>0.0</td>\n",
       "      <td>Household</td>\n",
       "      <td>53.8614</td>\n",
       "      <td>OUT013</td>\n",
       "      <td>1987</td>\n",
       "      <td>High</td>\n",
       "      <td>Tier 3</td>\n",
       "      <td>Supermarket Type1</td>\n",
       "      <td>994.7052</td>\n",
       "    </tr>\n",
       "    <tr>\n",
       "      <th>5</th>\n",
       "      <td>FDP36</td>\n",
       "      <td>10.395</td>\n",
       "      <td>Regular</td>\n",
       "      <td>0.0</td>\n",
       "      <td>Baking Goods</td>\n",
       "      <td>51.4008</td>\n",
       "      <td>OUT018</td>\n",
       "      <td>2009</td>\n",
       "      <td>Medium</td>\n",
       "      <td>Tier 3</td>\n",
       "      <td>Supermarket Type2</td>\n",
       "      <td>556.6088</td>\n",
       "    </tr>\n",
       "    <tr>\n",
       "      <th>10</th>\n",
       "      <td>FDY07</td>\n",
       "      <td>11.800</td>\n",
       "      <td>Low Fat</td>\n",
       "      <td>0.0</td>\n",
       "      <td>Fruits and Vegetables</td>\n",
       "      <td>45.5402</td>\n",
       "      <td>OUT049</td>\n",
       "      <td>1999</td>\n",
       "      <td>Medium</td>\n",
       "      <td>Tier 1</td>\n",
       "      <td>Supermarket Type1</td>\n",
       "      <td>1516.0266</td>\n",
       "    </tr>\n",
       "    <tr>\n",
       "      <th>32</th>\n",
       "      <td>FDP33</td>\n",
       "      <td>18.700</td>\n",
       "      <td>Low Fat</td>\n",
       "      <td>0.0</td>\n",
       "      <td>Snack Foods</td>\n",
       "      <td>256.6672</td>\n",
       "      <td>OUT018</td>\n",
       "      <td>2009</td>\n",
       "      <td>Medium</td>\n",
       "      <td>Tier 3</td>\n",
       "      <td>Supermarket Type2</td>\n",
       "      <td>3068.0064</td>\n",
       "    </tr>\n",
       "    <tr>\n",
       "      <th>33</th>\n",
       "      <td>FDO23</td>\n",
       "      <td>17.850</td>\n",
       "      <td>Low Fat</td>\n",
       "      <td>0.0</td>\n",
       "      <td>Breads</td>\n",
       "      <td>93.1436</td>\n",
       "      <td>OUT045</td>\n",
       "      <td>2002</td>\n",
       "      <td>NaN</td>\n",
       "      <td>Tier 2</td>\n",
       "      <td>Supermarket Type1</td>\n",
       "      <td>2174.5028</td>\n",
       "    </tr>\n",
       "    <tr>\n",
       "      <th>46</th>\n",
       "      <td>NCP05</td>\n",
       "      <td>19.600</td>\n",
       "      <td>Low Fat</td>\n",
       "      <td>0.0</td>\n",
       "      <td>Health and Hygiene</td>\n",
       "      <td>153.3024</td>\n",
       "      <td>OUT045</td>\n",
       "      <td>2002</td>\n",
       "      <td>NaN</td>\n",
       "      <td>Tier 2</td>\n",
       "      <td>Supermarket Type1</td>\n",
       "      <td>2428.8384</td>\n",
       "    </tr>\n",
       "    <tr>\n",
       "      <th>60</th>\n",
       "      <td>FDM20</td>\n",
       "      <td>10.000</td>\n",
       "      <td>Low Fat</td>\n",
       "      <td>0.0</td>\n",
       "      <td>Fruits and Vegetables</td>\n",
       "      <td>246.9144</td>\n",
       "      <td>OUT018</td>\n",
       "      <td>2009</td>\n",
       "      <td>Medium</td>\n",
       "      <td>Tier 3</td>\n",
       "      <td>Supermarket Type2</td>\n",
       "      <td>3185.1872</td>\n",
       "    </tr>\n",
       "    <tr>\n",
       "      <th>72</th>\n",
       "      <td>FDH35</td>\n",
       "      <td>18.250</td>\n",
       "      <td>Low Fat</td>\n",
       "      <td>0.0</td>\n",
       "      <td>Starchy Foods</td>\n",
       "      <td>164.7526</td>\n",
       "      <td>OUT045</td>\n",
       "      <td>2002</td>\n",
       "      <td>NaN</td>\n",
       "      <td>Tier 2</td>\n",
       "      <td>Supermarket Type1</td>\n",
       "      <td>4604.6728</td>\n",
       "    </tr>\n",
       "    <tr>\n",
       "      <th>79</th>\n",
       "      <td>FDV25</td>\n",
       "      <td>5.905</td>\n",
       "      <td>Low Fat</td>\n",
       "      <td>0.0</td>\n",
       "      <td>Canned</td>\n",
       "      <td>222.5456</td>\n",
       "      <td>OUT045</td>\n",
       "      <td>2002</td>\n",
       "      <td>NaN</td>\n",
       "      <td>Tier 2</td>\n",
       "      <td>Supermarket Type1</td>\n",
       "      <td>5305.0944</td>\n",
       "    </tr>\n",
       "    <tr>\n",
       "      <th>107</th>\n",
       "      <td>FDG12</td>\n",
       "      <td>6.635</td>\n",
       "      <td>Regular</td>\n",
       "      <td>0.0</td>\n",
       "      <td>Baking Goods</td>\n",
       "      <td>121.3098</td>\n",
       "      <td>OUT045</td>\n",
       "      <td>2002</td>\n",
       "      <td>NaN</td>\n",
       "      <td>Tier 2</td>\n",
       "      <td>Supermarket Type1</td>\n",
       "      <td>2530.7058</td>\n",
       "    </tr>\n",
       "    <tr>\n",
       "      <th>114</th>\n",
       "      <td>FDV11</td>\n",
       "      <td>9.100</td>\n",
       "      <td>Regular</td>\n",
       "      <td>0.0</td>\n",
       "      <td>Breads</td>\n",
       "      <td>173.2054</td>\n",
       "      <td>OUT045</td>\n",
       "      <td>2002</td>\n",
       "      <td>NaN</td>\n",
       "      <td>Tier 2</td>\n",
       "      <td>Supermarket Type1</td>\n",
       "      <td>3151.8972</td>\n",
       "    </tr>\n",
       "    <tr>\n",
       "      <th>144</th>\n",
       "      <td>FDI16</td>\n",
       "      <td>14.000</td>\n",
       "      <td>Regular</td>\n",
       "      <td>0.0</td>\n",
       "      <td>Frozen Foods</td>\n",
       "      <td>53.0640</td>\n",
       "      <td>OUT035</td>\n",
       "      <td>2004</td>\n",
       "      <td>Small</td>\n",
       "      <td>Tier 2</td>\n",
       "      <td>Supermarket Type1</td>\n",
       "      <td>905.4880</td>\n",
       "    </tr>\n",
       "    <tr>\n",
       "      <th>156</th>\n",
       "      <td>FDB36</td>\n",
       "      <td>5.465</td>\n",
       "      <td>Regular</td>\n",
       "      <td>0.0</td>\n",
       "      <td>Baking Goods</td>\n",
       "      <td>132.5626</td>\n",
       "      <td>OUT018</td>\n",
       "      <td>2009</td>\n",
       "      <td>Medium</td>\n",
       "      <td>Tier 3</td>\n",
       "      <td>Supermarket Type2</td>\n",
       "      <td>262.3252</td>\n",
       "    </tr>\n",
       "    <tr>\n",
       "      <th>175</th>\n",
       "      <td>FDR47</td>\n",
       "      <td>17.850</td>\n",
       "      <td>Low Fat</td>\n",
       "      <td>0.0</td>\n",
       "      <td>Breads</td>\n",
       "      <td>196.5794</td>\n",
       "      <td>OUT010</td>\n",
       "      <td>1998</td>\n",
       "      <td>NaN</td>\n",
       "      <td>Tier 3</td>\n",
       "      <td>Grocery Store</td>\n",
       "      <td>585.2382</td>\n",
       "    </tr>\n",
       "    <tr>\n",
       "      <th>212</th>\n",
       "      <td>FDL58</td>\n",
       "      <td>5.780</td>\n",
       "      <td>Regular</td>\n",
       "      <td>0.0</td>\n",
       "      <td>Snack Foods</td>\n",
       "      <td>263.7568</td>\n",
       "      <td>OUT017</td>\n",
       "      <td>2007</td>\n",
       "      <td>NaN</td>\n",
       "      <td>Tier 2</td>\n",
       "      <td>Supermarket Type1</td>\n",
       "      <td>2636.5680</td>\n",
       "    </tr>\n",
       "    <tr>\n",
       "      <th>214</th>\n",
       "      <td>NCZ54</td>\n",
       "      <td>14.650</td>\n",
       "      <td>Low Fat</td>\n",
       "      <td>0.0</td>\n",
       "      <td>Household</td>\n",
       "      <td>161.5552</td>\n",
       "      <td>OUT010</td>\n",
       "      <td>1998</td>\n",
       "      <td>NaN</td>\n",
       "      <td>Tier 3</td>\n",
       "      <td>Grocery Store</td>\n",
       "      <td>324.9104</td>\n",
       "    </tr>\n",
       "    <tr>\n",
       "      <th>216</th>\n",
       "      <td>FDR44</td>\n",
       "      <td>6.110</td>\n",
       "      <td>Regular</td>\n",
       "      <td>0.0</td>\n",
       "      <td>Fruits and Vegetables</td>\n",
       "      <td>131.2968</td>\n",
       "      <td>OUT010</td>\n",
       "      <td>1998</td>\n",
       "      <td>NaN</td>\n",
       "      <td>Tier 3</td>\n",
       "      <td>Grocery Store</td>\n",
       "      <td>260.9936</td>\n",
       "    </tr>\n",
       "    <tr>\n",
       "      <th>219</th>\n",
       "      <td>FDA39</td>\n",
       "      <td>6.320</td>\n",
       "      <td>Low Fat</td>\n",
       "      <td>0.0</td>\n",
       "      <td>Meat</td>\n",
       "      <td>40.2822</td>\n",
       "      <td>OUT035</td>\n",
       "      <td>2004</td>\n",
       "      <td>Small</td>\n",
       "      <td>Tier 2</td>\n",
       "      <td>Supermarket Type1</td>\n",
       "      <td>1139.1838</td>\n",
       "    </tr>\n",
       "    <tr>\n",
       "      <th>228</th>\n",
       "      <td>FDS49</td>\n",
       "      <td>9.000</td>\n",
       "      <td>Low Fat</td>\n",
       "      <td>0.0</td>\n",
       "      <td>Canned</td>\n",
       "      <td>79.7644</td>\n",
       "      <td>OUT035</td>\n",
       "      <td>2004</td>\n",
       "      <td>Small</td>\n",
       "      <td>Tier 2</td>\n",
       "      <td>Supermarket Type1</td>\n",
       "      <td>1649.8524</td>\n",
       "    </tr>\n",
       "    <tr>\n",
       "      <th>307</th>\n",
       "      <td>FDR04</td>\n",
       "      <td>7.075</td>\n",
       "      <td>Low Fat</td>\n",
       "      <td>0.0</td>\n",
       "      <td>Frozen Foods</td>\n",
       "      <td>98.0068</td>\n",
       "      <td>OUT018</td>\n",
       "      <td>2009</td>\n",
       "      <td>Medium</td>\n",
       "      <td>Tier 3</td>\n",
       "      <td>Supermarket Type2</td>\n",
       "      <td>874.8612</td>\n",
       "    </tr>\n",
       "    <tr>\n",
       "      <th>349</th>\n",
       "      <td>FDX25</td>\n",
       "      <td>16.700</td>\n",
       "      <td>Low Fat</td>\n",
       "      <td>0.0</td>\n",
       "      <td>Canned</td>\n",
       "      <td>181.2292</td>\n",
       "      <td>OUT018</td>\n",
       "      <td>2009</td>\n",
       "      <td>Medium</td>\n",
       "      <td>Tier 3</td>\n",
       "      <td>Supermarket Type2</td>\n",
       "      <td>2554.0088</td>\n",
       "    </tr>\n",
       "    <tr>\n",
       "      <th>370</th>\n",
       "      <td>FDZ07</td>\n",
       "      <td>15.100</td>\n",
       "      <td>Regular</td>\n",
       "      <td>0.0</td>\n",
       "      <td>Fruits and Vegetables</td>\n",
       "      <td>60.2194</td>\n",
       "      <td>OUT027</td>\n",
       "      <td>1985</td>\n",
       "      <td>Medium</td>\n",
       "      <td>Tier 3</td>\n",
       "      <td>Supermarket Type3</td>\n",
       "      <td>1733.7432</td>\n",
       "    </tr>\n",
       "    <tr>\n",
       "      <th>379</th>\n",
       "      <td>FDY28</td>\n",
       "      <td>7.470</td>\n",
       "      <td>Regular</td>\n",
       "      <td>0.0</td>\n",
       "      <td>Frozen Foods</td>\n",
       "      <td>214.3218</td>\n",
       "      <td>OUT035</td>\n",
       "      <td>2004</td>\n",
       "      <td>Small</td>\n",
       "      <td>Tier 2</td>\n",
       "      <td>Supermarket Type1</td>\n",
       "      <td>4274.4360</td>\n",
       "    </tr>\n",
       "    <tr>\n",
       "      <th>386</th>\n",
       "      <td>FDC50</td>\n",
       "      <td>15.850</td>\n",
       "      <td>Low Fat</td>\n",
       "      <td>0.0</td>\n",
       "      <td>Canned</td>\n",
       "      <td>96.4094</td>\n",
       "      <td>OUT035</td>\n",
       "      <td>2004</td>\n",
       "      <td>Small</td>\n",
       "      <td>Tier 2</td>\n",
       "      <td>Supermarket Type1</td>\n",
       "      <td>1237.7222</td>\n",
       "    </tr>\n",
       "    <tr>\n",
       "      <th>388</th>\n",
       "      <td>FDP22</td>\n",
       "      <td>14.650</td>\n",
       "      <td>Regular</td>\n",
       "      <td>0.0</td>\n",
       "      <td>Snack Foods</td>\n",
       "      <td>52.6666</td>\n",
       "      <td>OUT027</td>\n",
       "      <td>1985</td>\n",
       "      <td>Medium</td>\n",
       "      <td>Tier 3</td>\n",
       "      <td>Supermarket Type3</td>\n",
       "      <td>717.7324</td>\n",
       "    </tr>\n",
       "    <tr>\n",
       "      <th>411</th>\n",
       "      <td>NCZ42</td>\n",
       "      <td>10.500</td>\n",
       "      <td>Low Fat</td>\n",
       "      <td>0.0</td>\n",
       "      <td>Household</td>\n",
       "      <td>238.3248</td>\n",
       "      <td>OUT010</td>\n",
       "      <td>1998</td>\n",
       "      <td>NaN</td>\n",
       "      <td>Tier 3</td>\n",
       "      <td>Grocery Store</td>\n",
       "      <td>711.0744</td>\n",
       "    </tr>\n",
       "    <tr>\n",
       "      <th>423</th>\n",
       "      <td>FDA27</td>\n",
       "      <td>20.350</td>\n",
       "      <td>Regular</td>\n",
       "      <td>0.0</td>\n",
       "      <td>Dairy</td>\n",
       "      <td>256.7672</td>\n",
       "      <td>OUT018</td>\n",
       "      <td>2009</td>\n",
       "      <td>Medium</td>\n",
       "      <td>Tier 3</td>\n",
       "      <td>Supermarket Type2</td>\n",
       "      <td>5624.6784</td>\n",
       "    </tr>\n",
       "    <tr>\n",
       "      <th>447</th>\n",
       "      <td>DRH15</td>\n",
       "      <td>8.775</td>\n",
       "      <td>Low Fat</td>\n",
       "      <td>0.0</td>\n",
       "      <td>Dairy</td>\n",
       "      <td>45.9428</td>\n",
       "      <td>OUT013</td>\n",
       "      <td>1987</td>\n",
       "      <td>High</td>\n",
       "      <td>Tier 3</td>\n",
       "      <td>Supermarket Type1</td>\n",
       "      <td>790.9704</td>\n",
       "    </tr>\n",
       "    <tr>\n",
       "      <th>472</th>\n",
       "      <td>FDU56</td>\n",
       "      <td>16.850</td>\n",
       "      <td>Low Fat</td>\n",
       "      <td>0.0</td>\n",
       "      <td>Fruits and Vegetables</td>\n",
       "      <td>184.7266</td>\n",
       "      <td>OUT027</td>\n",
       "      <td>1985</td>\n",
       "      <td>Medium</td>\n",
       "      <td>Tier 3</td>\n",
       "      <td>Supermarket Type3</td>\n",
       "      <td>8114.7704</td>\n",
       "    </tr>\n",
       "    <tr>\n",
       "      <th>...</th>\n",
       "      <td>...</td>\n",
       "      <td>...</td>\n",
       "      <td>...</td>\n",
       "      <td>...</td>\n",
       "      <td>...</td>\n",
       "      <td>...</td>\n",
       "      <td>...</td>\n",
       "      <td>...</td>\n",
       "      <td>...</td>\n",
       "      <td>...</td>\n",
       "      <td>...</td>\n",
       "      <td>...</td>\n",
       "    </tr>\n",
       "    <tr>\n",
       "      <th>8053</th>\n",
       "      <td>FDH28</td>\n",
       "      <td>15.850</td>\n",
       "      <td>Regular</td>\n",
       "      <td>0.0</td>\n",
       "      <td>Frozen Foods</td>\n",
       "      <td>37.0506</td>\n",
       "      <td>OUT027</td>\n",
       "      <td>1985</td>\n",
       "      <td>Medium</td>\n",
       "      <td>Tier 3</td>\n",
       "      <td>Supermarket Type3</td>\n",
       "      <td>986.7156</td>\n",
       "    </tr>\n",
       "    <tr>\n",
       "      <th>8070</th>\n",
       "      <td>FDH20</td>\n",
       "      <td>16.100</td>\n",
       "      <td>Regular</td>\n",
       "      <td>0.0</td>\n",
       "      <td>Fruits and Vegetables</td>\n",
       "      <td>98.4410</td>\n",
       "      <td>OUT017</td>\n",
       "      <td>2007</td>\n",
       "      <td>NaN</td>\n",
       "      <td>Tier 2</td>\n",
       "      <td>Supermarket Type1</td>\n",
       "      <td>868.8690</td>\n",
       "    </tr>\n",
       "    <tr>\n",
       "      <th>8071</th>\n",
       "      <td>DRD25</td>\n",
       "      <td>6.135</td>\n",
       "      <td>Low Fat</td>\n",
       "      <td>0.0</td>\n",
       "      <td>Soft Drinks</td>\n",
       "      <td>114.2860</td>\n",
       "      <td>OUT046</td>\n",
       "      <td>1997</td>\n",
       "      <td>Small</td>\n",
       "      <td>Tier 1</td>\n",
       "      <td>Supermarket Type1</td>\n",
       "      <td>2376.9060</td>\n",
       "    </tr>\n",
       "    <tr>\n",
       "      <th>8105</th>\n",
       "      <td>FDH53</td>\n",
       "      <td>20.500</td>\n",
       "      <td>Regular</td>\n",
       "      <td>0.0</td>\n",
       "      <td>Frozen Foods</td>\n",
       "      <td>83.2592</td>\n",
       "      <td>OUT017</td>\n",
       "      <td>2007</td>\n",
       "      <td>NaN</td>\n",
       "      <td>Tier 2</td>\n",
       "      <td>Supermarket Type1</td>\n",
       "      <td>1155.8288</td>\n",
       "    </tr>\n",
       "    <tr>\n",
       "      <th>8148</th>\n",
       "      <td>FDY21</td>\n",
       "      <td>15.100</td>\n",
       "      <td>Low Fat</td>\n",
       "      <td>0.0</td>\n",
       "      <td>Snack Foods</td>\n",
       "      <td>195.2110</td>\n",
       "      <td>OUT013</td>\n",
       "      <td>1987</td>\n",
       "      <td>High</td>\n",
       "      <td>Tier 3</td>\n",
       "      <td>Supermarket Type1</td>\n",
       "      <td>3142.5760</td>\n",
       "    </tr>\n",
       "    <tr>\n",
       "      <th>8149</th>\n",
       "      <td>FDK58</td>\n",
       "      <td>11.350</td>\n",
       "      <td>Regular</td>\n",
       "      <td>0.0</td>\n",
       "      <td>Snack Foods</td>\n",
       "      <td>101.5016</td>\n",
       "      <td>OUT046</td>\n",
       "      <td>1997</td>\n",
       "      <td>Small</td>\n",
       "      <td>Tier 1</td>\n",
       "      <td>Supermarket Type1</td>\n",
       "      <td>202.4032</td>\n",
       "    </tr>\n",
       "    <tr>\n",
       "      <th>8151</th>\n",
       "      <td>FDU35</td>\n",
       "      <td>6.440</td>\n",
       "      <td>Low Fat</td>\n",
       "      <td>0.0</td>\n",
       "      <td>Breads</td>\n",
       "      <td>98.2700</td>\n",
       "      <td>OUT046</td>\n",
       "      <td>1997</td>\n",
       "      <td>Small</td>\n",
       "      <td>Tier 1</td>\n",
       "      <td>Supermarket Type1</td>\n",
       "      <td>2396.8800</td>\n",
       "    </tr>\n",
       "    <tr>\n",
       "      <th>8211</th>\n",
       "      <td>FDZ15</td>\n",
       "      <td>13.100</td>\n",
       "      <td>Low Fat</td>\n",
       "      <td>0.0</td>\n",
       "      <td>Dairy</td>\n",
       "      <td>117.8782</td>\n",
       "      <td>OUT035</td>\n",
       "      <td>2004</td>\n",
       "      <td>Small</td>\n",
       "      <td>Tier 2</td>\n",
       "      <td>Supermarket Type1</td>\n",
       "      <td>2741.0986</td>\n",
       "    </tr>\n",
       "    <tr>\n",
       "      <th>8212</th>\n",
       "      <td>NCK18</td>\n",
       "      <td>9.600</td>\n",
       "      <td>Low Fat</td>\n",
       "      <td>0.0</td>\n",
       "      <td>Household</td>\n",
       "      <td>164.2184</td>\n",
       "      <td>OUT045</td>\n",
       "      <td>2002</td>\n",
       "      <td>NaN</td>\n",
       "      <td>Tier 2</td>\n",
       "      <td>Supermarket Type1</td>\n",
       "      <td>1981.4208</td>\n",
       "    </tr>\n",
       "    <tr>\n",
       "      <th>8247</th>\n",
       "      <td>FDZ32</td>\n",
       "      <td>7.785</td>\n",
       "      <td>Regular</td>\n",
       "      <td>0.0</td>\n",
       "      <td>Fruits and Vegetables</td>\n",
       "      <td>106.4964</td>\n",
       "      <td>OUT013</td>\n",
       "      <td>1987</td>\n",
       "      <td>High</td>\n",
       "      <td>Tier 3</td>\n",
       "      <td>Supermarket Type1</td>\n",
       "      <td>1577.9460</td>\n",
       "    </tr>\n",
       "    <tr>\n",
       "      <th>8253</th>\n",
       "      <td>DRG23</td>\n",
       "      <td>8.880</td>\n",
       "      <td>Low Fat</td>\n",
       "      <td>0.0</td>\n",
       "      <td>Hard Drinks</td>\n",
       "      <td>154.0682</td>\n",
       "      <td>OUT018</td>\n",
       "      <td>2009</td>\n",
       "      <td>Medium</td>\n",
       "      <td>Tier 3</td>\n",
       "      <td>Supermarket Type2</td>\n",
       "      <td>2896.8958</td>\n",
       "    </tr>\n",
       "    <tr>\n",
       "      <th>8260</th>\n",
       "      <td>FDD28</td>\n",
       "      <td>10.695</td>\n",
       "      <td>Low Fat</td>\n",
       "      <td>0.0</td>\n",
       "      <td>Frozen Foods</td>\n",
       "      <td>60.5904</td>\n",
       "      <td>OUT017</td>\n",
       "      <td>2007</td>\n",
       "      <td>NaN</td>\n",
       "      <td>Tier 2</td>\n",
       "      <td>Supermarket Type1</td>\n",
       "      <td>410.1328</td>\n",
       "    </tr>\n",
       "    <tr>\n",
       "      <th>8285</th>\n",
       "      <td>FDB08</td>\n",
       "      <td>6.055</td>\n",
       "      <td>Low Fat</td>\n",
       "      <td>0.0</td>\n",
       "      <td>Fruits and Vegetables</td>\n",
       "      <td>162.3578</td>\n",
       "      <td>OUT035</td>\n",
       "      <td>2004</td>\n",
       "      <td>Small</td>\n",
       "      <td>Tier 2</td>\n",
       "      <td>Supermarket Type1</td>\n",
       "      <td>1604.5780</td>\n",
       "    </tr>\n",
       "    <tr>\n",
       "      <th>8310</th>\n",
       "      <td>FDN39</td>\n",
       "      <td>19.350</td>\n",
       "      <td>Regular</td>\n",
       "      <td>0.0</td>\n",
       "      <td>Meat</td>\n",
       "      <td>169.0816</td>\n",
       "      <td>OUT013</td>\n",
       "      <td>1987</td>\n",
       "      <td>High</td>\n",
       "      <td>Tier 3</td>\n",
       "      <td>Supermarket Type1</td>\n",
       "      <td>3523.4136</td>\n",
       "    </tr>\n",
       "    <tr>\n",
       "      <th>8323</th>\n",
       "      <td>FDH58</td>\n",
       "      <td>12.300</td>\n",
       "      <td>Low Fat</td>\n",
       "      <td>0.0</td>\n",
       "      <td>Snack Foods</td>\n",
       "      <td>116.4834</td>\n",
       "      <td>OUT018</td>\n",
       "      <td>2009</td>\n",
       "      <td>Medium</td>\n",
       "      <td>Tier 3</td>\n",
       "      <td>Supermarket Type2</td>\n",
       "      <td>1842.9344</td>\n",
       "    </tr>\n",
       "    <tr>\n",
       "      <th>8327</th>\n",
       "      <td>FDT24</td>\n",
       "      <td>12.350</td>\n",
       "      <td>Regular</td>\n",
       "      <td>0.0</td>\n",
       "      <td>Baking Goods</td>\n",
       "      <td>75.9328</td>\n",
       "      <td>OUT027</td>\n",
       "      <td>1985</td>\n",
       "      <td>Medium</td>\n",
       "      <td>Tier 3</td>\n",
       "      <td>Supermarket Type3</td>\n",
       "      <td>3012.0792</td>\n",
       "    </tr>\n",
       "    <tr>\n",
       "      <th>8343</th>\n",
       "      <td>FDX31</td>\n",
       "      <td>20.350</td>\n",
       "      <td>Regular</td>\n",
       "      <td>0.0</td>\n",
       "      <td>Fruits and Vegetables</td>\n",
       "      <td>234.7958</td>\n",
       "      <td>OUT019</td>\n",
       "      <td>1985</td>\n",
       "      <td>Small</td>\n",
       "      <td>Tier 1</td>\n",
       "      <td>Grocery Store</td>\n",
       "      <td>467.3916</td>\n",
       "    </tr>\n",
       "    <tr>\n",
       "      <th>8380</th>\n",
       "      <td>FDI19</td>\n",
       "      <td>15.100</td>\n",
       "      <td>Low Fat</td>\n",
       "      <td>0.0</td>\n",
       "      <td>Meat</td>\n",
       "      <td>244.2512</td>\n",
       "      <td>OUT045</td>\n",
       "      <td>2002</td>\n",
       "      <td>NaN</td>\n",
       "      <td>Tier 2</td>\n",
       "      <td>Supermarket Type1</td>\n",
       "      <td>3635.2680</td>\n",
       "    </tr>\n",
       "    <tr>\n",
       "      <th>8395</th>\n",
       "      <td>FDG21</td>\n",
       "      <td>17.350</td>\n",
       "      <td>Regular</td>\n",
       "      <td>0.0</td>\n",
       "      <td>Seafood</td>\n",
       "      <td>150.2050</td>\n",
       "      <td>OUT045</td>\n",
       "      <td>2002</td>\n",
       "      <td>NaN</td>\n",
       "      <td>Tier 2</td>\n",
       "      <td>Supermarket Type1</td>\n",
       "      <td>5992.2000</td>\n",
       "    </tr>\n",
       "    <tr>\n",
       "      <th>8404</th>\n",
       "      <td>DRH39</td>\n",
       "      <td>20.700</td>\n",
       "      <td>Low Fat</td>\n",
       "      <td>0.0</td>\n",
       "      <td>Dairy</td>\n",
       "      <td>75.9670</td>\n",
       "      <td>OUT019</td>\n",
       "      <td>1985</td>\n",
       "      <td>Small</td>\n",
       "      <td>Tier 1</td>\n",
       "      <td>Grocery Store</td>\n",
       "      <td>153.1340</td>\n",
       "    </tr>\n",
       "    <tr>\n",
       "      <th>8410</th>\n",
       "      <td>NCS06</td>\n",
       "      <td>7.935</td>\n",
       "      <td>Low Fat</td>\n",
       "      <td>0.0</td>\n",
       "      <td>Household</td>\n",
       "      <td>263.6910</td>\n",
       "      <td>OUT046</td>\n",
       "      <td>1997</td>\n",
       "      <td>Small</td>\n",
       "      <td>Tier 1</td>\n",
       "      <td>Supermarket Type1</td>\n",
       "      <td>788.9730</td>\n",
       "    </tr>\n",
       "    <tr>\n",
       "      <th>8425</th>\n",
       "      <td>FDQ58</td>\n",
       "      <td>7.315</td>\n",
       "      <td>Low Fat</td>\n",
       "      <td>0.0</td>\n",
       "      <td>Snack Foods</td>\n",
       "      <td>153.7340</td>\n",
       "      <td>OUT035</td>\n",
       "      <td>2004</td>\n",
       "      <td>Small</td>\n",
       "      <td>Tier 2</td>\n",
       "      <td>Supermarket Type1</td>\n",
       "      <td>2756.4120</td>\n",
       "    </tr>\n",
       "    <tr>\n",
       "      <th>8435</th>\n",
       "      <td>FDT48</td>\n",
       "      <td>4.920</td>\n",
       "      <td>Low Fat</td>\n",
       "      <td>0.0</td>\n",
       "      <td>Baking Goods</td>\n",
       "      <td>196.5084</td>\n",
       "      <td>OUT027</td>\n",
       "      <td>1985</td>\n",
       "      <td>Medium</td>\n",
       "      <td>Tier 3</td>\n",
       "      <td>Supermarket Type3</td>\n",
       "      <td>793.6336</td>\n",
       "    </tr>\n",
       "    <tr>\n",
       "      <th>8439</th>\n",
       "      <td>FDN08</td>\n",
       "      <td>7.720</td>\n",
       "      <td>Regular</td>\n",
       "      <td>0.0</td>\n",
       "      <td>Fruits and Vegetables</td>\n",
       "      <td>117.7466</td>\n",
       "      <td>OUT018</td>\n",
       "      <td>2009</td>\n",
       "      <td>Medium</td>\n",
       "      <td>Tier 3</td>\n",
       "      <td>Supermarket Type2</td>\n",
       "      <td>1296.3126</td>\n",
       "    </tr>\n",
       "    <tr>\n",
       "      <th>8467</th>\n",
       "      <td>FDV31</td>\n",
       "      <td>9.800</td>\n",
       "      <td>Low Fat</td>\n",
       "      <td>0.0</td>\n",
       "      <td>Fruits and Vegetables</td>\n",
       "      <td>175.2370</td>\n",
       "      <td>OUT049</td>\n",
       "      <td>1999</td>\n",
       "      <td>Medium</td>\n",
       "      <td>Tier 1</td>\n",
       "      <td>Supermarket Type1</td>\n",
       "      <td>3881.6140</td>\n",
       "    </tr>\n",
       "    <tr>\n",
       "      <th>8480</th>\n",
       "      <td>FDQ58</td>\n",
       "      <td>7.320</td>\n",
       "      <td>Low Fat</td>\n",
       "      <td>0.0</td>\n",
       "      <td>Snack Foods</td>\n",
       "      <td>154.5340</td>\n",
       "      <td>OUT019</td>\n",
       "      <td>1985</td>\n",
       "      <td>Small</td>\n",
       "      <td>Tier 1</td>\n",
       "      <td>Grocery Store</td>\n",
       "      <td>459.4020</td>\n",
       "    </tr>\n",
       "    <tr>\n",
       "      <th>8484</th>\n",
       "      <td>DRJ49</td>\n",
       "      <td>6.865</td>\n",
       "      <td>Low Fat</td>\n",
       "      <td>0.0</td>\n",
       "      <td>Soft Drinks</td>\n",
       "      <td>129.9652</td>\n",
       "      <td>OUT013</td>\n",
       "      <td>1987</td>\n",
       "      <td>High</td>\n",
       "      <td>Tier 3</td>\n",
       "      <td>Supermarket Type1</td>\n",
       "      <td>2324.9736</td>\n",
       "    </tr>\n",
       "    <tr>\n",
       "      <th>8486</th>\n",
       "      <td>FDR20</td>\n",
       "      <td>20.000</td>\n",
       "      <td>Regular</td>\n",
       "      <td>0.0</td>\n",
       "      <td>Fruits and Vegetables</td>\n",
       "      <td>46.4744</td>\n",
       "      <td>OUT010</td>\n",
       "      <td>1998</td>\n",
       "      <td>NaN</td>\n",
       "      <td>Tier 3</td>\n",
       "      <td>Grocery Store</td>\n",
       "      <td>45.2744</td>\n",
       "    </tr>\n",
       "    <tr>\n",
       "      <th>8494</th>\n",
       "      <td>NCI54</td>\n",
       "      <td>15.200</td>\n",
       "      <td>Low Fat</td>\n",
       "      <td>0.0</td>\n",
       "      <td>Household</td>\n",
       "      <td>110.4912</td>\n",
       "      <td>OUT017</td>\n",
       "      <td>2007</td>\n",
       "      <td>NaN</td>\n",
       "      <td>Tier 2</td>\n",
       "      <td>Supermarket Type1</td>\n",
       "      <td>1637.8680</td>\n",
       "    </tr>\n",
       "    <tr>\n",
       "      <th>8500</th>\n",
       "      <td>NCQ42</td>\n",
       "      <td>20.350</td>\n",
       "      <td>Low Fat</td>\n",
       "      <td>0.0</td>\n",
       "      <td>Household</td>\n",
       "      <td>125.1678</td>\n",
       "      <td>OUT017</td>\n",
       "      <td>2007</td>\n",
       "      <td>NaN</td>\n",
       "      <td>Tier 2</td>\n",
       "      <td>Supermarket Type1</td>\n",
       "      <td>1907.5170</td>\n",
       "    </tr>\n",
       "  </tbody>\n",
       "</table>\n",
       "<p>526 rows × 12 columns</p>\n",
       "</div>"
      ],
      "text/plain": [
       "     Item_Identifier  Item_Weight Item_Fat_Content  Item_Visibility  \\\n",
       "3              FDX07       19.200          Regular              0.0   \n",
       "4              NCD19        8.930          Low Fat              0.0   \n",
       "5              FDP36       10.395          Regular              0.0   \n",
       "10             FDY07       11.800          Low Fat              0.0   \n",
       "32             FDP33       18.700          Low Fat              0.0   \n",
       "33             FDO23       17.850          Low Fat              0.0   \n",
       "46             NCP05       19.600          Low Fat              0.0   \n",
       "60             FDM20       10.000          Low Fat              0.0   \n",
       "72             FDH35       18.250          Low Fat              0.0   \n",
       "79             FDV25        5.905          Low Fat              0.0   \n",
       "107            FDG12        6.635          Regular              0.0   \n",
       "114            FDV11        9.100          Regular              0.0   \n",
       "144            FDI16       14.000          Regular              0.0   \n",
       "156            FDB36        5.465          Regular              0.0   \n",
       "175            FDR47       17.850          Low Fat              0.0   \n",
       "212            FDL58        5.780          Regular              0.0   \n",
       "214            NCZ54       14.650          Low Fat              0.0   \n",
       "216            FDR44        6.110          Regular              0.0   \n",
       "219            FDA39        6.320          Low Fat              0.0   \n",
       "228            FDS49        9.000          Low Fat              0.0   \n",
       "307            FDR04        7.075          Low Fat              0.0   \n",
       "349            FDX25       16.700          Low Fat              0.0   \n",
       "370            FDZ07       15.100          Regular              0.0   \n",
       "379            FDY28        7.470          Regular              0.0   \n",
       "386            FDC50       15.850          Low Fat              0.0   \n",
       "388            FDP22       14.650          Regular              0.0   \n",
       "411            NCZ42       10.500          Low Fat              0.0   \n",
       "423            FDA27       20.350          Regular              0.0   \n",
       "447            DRH15        8.775          Low Fat              0.0   \n",
       "472            FDU56       16.850          Low Fat              0.0   \n",
       "...              ...          ...              ...              ...   \n",
       "8053           FDH28       15.850          Regular              0.0   \n",
       "8070           FDH20       16.100          Regular              0.0   \n",
       "8071           DRD25        6.135          Low Fat              0.0   \n",
       "8105           FDH53       20.500          Regular              0.0   \n",
       "8148           FDY21       15.100          Low Fat              0.0   \n",
       "8149           FDK58       11.350          Regular              0.0   \n",
       "8151           FDU35        6.440          Low Fat              0.0   \n",
       "8211           FDZ15       13.100          Low Fat              0.0   \n",
       "8212           NCK18        9.600          Low Fat              0.0   \n",
       "8247           FDZ32        7.785          Regular              0.0   \n",
       "8253           DRG23        8.880          Low Fat              0.0   \n",
       "8260           FDD28       10.695          Low Fat              0.0   \n",
       "8285           FDB08        6.055          Low Fat              0.0   \n",
       "8310           FDN39       19.350          Regular              0.0   \n",
       "8323           FDH58       12.300          Low Fat              0.0   \n",
       "8327           FDT24       12.350          Regular              0.0   \n",
       "8343           FDX31       20.350          Regular              0.0   \n",
       "8380           FDI19       15.100          Low Fat              0.0   \n",
       "8395           FDG21       17.350          Regular              0.0   \n",
       "8404           DRH39       20.700          Low Fat              0.0   \n",
       "8410           NCS06        7.935          Low Fat              0.0   \n",
       "8425           FDQ58        7.315          Low Fat              0.0   \n",
       "8435           FDT48        4.920          Low Fat              0.0   \n",
       "8439           FDN08        7.720          Regular              0.0   \n",
       "8467           FDV31        9.800          Low Fat              0.0   \n",
       "8480           FDQ58        7.320          Low Fat              0.0   \n",
       "8484           DRJ49        6.865          Low Fat              0.0   \n",
       "8486           FDR20       20.000          Regular              0.0   \n",
       "8494           NCI54       15.200          Low Fat              0.0   \n",
       "8500           NCQ42       20.350          Low Fat              0.0   \n",
       "\n",
       "                  Item_Type  Item_MRP Outlet_Identifier  \\\n",
       "3     Fruits and Vegetables  182.0950            OUT010   \n",
       "4                 Household   53.8614            OUT013   \n",
       "5              Baking Goods   51.4008            OUT018   \n",
       "10    Fruits and Vegetables   45.5402            OUT049   \n",
       "32              Snack Foods  256.6672            OUT018   \n",
       "33                   Breads   93.1436            OUT045   \n",
       "46       Health and Hygiene  153.3024            OUT045   \n",
       "60    Fruits and Vegetables  246.9144            OUT018   \n",
       "72            Starchy Foods  164.7526            OUT045   \n",
       "79                   Canned  222.5456            OUT045   \n",
       "107            Baking Goods  121.3098            OUT045   \n",
       "114                  Breads  173.2054            OUT045   \n",
       "144            Frozen Foods   53.0640            OUT035   \n",
       "156            Baking Goods  132.5626            OUT018   \n",
       "175                  Breads  196.5794            OUT010   \n",
       "212             Snack Foods  263.7568            OUT017   \n",
       "214               Household  161.5552            OUT010   \n",
       "216   Fruits and Vegetables  131.2968            OUT010   \n",
       "219                    Meat   40.2822            OUT035   \n",
       "228                  Canned   79.7644            OUT035   \n",
       "307            Frozen Foods   98.0068            OUT018   \n",
       "349                  Canned  181.2292            OUT018   \n",
       "370   Fruits and Vegetables   60.2194            OUT027   \n",
       "379            Frozen Foods  214.3218            OUT035   \n",
       "386                  Canned   96.4094            OUT035   \n",
       "388             Snack Foods   52.6666            OUT027   \n",
       "411               Household  238.3248            OUT010   \n",
       "423                   Dairy  256.7672            OUT018   \n",
       "447                   Dairy   45.9428            OUT013   \n",
       "472   Fruits and Vegetables  184.7266            OUT027   \n",
       "...                     ...       ...               ...   \n",
       "8053           Frozen Foods   37.0506            OUT027   \n",
       "8070  Fruits and Vegetables   98.4410            OUT017   \n",
       "8071            Soft Drinks  114.2860            OUT046   \n",
       "8105           Frozen Foods   83.2592            OUT017   \n",
       "8148            Snack Foods  195.2110            OUT013   \n",
       "8149            Snack Foods  101.5016            OUT046   \n",
       "8151                 Breads   98.2700            OUT046   \n",
       "8211                  Dairy  117.8782            OUT035   \n",
       "8212              Household  164.2184            OUT045   \n",
       "8247  Fruits and Vegetables  106.4964            OUT013   \n",
       "8253            Hard Drinks  154.0682            OUT018   \n",
       "8260           Frozen Foods   60.5904            OUT017   \n",
       "8285  Fruits and Vegetables  162.3578            OUT035   \n",
       "8310                   Meat  169.0816            OUT013   \n",
       "8323            Snack Foods  116.4834            OUT018   \n",
       "8327           Baking Goods   75.9328            OUT027   \n",
       "8343  Fruits and Vegetables  234.7958            OUT019   \n",
       "8380                   Meat  244.2512            OUT045   \n",
       "8395                Seafood  150.2050            OUT045   \n",
       "8404                  Dairy   75.9670            OUT019   \n",
       "8410              Household  263.6910            OUT046   \n",
       "8425            Snack Foods  153.7340            OUT035   \n",
       "8435           Baking Goods  196.5084            OUT027   \n",
       "8439  Fruits and Vegetables  117.7466            OUT018   \n",
       "8467  Fruits and Vegetables  175.2370            OUT049   \n",
       "8480            Snack Foods  154.5340            OUT019   \n",
       "8484            Soft Drinks  129.9652            OUT013   \n",
       "8486  Fruits and Vegetables   46.4744            OUT010   \n",
       "8494              Household  110.4912            OUT017   \n",
       "8500              Household  125.1678            OUT017   \n",
       "\n",
       "      Outlet_Establishment_Year Outlet_Size Outlet_Location_Type  \\\n",
       "3                          1998         NaN               Tier 3   \n",
       "4                          1987        High               Tier 3   \n",
       "5                          2009      Medium               Tier 3   \n",
       "10                         1999      Medium               Tier 1   \n",
       "32                         2009      Medium               Tier 3   \n",
       "33                         2002         NaN               Tier 2   \n",
       "46                         2002         NaN               Tier 2   \n",
       "60                         2009      Medium               Tier 3   \n",
       "72                         2002         NaN               Tier 2   \n",
       "79                         2002         NaN               Tier 2   \n",
       "107                        2002         NaN               Tier 2   \n",
       "114                        2002         NaN               Tier 2   \n",
       "144                        2004       Small               Tier 2   \n",
       "156                        2009      Medium               Tier 3   \n",
       "175                        1998         NaN               Tier 3   \n",
       "212                        2007         NaN               Tier 2   \n",
       "214                        1998         NaN               Tier 3   \n",
       "216                        1998         NaN               Tier 3   \n",
       "219                        2004       Small               Tier 2   \n",
       "228                        2004       Small               Tier 2   \n",
       "307                        2009      Medium               Tier 3   \n",
       "349                        2009      Medium               Tier 3   \n",
       "370                        1985      Medium               Tier 3   \n",
       "379                        2004       Small               Tier 2   \n",
       "386                        2004       Small               Tier 2   \n",
       "388                        1985      Medium               Tier 3   \n",
       "411                        1998         NaN               Tier 3   \n",
       "423                        2009      Medium               Tier 3   \n",
       "447                        1987        High               Tier 3   \n",
       "472                        1985      Medium               Tier 3   \n",
       "...                         ...         ...                  ...   \n",
       "8053                       1985      Medium               Tier 3   \n",
       "8070                       2007         NaN               Tier 2   \n",
       "8071                       1997       Small               Tier 1   \n",
       "8105                       2007         NaN               Tier 2   \n",
       "8148                       1987        High               Tier 3   \n",
       "8149                       1997       Small               Tier 1   \n",
       "8151                       1997       Small               Tier 1   \n",
       "8211                       2004       Small               Tier 2   \n",
       "8212                       2002         NaN               Tier 2   \n",
       "8247                       1987        High               Tier 3   \n",
       "8253                       2009      Medium               Tier 3   \n",
       "8260                       2007         NaN               Tier 2   \n",
       "8285                       2004       Small               Tier 2   \n",
       "8310                       1987        High               Tier 3   \n",
       "8323                       2009      Medium               Tier 3   \n",
       "8327                       1985      Medium               Tier 3   \n",
       "8343                       1985       Small               Tier 1   \n",
       "8380                       2002         NaN               Tier 2   \n",
       "8395                       2002         NaN               Tier 2   \n",
       "8404                       1985       Small               Tier 1   \n",
       "8410                       1997       Small               Tier 1   \n",
       "8425                       2004       Small               Tier 2   \n",
       "8435                       1985      Medium               Tier 3   \n",
       "8439                       2009      Medium               Tier 3   \n",
       "8467                       1999      Medium               Tier 1   \n",
       "8480                       1985       Small               Tier 1   \n",
       "8484                       1987        High               Tier 3   \n",
       "8486                       1998         NaN               Tier 3   \n",
       "8494                       2007         NaN               Tier 2   \n",
       "8500                       2007         NaN               Tier 2   \n",
       "\n",
       "            Outlet_Type  Item_Outlet_Sales  \n",
       "3         Grocery Store           732.3800  \n",
       "4     Supermarket Type1           994.7052  \n",
       "5     Supermarket Type2           556.6088  \n",
       "10    Supermarket Type1          1516.0266  \n",
       "32    Supermarket Type2          3068.0064  \n",
       "33    Supermarket Type1          2174.5028  \n",
       "46    Supermarket Type1          2428.8384  \n",
       "60    Supermarket Type2          3185.1872  \n",
       "72    Supermarket Type1          4604.6728  \n",
       "79    Supermarket Type1          5305.0944  \n",
       "107   Supermarket Type1          2530.7058  \n",
       "114   Supermarket Type1          3151.8972  \n",
       "144   Supermarket Type1           905.4880  \n",
       "156   Supermarket Type2           262.3252  \n",
       "175       Grocery Store           585.2382  \n",
       "212   Supermarket Type1          2636.5680  \n",
       "214       Grocery Store           324.9104  \n",
       "216       Grocery Store           260.9936  \n",
       "219   Supermarket Type1          1139.1838  \n",
       "228   Supermarket Type1          1649.8524  \n",
       "307   Supermarket Type2           874.8612  \n",
       "349   Supermarket Type2          2554.0088  \n",
       "370   Supermarket Type3          1733.7432  \n",
       "379   Supermarket Type1          4274.4360  \n",
       "386   Supermarket Type1          1237.7222  \n",
       "388   Supermarket Type3           717.7324  \n",
       "411       Grocery Store           711.0744  \n",
       "423   Supermarket Type2          5624.6784  \n",
       "447   Supermarket Type1           790.9704  \n",
       "472   Supermarket Type3          8114.7704  \n",
       "...                 ...                ...  \n",
       "8053  Supermarket Type3           986.7156  \n",
       "8070  Supermarket Type1           868.8690  \n",
       "8071  Supermarket Type1          2376.9060  \n",
       "8105  Supermarket Type1          1155.8288  \n",
       "8148  Supermarket Type1          3142.5760  \n",
       "8149  Supermarket Type1           202.4032  \n",
       "8151  Supermarket Type1          2396.8800  \n",
       "8211  Supermarket Type1          2741.0986  \n",
       "8212  Supermarket Type1          1981.4208  \n",
       "8247  Supermarket Type1          1577.9460  \n",
       "8253  Supermarket Type2          2896.8958  \n",
       "8260  Supermarket Type1           410.1328  \n",
       "8285  Supermarket Type1          1604.5780  \n",
       "8310  Supermarket Type1          3523.4136  \n",
       "8323  Supermarket Type2          1842.9344  \n",
       "8327  Supermarket Type3          3012.0792  \n",
       "8343      Grocery Store           467.3916  \n",
       "8380  Supermarket Type1          3635.2680  \n",
       "8395  Supermarket Type1          5992.2000  \n",
       "8404      Grocery Store           153.1340  \n",
       "8410  Supermarket Type1           788.9730  \n",
       "8425  Supermarket Type1          2756.4120  \n",
       "8435  Supermarket Type3           793.6336  \n",
       "8439  Supermarket Type2          1296.3126  \n",
       "8467  Supermarket Type1          3881.6140  \n",
       "8480      Grocery Store           459.4020  \n",
       "8484  Supermarket Type1          2324.9736  \n",
       "8486      Grocery Store            45.2744  \n",
       "8494  Supermarket Type1          1637.8680  \n",
       "8500  Supermarket Type1          1907.5170  \n",
       "\n",
       "[526 rows x 12 columns]"
      ]
     },
     "execution_count": 40,
     "metadata": {},
     "output_type": "execute_result"
    }
   ],
   "source": [
    "train[train['Item_Visibility'] == 0]"
   ]
  },
  {
   "cell_type": "code",
   "execution_count": 41,
   "metadata": {},
   "outputs": [],
   "source": [
    "train['Item_Visibility'].replace(0.0, np.NaN, inplace = True)"
   ]
  },
  {
   "cell_type": "code",
   "execution_count": 42,
   "metadata": {},
   "outputs": [
    {
     "data": {
      "text/plain": [
       "Item_Identifier                 0\n",
       "Item_Weight                     0\n",
       "Item_Fat_Content                0\n",
       "Item_Visibility               526\n",
       "Item_Type                       0\n",
       "Item_MRP                        0\n",
       "Outlet_Identifier               0\n",
       "Outlet_Establishment_Year       0\n",
       "Outlet_Size                  2410\n",
       "Outlet_Location_Type            0\n",
       "Outlet_Type                     0\n",
       "Item_Outlet_Sales               0\n",
       "dtype: int64"
      ]
     },
     "execution_count": 42,
     "metadata": {},
     "output_type": "execute_result"
    }
   ],
   "source": [
    "train.isnull().sum()"
   ]
  },
  {
   "cell_type": "code",
   "execution_count": 43,
   "metadata": {},
   "outputs": [
    {
     "name": "stdout",
     "output_type": "stream",
     "text": [
      "Average Item Visibility of all Items for Item Type Dairy is 0.076774\n",
      "Average Item Visibility of all Items for Item Type Soft Drinks is 0.069264\n",
      "Average Item Visibility of all Items for Item Type Meat is 0.065360\n",
      "Average Item Visibility of all Items for Item Type Fruits and Vegetables is 0.073719\n",
      "Average Item Visibility of all Items for Item Type Household is 0.064963\n",
      "Average Item Visibility of all Items for Item Type Baking Goods is 0.074137\n",
      "Average Item Visibility of all Items for Item Type Snack Foods is 0.070858\n",
      "Average Item Visibility of all Items for Item Type Frozen Foods is 0.069728\n",
      "Average Item Visibility of all Items for Item Type Breakfast is 0.088126\n",
      "Average Item Visibility of all Items for Item Type Health and Hygiene is 0.058958\n",
      "Average Item Visibility of all Items for Item Type Hard Drinks is 0.070547\n",
      "Average Item Visibility of all Items for Item Type Canned is 0.071779\n",
      "Average Item Visibility of all Items for Item Type Breads is 0.071069\n",
      "Average Item Visibility of all Items for Item Type Starchy Foods is 0.075184\n",
      "Average Item Visibility of all Items for Item Type Others is 0.064030\n",
      "Average Item Visibility of all Items for Item Type Seafood is 0.079974\n"
     ]
    }
   ],
   "source": [
    "for j in train.Item_Type.unique():\n",
    "    avg = train[train['Item_Type'] == j]['Item_Visibility'].mean(skipna = True)\n",
    "    print(\"Average Item Visibility of all Items for Item Type %s is %f\" %(j, avg))"
   ]
  },
  {
   "cell_type": "code",
   "execution_count": 44,
   "metadata": {},
   "outputs": [
    {
     "name": "stdout",
     "output_type": "stream",
     "text": [
      "Average Item Visibility of all Items for Item Identifier FDA15 is 0.017387\n",
      "Average Item Visibility of all Items for Item Identifier DRC01 is 0.019219\n",
      "Average Item Visibility of all Items for Item Identifier FDN15 is 0.020145\n",
      "Average Item Visibility of all Items for Item Identifier FDX07 is 0.022911\n",
      "Average Item Visibility of all Items for Item Identifier NCD19 is 0.016164\n",
      "Average Item Visibility of all Items for Item Identifier FDP36 is 0.091392\n",
      "Average Item Visibility of all Items for Item Identifier FDO10 is 0.014183\n",
      "Average Item Visibility of all Items for Item Identifier FDP10 is 0.128152\n",
      "Average Item Visibility of all Items for Item Identifier FDH17 is 0.018459\n",
      "Average Item Visibility of all Items for Item Identifier FDU28 is 0.108114\n",
      "Average Item Visibility of all Items for Item Identifier FDY07 is 0.121880\n",
      "Average Item Visibility of all Items for Item Identifier FDA03 is 0.051553\n",
      "Average Item Visibility of all Items for Item Identifier FDX32 is 0.112573\n",
      "Average Item Visibility of all Items for Item Identifier FDS46 is 0.054461\n",
      "Average Item Visibility of all Items for Item Identifier FDF32 is 0.083399\n",
      "Average Item Visibility of all Items for Item Identifier FDP49 is 0.077711\n",
      "Average Item Visibility of all Items for Item Identifier NCB42 is 0.008570\n",
      "Average Item Visibility of all Items for Item Identifier DRI11 is 0.041419\n",
      "Average Item Visibility of all Items for Item Identifier FDU02 is 0.113628\n",
      "Average Item Visibility of all Items for Item Identifier FDN22 is 0.138683\n",
      "Average Item Visibility of all Items for Item Identifier FDW12 is 0.039014\n",
      "Average Item Visibility of all Items for Item Identifier NCB30 is 0.030929\n",
      "Average Item Visibility of all Items for Item Identifier FDC37 is 0.041109\n",
      "Average Item Visibility of all Items for Item Identifier FDR28 is 0.025954\n",
      "Average Item Visibility of all Items for Item Identifier NCD06 is 0.099533\n",
      "Average Item Visibility of all Items for Item Identifier FDV10 is 0.083523\n",
      "Average Item Visibility of all Items for Item Identifier DRJ59 is 0.021993\n",
      "Average Item Visibility of all Items for Item Identifier FDE51 is 0.116098\n",
      "Average Item Visibility of all Items for Item Identifier FDC14 is 0.049653\n",
      "Average Item Visibility of all Items for Item Identifier FDV38 is 0.117968\n",
      "Average Item Visibility of all Items for Item Identifier NCS17 is 0.080592\n",
      "Average Item Visibility of all Items for Item Identifier FDP33 is 0.102678\n",
      "Average Item Visibility of all Items for Item Identifier FDO23 is 0.164846\n",
      "Average Item Visibility of all Items for Item Identifier DRH01 is 0.112662\n",
      "Average Item Visibility of all Items for Item Identifier NCX29 is 0.105121\n",
      "Average Item Visibility of all Items for Item Identifier FDV20 is 0.071970\n",
      "Average Item Visibility of all Items for Item Identifier DRZ11 is 0.112808\n",
      "Average Item Visibility of all Items for Item Identifier FDX10 is 0.123798\n",
      "Average Item Visibility of all Items for Item Identifier FDB34 is 0.029203\n",
      "Average Item Visibility of all Items for Item Identifier FDK43 is 0.030256\n",
      "Average Item Visibility of all Items for Item Identifier FDA46 is 0.117702\n",
      "Average Item Visibility of all Items for Item Identifier FDC02 is 0.076531\n",
      "Average Item Visibility of all Items for Item Identifier FDL50 is 0.042424\n",
      "Average Item Visibility of all Items for Item Identifier FDM39 is 0.060676\n",
      "Average Item Visibility of all Items for Item Identifier NCP05 is 0.028135\n",
      "Average Item Visibility of all Items for Item Identifier FDV49 is 0.025838\n",
      "Average Item Visibility of all Items for Item Identifier FDL12 is 0.139756\n",
      "Average Item Visibility of all Items for Item Identifier FDS02 is 0.173512\n",
      "Average Item Visibility of all Items for Item Identifier NCL17 is 0.067941\n",
      "Average Item Visibility of all Items for Item Identifier FDM40 is 0.159870\n",
      "Average Item Visibility of all Items for Item Identifier FDR13 is 0.028767\n",
      "Average Item Visibility of all Items for Item Identifier FDA43 is 0.073444\n",
      "Average Item Visibility of all Items for Item Identifier NCP18 is 0.028632\n",
      "Average Item Visibility of all Items for Item Identifier FDK21 is 0.010986\n",
      "Average Item Visibility of all Items for Item Identifier NCX54 is 0.052715\n",
      "Average Item Visibility of all Items for Item Identifier DRK35 is 0.084679\n",
      "Average Item Visibility of all Items for Item Identifier FDY21 is 0.205925\n",
      "Average Item Visibility of all Items for Item Identifier FDI26 is 0.038670\n",
      "Average Item Visibility of all Items for Item Identifier FDM20 is 0.038748\n",
      "Average Item Visibility of all Items for Item Identifier FDV27 is 0.050102\n",
      "Average Item Visibility of all Items for Item Identifier FDF09 is 0.012153\n",
      "Average Item Visibility of all Items for Item Identifier FDY40 is 0.106343\n",
      "Average Item Visibility of all Items for Item Identifier FDY45 is 0.026186\n",
      "Average Item Visibility of all Items for Item Identifier FDC46 is 0.127783\n",
      "Average Item Visibility of all Items for Item Identifier FDH19 is 0.036656\n",
      "Average Item Visibility of all Items for Item Identifier FDZ03 is 0.092129\n",
      "Average Item Visibility of all Items for Item Identifier DRH37 is 0.046881\n",
      "Average Item Visibility of all Items for Item Identifier NCI17 is 0.143568\n",
      "Average Item Visibility of all Items for Item Identifier FDJ58 is 0.124098\n",
      "Average Item Visibility of all Items for Item Identifier FDH35 is 0.068386\n",
      "Average Item Visibility of all Items for Item Identifier FDG02 is 0.012963\n",
      "Average Item Visibility of all Items for Item Identifier NCZ18 is 0.209585\n",
      "Average Item Visibility of all Items for Item Identifier FDC29 is 0.024224\n",
      "Average Item Visibility of all Items for Item Identifier FDQ10 is 0.036747\n",
      "Average Item Visibility of all Items for Item Identifier FDN48 is 0.074719\n",
      "Average Item Visibility of all Items for Item Identifier FDL04 is 0.111949\n",
      "Average Item Visibility of all Items for Item Identifier FDV25 is 0.054277\n",
      "Average Item Visibility of all Items for Item Identifier FDD58 is 0.066830\n",
      "Average Item Visibility of all Items for Item Identifier FDN04 is 0.014101\n",
      "Average Item Visibility of all Items for Item Identifier FDV45 is 0.049892\n",
      "Average Item Visibility of all Items for Item Identifier NCL18 is 0.185806\n",
      "Average Item Visibility of all Items for Item Identifier FDR12 is 0.035513\n",
      "Average Item Visibility of all Items for Item Identifier FDG20 is 0.142921\n",
      "Average Item Visibility of all Items for Item Identifier FDZ55 is 0.025437\n",
      "Average Item Visibility of all Items for Item Identifier FDQ49 is 0.045142\n",
      "Average Item Visibility of all Items for Item Identifier FDN33 is 0.122989\n",
      "Average Item Visibility of all Items for Item Identifier FDN27 is 0.039517\n",
      "Average Item Visibility of all Items for Item Identifier FDW20 is 0.028182\n",
      "Average Item Visibility of all Items for Item Identifier DRG27 is 0.124936\n",
      "Average Item Visibility of all Items for Item Identifier DRI25 is 0.037182\n",
      "Average Item Visibility of all Items for Item Identifier FDA44 is 0.057755\n",
      "Average Item Visibility of all Items for Item Identifier NCR17 is 0.024407\n",
      "Average Item Visibility of all Items for Item Identifier FDU04 is 0.006940\n",
      "Average Item Visibility of all Items for Item Identifier FDF41 is 0.131365\n",
      "Average Item Visibility of all Items for Item Identifier FDB56 is 0.074710\n",
      "Average Item Visibility of all Items for Item Identifier FDT28 is 0.063653\n",
      "Average Item Visibility of all Items for Item Identifier FDD10 is 0.051235\n",
      "Average Item Visibility of all Items for Item Identifier FDW57 is 0.116062\n",
      "Average Item Visibility of all Items for Item Identifier DRB48 is 0.027650\n",
      "Average Item Visibility of all Items for Item Identifier FDP09 is 0.038983\n",
      "Average Item Visibility of all Items for Item Identifier FDH14 is 0.056391\n",
      "Average Item Visibility of all Items for Item Identifier FDA47 is 0.116768\n",
      "Average Item Visibility of all Items for Item Identifier FDG12 is 0.006336\n",
      "Average Item Visibility of all Items for Item Identifier DRE60 is 0.179493\n",
      "Average Item Visibility of all Items for Item Identifier DRK49 is 0.035952\n",
      "Average Item Visibility of all Items for Item Identifier FDD03 is 0.079945\n",
      "Average Item Visibility of all Items for Item Identifier FDS52 is 0.006454\n",
      "Average Item Visibility of all Items for Item Identifier FDW39 is 0.042446\n",
      "Average Item Visibility of all Items for Item Identifier FDX34 is 0.072017\n",
      "Average Item Visibility of all Items for Item Identifier FDV11 is 0.100047\n"
     ]
    },
    {
     "name": "stdout",
     "output_type": "stream",
     "text": [
      "Average Item Visibility of all Items for Item Identifier FDD17 is 0.036337\n",
      "Average Item Visibility of all Items for Item Identifier FDZ16 is 0.197807\n",
      "Average Item Visibility of all Items for Item Identifier FDZ46 is 0.069315\n",
      "Average Item Visibility of all Items for Item Identifier DRA12 is 0.047934\n",
      "Average Item Visibility of all Items for Item Identifier FDY58 is 0.040069\n",
      "Average Item Visibility of all Items for Item Identifier NCF19 is 0.040410\n",
      "Average Item Visibility of all Items for Item Identifier DRJ13 is 0.070065\n",
      "Average Item Visibility of all Items for Item Identifier FDB14 is 0.114278\n",
      "Average Item Visibility of all Items for Item Identifier FDJ38 is 0.040274\n",
      "Average Item Visibility of all Items for Item Identifier FDW11 is 0.048837\n",
      "Average Item Visibility of all Items for Item Identifier FDL40 is 0.012918\n",
      "Average Item Visibility of all Items for Item Identifier DRI49 is 0.183779\n",
      "Average Item Visibility of all Items for Item Identifier DRG23 is 0.086748\n",
      "Average Item Visibility of all Items for Item Identifier NCP30 is 0.032787\n",
      "Average Item Visibility of all Items for Item Identifier FDY25 is 0.034002\n",
      "Average Item Visibility of all Items for Item Identifier NCH54 is 0.089912\n",
      "Average Item Visibility of all Items for Item Identifier NCR53 is 0.179376\n",
      "Average Item Visibility of all Items for Item Identifier NCO26 is 0.076961\n",
      "Average Item Visibility of all Items for Item Identifier FDB51 is 0.038523\n",
      "Average Item Visibility of all Items for Item Identifier FDX44 is 0.043005\n",
      "Average Item Visibility of all Items for Item Identifier NCN07 is 0.037244\n",
      "Average Item Visibility of all Items for Item Identifier NCC31 is 0.024342\n",
      "Average Item Visibility of all Items for Item Identifier NCO55 is 0.117000\n",
      "Average Item Visibility of all Items for Item Identifier NCC30 is 0.031299\n",
      "Average Item Visibility of all Items for Item Identifier FDI16 is 0.154029\n",
      "Average Item Visibility of all Items for Item Identifier FDP16 is 0.044679\n",
      "Average Item Visibility of all Items for Item Identifier FDB11 is 0.060948\n",
      "Average Item Visibility of all Items for Item Identifier NCB06 is 0.093424\n",
      "Average Item Visibility of all Items for Item Identifier FDA45 is 0.155387\n",
      "Average Item Visibility of all Items for Item Identifier DRJ25 is 0.151069\n",
      "Average Item Visibility of all Items for Item Identifier FDI04 is 0.080736\n",
      "Average Item Visibility of all Items for Item Identifier DRK12 is 0.041931\n",
      "Average Item Visibility of all Items for Item Identifier FDX20 is 0.046146\n",
      "Average Item Visibility of all Items for Item Identifier NCI18 is 0.014044\n",
      "Average Item Visibility of all Items for Item Identifier FDB36 is 0.048545\n",
      "Average Item Visibility of all Items for Item Identifier FDN13 is 0.171301\n",
      "Average Item Visibility of all Items for Item Identifier DRD24 is 0.033784\n",
      "Average Item Visibility of all Items for Item Identifier FDQ28 is 0.060427\n",
      "Average Item Visibility of all Items for Item Identifier FDM22 is 0.049772\n",
      "Average Item Visibility of all Items for Item Identifier FDR07 is 0.105419\n",
      "Average Item Visibility of all Items for Item Identifier DRF49 is 0.080061\n",
      "Average Item Visibility of all Items for Item Identifier FDW51 is 0.105392\n",
      "Average Item Visibility of all Items for Item Identifier DRL01 is 0.092894\n",
      "Average Item Visibility of all Items for Item Identifier FDP25 is 0.024584\n",
      "Average Item Visibility of all Items for Item Identifier NCM43 is 0.023438\n",
      "Average Item Visibility of all Items for Item Identifier FDK44 is 0.122309\n",
      "Average Item Visibility of all Items for Item Identifier FDM15 is 0.057470\n",
      "Average Item Visibility of all Items for Item Identifier FDS31 is 0.044196\n",
      "Average Item Visibility of all Items for Item Identifier FDI32 is 0.215652\n",
      "Average Item Visibility of all Items for Item Identifier FDR47 is 0.087610\n",
      "Average Item Visibility of all Items for Item Identifier FDB35 is 0.072823\n",
      "Average Item Visibility of all Items for Item Identifier NCU05 is 0.065358\n",
      "Average Item Visibility of all Items for Item Identifier DRY23 is 0.122789\n",
      "Average Item Visibility of all Items for Item Identifier FDO24 is 0.195892\n",
      "Average Item Visibility of all Items for Item Identifier FDV39 is 0.007293\n",
      "Average Item Visibility of all Items for Item Identifier NCO17 is 0.082642\n",
      "Average Item Visibility of all Items for Item Identifier FDU50 is 0.075224\n",
      "Average Item Visibility of all Items for Item Identifier FDT12 is 0.054441\n",
      "Average Item Visibility of all Items for Item Identifier FDK58 is 0.050627\n",
      "Average Item Visibility of all Items for Item Identifier FDO08 is 0.069148\n",
      "Average Item Visibility of all Items for Item Identifier NCW29 is 0.032502\n",
      "Average Item Visibility of all Items for Item Identifier FDE04 is 0.020067\n",
      "Average Item Visibility of all Items for Item Identifier NCB19 is 0.101629\n",
      "Average Item Visibility of all Items for Item Identifier FDV15 is 0.164622\n",
      "Average Item Visibility of all Items for Item Identifier FDL58 is 0.081357\n",
      "Average Item Visibility of all Items for Item Identifier FDA08 is 0.056370\n",
      "Average Item Visibility of all Items for Item Identifier FDT43 is 0.022564\n",
      "Average Item Visibility of all Items for Item Identifier NCX06 is 0.018058\n",
      "Average Item Visibility of all Items for Item Identifier FDT20 is 0.041380\n",
      "Average Item Visibility of all Items for Item Identifier FDB41 is 0.120515\n",
      "Average Item Visibility of all Items for Item Identifier NCN55 is 0.059689\n",
      "Average Item Visibility of all Items for Item Identifier FDE40 is 0.117825\n",
      "Average Item Visibility of all Items for Item Identifier FDX49 is 0.101869\n",
      "Average Item Visibility of all Items for Item Identifier NCM53 is 0.052179\n",
      "Average Item Visibility of all Items for Item Identifier FDE36 is 0.041882\n",
      "Average Item Visibility of all Items for Item Identifier FDN57 is 0.060072\n",
      "Average Item Visibility of all Items for Item Identifier FDI24 is 0.090509\n",
      "Average Item Visibility of all Items for Item Identifier FDI19 is 0.059331\n",
      "Average Item Visibility of all Items for Item Identifier FDF24 is 0.028246\n",
      "Average Item Visibility of all Items for Item Identifier FDG52 is 0.065628\n",
      "Average Item Visibility of all Items for Item Identifier DRF36 is 0.026236\n",
      "Average Item Visibility of all Items for Item Identifier FDS45 is 0.035544\n",
      "Average Item Visibility of all Items for Item Identifier FDX40 is 0.122612\n",
      "Average Item Visibility of all Items for Item Identifier DRC27 is 0.064754\n",
      "Average Item Visibility of all Items for Item Identifier NCD30 is 0.026865\n",
      "Average Item Visibility of all Items for Item Identifier NCZ54 is 0.093831\n",
      "Average Item Visibility of all Items for Item Identifier FDE10 is 0.102194\n",
      "Average Item Visibility of all Items for Item Identifier FDR44 is 0.103043\n",
      "Average Item Visibility of all Items for Item Identifier FDP28 is 0.087556\n",
      "Average Item Visibility of all Items for Item Identifier FDX15 is 0.156293\n",
      "Average Item Visibility of all Items for Item Identifier FDA39 is 0.013952\n",
      "Average Item Visibility of all Items for Item Identifier FDY24 is 0.156140\n",
      "Average Item Visibility of all Items for Item Identifier FDC60 is 0.155406\n",
      "Average Item Visibility of all Items for Item Identifier FDH28 is 0.122040\n",
      "Average Item Visibility of all Items for Item Identifier FDT25 is 0.050840\n",
      "Average Item Visibility of all Items for Item Identifier NCO07 is 0.011625\n",
      "Average Item Visibility of all Items for Item Identifier DRF27 is 0.031104\n",
      "Average Item Visibility of all Items for Item Identifier FDS49 is 0.079562\n",
      "Average Item Visibility of all Items for Item Identifier FDX25 is 0.102072\n",
      "Average Item Visibility of all Items for Item Identifier NCX42 is 0.006621\n",
      "Average Item Visibility of all Items for Item Identifier FDG33 is 0.160324\n",
      "Average Item Visibility of all Items for Item Identifier FDL56 is 0.141526\n",
      "Average Item Visibility of all Items for Item Identifier FDF14 is 0.027231\n",
      "Average Item Visibility of all Items for Item Identifier DRM47 is 0.048711\n",
      "Average Item Visibility of all Items for Item Identifier FDX21 is 0.100125\n",
      "Average Item Visibility of all Items for Item Identifier NCR38 is 0.127896\n",
      "Average Item Visibility of all Items for Item Identifier NCR18 is 0.020514\n",
      "Average Item Visibility of all Items for Item Identifier NCU41 is 0.052062\n",
      "Average Item Visibility of all Items for Item Identifier FDY56 is 0.073570\n"
     ]
    },
    {
     "name": "stdout",
     "output_type": "stream",
     "text": [
      "Average Item Visibility of all Items for Item Identifier DRJ51 is 0.088140\n",
      "Average Item Visibility of all Items for Item Identifier FDU44 is 0.065798\n",
      "Average Item Visibility of all Items for Item Identifier FDL43 is 0.027070\n",
      "Average Item Visibility of all Items for Item Identifier FDF05 is 0.026896\n",
      "Average Item Visibility of all Items for Item Identifier DRF15 is 0.041572\n",
      "Average Item Visibility of all Items for Item Identifier FDL20 is 0.142341\n",
      "Average Item Visibility of all Items for Item Identifier FDV32 is 0.100004\n",
      "Average Item Visibility of all Items for Item Identifier FDJ34 is 0.093743\n",
      "Average Item Visibility of all Items for Item Identifier FDG08 is 0.186236\n",
      "Average Item Visibility of all Items for Item Identifier FDQ04 is 0.125046\n",
      "Average Item Visibility of all Items for Item Identifier FDW13 is 0.111903\n",
      "Average Item Visibility of all Items for Item Identifier FDY03 is 0.089736\n",
      "Average Item Visibility of all Items for Item Identifier FDS12 is 0.215715\n",
      "Average Item Visibility of all Items for Item Identifier FDJ55 is 0.025529\n",
      "Average Item Visibility of all Items for Item Identifier DRK01 is 0.061225\n",
      "Average Item Visibility of all Items for Item Identifier FDG28 is 0.049420\n",
      "Average Item Visibility of all Items for Item Identifier FDY38 is 0.137274\n",
      "Average Item Visibility of all Items for Item Identifier FDN01 is 0.089623\n",
      "Average Item Visibility of all Items for Item Identifier NCR54 is 0.107672\n",
      "Average Item Visibility of all Items for Item Identifier FDG29 is 0.056305\n",
      "Average Item Visibility of all Items for Item Identifier FDG24 is 0.014645\n",
      "Average Item Visibility of all Items for Item Identifier FDG59 is 0.043283\n",
      "Average Item Visibility of all Items for Item Identifier FDM28 is 0.055958\n",
      "Average Item Visibility of all Items for Item Identifier FDW04 is 0.057886\n",
      "Average Item Visibility of all Items for Item Identifier FDS26 is 0.101553\n",
      "Average Item Visibility of all Items for Item Identifier FDQ56 is 0.115758\n",
      "Average Item Visibility of all Items for Item Identifier FDK51 is 0.005740\n",
      "Average Item Visibility of all Items for Item Identifier FDL22 is 0.036408\n",
      "Average Item Visibility of all Items for Item Identifier FDY55 is 0.081428\n",
      "Average Item Visibility of all Items for Item Identifier FDZ10 is 0.054991\n",
      "Average Item Visibility of all Items for Item Identifier FDZ32 is 0.047755\n",
      "Average Item Visibility of all Items for Item Identifier NCF07 is 0.032056\n",
      "Average Item Visibility of all Items for Item Identifier DRE49 is 0.023333\n",
      "Average Item Visibility of all Items for Item Identifier FDJ08 is 0.127587\n",
      "Average Item Visibility of all Items for Item Identifier FDT39 is 0.011216\n",
      "Average Item Visibility of all Items for Item Identifier FDE08 is 0.063380\n",
      "Average Item Visibility of all Items for Item Identifier FDB57 is 0.018804\n",
      "Average Item Visibility of all Items for Item Identifier NCT54 is 0.119781\n",
      "Average Item Visibility of all Items for Item Identifier FDM25 is 0.067518\n",
      "Average Item Visibility of all Items for Item Identifier FDF20 is 0.036939\n",
      "Average Item Visibility of all Items for Item Identifier FDH27 is 0.068829\n",
      "Average Item Visibility of all Items for Item Identifier FDV60 is 0.138383\n",
      "Average Item Visibility of all Items for Item Identifier FDY59 is 0.031392\n",
      "Average Item Visibility of all Items for Item Identifier FDK36 is 0.007215\n",
      "Average Item Visibility of all Items for Item Identifier NCM31 is 0.081435\n",
      "Average Item Visibility of all Items for Item Identifier FDE33 is 0.059763\n",
      "Average Item Visibility of all Items for Item Identifier FDU36 is 0.052097\n",
      "Average Item Visibility of all Items for Item Identifier FDV13 is 0.027611\n",
      "Average Item Visibility of all Items for Item Identifier NCQ54 is 0.014235\n",
      "Average Item Visibility of all Items for Item Identifier DRP47 is 0.140828\n",
      "Average Item Visibility of all Items for Item Identifier FDB21 is 0.148950\n",
      "Average Item Visibility of all Items for Item Identifier FDR04 is 0.024751\n",
      "Average Item Visibility of all Items for Item Identifier FDX23 is 0.033069\n",
      "Average Item Visibility of all Items for Item Identifier FDX19 is 0.096904\n",
      "Average Item Visibility of all Items for Item Identifier FDD40 is 0.014788\n",
      "Average Item Visibility of all Items for Item Identifier FDA01 is 0.059665\n",
      "Average Item Visibility of all Items for Item Identifier FDS33 is 0.136731\n",
      "Average Item Visibility of all Items for Item Identifier FDM50 is 0.030091\n",
      "Average Item Visibility of all Items for Item Identifier FDB29 is 0.052519\n",
      "Average Item Visibility of all Items for Item Identifier FDF46 is 0.107788\n",
      "Average Item Visibility of all Items for Item Identifier FDA33 is 0.033961\n",
      "Average Item Visibility of all Items for Item Identifier FDC08 is 0.115094\n",
      "Average Item Visibility of all Items for Item Identifier FDB53 is 0.139570\n",
      "Average Item Visibility of all Items for Item Identifier FDY31 is 0.043609\n",
      "Average Item Visibility of all Items for Item Identifier DRQ35 is 0.042336\n",
      "Average Item Visibility of all Items for Item Identifier FDX36 is 0.142273\n",
      "Average Item Visibility of all Items for Item Identifier DRD13 is 0.049132\n",
      "Average Item Visibility of all Items for Item Identifier FDC52 is 0.009848\n",
      "Average Item Visibility of all Items for Item Identifier FDB45 is 0.024023\n",
      "Average Item Visibility of all Items for Item Identifier NCK19 is 0.100701\n",
      "Average Item Visibility of all Items for Item Identifier FDV51 is 0.036215\n",
      "Average Item Visibility of all Items for Item Identifier FDZ35 is 0.022303\n",
      "Average Item Visibility of all Items for Item Identifier NCW17 is 0.019382\n",
      "Average Item Visibility of all Items for Item Identifier FDV59 is 0.056139\n",
      "Average Item Visibility of all Items for Item Identifier DRH39 is 0.092726\n",
      "Average Item Visibility of all Items for Item Identifier FDN60 is 0.105457\n",
      "Average Item Visibility of all Items for Item Identifier FDU55 is 0.035937\n",
      "Average Item Visibility of all Items for Item Identifier FDN58 is 0.056870\n",
      "Average Item Visibility of all Items for Item Identifier FDC41 is 0.140734\n",
      "Average Item Visibility of all Items for Item Identifier FDO01 is 0.020730\n",
      "Average Item Visibility of all Items for Item Identifier NCO43 is 0.047203\n",
      "Average Item Visibility of all Items for Item Identifier FDQ07 is 0.087456\n",
      "Average Item Visibility of all Items for Item Identifier FDF28 is 0.037875\n",
      "Average Item Visibility of all Items for Item Identifier FDM01 is 0.094628\n",
      "Average Item Visibility of all Items for Item Identifier FDY49 is 0.013145\n",
      "Average Item Visibility of all Items for Item Identifier FDR24 is 0.062875\n",
      "Average Item Visibility of all Items for Item Identifier NCY18 is 0.033510\n",
      "Average Item Visibility of all Items for Item Identifier NCY30 is 0.025960\n",
      "Average Item Visibility of all Items for Item Identifier FDJ22 is 0.058520\n",
      "Average Item Visibility of all Items for Item Identifier DRI37 is 0.119797\n",
      "Average Item Visibility of all Items for Item Identifier FDL27 is 0.010651\n",
      "Average Item Visibility of all Items for Item Identifier NCO30 is 0.017714\n",
      "Average Item Visibility of all Items for Item Identifier NCB07 is 0.094831\n",
      "Average Item Visibility of all Items for Item Identifier FDP59 is 0.064089\n",
      "Average Item Visibility of all Items for Item Identifier FDR59 is 0.069269\n",
      "Average Item Visibility of all Items for Item Identifier FDT27 is 0.069534\n",
      "Average Item Visibility of all Items for Item Identifier DRI01 is 0.039096\n",
      "Average Item Visibility of all Items for Item Identifier FDU09 is 0.066488\n",
      "Average Item Visibility of all Items for Item Identifier FDH26 is 0.034709\n",
      "Average Item Visibility of all Items for Item Identifier FDN39 is 0.074358\n",
      "Average Item Visibility of all Items for Item Identifier FDH40 is 0.087847\n",
      "Average Item Visibility of all Items for Item Identifier FDJ56 is 0.211107\n",
      "Average Item Visibility of all Items for Item Identifier DRN47 is 0.018255\n",
      "Average Item Visibility of all Items for Item Identifier FDX60 is 0.080676\n",
      "Average Item Visibility of all Items for Item Identifier FDT22 is 0.112156\n",
      "Average Item Visibility of all Items for Item Identifier FDX26 is 0.108697\n",
      "Average Item Visibility of all Items for Item Identifier FDG45 is 0.145461\n",
      "Average Item Visibility of all Items for Item Identifier FDD44 is 0.078574\n",
      "Average Item Visibility of all Items for Item Identifier FDS15 is 0.086936\n",
      "Average Item Visibility of all Items for Item Identifier FDL51 is 0.047544\n"
     ]
    },
    {
     "name": "stdout",
     "output_type": "stream",
     "text": [
      "Average Item Visibility of all Items for Item Identifier FDL32 is 0.166306\n",
      "Average Item Visibility of all Items for Item Identifier FDZ07 is 0.138528\n",
      "Average Item Visibility of all Items for Item Identifier NCW53 is 0.033799\n",
      "Average Item Visibility of all Items for Item Identifier NCA54 is 0.042825\n",
      "Average Item Visibility of all Items for Item Identifier FDX09 is 0.073412\n",
      "Average Item Visibility of all Items for Item Identifier FDO51 is 0.041960\n",
      "Average Item Visibility of all Items for Item Identifier FDW49 is 0.090361\n",
      "Average Item Visibility of all Items for Item Identifier FDB27 is 0.061597\n",
      "Average Item Visibility of all Items for Item Identifier FDF45 is 0.012235\n",
      "Average Item Visibility of all Items for Item Identifier FDV02 is 0.060570\n",
      "Average Item Visibility of all Items for Item Identifier FDY28 is 0.181051\n",
      "Average Item Visibility of all Items for Item Identifier FDX31 is 0.016261\n",
      "Average Item Visibility of all Items for Item Identifier FDR43 is 0.175127\n",
      "Average Item Visibility of all Items for Item Identifier FDP51 is 0.106734\n",
      "Average Item Visibility of all Items for Item Identifier FDL52 is 0.057072\n",
      "Average Item Visibility of all Items for Item Identifier FDC50 is 0.151984\n",
      "Average Item Visibility of all Items for Item Identifier FDT57 is 0.021177\n",
      "Average Item Visibility of all Items for Item Identifier FDP22 is 0.099392\n",
      "Average Item Visibility of all Items for Item Identifier FDY32 is 0.190704\n",
      "Average Item Visibility of all Items for Item Identifier FDW07 is 0.156496\n",
      "Average Item Visibility of all Items for Item Identifier NCF18 is 0.100981\n",
      "Average Item Visibility of all Items for Item Identifier FDG35 is 0.008361\n",
      "Average Item Visibility of all Items for Item Identifier FDY34 is 0.012637\n",
      "Average Item Visibility of all Items for Item Identifier NCE19 is 0.102962\n",
      "Average Item Visibility of all Items for Item Identifier NCK31 is 0.027041\n",
      "Average Item Visibility of all Items for Item Identifier NCJ29 is 0.035203\n",
      "Average Item Visibility of all Items for Item Identifier FDT59 is 0.015933\n",
      "Average Item Visibility of all Items for Item Identifier NCX41 is 0.020407\n",
      "Average Item Visibility of all Items for Item Identifier FDU45 is 0.042142\n",
      "Average Item Visibility of all Items for Item Identifier FDW24 is 0.044164\n",
      "Average Item Visibility of all Items for Item Identifier FDF22 is 0.061705\n",
      "Average Item Visibility of all Items for Item Identifier FDM60 is 0.048234\n",
      "Average Item Visibility of all Items for Item Identifier FDR02 is 0.024229\n",
      "Average Item Visibility of all Items for Item Identifier DRP35 is 0.099416\n",
      "Average Item Visibility of all Items for Item Identifier FDS48 is 0.034348\n",
      "Average Item Visibility of all Items for Item Identifier NCZ42 is 0.011305\n",
      "Average Item Visibility of all Items for Item Identifier FDZ38 is 0.009008\n",
      "Average Item Visibility of all Items for Item Identifier NCB55 is 0.160875\n",
      "Average Item Visibility of all Items for Item Identifier FDC15 is 0.208450\n",
      "Average Item Visibility of all Items for Item Identifier FDF11 is 0.017677\n",
      "Average Item Visibility of all Items for Item Identifier FDW35 is 0.012501\n",
      "Average Item Visibility of all Items for Item Identifier FDB44 is 0.016943\n",
      "Average Item Visibility of all Items for Item Identifier NCC06 is 0.027029\n",
      "Average Item Visibility of all Items for Item Identifier FDB17 is 0.043219\n",
      "Average Item Visibility of all Items for Item Identifier FDW43 is 0.022461\n",
      "Average Item Visibility of all Items for Item Identifier FDA27 is 0.030999\n",
      "Average Item Visibility of all Items for Item Identifier FDN32 is 0.015569\n",
      "Average Item Visibility of all Items for Item Identifier FDZ27 is 0.017192\n",
      "Average Item Visibility of all Items for Item Identifier FDW23 is 0.092311\n",
      "Average Item Visibility of all Items for Item Identifier FDU01 is 0.014249\n",
      "Average Item Visibility of all Items for Item Identifier FDF10 is 0.157072\n",
      "Average Item Visibility of all Items for Item Identifier DRH03 is 0.043422\n",
      "Average Item Visibility of all Items for Item Identifier FDW27 is 0.169803\n",
      "Average Item Visibility of all Items for Item Identifier DRI13 is 0.020372\n",
      "Average Item Visibility of all Items for Item Identifier NCR05 is 0.054677\n",
      "Average Item Visibility of all Items for Item Identifier FDI35 is 0.041310\n",
      "Average Item Visibility of all Items for Item Identifier FDX08 is 0.026033\n",
      "Average Item Visibility of all Items for Item Identifier NCJ18 is 0.179669\n",
      "Average Item Visibility of all Items for Item Identifier FDJ41 is 0.025486\n",
      "Average Item Visibility of all Items for Item Identifier FDU08 is 0.027303\n",
      "Average Item Visibility of all Items for Item Identifier FDS09 is 0.096368\n",
      "Average Item Visibility of all Items for Item Identifier DRH15 is 0.137570\n",
      "Average Item Visibility of all Items for Item Identifier NCV17 is 0.016136\n",
      "Average Item Visibility of all Items for Item Identifier NCO54 is 0.015628\n",
      "Average Item Visibility of all Items for Item Identifier FDE24 is 0.104063\n",
      "Average Item Visibility of all Items for Item Identifier FDH53 is 0.022449\n",
      "Average Item Visibility of all Items for Item Identifier FDZ13 is 0.153946\n",
      "Average Item Visibility of all Items for Item Identifier FDW28 is 0.098803\n",
      "Average Item Visibility of all Items for Item Identifier FDU46 is 0.012203\n",
      "Average Item Visibility of all Items for Item Identifier NCE43 is 0.117395\n",
      "Average Item Visibility of all Items for Item Identifier NCC42 is 0.044939\n",
      "Average Item Visibility of all Items for Item Identifier FDQ20 is 0.029796\n",
      "Average Item Visibility of all Items for Item Identifier FDA13 is 0.086001\n",
      "Average Item Visibility of all Items for Item Identifier FDZ15 is 0.020883\n",
      "Average Item Visibility of all Items for Item Identifier NCV42 is 0.038555\n",
      "Average Item Visibility of all Items for Item Identifier DRI51 is 0.047974\n",
      "Average Item Visibility of all Items for Item Identifier FDO28 is 0.083093\n",
      "Average Item Visibility of all Items for Item Identifier NCS54 is 0.010958\n",
      "Average Item Visibility of all Items for Item Identifier FDH16 is 0.052571\n",
      "Average Item Visibility of all Items for Item Identifier FDR52 is 0.089643\n",
      "Average Item Visibility of all Items for Item Identifier NCH06 is 0.086977\n",
      "Average Item Visibility of all Items for Item Identifier FDA36 is 0.006725\n",
      "Average Item Visibility of all Items for Item Identifier FDU56 is 0.044396\n",
      "Average Item Visibility of all Items for Item Identifier FDT09 is 0.013807\n",
      "Average Item Visibility of all Items for Item Identifier FDU25 is 0.026713\n",
      "Average Item Visibility of all Items for Item Identifier FDK41 is 0.127580\n",
      "Average Item Visibility of all Items for Item Identifier FDM24 is 0.079340\n",
      "Average Item Visibility of all Items for Item Identifier FDQ45 is 0.012544\n",
      "Average Item Visibility of all Items for Item Identifier DRK59 is 0.085688\n",
      "Average Item Visibility of all Items for Item Identifier FDR21 is 0.073391\n",
      "Average Item Visibility of all Items for Item Identifier FDT44 is 0.103249\n",
      "Average Item Visibility of all Items for Item Identifier FDX14 is 0.089143\n",
      "Average Item Visibility of all Items for Item Identifier FDH57 is 0.039220\n",
      "Average Item Visibility of all Items for Item Identifier NCT41 is 0.064410\n",
      "Average Item Visibility of all Items for Item Identifier FDO11 is 0.035338\n",
      "Average Item Visibility of all Items for Item Identifier NCP42 is 0.018573\n",
      "Average Item Visibility of all Items for Item Identifier FDN09 is 0.039562\n",
      "Average Item Visibility of all Items for Item Identifier FDP32 is 0.087823\n",
      "Average Item Visibility of all Items for Item Identifier FDV57 is 0.065917\n",
      "Average Item Visibility of all Items for Item Identifier FDR56 is 0.100928\n",
      "Average Item Visibility of all Items for Item Identifier FDA40 is 0.099394\n",
      "Average Item Visibility of all Items for Item Identifier NCG42 is 0.041284\n",
      "Average Item Visibility of all Items for Item Identifier NCK54 is 0.029511\n",
      "Average Item Visibility of all Items for Item Identifier FDE16 is 0.031737\n",
      "Average Item Visibility of all Items for Item Identifier FDB15 is 0.150180\n",
      "Average Item Visibility of all Items for Item Identifier FDC40 is 0.065197\n",
      "Average Item Visibility of all Items for Item Identifier FDE53 is 0.030518\n",
      "Average Item Visibility of all Items for Item Identifier FDK24 is 0.116446\n",
      "Average Item Visibility of all Items for Item Identifier FDW31 is 0.043211\n",
      "Average Item Visibility of all Items for Item Identifier NCM07 is 0.043740\n",
      "Average Item Visibility of all Items for Item Identifier DRN36 is 0.059559\n",
      "Average Item Visibility of all Items for Item Identifier FDQ37 is 0.101185\n",
      "Average Item Visibility of all Items for Item Identifier FDK28 is 0.074493\n",
      "Average Item Visibility of all Items for Item Identifier FDL48 is 0.090201\n",
      "Average Item Visibility of all Items for Item Identifier DRL23 is 0.015314\n",
      "Average Item Visibility of all Items for Item Identifier DRD37 is 0.015199\n",
      "Average Item Visibility of all Items for Item Identifier FDZ47 is 0.079228\n",
      "Average Item Visibility of all Items for Item Identifier NCJ54 is 0.060021\n",
      "Average Item Visibility of all Items for Item Identifier FDD08 is 0.035386\n",
      "Average Item Visibility of all Items for Item Identifier NCN18 is 0.124728\n",
      "Average Item Visibility of all Items for Item Identifier NCI29 is 0.035403\n",
      "Average Item Visibility of all Items for Item Identifier NCE06 is 0.117535\n",
      "Average Item Visibility of all Items for Item Identifier FDU52 is 0.075762\n",
      "Average Item Visibility of all Items for Item Identifier FDN16 is 0.062806\n",
      "Average Item Visibility of all Items for Item Identifier NCM55 is 0.081747\n",
      "Average Item Visibility of all Items for Item Identifier FDR49 is 0.162816\n",
      "Average Item Visibility of all Items for Item Identifier FDA16 is 0.033931\n",
      "Average Item Visibility of all Items for Item Identifier FDO19 is 0.017998\n",
      "Average Item Visibility of all Items for Item Identifier FDO04 is 0.026530\n",
      "Average Item Visibility of all Items for Item Identifier NCL19 is 0.015684\n",
      "Average Item Visibility of all Items for Item Identifier FDR60 is 0.130499\n",
      "Average Item Visibility of all Items for Item Identifier FDV37 is 0.092861\n"
     ]
    },
    {
     "name": "stdout",
     "output_type": "stream",
     "text": [
      "Average Item Visibility of all Items for Item Identifier FDG53 is 0.051085\n",
      "Average Item Visibility of all Items for Item Identifier DRG01 is 0.051565\n",
      "Average Item Visibility of all Items for Item Identifier FDB38 is 0.027340\n",
      "Average Item Visibility of all Items for Item Identifier FDI27 is 0.045967\n",
      "Average Item Visibility of all Items for Item Identifier FDD29 is 0.019974\n",
      "Average Item Visibility of all Items for Item Identifier NCR41 is 0.018049\n",
      "Average Item Visibility of all Items for Item Identifier FDW44 is 0.039148\n",
      "Average Item Visibility of all Items for Item Identifier FDU21 is 0.084987\n",
      "Average Item Visibility of all Items for Item Identifier FDI14 is 0.089784\n",
      "Average Item Visibility of all Items for Item Identifier FDW50 is 0.083818\n",
      "Average Item Visibility of all Items for Item Identifier FDT31 is 0.012474\n",
      "Average Item Visibility of all Items for Item Identifier FDJ14 is 0.050151\n",
      "Average Item Visibility of all Items for Item Identifier NCQ43 is 0.123297\n",
      "Average Item Visibility of all Items for Item Identifier FDZ22 is 0.052108\n",
      "Average Item Visibility of all Items for Item Identifier FDU38 is 0.099348\n",
      "Average Item Visibility of all Items for Item Identifier FDS32 is 0.032995\n",
      "Average Item Visibility of all Items for Item Identifier DRH13 is 0.027498\n",
      "Average Item Visibility of all Items for Item Identifier DRF03 is 0.049134\n",
      "Average Item Visibility of all Items for Item Identifier FDJ20 is 0.113811\n",
      "Average Item Visibility of all Items for Item Identifier FDE22 is 0.038034\n",
      "Average Item Visibility of all Items for Item Identifier FDX22 is 0.027298\n",
      "Average Item Visibility of all Items for Item Identifier DRM11 is 0.066141\n",
      "Average Item Visibility of all Items for Item Identifier FDL25 is 0.131417\n",
      "Average Item Visibility of all Items for Item Identifier FDT08 is 0.049246\n",
      "Average Item Visibility of all Items for Item Identifier FDO22 is 0.019902\n",
      "Average Item Visibility of all Items for Item Identifier NCM41 is 0.035717\n",
      "Average Item Visibility of all Items for Item Identifier FDJ21 is 0.038570\n",
      "Average Item Visibility of all Items for Item Identifier FDC53 is 0.009825\n",
      "Average Item Visibility of all Items for Item Identifier FDQ09 is 0.058129\n",
      "Average Item Visibility of all Items for Item Identifier DRE25 is 0.073315\n",
      "Average Item Visibility of all Items for Item Identifier FDL08 is 0.049734\n",
      "Average Item Visibility of all Items for Item Identifier FDW03 is 0.024545\n",
      "Average Item Visibility of all Items for Item Identifier FDC17 is 0.015473\n",
      "Average Item Visibility of all Items for Item Identifier FDE34 is 0.120207\n",
      "Average Item Visibility of all Items for Item Identifier FDO44 is 0.087369\n",
      "Average Item Visibility of all Items for Item Identifier NCF31 is 0.058395\n",
      "Average Item Visibility of all Items for Item Identifier FDG14 is 0.050549\n",
      "Average Item Visibility of all Items for Item Identifier NCH30 is 0.074679\n",
      "Average Item Visibility of all Items for Item Identifier FDR36 is 0.138133\n",
      "Average Item Visibility of all Items for Item Identifier NCJ30 is 0.087516\n",
      "Average Item Visibility of all Items for Item Identifier FDR08 is 0.042388\n",
      "Average Item Visibility of all Items for Item Identifier NCQ50 is 0.034318\n",
      "Average Item Visibility of all Items for Item Identifier FDL46 is 0.059290\n",
      "Average Item Visibility of all Items for Item Identifier DRK37 is 0.054948\n",
      "Average Item Visibility of all Items for Item Identifier FDK48 is 0.037674\n",
      "Average Item Visibility of all Items for Item Identifier FDV58 is 0.121306\n",
      "Average Item Visibility of all Items for Item Identifier FDZ52 is 0.100152\n",
      "Average Item Visibility of all Items for Item Identifier NCF42 is 0.193989\n",
      "Average Item Visibility of all Items for Item Identifier FDQ48 is 0.034433\n",
      "Average Item Visibility of all Items for Item Identifier FDR58 is 0.041906\n",
      "Average Item Visibility of all Items for Item Identifier NCE07 is 0.014615\n",
      "Average Item Visibility of all Items for Item Identifier FDK14 is 0.041179\n",
      "Average Item Visibility of all Items for Item Identifier FDC11 is 0.141736\n",
      "Average Item Visibility of all Items for Item Identifier NCQ41 is 0.022099\n",
      "Average Item Visibility of all Items for Item Identifier FDX46 is 0.058100\n",
      "Average Item Visibility of all Items for Item Identifier FDC35 is 0.136641\n",
      "Average Item Visibility of all Items for Item Identifier FDH45 is 0.119022\n",
      "Average Item Visibility of all Items for Item Identifier FDX33 is 0.117511\n",
      "Average Item Visibility of all Items for Item Identifier DRJ35 is 0.046659\n",
      "Average Item Visibility of all Items for Item Identifier FDP13 is 0.159565\n",
      "Average Item Visibility of all Items for Item Identifier FDP24 is 0.091036\n",
      "Average Item Visibility of all Items for Item Identifier NCQ42 is 0.045165\n",
      "Average Item Visibility of all Items for Item Identifier FDU14 is 0.039415\n",
      "Average Item Visibility of all Items for Item Identifier FDT32 is 0.077374\n",
      "Average Item Visibility of all Items for Item Identifier FDK20 is 0.046090\n",
      "Average Item Visibility of all Items for Item Identifier FDU13 is 0.208029\n",
      "Average Item Visibility of all Items for Item Identifier FDE05 is 0.036827\n",
      "Average Item Visibility of all Items for Item Identifier FDE58 is 0.052088\n",
      "Average Item Visibility of all Items for Item Identifier FDZ01 is 0.010269\n",
      "Average Item Visibility of all Items for Item Identifier FDM08 is 0.059682\n",
      "Average Item Visibility of all Items for Item Identifier FDS58 is 0.021020\n",
      "Average Item Visibility of all Items for Item Identifier FDZ26 is 0.156245\n",
      "Average Item Visibility of all Items for Item Identifier FDY51 is 0.081145\n",
      "Average Item Visibility of all Items for Item Identifier FDL34 is 0.040984\n",
      "Average Item Visibility of all Items for Item Identifier DRG39 is 0.042260\n",
      "Average Item Visibility of all Items for Item Identifier NCG43 is 0.091872\n",
      "Average Item Visibility of all Items for Item Identifier FDT01 is 0.184593\n",
      "Average Item Visibility of all Items for Item Identifier DRF01 is 0.193996\n",
      "Average Item Visibility of all Items for Item Identifier FDF53 is 0.083618\n",
      "Average Item Visibility of all Items for Item Identifier FDR20 is 0.028198\n",
      "Average Item Visibility of all Items for Item Identifier FDD38 is 0.009659\n",
      "Average Item Visibility of all Items for Item Identifier FDH32 is 0.076063\n",
      "Average Item Visibility of all Items for Item Identifier NCJ42 is 0.016108\n",
      "Average Item Visibility of all Items for Item Identifier FDW22 is 0.030298\n",
      "Average Item Visibility of all Items for Item Identifier FDE32 is 0.048790\n",
      "Average Item Visibility of all Items for Item Identifier FDA34 is 0.014877\n",
      "Average Item Visibility of all Items for Item Identifier FDG38 is 0.057832\n",
      "Average Item Visibility of all Items for Item Identifier NCE31 is 0.200588\n",
      "Average Item Visibility of all Items for Item Identifier FDS19 is 0.071484\n",
      "Average Item Visibility of all Items for Item Identifier FDU11 is 0.092685\n",
      "Average Item Visibility of all Items for Item Identifier FDL02 is 0.123640\n",
      "Average Item Visibility of all Items for Item Identifier DRK23 is 0.072057\n",
      "Average Item Visibility of all Items for Item Identifier FDO27 is 0.179113\n",
      "Average Item Visibility of all Items for Item Identifier FDB16 is 0.044949\n",
      "Average Item Visibility of all Items for Item Identifier NCB18 is 0.047836\n",
      "Average Item Visibility of all Items for Item Identifier NCL53 is 0.039778\n",
      "Average Item Visibility of all Items for Item Identifier FDR16 is 0.105208\n",
      "Average Item Visibility of all Items for Item Identifier NCQ05 is 0.027777\n",
      "Average Item Visibility of all Items for Item Identifier FDF44 is 0.059759\n",
      "Average Item Visibility of all Items for Item Identifier FDK15 is 0.121791\n",
      "Average Item Visibility of all Items for Item Identifier FDS10 is 0.041120\n",
      "Average Item Visibility of all Items for Item Identifier FDU32 is 0.030810\n",
      "Average Item Visibility of all Items for Item Identifier FDG09 is 0.051565\n",
      "Average Item Visibility of all Items for Item Identifier FDE39 is 0.036168\n",
      "Average Item Visibility of all Items for Item Identifier NCH55 is 0.042921\n",
      "Average Item Visibility of all Items for Item Identifier FDC33 is 0.068941\n",
      "Average Item Visibility of all Items for Item Identifier NCV54 is 0.037240\n",
      "Average Item Visibility of all Items for Item Identifier NCQ02 is 0.007458\n",
      "Average Item Visibility of all Items for Item Identifier NCU17 is 0.093012\n",
      "Average Item Visibility of all Items for Item Identifier NCZ06 is 0.104338\n",
      "Average Item Visibility of all Items for Item Identifier DRH25 is 0.016565\n",
      "Average Item Visibility of all Items for Item Identifier NCI43 is 0.025985\n",
      "Average Item Visibility of all Items for Item Identifier NCQ53 is 0.018926\n",
      "Average Item Visibility of all Items for Item Identifier NCT18 is 0.059414\n",
      "Average Item Visibility of all Items for Item Identifier FDM14 is 0.013242\n",
      "Average Item Visibility of all Items for Item Identifier FDX57 is 0.053682\n",
      "Average Item Visibility of all Items for Item Identifier NCV05 is 0.034297\n",
      "Average Item Visibility of all Items for Item Identifier FDX39 is 0.056330\n",
      "Average Item Visibility of all Items for Item Identifier FDA23 is 0.047198\n",
      "Average Item Visibility of all Items for Item Identifier NCV06 is 0.072989\n",
      "Average Item Visibility of all Items for Item Identifier DRI39 is 0.110233\n",
      "Average Item Visibility of all Items for Item Identifier FDH21 is 0.037570\n",
      "Average Item Visibility of all Items for Item Identifier FDR26 is 0.047725\n",
      "Average Item Visibility of all Items for Item Identifier FDA14 is 0.081532\n",
      "Average Item Visibility of all Items for Item Identifier FDG21 is 0.168293\n"
     ]
    },
    {
     "name": "stdout",
     "output_type": "stream",
     "text": [
      "Average Item Visibility of all Items for Item Identifier NCQ38 is 0.014824\n",
      "Average Item Visibility of all Items for Item Identifier FDN20 is 0.026189\n",
      "Average Item Visibility of all Items for Item Identifier NCN29 is 0.016455\n",
      "Average Item Visibility of all Items for Item Identifier FDI28 is 0.026330\n",
      "Average Item Visibility of all Items for Item Identifier FDZ28 is 0.060318\n",
      "Average Item Visibility of all Items for Item Identifier FDO52 is 0.077236\n",
      "Average Item Visibility of all Items for Item Identifier FDU10 is 0.045811\n",
      "Average Item Visibility of all Items for Item Identifier FDS28 is 0.082489\n",
      "Average Item Visibility of all Items for Item Identifier FDJ03 is 0.084685\n",
      "Average Item Visibility of all Items for Item Identifier FDQ51 is 0.020482\n",
      "Average Item Visibility of all Items for Item Identifier NCK06 is 0.009805\n",
      "Average Item Visibility of all Items for Item Identifier FDY09 is 0.037215\n",
      "Average Item Visibility of all Items for Item Identifier FDA10 is 0.163246\n",
      "Average Item Visibility of all Items for Item Identifier FDO34 is 0.032846\n",
      "Average Item Visibility of all Items for Item Identifier FDE38 is 0.044499\n",
      "Average Item Visibility of all Items for Item Identifier FDF40 is 0.026742\n",
      "Average Item Visibility of all Items for Item Identifier FDY02 is 0.108473\n",
      "Average Item Visibility of all Items for Item Identifier FDS03 is 0.098523\n",
      "Average Item Visibility of all Items for Item Identifier FDB59 is 0.015287\n",
      "Average Item Visibility of all Items for Item Identifier FDO15 is 0.009648\n",
      "Average Item Visibility of all Items for Item Identifier FDV56 is 0.013579\n",
      "Average Item Visibility of all Items for Item Identifier FDY26 is 0.034616\n",
      "Average Item Visibility of all Items for Item Identifier DRE13 is 0.027692\n",
      "Average Item Visibility of all Items for Item Identifier FDD50 is 0.141752\n",
      "Average Item Visibility of all Items for Item Identifier FDC04 is 0.051767\n",
      "Average Item Visibility of all Items for Item Identifier NCR29 is 0.054655\n",
      "Average Item Visibility of all Items for Item Identifier FDZ04 is 0.042271\n",
      "Average Item Visibility of all Items for Item Identifier FDU16 is 0.058296\n",
      "Average Item Visibility of all Items for Item Identifier FDV07 is 0.031305\n",
      "Average Item Visibility of all Items for Item Identifier FDW01 is 0.079987\n",
      "Average Item Visibility of all Items for Item Identifier FDC10 is 0.083854\n",
      "Average Item Visibility of all Items for Item Identifier DRC12 is 0.037893\n",
      "Average Item Visibility of all Items for Item Identifier DRK39 is 0.049814\n",
      "Average Item Visibility of all Items for Item Identifier DRB25 is 0.077305\n",
      "Average Item Visibility of all Items for Item Identifier FDK26 is 0.035689\n",
      "Average Item Visibility of all Items for Item Identifier FDM52 is 0.026042\n",
      "Average Item Visibility of all Items for Item Identifier NCO06 is 0.120130\n",
      "Average Item Visibility of all Items for Item Identifier FDK34 is 0.038541\n",
      "Average Item Visibility of all Items for Item Identifier FDO45 is 0.038006\n",
      "Average Item Visibility of all Items for Item Identifier FDF08 is 0.074008\n",
      "Average Item Visibility of all Items for Item Identifier FDH58 is 0.037002\n",
      "Average Item Visibility of all Items for Item Identifier FDE02 is 0.139459\n",
      "Average Item Visibility of all Items for Item Identifier FDR23 is 0.098456\n",
      "Average Item Visibility of all Items for Item Identifier FDY35 is 0.019296\n",
      "Average Item Visibility of all Items for Item Identifier FDG44 is 0.121513\n",
      "Average Item Visibility of all Items for Item Identifier FDQ23 is 0.028208\n",
      "Average Item Visibility of all Items for Item Identifier FDY22 is 0.160102\n",
      "Average Item Visibility of all Items for Item Identifier NCN41 is 0.067119\n",
      "Average Item Visibility of all Items for Item Identifier FDO36 is 0.089547\n",
      "Average Item Visibility of all Items for Item Identifier FDH20 is 0.024982\n",
      "Average Item Visibility of all Items for Item Identifier FDN12 is 0.090239\n",
      "Average Item Visibility of all Items for Item Identifier FDB09 is 0.066078\n",
      "Average Item Visibility of all Items for Item Identifier FDA09 is 0.149758\n",
      "Average Item Visibility of all Items for Item Identifier FDL24 is 0.024904\n",
      "Average Item Visibility of all Items for Item Identifier FDP03 is 0.068073\n",
      "Average Item Visibility of all Items for Item Identifier FDO13 is 0.070332\n",
      "Average Item Visibility of all Items for Item Identifier DRD49 is 0.168146\n",
      "Average Item Visibility of all Items for Item Identifier FDQ15 is 0.171302\n",
      "Average Item Visibility of all Items for Item Identifier NCP50 is 0.023132\n",
      "Average Item Visibility of all Items for Item Identifier FDN23 is 0.075479\n",
      "Average Item Visibility of all Items for Item Identifier FDS44 is 0.175740\n",
      "Average Item Visibility of all Items for Item Identifier NCI54 is 0.039593\n",
      "Average Item Visibility of all Items for Item Identifier FDA21 is 0.036000\n",
      "Average Item Visibility of all Items for Item Identifier FDI41 is 0.068969\n",
      "Average Item Visibility of all Items for Item Identifier FDE35 is 0.051326\n",
      "Average Item Visibility of all Items for Item Identifier DRJ24 is 0.133685\n",
      "Average Item Visibility of all Items for Item Identifier NCK17 is 0.037922\n",
      "Average Item Visibility of all Items for Item Identifier FDD36 is 0.024861\n",
      "Average Item Visibility of all Items for Item Identifier DRD60 is 0.041920\n",
      "Average Item Visibility of all Items for Item Identifier NCM19 is 0.047194\n",
      "Average Item Visibility of all Items for Item Identifier FDV12 is 0.061007\n",
      "Average Item Visibility of all Items for Item Identifier FDQ31 is 0.061103\n",
      "Average Item Visibility of all Items for Item Identifier FDK55 is 0.029032\n",
      "Average Item Visibility of all Items for Item Identifier DRG15 is 0.076875\n",
      "Average Item Visibility of all Items for Item Identifier FDV01 is 0.109286\n",
      "Average Item Visibility of all Items for Item Identifier FDT21 is 0.020428\n",
      "Average Item Visibility of all Items for Item Identifier FDT10 is 0.069125\n",
      "Average Item Visibility of all Items for Item Identifier FDN02 is 0.073850\n",
      "Average Item Visibility of all Items for Item Identifier FDJ40 is 0.049492\n",
      "Average Item Visibility of all Items for Item Identifier DRE27 is 0.147626\n",
      "Average Item Visibility of all Items for Item Identifier FDS27 is 0.013809\n",
      "Average Item Visibility of all Items for Item Identifier DRM59 is 0.003981\n",
      "Average Item Visibility of all Items for Item Identifier NCV30 is 0.074834\n",
      "Average Item Visibility of all Items for Item Identifier FDA51 is 0.164368\n",
      "Average Item Visibility of all Items for Item Identifier FDM46 is 0.159921\n",
      "Average Item Visibility of all Items for Item Identifier FDK02 is 0.139079\n",
      "Average Item Visibility of all Items for Item Identifier FDJ57 is 0.024038\n",
      "Average Item Visibility of all Items for Item Identifier FDJ45 is 0.081304\n",
      "Average Item Visibility of all Items for Item Identifier NCB31 is 0.129936\n",
      "Average Item Visibility of all Items for Item Identifier FDT50 is 0.108244\n",
      "Average Item Visibility of all Items for Item Identifier NCY41 is 0.083071\n",
      "Average Item Visibility of all Items for Item Identifier FDJ60 is 0.062614\n",
      "Average Item Visibility of all Items for Item Identifier FDS21 is 0.026844\n",
      "Average Item Visibility of all Items for Item Identifier FDQ08 is 0.022790\n",
      "Average Item Visibility of all Items for Item Identifier FDS47 is 0.129045\n",
      "Average Item Visibility of all Items for Item Identifier DRM48 is 0.112861\n",
      "Average Item Visibility of all Items for Item Identifier FDW46 is 0.079225\n",
      "Average Item Visibility of all Items for Item Identifier FDU40 is 0.041636\n",
      "Average Item Visibility of all Items for Item Identifier DRE12 is 0.070720\n",
      "Average Item Visibility of all Items for Item Identifier FDX35 is 0.095048\n",
      "Average Item Visibility of all Items for Item Identifier FDD51 is 0.137863\n",
      "Average Item Visibility of all Items for Item Identifier FDY27 is 0.031901\n",
      "Average Item Visibility of all Items for Item Identifier NCN06 is 0.136847\n",
      "Average Item Visibility of all Items for Item Identifier FDR57 is 0.023495\n",
      "Average Item Visibility of all Items for Item Identifier FDR19 is 0.159816\n",
      "Average Item Visibility of all Items for Item Identifier FDJ33 is 0.088426\n",
      "Average Item Visibility of all Items for Item Identifier FDA52 is 0.128364\n",
      "Average Item Visibility of all Items for Item Identifier FDZ08 is 0.110054\n",
      "Average Item Visibility of all Items for Item Identifier FDR27 is 0.105456\n",
      "Average Item Visibility of all Items for Item Identifier NCK42 is 0.013129\n",
      "Average Item Visibility of all Items for Item Identifier FDZ12 is 0.116955\n",
      "Average Item Visibility of all Items for Item Identifier NCI31 is 0.097910\n",
      "Average Item Visibility of all Items for Item Identifier FDX16 is 0.074692\n",
      "Average Item Visibility of all Items for Item Identifier NCA05 is 0.028940\n",
      "Average Item Visibility of all Items for Item Identifier DRG51 is 0.013116\n",
      "Average Item Visibility of all Items for Item Identifier NCR30 is 0.087931\n",
      "Average Item Visibility of all Items for Item Identifier FDM56 is 0.083367\n",
      "Average Item Visibility of all Items for Item Identifier DRM37 is 0.116070\n"
     ]
    },
    {
     "name": "stdout",
     "output_type": "stream",
     "text": [
      "Average Item Visibility of all Items for Item Identifier FDN56 is 0.117151\n",
      "Average Item Visibility of all Items for Item Identifier FDO49 is 0.039229\n",
      "Average Item Visibility of all Items for Item Identifier FDC09 is 0.029882\n",
      "Average Item Visibility of all Items for Item Identifier NCZ41 is 0.064529\n",
      "Average Item Visibility of all Items for Item Identifier FDP19 is 0.202824\n",
      "Average Item Visibility of all Items for Item Identifier FDQ24 is 0.084891\n",
      "Average Item Visibility of all Items for Item Identifier DRL11 is 0.048043\n",
      "Average Item Visibility of all Items for Item Identifier FDF21 is 0.066773\n",
      "Average Item Visibility of all Items for Item Identifier FDS51 is 0.032145\n",
      "Average Item Visibility of all Items for Item Identifier FDE45 is 0.047966\n",
      "Average Item Visibility of all Items for Item Identifier FDX50 is 0.080968\n",
      "Average Item Visibility of all Items for Item Identifier NCN14 is 0.113779\n",
      "Average Item Visibility of all Items for Item Identifier FDQ21 is 0.019464\n",
      "Average Item Visibility of all Items for Item Identifier FDL38 is 0.017732\n",
      "Average Item Visibility of all Items for Item Identifier DRL37 is 0.053388\n",
      "Average Item Visibility of all Items for Item Identifier FDZ39 is 0.018045\n",
      "Average Item Visibility of all Items for Item Identifier FDH10 is 0.058119\n",
      "Average Item Visibility of all Items for Item Identifier FDS35 is 0.111333\n",
      "Average Item Visibility of all Items for Item Identifier FDN21 is 0.085097\n",
      "Average Item Visibility of all Items for Item Identifier NCO18 is 0.024684\n",
      "Average Item Visibility of all Items for Item Identifier FDD05 is 0.018186\n",
      "Average Item Visibility of all Items for Item Identifier FDX59 is 0.051666\n",
      "Average Item Visibility of all Items for Item Identifier FDZ23 is 0.074018\n",
      "Average Item Visibility of all Items for Item Identifier FDX27 is 0.129605\n",
      "Average Item Visibility of all Items for Item Identifier FDR14 is 0.200186\n",
      "Average Item Visibility of all Items for Item Identifier FDZ56 is 0.028948\n",
      "Average Item Visibility of all Items for Item Identifier NCL55 is 0.076920\n",
      "Average Item Visibility of all Items for Item Identifier FDD59 is 0.066243\n",
      "Average Item Visibility of all Items for Item Identifier DRF23 is 0.134603\n",
      "Average Item Visibility of all Items for Item Identifier FDT49 is 0.151533\n",
      "Average Item Visibility of all Items for Item Identifier FDH22 is 0.136394\n",
      "Average Item Visibility of all Items for Item Identifier FDT34 is 0.191459\n",
      "Average Item Visibility of all Items for Item Identifier FDB39 is 0.044373\n",
      "Average Item Visibility of all Items for Item Identifier FDQ22 is 0.029727\n",
      "Average Item Visibility of all Items for Item Identifier NCN43 is 0.008680\n",
      "Average Item Visibility of all Items for Item Identifier FDG57 is 0.078499\n",
      "Average Item Visibility of all Items for Item Identifier FDU22 is 0.110974\n",
      "Average Item Visibility of all Items for Item Identifier NCC43 is 0.092977\n",
      "Average Item Visibility of all Items for Item Identifier FDP01 is 0.077664\n",
      "Average Item Visibility of all Items for Item Identifier FDF52 is 0.078691\n",
      "Average Item Visibility of all Items for Item Identifier FDZ33 is 0.119000\n",
      "Average Item Visibility of all Items for Item Identifier FDP48 is 0.044080\n",
      "Average Item Visibility of all Items for Item Identifier FDW56 is 0.078938\n",
      "Average Item Visibility of all Items for Item Identifier FDC26 is 0.143552\n",
      "Average Item Visibility of all Items for Item Identifier FDF34 is 0.015614\n",
      "Average Item Visibility of all Items for Item Identifier FDD04 is 0.101357\n",
      "Average Item Visibility of all Items for Item Identifier NCJ31 is 0.182710\n",
      "Average Item Visibility of all Items for Item Identifier FDO57 is 0.130951\n",
      "Average Item Visibility of all Items for Item Identifier FDM36 is 0.065042\n",
      "Average Item Visibility of all Items for Item Identifier NCY05 is 0.055038\n",
      "Average Item Visibility of all Items for Item Identifier DRK11 is 0.012391\n",
      "Average Item Visibility of all Items for Item Identifier NCL30 is 0.048898\n",
      "Average Item Visibility of all Items for Item Identifier DRJ39 is 0.036328\n",
      "Average Item Visibility of all Items for Item Identifier NCP06 is 0.043059\n",
      "Average Item Visibility of all Items for Item Identifier FDZ44 is 0.047970\n",
      "Average Item Visibility of all Items for Item Identifier FDV46 is 0.014208\n",
      "Average Item Visibility of all Items for Item Identifier DRG03 is 0.070320\n",
      "Average Item Visibility of all Items for Item Identifier FDU37 is 0.104461\n",
      "Average Item Visibility of all Items for Item Identifier FDI57 is 0.054067\n",
      "Average Item Visibility of all Items for Item Identifier FDM45 is 0.088312\n",
      "Average Item Visibility of all Items for Item Identifier FDB26 is 0.031284\n",
      "Average Item Visibility of all Items for Item Identifier FDZ25 is 0.027619\n",
      "Average Item Visibility of all Items for Item Identifier NCN26 is 0.033524\n",
      "Average Item Visibility of all Items for Item Identifier FDO38 is 0.072962\n",
      "Average Item Visibility of all Items for Item Identifier FDG31 is 0.046867\n",
      "Average Item Visibility of all Items for Item Identifier FDI45 is 0.037647\n",
      "Average Item Visibility of all Items for Item Identifier FDE17 is 0.054530\n",
      "Average Item Visibility of all Items for Item Identifier NCG06 is 0.029434\n",
      "Average Item Visibility of all Items for Item Identifier FDQ57 is 0.033170\n",
      "Average Item Visibility of all Items for Item Identifier NCP29 is 0.127469\n",
      "Average Item Visibility of all Items for Item Identifier FDM02 is 0.083812\n",
      "Average Item Visibility of all Items for Item Identifier FDR46 is 0.167801\n",
      "Average Item Visibility of all Items for Item Identifier FDE50 is 0.016189\n",
      "Average Item Visibility of all Items for Item Identifier FDS16 is 0.066313\n",
      "Average Item Visibility of all Items for Item Identifier FDU15 is 0.031088\n",
      "Average Item Visibility of all Items for Item Identifier FDO09 is 0.125222\n",
      "Average Item Visibility of all Items for Item Identifier FDB40 is 0.008390\n",
      "Average Item Visibility of all Items for Item Identifier DRN11 is 0.163357\n",
      "Average Item Visibility of all Items for Item Identifier FDF04 is 0.015125\n",
      "Average Item Visibility of all Items for Item Identifier FDE41 is 0.064130\n",
      "Average Item Visibility of all Items for Item Identifier FDW08 is 0.148380\n",
      "Average Item Visibility of all Items for Item Identifier NCD54 is 0.032126\n",
      "Average Item Visibility of all Items for Item Identifier FDN34 is 0.052657\n",
      "Average Item Visibility of all Items for Item Identifier FDL39 is 0.063389\n",
      "Average Item Visibility of all Items for Item Identifier FDH33 is 0.135011\n",
      "Average Item Visibility of all Items for Item Identifier DRH23 is 0.202582\n",
      "Average Item Visibility of all Items for Item Identifier FDD21 is 0.030611\n",
      "Average Item Visibility of all Items for Item Identifier FDK60 is 0.094034\n",
      "Average Item Visibility of all Items for Item Identifier FDY12 is 0.164639\n",
      "Average Item Visibility of all Items for Item Identifier FDP11 is 0.081422\n",
      "Average Item Visibility of all Items for Item Identifier FDC21 is 0.055276\n",
      "Average Item Visibility of all Items for Item Identifier NCF54 is 0.055449\n",
      "Average Item Visibility of all Items for Item Identifier FDV43 is 0.076916\n",
      "Average Item Visibility of all Items for Item Identifier DRC36 is 0.044992\n",
      "Average Item Visibility of all Items for Item Identifier NCW42 is 0.075186\n",
      "Average Item Visibility of all Items for Item Identifier FDL13 is 0.067881\n",
      "Average Item Visibility of all Items for Item Identifier FDV22 is 0.011076\n",
      "Average Item Visibility of all Items for Item Identifier NCB43 is 0.100047\n",
      "Average Item Visibility of all Items for Item Identifier FDQ46 is 0.103999\n",
      "Average Item Visibility of all Items for Item Identifier FDC44 is 0.172666\n",
      "Average Item Visibility of all Items for Item Identifier FDB22 is 0.126426\n",
      "Average Item Visibility of all Items for Item Identifier FDV23 is 0.121753\n",
      "Average Item Visibility of all Items for Item Identifier FDK10 is 0.040390\n",
      "Average Item Visibility of all Items for Item Identifier FDL33 is 0.113360\n",
      "Average Item Visibility of all Items for Item Identifier FDD20 is 0.020709\n",
      "Average Item Visibility of all Items for Item Identifier NCM54 is 0.058571\n",
      "Average Item Visibility of all Items for Item Identifier FDW48 is 0.008550\n",
      "Average Item Visibility of all Items for Item Identifier NCM06 is 0.083107\n",
      "Average Item Visibility of all Items for Item Identifier FDT46 is 0.038158\n",
      "Average Item Visibility of all Items for Item Identifier FDT38 is 0.057684\n",
      "Average Item Visibility of all Items for Item Identifier FDO40 is 0.036327\n",
      "Average Item Visibility of all Items for Item Identifier FDP12 is 0.045349\n",
      "Average Item Visibility of all Items for Item Identifier FDI44 is 0.100271\n",
      "Average Item Visibility of all Items for Item Identifier FDG16 is 0.101183\n",
      "Average Item Visibility of all Items for Item Identifier FDY11 is 0.029622\n",
      "Average Item Visibility of all Items for Item Identifier FDY60 is 0.030832\n",
      "Average Item Visibility of all Items for Item Identifier NCM05 is 0.074023\n",
      "Average Item Visibility of all Items for Item Identifier FDA49 is 0.080299\n",
      "Average Item Visibility of all Items for Item Identifier FDY52 is 0.008456\n",
      "Average Item Visibility of all Items for Item Identifier FDJ02 is 0.029935\n",
      "Average Item Visibility of all Items for Item Identifier FDW40 is 0.122959\n",
      "Average Item Visibility of all Items for Item Identifier FDY08 is 0.200014\n",
      "Average Item Visibility of all Items for Item Identifier FDM21 is 0.064418\n",
      "Average Item Visibility of all Items for Item Identifier NCM42 is 0.028424\n",
      "Average Item Visibility of all Items for Item Identifier NCD07 is 0.055449\n",
      "Average Item Visibility of all Items for Item Identifier FDD09 is 0.021526\n",
      "Average Item Visibility of all Items for Item Identifier DRH59 is 0.078120\n",
      "Average Item Visibility of all Items for Item Identifier DRA24 is 0.048062\n",
      "Average Item Visibility of all Items for Item Identifier FDY36 is 0.010595\n",
      "Average Item Visibility of all Items for Item Identifier FDG34 is 0.041218\n",
      "Average Item Visibility of all Items for Item Identifier FDK22 is 0.029607\n",
      "Average Item Visibility of all Items for Item Identifier FDO33 is 0.089686\n",
      "Average Item Visibility of all Items for Item Identifier FDD46 is 0.174747\n",
      "Average Item Visibility of all Items for Item Identifier FDU34 is 0.075275\n",
      "Average Item Visibility of all Items for Item Identifier FDA26 is 0.087688\n",
      "Average Item Visibility of all Items for Item Identifier FDP38 is 0.036438\n",
      "Average Item Visibility of all Items for Item Identifier FDA50 is 0.102714\n",
      "Average Item Visibility of all Items for Item Identifier FDY10 is 0.049137\n",
      "Average Item Visibility of all Items for Item Identifier FDT19 is 0.145098\n",
      "Average Item Visibility of all Items for Item Identifier FDA28 is 0.053207\n",
      "Average Item Visibility of all Items for Item Identifier FDB05 is 0.098748\n",
      "Average Item Visibility of all Items for Item Identifier FDK45 is 0.038133\n",
      "Average Item Visibility of all Items for Item Identifier FDR48 is 0.146350\n",
      "Average Item Visibility of all Items for Item Identifier FDY15 is 0.189354\n",
      "Average Item Visibility of all Items for Item Identifier FDM51 is 0.025969\n",
      "Average Item Visibility of all Items for Item Identifier FDW09 is 0.028429\n",
      "Average Item Visibility of all Items for Item Identifier FDV44 is 0.039899\n",
      "Average Item Visibility of all Items for Item Identifier NCP43 is 0.035124\n"
     ]
    },
    {
     "name": "stdout",
     "output_type": "stream",
     "text": [
      "Average Item Visibility of all Items for Item Identifier FDL26 is 0.073311\n",
      "Average Item Visibility of all Items for Item Identifier DRM35 is 0.070491\n",
      "Average Item Visibility of all Items for Item Identifier DRD15 is 0.068376\n",
      "Average Item Visibility of all Items for Item Identifier FDV04 is 0.164406\n",
      "Average Item Visibility of all Items for Item Identifier FDG46 is 0.040712\n",
      "Average Item Visibility of all Items for Item Identifier NCN05 is 0.014491\n",
      "Average Item Visibility of all Items for Item Identifier FDO58 is 0.039576\n",
      "Average Item Visibility of all Items for Item Identifier DRH49 is 0.029304\n",
      "Average Item Visibility of all Items for Item Identifier NCZ05 is 0.072662\n",
      "Average Item Visibility of all Items for Item Identifier NCP54 is 0.035247\n",
      "Average Item Visibility of all Items for Item Identifier FDF57 is 0.066232\n",
      "Average Item Visibility of all Items for Item Identifier FDA02 is 0.032919\n",
      "Average Item Visibility of all Items for Item Identifier DRJ37 is 0.061118\n",
      "Average Item Visibility of all Items for Item Identifier NCP55 is 0.013310\n",
      "Average Item Visibility of all Items for Item Identifier FDW45 is 0.039034\n",
      "Average Item Visibility of all Items for Item Identifier FDK38 is 0.058482\n",
      "Average Item Visibility of all Items for Item Identifier NCZ30 is 0.029116\n",
      "Average Item Visibility of all Items for Item Identifier FDK08 is 0.147196\n",
      "Average Item Visibility of all Items for Item Identifier NCG19 is 0.147987\n",
      "Average Item Visibility of all Items for Item Identifier FDQ01 is 0.161123\n",
      "Average Item Visibility of all Items for Item Identifier FDL44 is 0.012276\n",
      "Average Item Visibility of all Items for Item Identifier DRM23 is 0.151208\n",
      "Average Item Visibility of all Items for Item Identifier NCE18 is 0.021447\n",
      "Average Item Visibility of all Items for Item Identifier DRZ24 is 0.081984\n",
      "Average Item Visibility of all Items for Item Identifier FDT48 is 0.046051\n",
      "Average Item Visibility of all Items for Item Identifier DRG11 is 0.098071\n",
      "Average Item Visibility of all Items for Item Identifier FDP60 is 0.055966\n",
      "Average Item Visibility of all Items for Item Identifier FDC32 is 0.113917\n",
      "Average Item Visibility of all Items for Item Identifier NCH18 is 0.049675\n",
      "Average Item Visibility of all Items for Item Identifier DRE37 is 0.112039\n",
      "Average Item Visibility of all Items for Item Identifier DRC13 is 0.032545\n",
      "Average Item Visibility of all Items for Item Identifier FDG47 is 0.077538\n",
      "Average Item Visibility of all Items for Item Identifier NCT05 is 0.020979\n",
      "Average Item Visibility of all Items for Item Identifier FDN50 is 0.026527\n",
      "Average Item Visibility of all Items for Item Identifier FDU60 is 0.073391\n",
      "Average Item Visibility of all Items for Item Identifier FDX02 is 0.057104\n",
      "Average Item Visibility of all Items for Item Identifier NCO41 is 0.020974\n",
      "Average Item Visibility of all Items for Item Identifier FDQ59 is 0.056401\n",
      "Average Item Visibility of all Items for Item Identifier NCZ53 is 0.027775\n",
      "Average Item Visibility of all Items for Item Identifier FDD34 is 0.015902\n",
      "Average Item Visibility of all Items for Item Identifier FDY43 is 0.098803\n",
      "Average Item Visibility of all Items for Item Identifier FDN44 is 0.022809\n",
      "Average Item Visibility of all Items for Item Identifier FDD32 is 0.041053\n",
      "Average Item Visibility of all Items for Item Identifier FDA56 is 0.008761\n",
      "Average Item Visibility of all Items for Item Identifier FDT13 is 0.022083\n",
      "Average Item Visibility of all Items for Item Identifier NCY29 is 0.084540\n",
      "Average Item Visibility of all Items for Item Identifier NCA42 is 0.034968\n",
      "Average Item Visibility of all Items for Item Identifier FDG26 is 0.042737\n",
      "Average Item Visibility of all Items for Item Identifier FDH24 is 0.021479\n",
      "Average Item Visibility of all Items for Item Identifier FDT52 is 0.047535\n",
      "Average Item Visibility of all Items for Item Identifier FDT04 is 0.107309\n",
      "Average Item Visibility of all Items for Item Identifier NCL54 is 0.082832\n",
      "Average Item Visibility of all Items for Item Identifier FDQ32 is 0.052446\n",
      "Average Item Visibility of all Items for Item Identifier FDE29 is 0.143176\n",
      "Average Item Visibility of all Items for Item Identifier FDB37 is 0.022921\n",
      "Average Item Visibility of all Items for Item Identifier FDN46 is 0.144823\n",
      "Average Item Visibility of all Items for Item Identifier FDV28 is 0.177618\n",
      "Average Item Visibility of all Items for Item Identifier FDW37 is 0.124168\n",
      "Average Item Visibility of all Items for Item Identifier FDV40 is 0.014695\n",
      "Average Item Visibility of all Items for Item Identifier FDZ57 is 0.037830\n",
      "Average Item Visibility of all Items for Item Identifier FDY46 is 0.047928\n",
      "Average Item Visibility of all Items for Item Identifier FDX45 is 0.116218\n",
      "Average Item Visibility of all Items for Item Identifier FDB33 is 0.016777\n",
      "Average Item Visibility of all Items for Item Identifier FDT58 is 0.095697\n",
      "Average Item Visibility of all Items for Item Identifier NCL31 is 0.130416\n",
      "Average Item Visibility of all Items for Item Identifier FDJ44 is 0.115327\n",
      "Average Item Visibility of all Items for Item Identifier FDS50 is 0.055561\n",
      "Average Item Visibility of all Items for Item Identifier FDO50 is 0.078088\n",
      "Average Item Visibility of all Items for Item Identifier FDU20 is 0.023770\n",
      "Average Item Visibility of all Items for Item Identifier DRK13 is 0.115275\n",
      "Average Item Visibility of all Items for Item Identifier FDI20 is 0.046415\n",
      "Average Item Visibility of all Items for Item Identifier FDG17 is 0.035898\n",
      "Average Item Visibility of all Items for Item Identifier NCK29 is 0.142873\n",
      "Average Item Visibility of all Items for Item Identifier FDM32 is 0.020627\n",
      "Average Item Visibility of all Items for Item Identifier FDC51 is 0.009638\n",
      "Average Item Visibility of all Items for Item Identifier FDF16 is 0.101509\n",
      "Average Item Visibility of all Items for Item Identifier FDI46 is 0.074387\n",
      "Average Item Visibility of all Items for Item Identifier FDZ21 is 0.042552\n",
      "Average Item Visibility of all Items for Item Identifier FDR32 is 0.101837\n",
      "Average Item Visibility of all Items for Item Identifier DRF25 is 0.043088\n",
      "Average Item Visibility of all Items for Item Identifier FDH05 is 0.090953\n",
      "Average Item Visibility of all Items for Item Identifier FDD52 is 0.183288\n",
      "Average Item Visibility of all Items for Item Identifier FDR55 is 0.132195\n",
      "Average Item Visibility of all Items for Item Identifier FDP04 is 0.013821\n",
      "Average Item Visibility of all Items for Item Identifier FDQ14 is 0.079460\n",
      "Average Item Visibility of all Items for Item Identifier DRN59 is 0.064212\n",
      "Average Item Visibility of all Items for Item Identifier NCR06 is 0.006766\n",
      "Average Item Visibility of all Items for Item Identifier FDB58 is 0.016251\n",
      "Average Item Visibility of all Items for Item Identifier NCV41 is 0.018490\n",
      "Average Item Visibility of all Items for Item Identifier FDW19 is 0.042253\n",
      "Average Item Visibility of all Items for Item Identifier FDO56 is 0.057853\n",
      "Average Item Visibility of all Items for Item Identifier FDN10 is 0.046154\n",
      "Average Item Visibility of all Items for Item Identifier FDY20 is 0.081924\n",
      "Average Item Visibility of all Items for Item Identifier FDV34 is 0.012981\n",
      "Average Item Visibility of all Items for Item Identifier NCX18 is 0.011310\n",
      "Average Item Visibility of all Items for Item Identifier NCZ17 is 0.090156\n",
      "Average Item Visibility of all Items for Item Identifier FDD57 is 0.024560\n",
      "Average Item Visibility of all Items for Item Identifier FDZ48 is 0.085634\n",
      "Average Item Visibility of all Items for Item Identifier FDZ31 is 0.113190\n",
      "Average Item Visibility of all Items for Item Identifier FDA04 is 0.066792\n",
      "Average Item Visibility of all Items for Item Identifier FDL21 is 0.008221\n",
      "Average Item Visibility of all Items for Item Identifier DRG49 is 0.076639\n",
      "Average Item Visibility of all Items for Item Identifier FDR51 is 0.173770\n",
      "Average Item Visibility of all Items for Item Identifier FDC39 is 0.159357\n",
      "Average Item Visibility of all Items for Item Identifier FDP45 is 0.030652\n",
      "Average Item Visibility of all Items for Item Identifier FDC56 is 0.121678\n",
      "Average Item Visibility of all Items for Item Identifier FDE59 is 0.069389\n",
      "Average Item Visibility of all Items for Item Identifier FDB04 is 0.070025\n",
      "Average Item Visibility of all Items for Item Identifier NCK05 is 0.085805\n",
      "Average Item Visibility of all Items for Item Identifier FDR03 is 0.008760\n",
      "Average Item Visibility of all Items for Item Identifier FDQ03 is 0.092679\n",
      "Average Item Visibility of all Items for Item Identifier FDC59 is 0.060825\n",
      "Average Item Visibility of all Items for Item Identifier DRB13 is 0.008002\n",
      "Average Item Visibility of all Items for Item Identifier NCE54 is 0.029792\n",
      "Average Item Visibility of all Items for Item Identifier FDP23 is 0.035596\n",
      "Average Item Visibility of all Items for Item Identifier NCL29 is 0.124975\n",
      "Average Item Visibility of all Items for Item Identifier FDM57 is 0.075991\n",
      "Average Item Visibility of all Items for Item Identifier FDZ36 is 0.065898\n",
      "Average Item Visibility of all Items for Item Identifier FDO46 is 0.014212\n",
      "Average Item Visibility of all Items for Item Identifier FDD16 is 0.049299\n",
      "Average Item Visibility of all Items for Item Identifier FDZ20 is 0.037650\n",
      "Average Item Visibility of all Items for Item Identifier FDY44 is 0.024418\n",
      "Average Item Visibility of all Items for Item Identifier FDW38 is 0.157504\n"
     ]
    },
    {
     "name": "stdout",
     "output_type": "stream",
     "text": [
      "Average Item Visibility of all Items for Item Identifier FDY33 is 0.109437\n",
      "Average Item Visibility of all Items for Item Identifier DRH51 is 0.115479\n",
      "Average Item Visibility of all Items for Item Identifier FDI50 is 0.030855\n",
      "Average Item Visibility of all Items for Item Identifier FDB60 is 0.031774\n",
      "Average Item Visibility of all Items for Item Identifier FDA20 is 0.066681\n",
      "Average Item Visibility of all Items for Item Identifier NCX05 is 0.114419\n",
      "Average Item Visibility of all Items for Item Identifier DRF37 is 0.084516\n",
      "Average Item Visibility of all Items for Item Identifier FDJ26 is 0.084783\n",
      "Average Item Visibility of all Items for Item Identifier FDZ58 is 0.057820\n",
      "Average Item Visibility of all Items for Item Identifier FDZ50 is 0.079524\n",
      "Average Item Visibility of all Items for Item Identifier NCG18 is 0.026839\n",
      "Average Item Visibility of all Items for Item Identifier FDH50 is 0.161571\n",
      "Average Item Visibility of all Items for Item Identifier DRO35 is 0.034650\n",
      "Average Item Visibility of all Items for Item Identifier FDP52 is 0.070778\n",
      "Average Item Visibility of all Items for Item Identifier FDC05 is 0.099059\n",
      "Average Item Visibility of all Items for Item Identifier NCA41 is 0.032646\n",
      "Average Item Visibility of all Items for Item Identifier FDX56 is 0.085158\n",
      "Average Item Visibility of all Items for Item Identifier FDS01 is 0.019986\n",
      "Average Item Visibility of all Items for Item Identifier FDW34 is 0.040044\n",
      "Average Item Visibility of all Items for Item Identifier NCP02 is 0.052339\n",
      "Average Item Visibility of all Items for Item Identifier FDZ49 is 0.133095\n",
      "Average Item Visibility of all Items for Item Identifier NCJ17 is 0.173448\n",
      "Average Item Visibility of all Items for Item Identifier FDI53 is 0.137967\n",
      "Average Item Visibility of all Items for Item Identifier FDW02 is 0.043349\n",
      "Average Item Visibility of all Items for Item Identifier FDO48 is 0.026876\n",
      "Average Item Visibility of all Items for Item Identifier FDF56 is 0.138417\n",
      "Average Item Visibility of all Items for Item Identifier FDL57 is 0.075545\n",
      "Average Item Visibility of all Items for Item Identifier FDV52 is 0.121844\n",
      "Average Item Visibility of all Items for Item Identifier NCS41 is 0.053356\n",
      "Average Item Visibility of all Items for Item Identifier FDF12 is 0.082511\n",
      "Average Item Visibility of all Items for Item Identifier FDM13 is 0.071799\n",
      "Average Item Visibility of all Items for Item Identifier FDW55 is 0.025640\n",
      "Average Item Visibility of all Items for Item Identifier NCT29 is 0.076100\n",
      "Average Item Visibility of all Items for Item Identifier NCS42 is 0.069538\n",
      "Average Item Visibility of all Items for Item Identifier FDD47 is 0.158464\n",
      "Average Item Visibility of all Items for Item Identifier DRE03 is 0.026604\n",
      "Average Item Visibility of all Items for Item Identifier NCM18 is 0.082807\n",
      "Average Item Visibility of all Items for Item Identifier FDE20 is 0.005537\n",
      "Average Item Visibility of all Items for Item Identifier FDI33 is 0.028430\n",
      "Average Item Visibility of all Items for Item Identifier NCT06 is 0.046019\n",
      "Average Item Visibility of all Items for Item Identifier FDK52 is 0.092618\n",
      "Average Item Visibility of all Items for Item Identifier FDJ36 is 0.145507\n",
      "Average Item Visibility of all Items for Item Identifier NCK18 is 0.007601\n",
      "Average Item Visibility of all Items for Item Identifier FDB08 is 0.031143\n",
      "Average Item Visibility of all Items for Item Identifier FDX43 is 0.095016\n",
      "Average Item Visibility of all Items for Item Identifier FDU58 is 0.033892\n",
      "Average Item Visibility of all Items for Item Identifier FDL09 is 0.144010\n",
      "Average Item Visibility of all Items for Item Identifier FDR37 is 0.072605\n",
      "Average Item Visibility of all Items for Item Identifier FDG56 is 0.071523\n",
      "Average Item Visibility of all Items for Item Identifier NCC55 is 0.063887\n",
      "Average Item Visibility of all Items for Item Identifier FDA25 is 0.068283\n",
      "Average Item Visibility of all Items for Item Identifier FDV33 is 0.027396\n",
      "Average Item Visibility of all Items for Item Identifier FDX47 is 0.038344\n",
      "Average Item Visibility of all Items for Item Identifier FDB02 is 0.029166\n",
      "Average Item Visibility of all Items for Item Identifier FDI56 is 0.103936\n",
      "Average Item Visibility of all Items for Item Identifier DRJ49 is 0.014034\n",
      "Average Item Visibility of all Items for Item Identifier FDP26 is 0.160758\n",
      "Average Item Visibility of all Items for Item Identifier FDO32 is 0.120656\n",
      "Average Item Visibility of all Items for Item Identifier FDR34 is 0.016008\n",
      "Average Item Visibility of all Items for Item Identifier FDU59 is 0.096287\n",
      "Average Item Visibility of all Items for Item Identifier FDN31 is 0.072932\n",
      "Average Item Visibility of all Items for Item Identifier FDT55 is 0.048349\n",
      "Average Item Visibility of all Items for Item Identifier FDC03 is 0.071958\n",
      "Average Item Visibility of all Items for Item Identifier FDL14 is 0.037587\n",
      "Average Item Visibility of all Items for Item Identifier FDP39 is 0.083639\n",
      "Average Item Visibility of all Items for Item Identifier FDT11 is 0.032694\n",
      "Average Item Visibility of all Items for Item Identifier FDU48 is 0.067893\n",
      "Average Item Visibility of all Items for Item Identifier FDT45 is 0.057388\n",
      "Average Item Visibility of all Items for Item Identifier FDE56 is 0.189104\n",
      "Average Item Visibility of all Items for Item Identifier FDZ34 is 0.075871\n",
      "Average Item Visibility of all Items for Item Identifier FDV24 is 0.126677\n",
      "Average Item Visibility of all Items for Item Identifier FDQ39 is 0.088873\n",
      "Average Item Visibility of all Items for Item Identifier FDE11 is 0.167173\n",
      "Average Item Visibility of all Items for Item Identifier NCU54 is 0.109820\n",
      "Average Item Visibility of all Items for Item Identifier FDO60 is 0.038228\n",
      "Average Item Visibility of all Items for Item Identifier NCS06 is 0.035710\n",
      "Average Item Visibility of all Items for Item Identifier FDQ55 is 0.013042\n",
      "Average Item Visibility of all Items for Item Identifier NCO02 is 0.073467\n",
      "Average Item Visibility of all Items for Item Identifier FDB12 is 0.105405\n",
      "Average Item Visibility of all Items for Item Identifier FDT40 is 0.106154\n",
      "Average Item Visibility of all Items for Item Identifier NCO05 is 0.046610\n",
      "Average Item Visibility of all Items for Item Identifier FDM04 is 0.047201\n",
      "Average Item Visibility of all Items for Item Identifier FDH08 is 0.020679\n",
      "Average Item Visibility of all Items for Item Identifier NCQ06 is 0.045349\n",
      "Average Item Visibility of all Items for Item Identifier FDZ40 is 0.040251\n",
      "Average Item Visibility of all Items for Item Identifier NCM17 is 0.071194\n",
      "Average Item Visibility of all Items for Item Identifier FDU03 is 0.091869\n",
      "Average Item Visibility of all Items for Item Identifier NCX30 is 0.029970\n",
      "Average Item Visibility of all Items for Item Identifier FDV08 is 0.028598\n",
      "Average Item Visibility of all Items for Item Identifier DRK47 is 0.064152\n",
      "Average Item Visibility of all Items for Item Identifier DRI47 is 0.023286\n",
      "Average Item Visibility of all Items for Item Identifier FDR35 is 0.020703\n",
      "Average Item Visibility of all Items for Item Identifier FDK03 is 0.081125\n",
      "Average Item Visibility of all Items for Item Identifier FDZ59 is 0.128720\n",
      "Average Item Visibility of all Items for Item Identifier FDL03 is 0.027114\n",
      "Average Item Visibility of all Items for Item Identifier DRC25 is 0.056185\n",
      "Average Item Visibility of all Items for Item Identifier NCG07 is 0.058136\n",
      "Average Item Visibility of all Items for Item Identifier FDL45 is 0.041962\n",
      "Average Item Visibility of all Items for Item Identifier FDC45 is 0.152779\n",
      "Average Item Visibility of all Items for Item Identifier FDI40 is 0.125894\n",
      "Average Item Visibility of all Items for Item Identifier FDQ11 is 0.077855\n",
      "Average Item Visibility of all Items for Item Identifier FDQ52 is 0.119493\n",
      "Average Item Visibility of all Items for Item Identifier FDJ27 is 0.122282\n",
      "Average Item Visibility of all Items for Item Identifier FDT26 is 0.067983\n",
      "Average Item Visibility of all Items for Item Identifier NCH07 is 0.111636\n",
      "Average Item Visibility of all Items for Item Identifier FDP44 is 0.088699\n",
      "Average Item Visibility of all Items for Item Identifier FDI48 is 0.055837\n",
      "Average Item Visibility of all Items for Item Identifier NCF06 is 0.024745\n",
      "Average Item Visibility of all Items for Item Identifier NCL05 is 0.053878\n",
      "Average Item Visibility of all Items for Item Identifier FDT24 is 0.206937\n",
      "Average Item Visibility of all Items for Item Identifier FDS11 is 0.062532\n",
      "Average Item Visibility of all Items for Item Identifier FDC28 is 0.054935\n",
      "Average Item Visibility of all Items for Item Identifier DRE15 is 0.021130\n",
      "Average Item Visibility of all Items for Item Identifier NCI42 is 0.010365\n",
      "Average Item Visibility of all Items for Item Identifier FDX37 is 0.071551\n",
      "Average Item Visibility of all Items for Item Identifier FDM09 is 0.100538\n",
      "Average Item Visibility of all Items for Item Identifier NCW54 is 0.096540\n",
      "Average Item Visibility of all Items for Item Identifier FDF47 is 0.097774\n",
      "Average Item Visibility of all Items for Item Identifier DRD01 is 0.061336\n",
      "Average Item Visibility of all Items for Item Identifier FDN25 is 0.070419\n",
      "Average Item Visibility of all Items for Item Identifier FDW36 is 0.067570\n",
      "Average Item Visibility of all Items for Item Identifier FDP20 is 0.045729\n",
      "Average Item Visibility of all Items for Item Identifier FDR45 is 0.029032\n",
      "Average Item Visibility of all Items for Item Identifier FDZ45 is 0.082831\n",
      "Average Item Visibility of all Items for Item Identifier FDB23 is 0.006432\n",
      "Average Item Visibility of all Items for Item Identifier NCM26 is 0.026658\n",
      "Average Item Visibility of all Items for Item Identifier FDK40 is 0.021862\n",
      "Average Item Visibility of all Items for Item Identifier NCL42 is 0.040457\n",
      "Average Item Visibility of all Items for Item Identifier FDY04 is 0.042535\n",
      "Average Item Visibility of all Items for Item Identifier NCG30 is 0.126339\n",
      "Average Item Visibility of all Items for Item Identifier NCH29 is 0.034531\n"
     ]
    },
    {
     "name": "stdout",
     "output_type": "stream",
     "text": [
      "Average Item Visibility of all Items for Item Identifier NCM29 is 0.019357\n",
      "Average Item Visibility of all Items for Item Identifier FDD53 is 0.056844\n",
      "Average Item Visibility of all Items for Item Identifier NCP41 is 0.021998\n",
      "Average Item Visibility of all Items for Item Identifier FDJ28 is 0.026812\n",
      "Average Item Visibility of all Items for Item Identifier FDH44 is 0.028817\n",
      "Average Item Visibility of all Items for Item Identifier NCY54 is 0.177540\n",
      "Average Item Visibility of all Items for Item Identifier DRA59 is 0.153963\n",
      "Average Item Visibility of all Items for Item Identifier FDS55 is 0.089910\n",
      "Average Item Visibility of all Items for Item Identifier NCN19 is 0.013938\n",
      "Average Item Visibility of all Items for Item Identifier FDH09 is 0.056125\n",
      "Average Item Visibility of all Items for Item Identifier FDS25 is 0.140202\n",
      "Average Item Visibility of all Items for Item Identifier NCI30 is 0.066418\n",
      "Average Item Visibility of all Items for Item Identifier FDM33 is 0.087861\n",
      "Average Item Visibility of all Items for Item Identifier NCA53 is 0.011137\n",
      "Average Item Visibility of all Items for Item Identifier FDS56 is 0.043149\n",
      "Average Item Visibility of all Items for Item Identifier FDT07 is 0.084633\n",
      "Average Item Visibility of all Items for Item Identifier FDJ10 is 0.129542\n",
      "Average Item Visibility of all Items for Item Identifier FDA38 is 0.030294\n",
      "Average Item Visibility of all Items for Item Identifier FDW32 is 0.113557\n",
      "Average Item Visibility of all Items for Item Identifier NCW18 is 0.059261\n",
      "Average Item Visibility of all Items for Item Identifier FDQ44 is 0.036203\n",
      "Average Item Visibility of all Items for Item Identifier FDQ34 is 0.179895\n",
      "Average Item Visibility of all Items for Item Identifier FDN08 is 0.103312\n",
      "Average Item Visibility of all Items for Item Identifier DRG48 is 0.014563\n",
      "Average Item Visibility of all Items for Item Identifier FDH52 is 0.054904\n",
      "Average Item Visibility of all Items for Item Identifier NCH43 is 0.079527\n",
      "Average Item Visibility of all Items for Item Identifier FDD35 is 0.025877\n",
      "Average Item Visibility of all Items for Item Identifier FDR01 is 0.059418\n",
      "Average Item Visibility of all Items for Item Identifier FDS23 is 0.158733\n",
      "Average Item Visibility of all Items for Item Identifier FDJ53 is 0.071332\n",
      "Average Item Visibility of all Items for Item Identifier FDA32 is 0.037278\n",
      "Average Item Visibility of all Items for Item Identifier FDX01 is 0.026889\n",
      "Average Item Visibility of all Items for Item Identifier FDA48 is 0.114991\n",
      "Average Item Visibility of all Items for Item Identifier FDI09 is 0.129580\n",
      "Average Item Visibility of all Items for Item Identifier DRF13 is 0.029861\n",
      "Average Item Visibility of all Items for Item Identifier FDK25 is 0.176569\n",
      "Average Item Visibility of all Items for Item Identifier FDC20 is 0.027628\n",
      "Average Item Visibility of all Items for Item Identifier FDQ19 is 0.016772\n",
      "Average Item Visibility of all Items for Item Identifier FDV50 is 0.122827\n",
      "Average Item Visibility of all Items for Item Identifier DRG37 is 0.021475\n",
      "Average Item Visibility of all Items for Item Identifier FDS08 is 0.056866\n",
      "Average Item Visibility of all Items for Item Identifier FDG22 is 0.041388\n",
      "Average Item Visibility of all Items for Item Identifier DRJ47 is 0.044233\n",
      "Average Item Visibility of all Items for Item Identifier FDZ43 is 0.057038\n",
      "Average Item Visibility of all Items for Item Identifier FDJ50 is 0.021610\n",
      "Average Item Visibility of all Items for Item Identifier FDV35 is 0.128380\n",
      "Average Item Visibility of all Items for Item Identifier DRL35 is 0.030721\n",
      "Average Item Visibility of all Items for Item Identifier FDS24 is 0.062293\n",
      "Average Item Visibility of all Items for Item Identifier FDS13 is 0.154212\n",
      "Average Item Visibility of all Items for Item Identifier FDW26 is 0.124044\n",
      "Average Item Visibility of all Items for Item Identifier FDQ12 is 0.040707\n",
      "Average Item Visibility of all Items for Item Identifier FDL36 is 0.091651\n",
      "Average Item Visibility of all Items for Item Identifier DRJ11 is 0.096636\n",
      "Average Item Visibility of all Items for Item Identifier NCT17 is 0.041883\n",
      "Average Item Visibility of all Items for Item Identifier DRH36 is 0.038443\n",
      "Average Item Visibility of all Items for Item Identifier NCA17 is 0.045542\n",
      "Average Item Visibility of all Items for Item Identifier FDG41 is 0.076774\n",
      "Average Item Visibility of all Items for Item Identifier NCS38 is 0.090375\n",
      "Average Item Visibility of all Items for Item Identifier FDQ16 is 0.041807\n",
      "Average Item Visibility of all Items for Item Identifier FDS40 is 0.016880\n",
      "Average Item Visibility of all Items for Item Identifier FDV31 is 0.142778\n",
      "Average Item Visibility of all Items for Item Identifier NCD42 is 0.012659\n",
      "Average Item Visibility of all Items for Item Identifier FDW21 is 0.005964\n",
      "Average Item Visibility of all Items for Item Identifier DRF60 is 0.052229\n",
      "Average Item Visibility of all Items for Item Identifier FDQ36 is 0.161971\n",
      "Average Item Visibility of all Items for Item Identifier FDP34 is 0.163181\n",
      "Average Item Visibility of all Items for Item Identifier FDI02 is 0.114838\n",
      "Average Item Visibility of all Items for Item Identifier FDG50 is 0.016769\n",
      "Average Item Visibility of all Items for Item Identifier FDV48 is 0.057462\n",
      "Average Item Visibility of all Items for Item Identifier FDH02 is 0.020838\n",
      "Average Item Visibility of all Items for Item Identifier NCD43 is 0.021731\n",
      "Average Item Visibility of all Items for Item Identifier FDE46 is 0.017743\n",
      "Average Item Visibility of all Items for Item Identifier NCO42 is 0.024690\n",
      "Average Item Visibility of all Items for Item Identifier FDR40 is 0.008023\n",
      "Average Item Visibility of all Items for Item Identifier DRE48 is 0.017326\n",
      "Average Item Visibility of all Items for Item Identifier FDV16 is 0.091948\n",
      "Average Item Visibility of all Items for Item Identifier FDY19 is 0.041436\n",
      "Average Item Visibility of all Items for Item Identifier FDD41 is 0.087312\n",
      "Average Item Visibility of all Items for Item Identifier NCK07 is 0.048793\n",
      "Average Item Visibility of all Items for Item Identifier FDZ60 is 0.137301\n",
      "Average Item Visibility of all Items for Item Identifier FDW47 is 0.057408\n",
      "Average Item Visibility of all Items for Item Identifier FDX58 is 0.047468\n",
      "Average Item Visibility of all Items for Item Identifier FDS04 is 0.163296\n",
      "Average Item Visibility of all Items for Item Identifier FDK16 is 0.115335\n",
      "Average Item Visibility of all Items for Item Identifier NCU42 is 0.019534\n",
      "Average Item Visibility of all Items for Item Identifier FDS37 is 0.035576\n",
      "Average Item Visibility of all Items for Item Identifier FDO25 is 0.141774\n",
      "Average Item Visibility of all Items for Item Identifier FDS57 is 0.116313\n",
      "Average Item Visibility of all Items for Item Identifier FDI52 is 0.104893\n",
      "Average Item Visibility of all Items for Item Identifier FDG40 is 0.046541\n",
      "Average Item Visibility of all Items for Item Identifier FDU49 is 0.030752\n",
      "Average Item Visibility of all Items for Item Identifier NCM30 is 0.074568\n",
      "Average Item Visibility of all Items for Item Identifier DRO47 is 0.127597\n",
      "Average Item Visibility of all Items for Item Identifier NCY06 is 0.061269\n",
      "Average Item Visibility of all Items for Item Identifier NCL41 is 0.047038\n",
      "Average Item Visibility of all Items for Item Identifier FDM58 is 0.090571\n",
      "Average Item Visibility of all Items for Item Identifier FDI07 is 0.037403\n",
      "Average Item Visibility of all Items for Item Identifier DRL47 is 0.038708\n",
      "Average Item Visibility of all Items for Item Identifier FDQ25 is 0.032091\n",
      "Average Item Visibility of all Items for Item Identifier FDE26 is 0.101049\n",
      "Average Item Visibility of all Items for Item Identifier FDD56 is 0.115633\n",
      "Average Item Visibility of all Items for Item Identifier FDQ13 is 0.011969\n",
      "Average Item Visibility of all Items for Item Identifier DRD25 is 0.095074\n",
      "Average Item Visibility of all Items for Item Identifier FDT16 is 0.048690\n",
      "Average Item Visibility of all Items for Item Identifier NCB54 is 0.050184\n",
      "Average Item Visibility of all Items for Item Identifier FDA31 is 0.110330\n",
      "Average Item Visibility of all Items for Item Identifier FDM12 is 0.085748\n",
      "Average Item Visibility of all Items for Item Identifier FDY47 is 0.059731\n",
      "Average Item Visibility of all Items for Item Identifier FDT03 is 0.010971\n",
      "Average Item Visibility of all Items for Item Identifier FDB49 is 0.037349\n",
      "Average Item Visibility of all Items for Item Identifier FDE47 is 0.037967\n",
      "Average Item Visibility of all Items for Item Identifier FDU23 is 0.023820\n",
      "Average Item Visibility of all Items for Item Identifier FDV09 is 0.024258\n",
      "Average Item Visibility of all Items for Item Identifier NCA30 is 0.151137\n",
      "Average Item Visibility of all Items for Item Identifier FDH41 is 0.092222\n",
      "Average Item Visibility of all Items for Item Identifier FDS43 is 0.040549\n"
     ]
    },
    {
     "name": "stdout",
     "output_type": "stream",
     "text": [
      "Average Item Visibility of all Items for Item Identifier FDP37 is 0.164909\n",
      "Average Item Visibility of all Items for Item Identifier FDJ09 is 0.058541\n",
      "Average Item Visibility of all Items for Item Identifier FDC57 is 0.064885\n",
      "Average Item Visibility of all Items for Item Identifier DRD27 is 0.028353\n",
      "Average Item Visibility of all Items for Item Identifier FDI12 is 0.100631\n",
      "Average Item Visibility of all Items for Item Identifier FDQ33 is 0.091421\n",
      "Average Item Visibility of all Items for Item Identifier FDQ27 is 0.052622\n",
      "Average Item Visibility of all Items for Item Identifier FDH34 is 0.035780\n",
      "Average Item Visibility of all Items for Item Identifier FDB20 is 0.052066\n",
      "Average Item Visibility of all Items for Item Identifier DRL60 is 0.032595\n",
      "Average Item Visibility of all Items for Item Identifier DRJ23 is 0.048759\n",
      "Average Item Visibility of all Items for Item Identifier FDQ26 is 0.067948\n",
      "Average Item Visibility of all Items for Item Identifier NCA06 is 0.143369\n",
      "Average Item Visibility of all Items for Item Identifier FDJ07 is 0.016871\n",
      "Average Item Visibility of all Items for Item Identifier FDP56 is 0.046563\n",
      "Average Item Visibility of all Items for Item Identifier FDF26 is 0.051924\n",
      "Average Item Visibility of all Items for Item Identifier FDA11 is 0.043299\n",
      "Average Item Visibility of all Items for Item Identifier DRI23 is 0.137429\n",
      "Average Item Visibility of all Items for Item Identifier NCJ05 is 0.046099\n",
      "Average Item Visibility of all Items for Item Identifier FDI21 is 0.062053\n",
      "Average Item Visibility of all Items for Item Identifier FDH12 is 0.101097\n",
      "Average Item Visibility of all Items for Item Identifier FDD02 is 0.061646\n",
      "Average Item Visibility of all Items for Item Identifier FDL28 is 0.063142\n",
      "Average Item Visibility of all Items for Item Identifier FDR10 is 0.011405\n",
      "Average Item Visibility of all Items for Item Identifier FDR15 is 0.037045\n",
      "Average Item Visibility of all Items for Item Identifier FDQ40 is 0.041752\n",
      "Average Item Visibility of all Items for Item Identifier FDS34 is 0.076824\n",
      "Average Item Visibility of all Items for Item Identifier FDT56 is 0.131194\n",
      "Average Item Visibility of all Items for Item Identifier FDU24 is 0.166503\n",
      "Average Item Visibility of all Items for Item Identifier FDX11 is 0.106870\n",
      "Average Item Visibility of all Items for Item Identifier FDF35 is 0.154242\n",
      "Average Item Visibility of all Items for Item Identifier FDD22 is 0.099930\n",
      "Average Item Visibility of all Items for Item Identifier FDT60 is 0.087071\n",
      "Average Item Visibility of all Items for Item Identifier FDF17 is 0.042752\n",
      "Average Item Visibility of all Items for Item Identifier NCP53 is 0.032924\n",
      "Average Item Visibility of all Items for Item Identifier FDF29 is 0.019933\n",
      "Average Item Visibility of all Items for Item Identifier FDI10 is 0.078297\n",
      "Average Item Visibility of all Items for Item Identifier FDR09 is 0.085226\n",
      "Average Item Visibility of all Items for Item Identifier FDO03 is 0.043818\n",
      "Average Item Visibility of all Items for Item Identifier FDD26 is 0.089252\n",
      "Average Item Visibility of all Items for Item Identifier FDO39 is 0.137412\n",
      "Average Item Visibility of all Items for Item Identifier FDX51 is 0.025046\n",
      "Average Item Visibility of all Items for Item Identifier FDC38 is 0.122572\n",
      "Average Item Visibility of all Items for Item Identifier FDP07 is 0.089993\n",
      "Average Item Visibility of all Items for Item Identifier FDK27 is 0.010294\n",
      "Average Item Visibility of all Items for Item Identifier FDP31 is 0.161657\n",
      "Average Item Visibility of all Items for Item Identifier FDM10 is 0.075937\n",
      "Average Item Visibility of all Items for Item Identifier FDD11 is 0.030632\n",
      "Average Item Visibility of all Items for Item Identifier FDN45 is 0.118014\n",
      "Average Item Visibility of all Items for Item Identifier FDJ04 is 0.124590\n",
      "Average Item Visibility of all Items for Item Identifier NCT42 is 0.024898\n",
      "Average Item Visibility of all Items for Item Identifier FDD45 is 0.116397\n",
      "Average Item Visibility of all Items for Item Identifier FDK56 is 0.130076\n",
      "Average Item Visibility of all Items for Item Identifier FDX03 is 0.075582\n",
      "Average Item Visibility of all Items for Item Identifier NCU18 is 0.062909\n",
      "Average Item Visibility of all Items for Item Identifier FDJ48 is 0.062770\n",
      "Average Item Visibility of all Items for Item Identifier FDV21 is 0.199861\n",
      "Average Item Visibility of all Items for Item Identifier FDK09 is 0.113562\n",
      "Average Item Visibility of all Items for Item Identifier NCN42 is 0.014227\n",
      "Average Item Visibility of all Items for Item Identifier FDL16 is 0.194102\n",
      "Average Item Visibility of all Items for Item Identifier FDM34 is 0.078796\n",
      "Average Item Visibility of all Items for Item Identifier FDG60 is 0.060647\n",
      "Average Item Visibility of all Items for Item Identifier DRD12 is 0.077332\n",
      "Average Item Visibility of all Items for Item Identifier FDJ16 is 0.115141\n",
      "Average Item Visibility of all Items for Item Identifier FDI22 is 0.113368\n",
      "Average Item Visibility of all Items for Item Identifier NCC07 is 0.023942\n",
      "Average Item Visibility of all Items for Item Identifier FDM16 is 0.033624\n",
      "Average Item Visibility of all Items for Item Identifier FDT36 is 0.126298\n",
      "Average Item Visibility of all Items for Item Identifier FDH38 is 0.011764\n",
      "Average Item Visibility of all Items for Item Identifier FDC16 is 0.020598\n",
      "Average Item Visibility of all Items for Item Identifier FDT33 is 0.034086\n",
      "Average Item Visibility of all Items for Item Identifier FDU31 is 0.025012\n",
      "Average Item Visibility of all Items for Item Identifier DRJ01 is 0.127971\n",
      "Average Item Visibility of all Items for Item Identifier NCF43 is 0.052032\n",
      "Average Item Visibility of all Items for Item Identifier NCS53 is 0.098243\n",
      "Average Item Visibility of all Items for Item Identifier DRB24 is 0.020624\n",
      "Average Item Visibility of all Items for Item Identifier FDE23 is 0.053335\n",
      "Average Item Visibility of all Items for Item Identifier FDW60 is 0.017041\n",
      "Average Item Visibility of all Items for Item Identifier NCQ18 is 0.135066\n",
      "Average Item Visibility of all Items for Item Identifier NCE30 is 0.114034\n",
      "Average Item Visibility of all Items for Item Identifier FDW25 is 0.037367\n",
      "Average Item Visibility of all Items for Item Identifier NCY17 is 0.163118\n",
      "Average Item Visibility of all Items for Item Identifier NCS18 is 0.042269\n",
      "Average Item Visibility of all Items for Item Identifier FDB32 is 0.029040\n",
      "Average Item Visibility of all Items for Item Identifier FDG10 is 0.013539\n",
      "Average Item Visibility of all Items for Item Identifier FDF38 is 0.026347\n",
      "Average Item Visibility of all Items for Item Identifier FDW59 is 0.023331\n",
      "Average Item Visibility of all Items for Item Identifier FDY57 is 0.121467\n",
      "Average Item Visibility of all Items for Item Identifier FDY16 is 0.106010\n",
      "Average Item Visibility of all Items for Item Identifier FDA22 is 0.084444\n",
      "Average Item Visibility of all Items for Item Identifier FDV03 is 0.058067\n",
      "Average Item Visibility of all Items for Item Identifier FDP27 is 0.143766\n",
      "Average Item Visibility of all Items for Item Identifier FDZ37 is 0.019721\n",
      "Average Item Visibility of all Items for Item Identifier FDL10 is 0.039539\n",
      "Average Item Visibility of all Items for Item Identifier FDE09 is 0.029283\n",
      "Average Item Visibility of all Items for Item Identifier FDF33 is 0.025195\n",
      "Average Item Visibility of all Items for Item Identifier FDR31 is 0.056505\n",
      "Average Item Visibility of all Items for Item Identifier NCQ29 is 0.143362\n",
      "Average Item Visibility of all Items for Item Identifier NCI55 is 0.012648\n",
      "Average Item Visibility of all Items for Item Identifier FDD14 is 0.191247\n",
      "Average Item Visibility of all Items for Item Identifier NCD18 is 0.072725\n",
      "Average Item Visibility of all Items for Item Identifier NCE55 is 0.130052\n",
      "Average Item Visibility of all Items for Item Identifier FDX48 is 0.051474\n",
      "Average Item Visibility of all Items for Item Identifier DRF48 is 0.051907\n",
      "Average Item Visibility of all Items for Item Identifier FDU51 is 0.096608\n",
      "Average Item Visibility of all Items for Item Identifier NCC19 is 0.096739\n",
      "Average Item Visibility of all Items for Item Identifier NCO29 is 0.032291\n",
      "Average Item Visibility of all Items for Item Identifier FDX55 is 0.065644\n",
      "Average Item Visibility of all Items for Item Identifier FDZ19 is 0.093480\n",
      "Average Item Visibility of all Items for Item Identifier NCV53 is 0.021382\n",
      "Average Item Visibility of all Items for Item Identifier FDA35 is 0.053869\n",
      "Average Item Visibility of all Items for Item Identifier FDX24 is 0.016012\n",
      "Average Item Visibility of all Items for Item Identifier NCS05 is 0.020967\n",
      "Average Item Visibility of all Items for Item Identifier FDK04 is 0.059391\n",
      "Average Item Visibility of all Items for Item Identifier FDI58 is 0.070826\n",
      "Average Item Visibility of all Items for Item Identifier FDG58 is 0.106430\n",
      "Average Item Visibility of all Items for Item Identifier FDI60 is 0.042668\n",
      "Average Item Visibility of all Items for Item Identifier FDW52 is 0.037537\n",
      "Average Item Visibility of all Items for Item Identifier FDN38 is 0.103560\n",
      "Average Item Visibility of all Items for Item Identifier FDU39 is 0.036078\n",
      "Average Item Visibility of all Items for Item Identifier FDR25 is 0.139715\n",
      "Average Item Visibility of all Items for Item Identifier FDM44 is 0.037424\n",
      "Average Item Visibility of all Items for Item Identifier FDM27 is 0.182266\n",
      "Average Item Visibility of all Items for Item Identifier NCA29 is 0.030977\n",
      "Average Item Visibility of all Items for Item Identifier NCJ43 is 0.031635\n",
      "Average Item Visibility of all Items for Item Identifier FDX28 is 0.125421\n",
      "Average Item Visibility of all Items for Item Identifier FDW15 is 0.055006\n",
      "Average Item Visibility of all Items for Item Identifier FDO20 is 0.152440\n",
      "Average Item Visibility of all Items for Item Identifier NCR50 is 0.011808\n",
      "Average Item Visibility of all Items for Item Identifier FDN28 is 0.030315\n",
      "Average Item Visibility of all Items for Item Identifier FDY13 is 0.033412\n",
      "Average Item Visibility of all Items for Item Identifier FDA57 is 0.039595\n",
      "Average Item Visibility of all Items for Item Identifier FDB52 is 0.030448\n",
      "Average Item Visibility of all Items for Item Identifier FDS07 is 0.099980\n",
      "Average Item Visibility of all Items for Item Identifier FDO31 is 0.029006\n",
      "Average Item Visibility of all Items for Item Identifier FDP57 is 0.052596\n",
      "Average Item Visibility of all Items for Item Identifier FDO21 is 0.009780\n",
      "Average Item Visibility of all Items for Item Identifier FDW58 is 0.007549\n",
      "Average Item Visibility of all Items for Item Identifier NCL07 is 0.037199\n",
      "Average Item Visibility of all Items for Item Identifier FDU12 is 0.087757\n",
      "Average Item Visibility of all Items for Item Identifier FDV47 is 0.062443\n",
      "Average Item Visibility of all Items for Item Identifier FDU57 is 0.101557\n",
      "Average Item Visibility of all Items for Item Identifier FDF02 is 0.103862\n",
      "Average Item Visibility of all Items for Item Identifier DRG13 is 0.037215\n",
      "Average Item Visibility of all Items for Item Identifier NCN53 is 0.036550\n",
      "Average Item Visibility of all Items for Item Identifier FDI15 is 0.162711\n",
      "Average Item Visibility of all Items for Item Identifier NCN17 is 0.054981\n",
      "Average Item Visibility of all Items for Item Identifier FDN24 is 0.130342\n",
      "Average Item Visibility of all Items for Item Identifier DRH11 is 0.075518\n",
      "Average Item Visibility of all Items for Item Identifier FDJ15 is 0.023333\n",
      "Average Item Visibility of all Items for Item Identifier DRF51 is 0.166176\n",
      "Average Item Visibility of all Items for Item Identifier FDO37 is 0.023445\n",
      "Average Item Visibility of all Items for Item Identifier FDW10 is 0.094687\n",
      "Average Item Visibility of all Items for Item Identifier DRN37 is 0.109442\n",
      "Average Item Visibility of all Items for Item Identifier FDA37 is 0.055298\n"
     ]
    },
    {
     "name": "stdout",
     "output_type": "stream",
     "text": [
      "Average Item Visibility of all Items for Item Identifier FDU35 is 0.105711\n",
      "Average Item Visibility of all Items for Item Identifier FDS59 is 0.052828\n",
      "Average Item Visibility of all Items for Item Identifier FDL15 is 0.058394\n",
      "Average Item Visibility of all Items for Item Identifier FDB28 is 0.109276\n",
      "Average Item Visibility of all Items for Item Identifier FDY37 is 0.026548\n",
      "Average Item Visibility of all Items for Item Identifier FDP58 is 0.169242\n",
      "Average Item Visibility of all Items for Item Identifier FDF58 is 0.009558\n",
      "Average Item Visibility of all Items for Item Identifier FDB47 is 0.071455\n",
      "Average Item Visibility of all Items for Item Identifier FDV14 is 0.044505\n",
      "Average Item Visibility of all Items for Item Identifier FDC23 is 0.017979\n",
      "Average Item Visibility of all Items for Item Identifier FDU33 is 0.166709\n",
      "Average Item Visibility of all Items for Item Identifier DRO59 is 0.064445\n",
      "Average Item Visibility of all Items for Item Identifier FDD48 is 0.030251\n",
      "Average Item Visibility of all Items for Item Identifier NCK30 is 0.069258\n",
      "Average Item Visibility of all Items for Item Identifier FDW33 is 0.099295\n",
      "Average Item Visibility of all Items for Item Identifier FDT37 is 0.041932\n",
      "Average Item Visibility of all Items for Item Identifier FDP46 is 0.093266\n",
      "Average Item Visibility of all Items for Item Identifier NCC18 is 0.192384\n",
      "Average Item Visibility of all Items for Item Identifier FDU07 is 0.067362\n",
      "Average Item Visibility of all Items for Item Identifier FDE21 is 0.022986\n",
      "Average Item Visibility of all Items for Item Identifier FDX38 is 0.061974\n",
      "Average Item Visibility of all Items for Item Identifier FDH48 is 0.082138\n",
      "Average Item Visibility of all Items for Item Identifier FDI38 is 0.017104\n",
      "Average Item Visibility of all Items for Item Identifier NCX53 is 0.019964\n",
      "Average Item Visibility of all Items for Item Identifier NCN30 is 0.018896\n",
      "Average Item Visibility of all Items for Item Identifier FDK33 is 0.012642\n",
      "Average Item Visibility of all Items for Item Identifier FDU26 is 0.051331\n",
      "Average Item Visibility of all Items for Item Identifier FDR39 is 0.084001\n",
      "Average Item Visibility of all Items for Item Identifier NCG55 is 0.039160\n",
      "Average Item Visibility of all Items for Item Identifier NCC54 is 0.108792\n",
      "Average Item Visibility of all Items for Item Identifier FDR33 is 0.030182\n",
      "Average Item Visibility of all Items for Item Identifier FDT14 is 0.127681\n",
      "Average Item Visibility of all Items for Item Identifier DRL49 is 0.062851\n",
      "Average Item Visibility of all Items for Item Identifier NCT30 is 0.099506\n",
      "Average Item Visibility of all Items for Item Identifier FDU27 is 0.194638\n",
      "Average Item Visibility of all Items for Item Identifier FDS20 is 0.053980\n",
      "Average Item Visibility of all Items for Item Identifier FDA07 is 0.033931\n",
      "Average Item Visibility of all Items for Item Identifier FDZ51 is 0.061921\n",
      "Average Item Visibility of all Items for Item Identifier NCN54 is 0.021376\n",
      "Average Item Visibility of all Items for Item Identifier FDR11 is 0.142630\n",
      "Average Item Visibility of all Items for Item Identifier NCR42 is 0.047223\n",
      "Average Item Visibility of all Items for Item Identifier FDX04 is 0.045074\n",
      "Average Item Visibility of all Items for Item Identifier FDN03 is 0.019374\n",
      "Average Item Visibility of all Items for Item Identifier FDM03 is 0.123422\n",
      "Average Item Visibility of all Items for Item Identifier FDT23 is 0.074833\n",
      "Average Item Visibility of all Items for Item Identifier FDB50 is 0.154028\n",
      "Average Item Visibility of all Items for Item Identifier NCG54 is 0.079831\n",
      "Average Item Visibility of all Items for Item Identifier FDJ52 is 0.017834\n",
      "Average Item Visibility of all Items for Item Identifier FDE28 is 0.195484\n",
      "Average Item Visibility of all Items for Item Identifier FDA58 is 0.103716\n",
      "Average Item Visibility of all Items for Item Identifier DRB01 is 0.082126\n",
      "Average Item Visibility of all Items for Item Identifier NCZ29 is 0.083415\n",
      "Average Item Visibility of all Items for Item Identifier FDF50 is 0.117213\n",
      "Average Item Visibility of all Items for Item Identifier FDT51 is 0.014817\n",
      "Average Item Visibility of all Items for Item Identifier FDP40 is 0.039520\n",
      "Average Item Visibility of all Items for Item Identifier FDF39 is 0.019537\n",
      "Average Item Visibility of all Items for Item Identifier FDQ58 is 0.015331\n",
      "Average Item Visibility of all Items for Item Identifier FDA55 is 0.067664\n",
      "Average Item Visibility of all Items for Item Identifier FDA19 is 0.064424\n",
      "Average Item Visibility of all Items for Item Identifier FDF59 is 0.071373\n",
      "Average Item Visibility of all Items for Item Identifier FDJ46 is 0.044813\n",
      "Average Item Visibility of all Items for Item Identifier FDC47 is 0.147221\n",
      "Average Item Visibility of all Items for Item Identifier FDC22 is 0.136608\n",
      "Average Item Visibility of all Items for Item Identifier FDD39 is 0.077741\n",
      "Average Item Visibility of all Items for Item Identifier DRE01 is 0.223469\n",
      "Average Item Visibility of all Items for Item Identifier NCS30 is 0.103589\n",
      "Average Item Visibility of all Items for Item Identifier FDH47 is 0.143337\n",
      "Average Item Visibility of all Items for Item Identifier FDP08 is 0.112599\n",
      "Average Item Visibility of all Items for Item Identifier NCY42 is 0.015173\n",
      "Average Item Visibility of all Items for Item Identifier FDE44 is 0.171587\n",
      "Average Item Visibility of all Items for Item Identifier FDJ12 is 0.039123\n",
      "Average Item Visibility of all Items for Item Identifier FDV36 is 0.030751\n",
      "Average Item Visibility of all Items for Item Identifier NCW41 is 0.015439\n",
      "Average Item Visibility of all Items for Item Identifier FDX12 is 0.030467\n",
      "Average Item Visibility of all Items for Item Identifier NCY53 is 0.058553\n",
      "Average Item Visibility of all Items for Item Identifier NCH42 is 0.041495\n",
      "Average Item Visibility of all Items for Item Identifier FDH46 is 0.041292\n",
      "Average Item Visibility of all Items for Item Identifier FDV26 is 0.084333\n",
      "Average Item Visibility of all Items for Item Identifier DRI03 is 0.025578\n",
      "Average Item Visibility of all Items for Item Identifier NCL06 is 0.088339\n",
      "Average Item Visibility of all Items for Item Identifier NCO14 is 0.033637\n",
      "Average Item Visibility of all Items for Item Identifier FDI08 is 0.066442\n",
      "Average Item Visibility of all Items for Item Identifier FDZ14 is 0.047602\n",
      "Average Item Visibility of all Items for Item Identifier FDS14 is 0.049981\n",
      "Average Item Visibility of all Items for Item Identifier NCK53 is 0.041254\n",
      "Average Item Visibility of all Items for Item Identifier FDH56 is 0.076866\n",
      "Average Item Visibility of all Items for Item Identifier NCQ30 is 0.037410\n",
      "Average Item Visibility of all Items for Item Identifier FDG32 is 0.194920\n",
      "Average Item Visibility of all Items for Item Identifier FDK32 is 0.048955\n",
      "Average Item Visibility of all Items for Item Identifier FDY48 is 0.026725\n",
      "Average Item Visibility of all Items for Item Identifier NCU06 is 0.093048\n",
      "Average Item Visibility of all Items for Item Identifier FDM38 is 0.092733\n",
      "Average Item Visibility of all Items for Item Identifier FDT15 is 0.054891\n",
      "Average Item Visibility of all Items for Item Identifier NCJ19 is 0.134136\n",
      "Average Item Visibility of all Items for Item Identifier NCI06 is 0.054949\n",
      "Average Item Visibility of all Items for Item Identifier FDV19 is 0.039091\n",
      "Average Item Visibility of all Items for Item Identifier FDQ47 is 0.191240\n",
      "Average Item Visibility of all Items for Item Identifier NCW06 is 0.058968\n",
      "Average Item Visibility of all Items for Item Identifier FDO16 is 0.017167\n",
      "Average Item Visibility of all Items for Item Identifier DRN35 is 0.078190\n",
      "Average Item Visibility of all Items for Item Identifier FDV55 is 0.055013\n",
      "Average Item Visibility of all Items for Item Identifier FDB03 is 0.156976\n",
      "Average Item Visibility of all Items for Item Identifier FDJ32 is 0.057740\n",
      "Average Item Visibility of all Items for Item Identifier FDC34 is 0.194576\n",
      "Average Item Visibility of all Items for Item Identifier FDG05 is 0.087765\n",
      "Average Item Visibility of all Items for Item Identifier NCJ06 is 0.041198\n",
      "Average Item Visibility of all Items for Item Identifier FDD23 is 0.048774\n",
      "Average Item Visibility of all Items for Item Identifier FDX52 is 0.048407\n",
      "Average Item Visibility of all Items for Item Identifier FDO12 is 0.055024\n",
      "Average Item Visibility of all Items for Item Identifier FDT35 is 0.081916\n",
      "Average Item Visibility of all Items for Item Identifier FDU19 is 0.046827\n",
      "Average Item Visibility of all Items for Item Identifier FDY50 is 0.131103\n",
      "Average Item Visibility of all Items for Item Identifier FDE57 is 0.036299\n",
      "Average Item Visibility of all Items for Item Identifier FDE14 is 0.031487\n",
      "Average Item Visibility of all Items for Item Identifier FDG04 is 0.007210\n",
      "Average Item Visibility of all Items for Item Identifier DRL59 is 0.029190\n",
      "Average Item Visibility of all Items for Item Identifier FDI34 is 0.085322\n",
      "Average Item Visibility of all Items for Item Identifier FDC58 is 0.042034\n",
      "Average Item Visibility of all Items for Item Identifier FDT02 is 0.024252\n",
      "Average Item Visibility of all Items for Item Identifier FDH04 is 0.013536\n",
      "Average Item Visibility of all Items for Item Identifier FDK46 is 0.063132\n",
      "Average Item Visibility of all Items for Item Identifier FDR22 is 0.020372\n",
      "Average Item Visibility of all Items for Item Identifier FDH60 is 0.095909\n",
      "Average Item Visibility of all Items for Item Identifier FDY39 is 0.063845\n",
      "Average Item Visibility of all Items for Item Identifier NCF30 is 0.140655\n",
      "Average Item Visibility of all Items for Item Identifier FDN49 is 0.142236\n",
      "Average Item Visibility of all Items for Item Identifier DRC24 is 0.024942\n",
      "Average Item Visibility of all Items for Item Identifier FDS60 is 0.032473\n",
      "Average Item Visibility of all Items for Item Identifier FDZ02 is 0.044600\n",
      "Average Item Visibility of all Items for Item Identifier FDW16 is 0.041432\n",
      "Average Item Visibility of all Items for Item Identifier NCQ17 is 0.143227\n",
      "Average Item Visibility of all Items for Item Identifier NCO53 is 0.175470\n",
      "Average Item Visibility of all Items for Item Identifier FDU47 is 0.139658\n",
      "Average Item Visibility of all Items for Item Identifier FDK50 is 0.028392\n",
      "Average Item Visibility of all Items for Item Identifier NCE42 is 0.010587\n",
      "Average Item Visibility of all Items for Item Identifier FDZ09 is 0.116765\n",
      "Average Item Visibility of all Items for Item Identifier NCU30 is 0.034940\n",
      "Average Item Visibility of all Items for Item Identifier DRG36 is 0.095305\n",
      "Average Item Visibility of all Items for Item Identifier NCD31 is 0.017534\n",
      "Average Item Visibility of all Items for Item Identifier NCV29 is 0.029356\n",
      "Average Item Visibility of all Items for Item Identifier NCP17 is 0.027720\n",
      "Average Item Visibility of all Items for Item Identifier DRM49 is 0.152207\n",
      "Average Item Visibility of all Items for Item Identifier FDY14 is 0.070050\n",
      "Average Item Visibility of all Items for Item Identifier DRI59 is 0.040851\n",
      "Average Item Visibility of all Items for Item Identifier FDY01 is 0.170480\n",
      "Average Item Visibility of all Items for Item Identifier FDT47 is 0.024499\n",
      "Average Item Visibility of all Items for Item Identifier NCS29 is 0.078264\n",
      "Average Item Visibility of all Items for Item Identifier NCT53 is 0.066317\n",
      "Average Item Visibility of all Items for Item Identifier FDP21 is 0.030604\n",
      "Average Item Visibility of all Items for Item Identifier FDD33 is 0.108383\n",
      "Average Item Visibility of all Items for Item Identifier DRC49 is 0.065327\n",
      "Average Item Visibility of all Items for Item Identifier FDB10 is 0.067397\n",
      "Average Item Visibility of all Items for Item Identifier FDS39 is 0.022460\n",
      "Average Item Visibility of all Items for Item Identifier NCU29 is 0.031813\n",
      "Average Item Visibility of all Items for Item Identifier NCP14 is 0.110617\n",
      "Average Item Visibility of all Items for Item Identifier FDC48 is 0.018858\n",
      "Average Item Visibility of all Items for Item Identifier FDW14 is 0.038261\n",
      "Average Item Visibility of all Items for Item Identifier FDS36 is 0.046952\n",
      "Average Item Visibility of all Items for Item Identifier NCA18 is 0.065541\n",
      "Average Item Visibility of all Items for Item Identifier FDI36 is 0.062470\n",
      "Average Item Visibility of all Items for Item Identifier FDI05 is 0.127175\n",
      "Average Item Visibility of all Items for Item Identifier FDS22 is 0.023164\n",
      "Average Item Visibility of all Items for Item Identifier FDN40 is 0.086590\n",
      "Average Item Visibility of all Items for Item Identifier NCV18 is 0.105343\n",
      "Average Item Visibility of all Items for Item Identifier FDP15 is 0.083536\n",
      "Average Item Visibility of all Items for Item Identifier NCD55 is 0.028444\n",
      "Average Item Visibility of all Items for Item Identifier DRG25 is 0.019040\n",
      "Average Item Visibility of all Items for Item Identifier FDN51 is 0.020999\n",
      "Average Item Visibility of all Items for Item Identifier FDB46 is 0.093939\n",
      "Average Item Visibility of all Items for Item Identifier NCX17 is 0.114049\n",
      "Average Item Visibility of all Items for Item Identifier FDH31 is 0.020393\n",
      "Average Item Visibility of all Items for Item Identifier FDX13 is 0.047787\n",
      "Average Item Visibility of all Items for Item Identifier NCU53 is 0.049964\n",
      "Average Item Visibility of all Items for Item Identifier FDD28 is 0.053238\n",
      "Average Item Visibility of all Items for Item Identifier FDU43 is 0.057762\n",
      "Average Item Visibility of all Items for Item Identifier NCF55 is 0.021675\n",
      "Average Item Visibility of all Items for Item Identifier NCW30 is 0.011040\n",
      "Average Item Visibility of all Items for Item Identifier NCW05 is 0.148338\n"
     ]
    }
   ],
   "source": [
    "for j in train.Item_Identifier.unique():\n",
    "    avg = train[train['Item_Identifier'] == j]['Item_Visibility'].mean(skipna = True)\n",
    "    print(\"Average Item Visibility of all Items for Item Identifier %s is %f\" %(j, avg))"
   ]
  },
  {
   "cell_type": "code",
   "execution_count": 45,
   "metadata": {},
   "outputs": [],
   "source": [
    "iwvalues = []; iwindex = []\n",
    "\n",
    "for j in train.Item_Identifier.unique():\n",
    "    \n",
    "    avg = train[train['Item_Identifier'] == j]['Item_Visibility'].mean(skipna = True)\n",
    "    \n",
    "    result = train[train['Item_Identifier'] == j]['Item_Visibility'].fillna(avg)\n",
    "    \n",
    "    for k in result.values:\n",
    "        iwvalues.append(k)\n",
    "    for k in result.index:\n",
    "        iwindex.append(k)"
   ]
  },
  {
   "cell_type": "code",
   "execution_count": 46,
   "metadata": {},
   "outputs": [
    {
     "data": {
      "text/plain": [
       "0       0.016047\n",
       "831     0.016055\n",
       "2599    0.016019\n",
       "2643    0.016088\n",
       "4874    0.026818\n",
       "dtype: float64"
      ]
     },
     "execution_count": 46,
     "metadata": {},
     "output_type": "execute_result"
    }
   ],
   "source": [
    "result = pd.Series(iwvalues, index=iwindex)\n",
    "result.head()"
   ]
  },
  {
   "cell_type": "code",
   "execution_count": 47,
   "metadata": {},
   "outputs": [],
   "source": [
    "result.sort_index(inplace=True)"
   ]
  },
  {
   "cell_type": "code",
   "execution_count": 48,
   "metadata": {},
   "outputs": [
    {
     "data": {
      "text/plain": [
       "0    0.016047\n",
       "1    0.019278\n",
       "2    0.016760\n",
       "3    0.022911\n",
       "4    0.016164\n",
       "dtype: float64"
      ]
     },
     "execution_count": 48,
     "metadata": {},
     "output_type": "execute_result"
    }
   ],
   "source": [
    "result.head()"
   ]
  },
  {
   "cell_type": "code",
   "execution_count": 49,
   "metadata": {},
   "outputs": [],
   "source": [
    "train.drop('Item_Visibility', axis=1, inplace=True)"
   ]
  },
  {
   "cell_type": "code",
   "execution_count": 50,
   "metadata": {},
   "outputs": [],
   "source": [
    "train.insert(3, 'Item_Visibility', result.values)"
   ]
  },
  {
   "cell_type": "code",
   "execution_count": 51,
   "metadata": {},
   "outputs": [
    {
     "data": {
      "text/plain": [
       "Item_Identifier                 0\n",
       "Item_Weight                     0\n",
       "Item_Fat_Content                0\n",
       "Item_Visibility                 0\n",
       "Item_Type                       0\n",
       "Item_MRP                        0\n",
       "Outlet_Identifier               0\n",
       "Outlet_Establishment_Year       0\n",
       "Outlet_Size                  2410\n",
       "Outlet_Location_Type            0\n",
       "Outlet_Type                     0\n",
       "Item_Outlet_Sales               0\n",
       "dtype: int64"
      ]
     },
     "execution_count": 51,
     "metadata": {},
     "output_type": "execute_result"
    }
   ],
   "source": [
    "train.isnull().sum()"
   ]
  },
  {
   "cell_type": "markdown",
   "metadata": {},
   "source": [
    "### Missing values handling for Outlet Size"
   ]
  },
  {
   "cell_type": "markdown",
   "metadata": {},
   "source": [
    "### Check Unique values of Outlet Identifier, and find out Outlet Size for each Outlet Identifier"
   ]
  },
  {
   "cell_type": "code",
   "execution_count": 52,
   "metadata": {},
   "outputs": [
    {
     "data": {
      "text/plain": [
       "array(['OUT049', 'OUT018', 'OUT010', 'OUT013', 'OUT027', 'OUT045',\n",
       "       'OUT017', 'OUT046', 'OUT035', 'OUT019'], dtype=object)"
      ]
     },
     "execution_count": 52,
     "metadata": {},
     "output_type": "execute_result"
    }
   ],
   "source": [
    "train.Outlet_Identifier.unique()"
   ]
  },
  {
   "cell_type": "code",
   "execution_count": 53,
   "metadata": {},
   "outputs": [
    {
     "data": {
      "text/plain": [
       "Outlet_Identifier  Outlet_Size\n",
       "OUT013             High           932\n",
       "OUT018             Medium         928\n",
       "OUT019             Small          527\n",
       "OUT027             Medium         932\n",
       "OUT035             Small          930\n",
       "OUT046             Small          930\n",
       "OUT049             Medium         930\n",
       "Name: Outlet_Size, dtype: int64"
      ]
     },
     "execution_count": 53,
     "metadata": {},
     "output_type": "execute_result"
    }
   ],
   "source": [
    "train.groupby('Outlet_Identifier')['Outlet_Size'].value_counts()"
   ]
  },
  {
   "cell_type": "markdown",
   "metadata": {},
   "source": [
    "### Find info for each unique Outlet identified by its Outlet Identifier including Outlet Size, Outlet Location Type and Outlet Type"
   ]
  },
  {
   "cell_type": "code",
   "execution_count": 54,
   "metadata": {},
   "outputs": [
    {
     "name": "stdout",
     "output_type": "stream",
     "text": [
      "Outlet_Identifier: OUT049 | Outlet_Size: Medium\n",
      "Outlet_Location_Type: Tier 1 | Outlet_Type: Supermarket Type1\n",
      "\n",
      "Outlet_Identifier: OUT018 | Outlet_Size: Medium\n",
      "Outlet_Location_Type: Tier 3 | Outlet_Type: Supermarket Type2\n",
      "\n",
      "Outlet_Identifier: OUT010 | Outlet_Size: nan\n",
      "Outlet_Location_Type: Tier 3 | Outlet_Type: Grocery Store\n",
      "\n",
      "Outlet_Identifier: OUT013 | Outlet_Size: High\n",
      "Outlet_Location_Type: Tier 3 | Outlet_Type: Supermarket Type1\n",
      "\n",
      "Outlet_Identifier: OUT027 | Outlet_Size: Medium\n",
      "Outlet_Location_Type: Tier 3 | Outlet_Type: Supermarket Type3\n",
      "\n",
      "Outlet_Identifier: OUT045 | Outlet_Size: nan\n",
      "Outlet_Location_Type: Tier 2 | Outlet_Type: Supermarket Type1\n",
      "\n",
      "Outlet_Identifier: OUT017 | Outlet_Size: nan\n",
      "Outlet_Location_Type: Tier 2 | Outlet_Type: Supermarket Type1\n",
      "\n",
      "Outlet_Identifier: OUT046 | Outlet_Size: Small\n",
      "Outlet_Location_Type: Tier 1 | Outlet_Type: Supermarket Type1\n",
      "\n",
      "Outlet_Identifier: OUT035 | Outlet_Size: Small\n",
      "Outlet_Location_Type: Tier 2 | Outlet_Type: Supermarket Type1\n",
      "\n",
      "Outlet_Identifier: OUT019 | Outlet_Size: Small\n",
      "Outlet_Location_Type: Tier 1 | Outlet_Type: Grocery Store\n",
      "\n"
     ]
    }
   ],
   "source": [
    "for i in train['Outlet_Identifier'].unique():\n",
    "    os = train[train['Outlet_Identifier'] == i]['Outlet_Size'].values[0]\n",
    "    olt = train[train['Outlet_Identifier'] == i]['Outlet_Location_Type'].values[0]\n",
    "    ot = train[train['Outlet_Identifier'] == i]['Outlet_Type'].values[0]\n",
    "    print(\"Outlet_Identifier:\", i, \"| Outlet_Size:\", os)\n",
    "    print(\"Outlet_Location_Type:\", olt, \"| Outlet_Type:\", ot)\n",
    "    print(\"\")"
   ]
  },
  {
   "cell_type": "markdown",
   "metadata": {},
   "source": [
    "### After analysis, we came across that OUT010 should have outlet size Small, OUT017 should have Small and OUT045 should also have Small Outlet Size"
   ]
  },
  {
   "cell_type": "markdown",
   "metadata": {},
   "source": [
    "### Make these replacements"
   ]
  },
  {
   "cell_type": "code",
   "execution_count": 55,
   "metadata": {},
   "outputs": [],
   "source": [
    "r1 = train[train['Outlet_Identifier'] == 'OUT010']['Outlet_Size'].fillna(\"Small\")"
   ]
  },
  {
   "cell_type": "code",
   "execution_count": 56,
   "metadata": {},
   "outputs": [],
   "source": [
    "r2 = train[train['Outlet_Identifier'] == 'OUT017']['Outlet_Size'].fillna(\"Small\")"
   ]
  },
  {
   "cell_type": "code",
   "execution_count": 57,
   "metadata": {},
   "outputs": [],
   "source": [
    "r3 = train[train['Outlet_Identifier'] == 'OUT045']['Outlet_Size'].fillna(\"Small\")"
   ]
  },
  {
   "cell_type": "code",
   "execution_count": 58,
   "metadata": {},
   "outputs": [],
   "source": [
    "result = pd.concat([r1, r2, r3], axis=0)"
   ]
  },
  {
   "cell_type": "code",
   "execution_count": 59,
   "metadata": {},
   "outputs": [
    {
     "data": {
      "text/plain": [
       "3     Small\n",
       "28    Small\n",
       "30    Small\n",
       "45    Small\n",
       "65    Small\n",
       "Name: Outlet_Size, dtype: object"
      ]
     },
     "execution_count": 59,
     "metadata": {},
     "output_type": "execute_result"
    }
   ],
   "source": [
    "result.head()"
   ]
  },
  {
   "cell_type": "code",
   "execution_count": 60,
   "metadata": {},
   "outputs": [],
   "source": [
    "result.sort_index(inplace=True)"
   ]
  },
  {
   "cell_type": "code",
   "execution_count": 61,
   "metadata": {},
   "outputs": [
    {
     "data": {
      "text/plain": [
       "3     Small\n",
       "8     Small\n",
       "9     Small\n",
       "25    Small\n",
       "28    Small\n",
       "Name: Outlet_Size, dtype: object"
      ]
     },
     "execution_count": 61,
     "metadata": {},
     "output_type": "execute_result"
    }
   ],
   "source": [
    "result.head()"
   ]
  },
  {
   "cell_type": "markdown",
   "metadata": {},
   "source": [
    "### Make a series which contain Non Null values of Outlet Size"
   ]
  },
  {
   "cell_type": "code",
   "execution_count": 62,
   "metadata": {},
   "outputs": [],
   "source": [
    "osindex = []; osvalues = []\n",
    "for i, j in train['Outlet_Size'].isnull().items():\n",
    "    if j == False:\n",
    "        osindex.append(i)\n",
    "        osvalues.append(train['Outlet_Size'][i])"
   ]
  },
  {
   "cell_type": "code",
   "execution_count": 63,
   "metadata": {},
   "outputs": [
    {
     "data": {
      "text/plain": [
       "0    Medium\n",
       "1    Medium\n",
       "2    Medium\n",
       "4      High\n",
       "5    Medium\n",
       "dtype: object"
      ]
     },
     "execution_count": 63,
     "metadata": {},
     "output_type": "execute_result"
    }
   ],
   "source": [
    "remaining_items = pd.Series(osvalues, index=osindex)\n",
    "remaining_items.head()"
   ]
  },
  {
   "cell_type": "markdown",
   "metadata": {},
   "source": [
    "### Concat both these series"
   ]
  },
  {
   "cell_type": "code",
   "execution_count": 64,
   "metadata": {},
   "outputs": [],
   "source": [
    "result = pd.concat([result, remaining_items], axis=0)"
   ]
  },
  {
   "cell_type": "code",
   "execution_count": 65,
   "metadata": {},
   "outputs": [],
   "source": [
    "result.sort_index(inplace=True)"
   ]
  },
  {
   "cell_type": "code",
   "execution_count": 66,
   "metadata": {},
   "outputs": [
    {
     "data": {
      "text/plain": [
       "0    Medium\n",
       "1    Medium\n",
       "2    Medium\n",
       "3     Small\n",
       "4      High\n",
       "dtype: object"
      ]
     },
     "execution_count": 66,
     "metadata": {},
     "output_type": "execute_result"
    }
   ],
   "source": [
    "result.head()"
   ]
  },
  {
   "cell_type": "markdown",
   "metadata": {},
   "source": [
    "### Drop original Outlet Size column which contain Null Values and Replace the new column named as same which will contain Non Null Values"
   ]
  },
  {
   "cell_type": "code",
   "execution_count": 67,
   "metadata": {},
   "outputs": [],
   "source": [
    "train.drop('Outlet_Size', axis=1, inplace=True)"
   ]
  },
  {
   "cell_type": "code",
   "execution_count": 68,
   "metadata": {},
   "outputs": [],
   "source": [
    "train.insert(8, 'Outlet_Size', result)"
   ]
  },
  {
   "cell_type": "code",
   "execution_count": 69,
   "metadata": {},
   "outputs": [
    {
     "data": {
      "text/plain": [
       "Item_Identifier              0\n",
       "Item_Weight                  0\n",
       "Item_Fat_Content             0\n",
       "Item_Visibility              0\n",
       "Item_Type                    0\n",
       "Item_MRP                     0\n",
       "Outlet_Identifier            0\n",
       "Outlet_Establishment_Year    0\n",
       "Outlet_Size                  0\n",
       "Outlet_Location_Type         0\n",
       "Outlet_Type                  0\n",
       "Item_Outlet_Sales            0\n",
       "dtype: int64"
      ]
     },
     "execution_count": 69,
     "metadata": {},
     "output_type": "execute_result"
    }
   ],
   "source": [
    "train.isnull().sum()"
   ]
  },
  {
   "cell_type": "markdown",
   "metadata": {},
   "source": [
    "### Check Outliers presence in Numeric Columns"
   ]
  },
  {
   "cell_type": "code",
   "execution_count": 70,
   "metadata": {},
   "outputs": [
    {
     "data": {
      "text/plain": [
       "Item_Identifier               object\n",
       "Item_Weight                  float64\n",
       "Item_Fat_Content              object\n",
       "Item_Visibility              float64\n",
       "Item_Type                     object\n",
       "Item_MRP                     float64\n",
       "Outlet_Identifier             object\n",
       "Outlet_Establishment_Year      int64\n",
       "Outlet_Size                   object\n",
       "Outlet_Location_Type          object\n",
       "Outlet_Type                   object\n",
       "Item_Outlet_Sales            float64\n",
       "dtype: object"
      ]
     },
     "execution_count": 70,
     "metadata": {},
     "output_type": "execute_result"
    }
   ],
   "source": [
    "train.dtypes"
   ]
  },
  {
   "cell_type": "code",
   "execution_count": 71,
   "metadata": {},
   "outputs": [],
   "source": [
    "numeric_cols = [i for i in train.columns.tolist() if train[i].dtype == float]"
   ]
  },
  {
   "cell_type": "code",
   "execution_count": 72,
   "metadata": {},
   "outputs": [
    {
     "data": {
      "text/plain": [
       "['Item_Weight', 'Item_Visibility', 'Item_MRP', 'Item_Outlet_Sales']"
      ]
     },
     "execution_count": 72,
     "metadata": {},
     "output_type": "execute_result"
    }
   ],
   "source": [
    "numeric_cols"
   ]
  },
  {
   "cell_type": "code",
   "execution_count": 73,
   "metadata": {},
   "outputs": [
    {
     "name": "stdout",
     "output_type": "stream",
     "text": [
      "Column: Item_Weight\n"
     ]
    },
    {
     "data": {
      "image/png": "[encoded data removed]",
      "text/plain": [
       "<Figure size 432x288 with 1 Axes>"
      ]
     },
     "metadata": {},
     "output_type": "display_data"
    },
    {
     "name": "stdout",
     "output_type": "stream",
     "text": [
      "\n",
      "Column: Item_Visibility\n"
     ]
    },
    {
     "data": {
      "image/png": "[encoded data removed]",
      "text/plain": [
       "<Figure size 432x288 with 1 Axes>"
      ]
     },
     "metadata": {},
     "output_type": "display_data"
    },
    {
     "name": "stdout",
     "output_type": "stream",
     "text": [
      "\n",
      "Column: Item_MRP\n"
     ]
    },
    {
     "data": {
      "image/png": "[encoded data removed]",
      "text/plain": [
       "<Figure size 432x288 with 1 Axes>"
      ]
     },
     "metadata": {},
     "output_type": "display_data"
    },
    {
     "name": "stdout",
     "output_type": "stream",
     "text": [
      "\n",
      "Column: Item_Outlet_Sales\n"
     ]
    },
    {
     "data": {
      "image/png": "[encoded data removed]",
      "text/plain": [
       "<Figure size 432x288 with 1 Axes>"
      ]
     },
     "metadata": {},
     "output_type": "display_data"
    },
    {
     "name": "stdout",
     "output_type": "stream",
     "text": [
      "\n"
     ]
    }
   ],
   "source": [
    "for i in numeric_cols:\n",
    "    print(\"Column:\", i)\n",
    "    sb.boxplot(train[i])\n",
    "    plt.show()\n",
    "    print(\"\")"
   ]
  },
  {
   "cell_type": "code",
   "execution_count": 74,
   "metadata": {},
   "outputs": [],
   "source": [
    "trainnew = train.copy()"
   ]
  },
  {
   "cell_type": "markdown",
   "metadata": {},
   "source": [
    "### Remove Outliers"
   ]
  },
  {
   "cell_type": "code",
   "execution_count": 75,
   "metadata": {},
   "outputs": [],
   "source": [
    "def outlier_check():\n",
    "    outliers = set()\n",
    "\n",
    "    for i in ['Item_Visibility', 'Item_Outlet_Sales']:\n",
    "        q1 = np.percentile(trainnew[i], 25)\n",
    "        q3 = np.percentile(trainnew[i], 75)\n",
    "        iqr = q3 - q1\n",
    "        c1 = q1 - (1.5*iqr)\n",
    "        c2 = q3 + (1.5*iqr)\n",
    "        result = trainnew[(trainnew[i] > c2) | (trainnew[i] < c1)]\n",
    "        print(\"Outliers present in column %s are %d\" %(i, result.shape[0]))\n",
    "        outliers.update(result.index.tolist())\n",
    "\n",
    "    print(\"Total Outliers to be Remove:\", len(outliers))\n",
    "    trainnew.drop(labels=list(outliers), axis=0, inplace=True)\n",
    "    print(\"Total Rows Remaining in Dataset:\", trainnew.shape[0])"
   ]
  },
  {
   "cell_type": "code",
   "execution_count": 76,
   "metadata": {},
   "outputs": [
    {
     "name": "stdout",
     "output_type": "stream",
     "text": [
      "Outliers present in column Item_Visibility are 145\n",
      "Outliers present in column Item_Outlet_Sales are 186\n",
      "Total Outliers to be Remove: 330\n",
      "Total Rows Remaining in Dataset: 8189\n"
     ]
    }
   ],
   "source": [
    "outlier_check()"
   ]
  },
  {
   "cell_type": "code",
   "execution_count": 77,
   "metadata": {},
   "outputs": [
    {
     "data": {
      "text/plain": [
       "(8189, 12)"
      ]
     },
     "execution_count": 77,
     "metadata": {},
     "output_type": "execute_result"
    }
   ],
   "source": [
    "trainnew.shape"
   ]
  },
  {
   "cell_type": "code",
   "execution_count": 78,
   "metadata": {},
   "outputs": [
    {
     "data": {
      "text/html": [
       "<div>\n",
       "<style scoped>\n",
       "    .dataframe tbody tr th:only-of-type {\n",
       "        vertical-align: middle;\n",
       "    }\n",
       "\n",
       "    .dataframe tbody tr th {\n",
       "        vertical-align: top;\n",
       "    }\n",
       "\n",
       "    .dataframe thead th {\n",
       "        text-align: right;\n",
       "    }\n",
       "</style>\n",
       "<table border=\"1\" class=\"dataframe\">\n",
       "  <thead>\n",
       "    <tr style=\"text-align: right;\">\n",
       "      <th></th>\n",
       "      <th>Item_Identifier</th>\n",
       "      <th>Item_Weight</th>\n",
       "      <th>Item_Fat_Content</th>\n",
       "      <th>Item_Visibility</th>\n",
       "      <th>Item_Type</th>\n",
       "      <th>Item_MRP</th>\n",
       "      <th>Outlet_Identifier</th>\n",
       "      <th>Outlet_Establishment_Year</th>\n",
       "      <th>Outlet_Size</th>\n",
       "      <th>Outlet_Location_Type</th>\n",
       "      <th>Outlet_Type</th>\n",
       "      <th>Item_Outlet_Sales</th>\n",
       "    </tr>\n",
       "  </thead>\n",
       "  <tbody>\n",
       "    <tr>\n",
       "      <th>0</th>\n",
       "      <td>FDA15</td>\n",
       "      <td>9.30</td>\n",
       "      <td>Low Fat</td>\n",
       "      <td>0.016047</td>\n",
       "      <td>Dairy</td>\n",
       "      <td>249.8092</td>\n",
       "      <td>OUT049</td>\n",
       "      <td>1999</td>\n",
       "      <td>Medium</td>\n",
       "      <td>Tier 1</td>\n",
       "      <td>Supermarket Type1</td>\n",
       "      <td>3735.1380</td>\n",
       "    </tr>\n",
       "    <tr>\n",
       "      <th>1</th>\n",
       "      <td>DRC01</td>\n",
       "      <td>5.92</td>\n",
       "      <td>Regular</td>\n",
       "      <td>0.019278</td>\n",
       "      <td>Soft Drinks</td>\n",
       "      <td>48.2692</td>\n",
       "      <td>OUT018</td>\n",
       "      <td>2009</td>\n",
       "      <td>Medium</td>\n",
       "      <td>Tier 3</td>\n",
       "      <td>Supermarket Type2</td>\n",
       "      <td>443.4228</td>\n",
       "    </tr>\n",
       "    <tr>\n",
       "      <th>2</th>\n",
       "      <td>FDN15</td>\n",
       "      <td>17.50</td>\n",
       "      <td>Low Fat</td>\n",
       "      <td>0.016760</td>\n",
       "      <td>Meat</td>\n",
       "      <td>141.6180</td>\n",
       "      <td>OUT049</td>\n",
       "      <td>1999</td>\n",
       "      <td>Medium</td>\n",
       "      <td>Tier 1</td>\n",
       "      <td>Supermarket Type1</td>\n",
       "      <td>2097.2700</td>\n",
       "    </tr>\n",
       "    <tr>\n",
       "      <th>3</th>\n",
       "      <td>FDX07</td>\n",
       "      <td>19.20</td>\n",
       "      <td>Regular</td>\n",
       "      <td>0.022911</td>\n",
       "      <td>Fruits and Vegetables</td>\n",
       "      <td>182.0950</td>\n",
       "      <td>OUT010</td>\n",
       "      <td>1998</td>\n",
       "      <td>Small</td>\n",
       "      <td>Tier 3</td>\n",
       "      <td>Grocery Store</td>\n",
       "      <td>732.3800</td>\n",
       "    </tr>\n",
       "    <tr>\n",
       "      <th>4</th>\n",
       "      <td>NCD19</td>\n",
       "      <td>8.93</td>\n",
       "      <td>Low Fat</td>\n",
       "      <td>0.016164</td>\n",
       "      <td>Household</td>\n",
       "      <td>53.8614</td>\n",
       "      <td>OUT013</td>\n",
       "      <td>1987</td>\n",
       "      <td>High</td>\n",
       "      <td>Tier 3</td>\n",
       "      <td>Supermarket Type1</td>\n",
       "      <td>994.7052</td>\n",
       "    </tr>\n",
       "  </tbody>\n",
       "</table>\n",
       "</div>"
      ],
      "text/plain": [
       "  Item_Identifier  Item_Weight Item_Fat_Content  Item_Visibility  \\\n",
       "0           FDA15         9.30          Low Fat         0.016047   \n",
       "1           DRC01         5.92          Regular         0.019278   \n",
       "2           FDN15        17.50          Low Fat         0.016760   \n",
       "3           FDX07        19.20          Regular         0.022911   \n",
       "4           NCD19         8.93          Low Fat         0.016164   \n",
       "\n",
       "               Item_Type  Item_MRP Outlet_Identifier  \\\n",
       "0                  Dairy  249.8092            OUT049   \n",
       "1            Soft Drinks   48.2692            OUT018   \n",
       "2                   Meat  141.6180            OUT049   \n",
       "3  Fruits and Vegetables  182.0950            OUT010   \n",
       "4              Household   53.8614            OUT013   \n",
       "\n",
       "   Outlet_Establishment_Year Outlet_Size Outlet_Location_Type  \\\n",
       "0                       1999      Medium               Tier 1   \n",
       "1                       2009      Medium               Tier 3   \n",
       "2                       1999      Medium               Tier 1   \n",
       "3                       1998       Small               Tier 3   \n",
       "4                       1987        High               Tier 3   \n",
       "\n",
       "         Outlet_Type  Item_Outlet_Sales  \n",
       "0  Supermarket Type1          3735.1380  \n",
       "1  Supermarket Type2           443.4228  \n",
       "2  Supermarket Type1          2097.2700  \n",
       "3      Grocery Store           732.3800  \n",
       "4  Supermarket Type1           994.7052  "
      ]
     },
     "execution_count": 78,
     "metadata": {},
     "output_type": "execute_result"
    }
   ],
   "source": [
    "trainnew.head()"
   ]
  },
  {
   "cell_type": "markdown",
   "metadata": {},
   "source": [
    "### Create a new column which contains age of the outlet"
   ]
  },
  {
   "cell_type": "code",
   "execution_count": 79,
   "metadata": {},
   "outputs": [],
   "source": [
    "import datetime"
   ]
  },
  {
   "cell_type": "code",
   "execution_count": 80,
   "metadata": {},
   "outputs": [],
   "source": [
    "today = datetime.date.today()"
   ]
  },
  {
   "cell_type": "code",
   "execution_count": 81,
   "metadata": {},
   "outputs": [
    {
     "data": {
      "text/plain": [
       "datetime.date(2018, 12, 28)"
      ]
     },
     "execution_count": 81,
     "metadata": {},
     "output_type": "execute_result"
    }
   ],
   "source": [
    "today"
   ]
  },
  {
   "cell_type": "code",
   "execution_count": 82,
   "metadata": {},
   "outputs": [
    {
     "data": {
      "text/plain": [
       "2018"
      ]
     },
     "execution_count": 82,
     "metadata": {},
     "output_type": "execute_result"
    }
   ],
   "source": [
    "today.year"
   ]
  },
  {
   "cell_type": "code",
   "execution_count": 83,
   "metadata": {},
   "outputs": [],
   "source": [
    "trainnew['Age_of_Outlet'] = trainnew['Outlet_Establishment_Year'].apply(lambda i : today.year - i)"
   ]
  },
  {
   "cell_type": "code",
   "execution_count": 84,
   "metadata": {},
   "outputs": [
    {
     "data": {
      "text/html": [
       "<div>\n",
       "<style scoped>\n",
       "    .dataframe tbody tr th:only-of-type {\n",
       "        vertical-align: middle;\n",
       "    }\n",
       "\n",
       "    .dataframe tbody tr th {\n",
       "        vertical-align: top;\n",
       "    }\n",
       "\n",
       "    .dataframe thead th {\n",
       "        text-align: right;\n",
       "    }\n",
       "</style>\n",
       "<table border=\"1\" class=\"dataframe\">\n",
       "  <thead>\n",
       "    <tr style=\"text-align: right;\">\n",
       "      <th></th>\n",
       "      <th>Item_Identifier</th>\n",
       "      <th>Item_Weight</th>\n",
       "      <th>Item_Fat_Content</th>\n",
       "      <th>Item_Visibility</th>\n",
       "      <th>Item_Type</th>\n",
       "      <th>Item_MRP</th>\n",
       "      <th>Outlet_Identifier</th>\n",
       "      <th>Outlet_Establishment_Year</th>\n",
       "      <th>Outlet_Size</th>\n",
       "      <th>Outlet_Location_Type</th>\n",
       "      <th>Outlet_Type</th>\n",
       "      <th>Item_Outlet_Sales</th>\n",
       "      <th>Age_of_Outlet</th>\n",
       "    </tr>\n",
       "  </thead>\n",
       "  <tbody>\n",
       "    <tr>\n",
       "      <th>0</th>\n",
       "      <td>FDA15</td>\n",
       "      <td>9.30</td>\n",
       "      <td>Low Fat</td>\n",
       "      <td>0.016047</td>\n",
       "      <td>Dairy</td>\n",
       "      <td>249.8092</td>\n",
       "      <td>OUT049</td>\n",
       "      <td>1999</td>\n",
       "      <td>Medium</td>\n",
       "      <td>Tier 1</td>\n",
       "      <td>Supermarket Type1</td>\n",
       "      <td>3735.1380</td>\n",
       "      <td>19</td>\n",
       "    </tr>\n",
       "    <tr>\n",
       "      <th>1</th>\n",
       "      <td>DRC01</td>\n",
       "      <td>5.92</td>\n",
       "      <td>Regular</td>\n",
       "      <td>0.019278</td>\n",
       "      <td>Soft Drinks</td>\n",
       "      <td>48.2692</td>\n",
       "      <td>OUT018</td>\n",
       "      <td>2009</td>\n",
       "      <td>Medium</td>\n",
       "      <td>Tier 3</td>\n",
       "      <td>Supermarket Type2</td>\n",
       "      <td>443.4228</td>\n",
       "      <td>9</td>\n",
       "    </tr>\n",
       "    <tr>\n",
       "      <th>2</th>\n",
       "      <td>FDN15</td>\n",
       "      <td>17.50</td>\n",
       "      <td>Low Fat</td>\n",
       "      <td>0.016760</td>\n",
       "      <td>Meat</td>\n",
       "      <td>141.6180</td>\n",
       "      <td>OUT049</td>\n",
       "      <td>1999</td>\n",
       "      <td>Medium</td>\n",
       "      <td>Tier 1</td>\n",
       "      <td>Supermarket Type1</td>\n",
       "      <td>2097.2700</td>\n",
       "      <td>19</td>\n",
       "    </tr>\n",
       "    <tr>\n",
       "      <th>3</th>\n",
       "      <td>FDX07</td>\n",
       "      <td>19.20</td>\n",
       "      <td>Regular</td>\n",
       "      <td>0.022911</td>\n",
       "      <td>Fruits and Vegetables</td>\n",
       "      <td>182.0950</td>\n",
       "      <td>OUT010</td>\n",
       "      <td>1998</td>\n",
       "      <td>Small</td>\n",
       "      <td>Tier 3</td>\n",
       "      <td>Grocery Store</td>\n",
       "      <td>732.3800</td>\n",
       "      <td>20</td>\n",
       "    </tr>\n",
       "    <tr>\n",
       "      <th>4</th>\n",
       "      <td>NCD19</td>\n",
       "      <td>8.93</td>\n",
       "      <td>Low Fat</td>\n",
       "      <td>0.016164</td>\n",
       "      <td>Household</td>\n",
       "      <td>53.8614</td>\n",
       "      <td>OUT013</td>\n",
       "      <td>1987</td>\n",
       "      <td>High</td>\n",
       "      <td>Tier 3</td>\n",
       "      <td>Supermarket Type1</td>\n",
       "      <td>994.7052</td>\n",
       "      <td>31</td>\n",
       "    </tr>\n",
       "  </tbody>\n",
       "</table>\n",
       "</div>"
      ],
      "text/plain": [
       "  Item_Identifier  Item_Weight Item_Fat_Content  Item_Visibility  \\\n",
       "0           FDA15         9.30          Low Fat         0.016047   \n",
       "1           DRC01         5.92          Regular         0.019278   \n",
       "2           FDN15        17.50          Low Fat         0.016760   \n",
       "3           FDX07        19.20          Regular         0.022911   \n",
       "4           NCD19         8.93          Low Fat         0.016164   \n",
       "\n",
       "               Item_Type  Item_MRP Outlet_Identifier  \\\n",
       "0                  Dairy  249.8092            OUT049   \n",
       "1            Soft Drinks   48.2692            OUT018   \n",
       "2                   Meat  141.6180            OUT049   \n",
       "3  Fruits and Vegetables  182.0950            OUT010   \n",
       "4              Household   53.8614            OUT013   \n",
       "\n",
       "   Outlet_Establishment_Year Outlet_Size Outlet_Location_Type  \\\n",
       "0                       1999      Medium               Tier 1   \n",
       "1                       2009      Medium               Tier 3   \n",
       "2                       1999      Medium               Tier 1   \n",
       "3                       1998       Small               Tier 3   \n",
       "4                       1987        High               Tier 3   \n",
       "\n",
       "         Outlet_Type  Item_Outlet_Sales  Age_of_Outlet  \n",
       "0  Supermarket Type1          3735.1380             19  \n",
       "1  Supermarket Type2           443.4228              9  \n",
       "2  Supermarket Type1          2097.2700             19  \n",
       "3      Grocery Store           732.3800             20  \n",
       "4  Supermarket Type1           994.7052             31  "
      ]
     },
     "execution_count": 84,
     "metadata": {},
     "output_type": "execute_result"
    }
   ],
   "source": [
    "trainnew.head()"
   ]
  },
  {
   "cell_type": "markdown",
   "metadata": {},
   "source": [
    "### Drop unnecessary columns Item Identifier, Outlet Identifier, Outlet Establishment Year"
   ]
  },
  {
   "cell_type": "code",
   "execution_count": 85,
   "metadata": {},
   "outputs": [],
   "source": [
    "trainnew.drop(['Item_Identifier', 'Outlet_Identifier', 'Outlet_Establishment_Year'], axis=1, inplace=True)"
   ]
  },
  {
   "cell_type": "code",
   "execution_count": 86,
   "metadata": {},
   "outputs": [
    {
     "data": {
      "text/html": [
       "<div>\n",
       "<style scoped>\n",
       "    .dataframe tbody tr th:only-of-type {\n",
       "        vertical-align: middle;\n",
       "    }\n",
       "\n",
       "    .dataframe tbody tr th {\n",
       "        vertical-align: top;\n",
       "    }\n",
       "\n",
       "    .dataframe thead th {\n",
       "        text-align: right;\n",
       "    }\n",
       "</style>\n",
       "<table border=\"1\" class=\"dataframe\">\n",
       "  <thead>\n",
       "    <tr style=\"text-align: right;\">\n",
       "      <th></th>\n",
       "      <th>Item_Weight</th>\n",
       "      <th>Item_Fat_Content</th>\n",
       "      <th>Item_Visibility</th>\n",
       "      <th>Item_Type</th>\n",
       "      <th>Item_MRP</th>\n",
       "      <th>Outlet_Size</th>\n",
       "      <th>Outlet_Location_Type</th>\n",
       "      <th>Outlet_Type</th>\n",
       "      <th>Item_Outlet_Sales</th>\n",
       "      <th>Age_of_Outlet</th>\n",
       "    </tr>\n",
       "  </thead>\n",
       "  <tbody>\n",
       "    <tr>\n",
       "      <th>0</th>\n",
       "      <td>9.30</td>\n",
       "      <td>Low Fat</td>\n",
       "      <td>0.016047</td>\n",
       "      <td>Dairy</td>\n",
       "      <td>249.8092</td>\n",
       "      <td>Medium</td>\n",
       "      <td>Tier 1</td>\n",
       "      <td>Supermarket Type1</td>\n",
       "      <td>3735.1380</td>\n",
       "      <td>19</td>\n",
       "    </tr>\n",
       "    <tr>\n",
       "      <th>1</th>\n",
       "      <td>5.92</td>\n",
       "      <td>Regular</td>\n",
       "      <td>0.019278</td>\n",
       "      <td>Soft Drinks</td>\n",
       "      <td>48.2692</td>\n",
       "      <td>Medium</td>\n",
       "      <td>Tier 3</td>\n",
       "      <td>Supermarket Type2</td>\n",
       "      <td>443.4228</td>\n",
       "      <td>9</td>\n",
       "    </tr>\n",
       "    <tr>\n",
       "      <th>2</th>\n",
       "      <td>17.50</td>\n",
       "      <td>Low Fat</td>\n",
       "      <td>0.016760</td>\n",
       "      <td>Meat</td>\n",
       "      <td>141.6180</td>\n",
       "      <td>Medium</td>\n",
       "      <td>Tier 1</td>\n",
       "      <td>Supermarket Type1</td>\n",
       "      <td>2097.2700</td>\n",
       "      <td>19</td>\n",
       "    </tr>\n",
       "    <tr>\n",
       "      <th>3</th>\n",
       "      <td>19.20</td>\n",
       "      <td>Regular</td>\n",
       "      <td>0.022911</td>\n",
       "      <td>Fruits and Vegetables</td>\n",
       "      <td>182.0950</td>\n",
       "      <td>Small</td>\n",
       "      <td>Tier 3</td>\n",
       "      <td>Grocery Store</td>\n",
       "      <td>732.3800</td>\n",
       "      <td>20</td>\n",
       "    </tr>\n",
       "    <tr>\n",
       "      <th>4</th>\n",
       "      <td>8.93</td>\n",
       "      <td>Low Fat</td>\n",
       "      <td>0.016164</td>\n",
       "      <td>Household</td>\n",
       "      <td>53.8614</td>\n",
       "      <td>High</td>\n",
       "      <td>Tier 3</td>\n",
       "      <td>Supermarket Type1</td>\n",
       "      <td>994.7052</td>\n",
       "      <td>31</td>\n",
       "    </tr>\n",
       "  </tbody>\n",
       "</table>\n",
       "</div>"
      ],
      "text/plain": [
       "   Item_Weight Item_Fat_Content  Item_Visibility              Item_Type  \\\n",
       "0         9.30          Low Fat         0.016047                  Dairy   \n",
       "1         5.92          Regular         0.019278            Soft Drinks   \n",
       "2        17.50          Low Fat         0.016760                   Meat   \n",
       "3        19.20          Regular         0.022911  Fruits and Vegetables   \n",
       "4         8.93          Low Fat         0.016164              Household   \n",
       "\n",
       "   Item_MRP Outlet_Size Outlet_Location_Type        Outlet_Type  \\\n",
       "0  249.8092      Medium               Tier 1  Supermarket Type1   \n",
       "1   48.2692      Medium               Tier 3  Supermarket Type2   \n",
       "2  141.6180      Medium               Tier 1  Supermarket Type1   \n",
       "3  182.0950       Small               Tier 3      Grocery Store   \n",
       "4   53.8614        High               Tier 3  Supermarket Type1   \n",
       "\n",
       "   Item_Outlet_Sales  Age_of_Outlet  \n",
       "0          3735.1380             19  \n",
       "1           443.4228              9  \n",
       "2          2097.2700             19  \n",
       "3           732.3800             20  \n",
       "4           994.7052             31  "
      ]
     },
     "execution_count": 86,
     "metadata": {},
     "output_type": "execute_result"
    }
   ],
   "source": [
    "trainnew.head()"
   ]
  },
  {
   "cell_type": "code",
   "execution_count": 87,
   "metadata": {},
   "outputs": [],
   "source": [
    "r2scores = []; RMAE = []; algos = []"
   ]
  },
  {
   "cell_type": "markdown",
   "metadata": {},
   "source": [
    "### Prepare data for Linear Regression:"
   ]
  },
  {
   "cell_type": "code",
   "execution_count": 88,
   "metadata": {},
   "outputs": [],
   "source": [
    "trainnewlr = trainnew.copy()"
   ]
  },
  {
   "cell_type": "markdown",
   "metadata": {},
   "source": [
    "### Seperate features and target"
   ]
  },
  {
   "cell_type": "code",
   "execution_count": 89,
   "metadata": {},
   "outputs": [],
   "source": [
    "X = trainnewlr.drop(\"Item_Outlet_Sales\", axis = 1)\n",
    "y = trainnewlr['Item_Outlet_Sales']"
   ]
  },
  {
   "cell_type": "markdown",
   "metadata": {},
   "source": [
    "### Applying standard scaling"
   ]
  },
  {
   "cell_type": "code",
   "execution_count": 90,
   "metadata": {},
   "outputs": [
    {
     "data": {
      "text/html": [
       "<div>\n",
       "<style scoped>\n",
       "    .dataframe tbody tr th:only-of-type {\n",
       "        vertical-align: middle;\n",
       "    }\n",
       "\n",
       "    .dataframe tbody tr th {\n",
       "        vertical-align: top;\n",
       "    }\n",
       "\n",
       "    .dataframe thead th {\n",
       "        text-align: right;\n",
       "    }\n",
       "</style>\n",
       "<table border=\"1\" class=\"dataframe\">\n",
       "  <thead>\n",
       "    <tr style=\"text-align: right;\">\n",
       "      <th></th>\n",
       "      <th>Item_Weight</th>\n",
       "      <th>Item_Fat_Content</th>\n",
       "      <th>Item_Visibility</th>\n",
       "      <th>Item_Type</th>\n",
       "      <th>Item_MRP</th>\n",
       "      <th>Outlet_Size</th>\n",
       "      <th>Outlet_Location_Type</th>\n",
       "      <th>Outlet_Type</th>\n",
       "      <th>Age_of_Outlet</th>\n",
       "    </tr>\n",
       "  </thead>\n",
       "  <tbody>\n",
       "    <tr>\n",
       "      <th>0</th>\n",
       "      <td>9.30</td>\n",
       "      <td>Low Fat</td>\n",
       "      <td>0.016047</td>\n",
       "      <td>Dairy</td>\n",
       "      <td>249.8092</td>\n",
       "      <td>Medium</td>\n",
       "      <td>Tier 1</td>\n",
       "      <td>Supermarket Type1</td>\n",
       "      <td>19</td>\n",
       "    </tr>\n",
       "    <tr>\n",
       "      <th>1</th>\n",
       "      <td>5.92</td>\n",
       "      <td>Regular</td>\n",
       "      <td>0.019278</td>\n",
       "      <td>Soft Drinks</td>\n",
       "      <td>48.2692</td>\n",
       "      <td>Medium</td>\n",
       "      <td>Tier 3</td>\n",
       "      <td>Supermarket Type2</td>\n",
       "      <td>9</td>\n",
       "    </tr>\n",
       "    <tr>\n",
       "      <th>2</th>\n",
       "      <td>17.50</td>\n",
       "      <td>Low Fat</td>\n",
       "      <td>0.016760</td>\n",
       "      <td>Meat</td>\n",
       "      <td>141.6180</td>\n",
       "      <td>Medium</td>\n",
       "      <td>Tier 1</td>\n",
       "      <td>Supermarket Type1</td>\n",
       "      <td>19</td>\n",
       "    </tr>\n",
       "    <tr>\n",
       "      <th>3</th>\n",
       "      <td>19.20</td>\n",
       "      <td>Regular</td>\n",
       "      <td>0.022911</td>\n",
       "      <td>Fruits and Vegetables</td>\n",
       "      <td>182.0950</td>\n",
       "      <td>Small</td>\n",
       "      <td>Tier 3</td>\n",
       "      <td>Grocery Store</td>\n",
       "      <td>20</td>\n",
       "    </tr>\n",
       "    <tr>\n",
       "      <th>4</th>\n",
       "      <td>8.93</td>\n",
       "      <td>Low Fat</td>\n",
       "      <td>0.016164</td>\n",
       "      <td>Household</td>\n",
       "      <td>53.8614</td>\n",
       "      <td>High</td>\n",
       "      <td>Tier 3</td>\n",
       "      <td>Supermarket Type1</td>\n",
       "      <td>31</td>\n",
       "    </tr>\n",
       "  </tbody>\n",
       "</table>\n",
       "</div>"
      ],
      "text/plain": [
       "   Item_Weight Item_Fat_Content  Item_Visibility              Item_Type  \\\n",
       "0         9.30          Low Fat         0.016047                  Dairy   \n",
       "1         5.92          Regular         0.019278            Soft Drinks   \n",
       "2        17.50          Low Fat         0.016760                   Meat   \n",
       "3        19.20          Regular         0.022911  Fruits and Vegetables   \n",
       "4         8.93          Low Fat         0.016164              Household   \n",
       "\n",
       "   Item_MRP Outlet_Size Outlet_Location_Type        Outlet_Type  Age_of_Outlet  \n",
       "0  249.8092      Medium               Tier 1  Supermarket Type1             19  \n",
       "1   48.2692      Medium               Tier 3  Supermarket Type2              9  \n",
       "2  141.6180      Medium               Tier 1  Supermarket Type1             19  \n",
       "3  182.0950       Small               Tier 3      Grocery Store             20  \n",
       "4   53.8614        High               Tier 3  Supermarket Type1             31  "
      ]
     },
     "execution_count": 90,
     "metadata": {},
     "output_type": "execute_result"
    }
   ],
   "source": [
    "X.head()"
   ]
  },
  {
   "cell_type": "code",
   "execution_count": 91,
   "metadata": {},
   "outputs": [],
   "source": [
    "X_scaling =  ['Item_Weight', 'Item_Visibility', 'Item_MRP', 'Age_of_Outlet']"
   ]
  },
  {
   "cell_type": "code",
   "execution_count": 92,
   "metadata": {},
   "outputs": [],
   "source": [
    "from sklearn.preprocessing import StandardScaler"
   ]
  },
  {
   "cell_type": "code",
   "execution_count": 93,
   "metadata": {},
   "outputs": [],
   "source": [
    "scalar = StandardScaler()"
   ]
  },
  {
   "cell_type": "code",
   "execution_count": 94,
   "metadata": {},
   "outputs": [],
   "source": [
    "for i in X_scaling:\n",
    "    X[i] = scalar.fit_transform(X[i].values.reshape(-1,1))"
   ]
  },
  {
   "cell_type": "code",
   "execution_count": 95,
   "metadata": {},
   "outputs": [
    {
     "data": {
      "text/html": [
       "<div>\n",
       "<style scoped>\n",
       "    .dataframe tbody tr th:only-of-type {\n",
       "        vertical-align: middle;\n",
       "    }\n",
       "\n",
       "    .dataframe tbody tr th {\n",
       "        vertical-align: top;\n",
       "    }\n",
       "\n",
       "    .dataframe thead th {\n",
       "        text-align: right;\n",
       "    }\n",
       "</style>\n",
       "<table border=\"1\" class=\"dataframe\">\n",
       "  <thead>\n",
       "    <tr style=\"text-align: right;\">\n",
       "      <th></th>\n",
       "      <th>Item_Weight</th>\n",
       "      <th>Item_Fat_Content</th>\n",
       "      <th>Item_Visibility</th>\n",
       "      <th>Item_Type</th>\n",
       "      <th>Item_MRP</th>\n",
       "      <th>Outlet_Size</th>\n",
       "      <th>Outlet_Location_Type</th>\n",
       "      <th>Outlet_Type</th>\n",
       "      <th>Age_of_Outlet</th>\n",
       "    </tr>\n",
       "  </thead>\n",
       "  <tbody>\n",
       "    <tr>\n",
       "      <th>0</th>\n",
       "      <td>-0.770692</td>\n",
       "      <td>Low Fat</td>\n",
       "      <td>-1.149717</td>\n",
       "      <td>Dairy</td>\n",
       "      <td>1.797440</td>\n",
       "      <td>Medium</td>\n",
       "      <td>Tier 1</td>\n",
       "      <td>Supermarket Type1</td>\n",
       "      <td>-0.109446</td>\n",
       "    </tr>\n",
       "    <tr>\n",
       "      <th>1</th>\n",
       "      <td>-1.497729</td>\n",
       "      <td>Regular</td>\n",
       "      <td>-1.078020</td>\n",
       "      <td>Soft Drinks</td>\n",
       "      <td>-1.476348</td>\n",
       "      <td>Medium</td>\n",
       "      <td>Tier 3</td>\n",
       "      <td>Supermarket Type2</td>\n",
       "      <td>-1.316357</td>\n",
       "    </tr>\n",
       "    <tr>\n",
       "      <th>2</th>\n",
       "      <td>0.993127</td>\n",
       "      <td>Low Fat</td>\n",
       "      <td>-1.133900</td>\n",
       "      <td>Meat</td>\n",
       "      <td>0.039997</td>\n",
       "      <td>Medium</td>\n",
       "      <td>Tier 1</td>\n",
       "      <td>Supermarket Type1</td>\n",
       "      <td>-0.109446</td>\n",
       "    </tr>\n",
       "    <tr>\n",
       "      <th>3</th>\n",
       "      <td>1.358796</td>\n",
       "      <td>Regular</td>\n",
       "      <td>-0.997417</td>\n",
       "      <td>Fruits and Vegetables</td>\n",
       "      <td>0.697500</td>\n",
       "      <td>Small</td>\n",
       "      <td>Tier 3</td>\n",
       "      <td>Grocery Store</td>\n",
       "      <td>0.011245</td>\n",
       "    </tr>\n",
       "    <tr>\n",
       "      <th>4</th>\n",
       "      <td>-0.850279</td>\n",
       "      <td>Low Fat</td>\n",
       "      <td>-1.147121</td>\n",
       "      <td>Household</td>\n",
       "      <td>-1.385509</td>\n",
       "      <td>High</td>\n",
       "      <td>Tier 3</td>\n",
       "      <td>Supermarket Type1</td>\n",
       "      <td>1.338848</td>\n",
       "    </tr>\n",
       "  </tbody>\n",
       "</table>\n",
       "</div>"
      ],
      "text/plain": [
       "   Item_Weight Item_Fat_Content  Item_Visibility              Item_Type  \\\n",
       "0    -0.770692          Low Fat        -1.149717                  Dairy   \n",
       "1    -1.497729          Regular        -1.078020            Soft Drinks   \n",
       "2     0.993127          Low Fat        -1.133900                   Meat   \n",
       "3     1.358796          Regular        -0.997417  Fruits and Vegetables   \n",
       "4    -0.850279          Low Fat        -1.147121              Household   \n",
       "\n",
       "   Item_MRP Outlet_Size Outlet_Location_Type        Outlet_Type  Age_of_Outlet  \n",
       "0  1.797440      Medium               Tier 1  Supermarket Type1      -0.109446  \n",
       "1 -1.476348      Medium               Tier 3  Supermarket Type2      -1.316357  \n",
       "2  0.039997      Medium               Tier 1  Supermarket Type1      -0.109446  \n",
       "3  0.697500       Small               Tier 3      Grocery Store       0.011245  \n",
       "4 -1.385509        High               Tier 3  Supermarket Type1       1.338848  "
      ]
     },
     "execution_count": 95,
     "metadata": {},
     "output_type": "execute_result"
    }
   ],
   "source": [
    "X.head()"
   ]
  },
  {
   "cell_type": "code",
   "execution_count": 96,
   "metadata": {},
   "outputs": [],
   "source": [
    "y = scalar.fit_transform(y.values.reshape(-1,1))"
   ]
  },
  {
   "cell_type": "code",
   "execution_count": 97,
   "metadata": {},
   "outputs": [
    {
     "data": {
      "text/plain": [
       "array([[ 1.09705019],\n",
       "       [-1.09458261],\n",
       "       [ 0.00655329],\n",
       "       ...,\n",
       "       [-0.59543647],\n",
       "       [-0.16101087],\n",
       "       [-0.88002956]])"
      ]
     },
     "execution_count": 97,
     "metadata": {},
     "output_type": "execute_result"
    }
   ],
   "source": [
    "y"
   ]
  },
  {
   "cell_type": "markdown",
   "metadata": {},
   "source": [
    "### Dummy variable creation"
   ]
  },
  {
   "cell_type": "code",
   "execution_count": 98,
   "metadata": {},
   "outputs": [],
   "source": [
    "cat_features = X.describe(include=['object']).columns.tolist()"
   ]
  },
  {
   "cell_type": "code",
   "execution_count": 99,
   "metadata": {},
   "outputs": [
    {
     "data": {
      "text/plain": [
       "['Item_Fat_Content',\n",
       " 'Item_Type',\n",
       " 'Outlet_Size',\n",
       " 'Outlet_Location_Type',\n",
       " 'Outlet_Type']"
      ]
     },
     "execution_count": 99,
     "metadata": {},
     "output_type": "execute_result"
    }
   ],
   "source": [
    "cat_features"
   ]
  },
  {
   "cell_type": "code",
   "execution_count": 100,
   "metadata": {},
   "outputs": [
    {
     "data": {
      "text/html": [
       "<div>\n",
       "<style scoped>\n",
       "    .dataframe tbody tr th:only-of-type {\n",
       "        vertical-align: middle;\n",
       "    }\n",
       "\n",
       "    .dataframe tbody tr th {\n",
       "        vertical-align: top;\n",
       "    }\n",
       "\n",
       "    .dataframe thead th {\n",
       "        text-align: right;\n",
       "    }\n",
       "</style>\n",
       "<table border=\"1\" class=\"dataframe\">\n",
       "  <thead>\n",
       "    <tr style=\"text-align: right;\">\n",
       "      <th></th>\n",
       "      <th>Item_Fat_Content_Low Fat</th>\n",
       "      <th>Item_Fat_Content_Regular</th>\n",
       "      <th>Item_Type_Baking Goods</th>\n",
       "      <th>Item_Type_Breads</th>\n",
       "      <th>Item_Type_Breakfast</th>\n",
       "      <th>Item_Type_Canned</th>\n",
       "      <th>Item_Type_Dairy</th>\n",
       "      <th>Item_Type_Frozen Foods</th>\n",
       "      <th>Item_Type_Fruits and Vegetables</th>\n",
       "      <th>Item_Type_Hard Drinks</th>\n",
       "      <th>...</th>\n",
       "      <th>Outlet_Size_High</th>\n",
       "      <th>Outlet_Size_Medium</th>\n",
       "      <th>Outlet_Size_Small</th>\n",
       "      <th>Outlet_Location_Type_Tier 1</th>\n",
       "      <th>Outlet_Location_Type_Tier 2</th>\n",
       "      <th>Outlet_Location_Type_Tier 3</th>\n",
       "      <th>Outlet_Type_Grocery Store</th>\n",
       "      <th>Outlet_Type_Supermarket Type1</th>\n",
       "      <th>Outlet_Type_Supermarket Type2</th>\n",
       "      <th>Outlet_Type_Supermarket Type3</th>\n",
       "    </tr>\n",
       "  </thead>\n",
       "  <tbody>\n",
       "    <tr>\n",
       "      <th>0</th>\n",
       "      <td>1</td>\n",
       "      <td>0</td>\n",
       "      <td>0</td>\n",
       "      <td>0</td>\n",
       "      <td>0</td>\n",
       "      <td>0</td>\n",
       "      <td>1</td>\n",
       "      <td>0</td>\n",
       "      <td>0</td>\n",
       "      <td>0</td>\n",
       "      <td>...</td>\n",
       "      <td>0</td>\n",
       "      <td>1</td>\n",
       "      <td>0</td>\n",
       "      <td>1</td>\n",
       "      <td>0</td>\n",
       "      <td>0</td>\n",
       "      <td>0</td>\n",
       "      <td>1</td>\n",
       "      <td>0</td>\n",
       "      <td>0</td>\n",
       "    </tr>\n",
       "    <tr>\n",
       "      <th>1</th>\n",
       "      <td>0</td>\n",
       "      <td>1</td>\n",
       "      <td>0</td>\n",
       "      <td>0</td>\n",
       "      <td>0</td>\n",
       "      <td>0</td>\n",
       "      <td>0</td>\n",
       "      <td>0</td>\n",
       "      <td>0</td>\n",
       "      <td>0</td>\n",
       "      <td>...</td>\n",
       "      <td>0</td>\n",
       "      <td>1</td>\n",
       "      <td>0</td>\n",
       "      <td>0</td>\n",
       "      <td>0</td>\n",
       "      <td>1</td>\n",
       "      <td>0</td>\n",
       "      <td>0</td>\n",
       "      <td>1</td>\n",
       "      <td>0</td>\n",
       "    </tr>\n",
       "    <tr>\n",
       "      <th>2</th>\n",
       "      <td>1</td>\n",
       "      <td>0</td>\n",
       "      <td>0</td>\n",
       "      <td>0</td>\n",
       "      <td>0</td>\n",
       "      <td>0</td>\n",
       "      <td>0</td>\n",
       "      <td>0</td>\n",
       "      <td>0</td>\n",
       "      <td>0</td>\n",
       "      <td>...</td>\n",
       "      <td>0</td>\n",
       "      <td>1</td>\n",
       "      <td>0</td>\n",
       "      <td>1</td>\n",
       "      <td>0</td>\n",
       "      <td>0</td>\n",
       "      <td>0</td>\n",
       "      <td>1</td>\n",
       "      <td>0</td>\n",
       "      <td>0</td>\n",
       "    </tr>\n",
       "    <tr>\n",
       "      <th>3</th>\n",
       "      <td>0</td>\n",
       "      <td>1</td>\n",
       "      <td>0</td>\n",
       "      <td>0</td>\n",
       "      <td>0</td>\n",
       "      <td>0</td>\n",
       "      <td>0</td>\n",
       "      <td>0</td>\n",
       "      <td>1</td>\n",
       "      <td>0</td>\n",
       "      <td>...</td>\n",
       "      <td>0</td>\n",
       "      <td>0</td>\n",
       "      <td>1</td>\n",
       "      <td>0</td>\n",
       "      <td>0</td>\n",
       "      <td>1</td>\n",
       "      <td>1</td>\n",
       "      <td>0</td>\n",
       "      <td>0</td>\n",
       "      <td>0</td>\n",
       "    </tr>\n",
       "    <tr>\n",
       "      <th>4</th>\n",
       "      <td>1</td>\n",
       "      <td>0</td>\n",
       "      <td>0</td>\n",
       "      <td>0</td>\n",
       "      <td>0</td>\n",
       "      <td>0</td>\n",
       "      <td>0</td>\n",
       "      <td>0</td>\n",
       "      <td>0</td>\n",
       "      <td>0</td>\n",
       "      <td>...</td>\n",
       "      <td>1</td>\n",
       "      <td>0</td>\n",
       "      <td>0</td>\n",
       "      <td>0</td>\n",
       "      <td>0</td>\n",
       "      <td>1</td>\n",
       "      <td>0</td>\n",
       "      <td>1</td>\n",
       "      <td>0</td>\n",
       "      <td>0</td>\n",
       "    </tr>\n",
       "  </tbody>\n",
       "</table>\n",
       "<p>5 rows × 28 columns</p>\n",
       "</div>"
      ],
      "text/plain": [
       "   Item_Fat_Content_Low Fat  Item_Fat_Content_Regular  Item_Type_Baking Goods  \\\n",
       "0                         1                         0                       0   \n",
       "1                         0                         1                       0   \n",
       "2                         1                         0                       0   \n",
       "3                         0                         1                       0   \n",
       "4                         1                         0                       0   \n",
       "\n",
       "   Item_Type_Breads  Item_Type_Breakfast  Item_Type_Canned  Item_Type_Dairy  \\\n",
       "0                 0                    0                 0                1   \n",
       "1                 0                    0                 0                0   \n",
       "2                 0                    0                 0                0   \n",
       "3                 0                    0                 0                0   \n",
       "4                 0                    0                 0                0   \n",
       "\n",
       "   Item_Type_Frozen Foods  Item_Type_Fruits and Vegetables  \\\n",
       "0                       0                                0   \n",
       "1                       0                                0   \n",
       "2                       0                                0   \n",
       "3                       0                                1   \n",
       "4                       0                                0   \n",
       "\n",
       "   Item_Type_Hard Drinks              ...                Outlet_Size_High  \\\n",
       "0                      0              ...                               0   \n",
       "1                      0              ...                               0   \n",
       "2                      0              ...                               0   \n",
       "3                      0              ...                               0   \n",
       "4                      0              ...                               1   \n",
       "\n",
       "   Outlet_Size_Medium  Outlet_Size_Small  Outlet_Location_Type_Tier 1  \\\n",
       "0                   1                  0                            1   \n",
       "1                   1                  0                            0   \n",
       "2                   1                  0                            1   \n",
       "3                   0                  1                            0   \n",
       "4                   0                  0                            0   \n",
       "\n",
       "   Outlet_Location_Type_Tier 2  Outlet_Location_Type_Tier 3  \\\n",
       "0                            0                            0   \n",
       "1                            0                            1   \n",
       "2                            0                            0   \n",
       "3                            0                            1   \n",
       "4                            0                            1   \n",
       "\n",
       "   Outlet_Type_Grocery Store  Outlet_Type_Supermarket Type1  \\\n",
       "0                          0                              1   \n",
       "1                          0                              0   \n",
       "2                          0                              1   \n",
       "3                          1                              0   \n",
       "4                          0                              1   \n",
       "\n",
       "   Outlet_Type_Supermarket Type2  Outlet_Type_Supermarket Type3  \n",
       "0                              0                              0  \n",
       "1                              1                              0  \n",
       "2                              0                              0  \n",
       "3                              0                              0  \n",
       "4                              0                              0  \n",
       "\n",
       "[5 rows x 28 columns]"
      ]
     },
     "execution_count": 100,
     "metadata": {},
     "output_type": "execute_result"
    }
   ],
   "source": [
    "pd.get_dummies(X[cat_features]).head()"
   ]
  },
  {
   "cell_type": "code",
   "execution_count": 101,
   "metadata": {},
   "outputs": [],
   "source": [
    "X = pd.get_dummies(X, columns = cat_features, drop_first = True)"
   ]
  },
  {
   "cell_type": "code",
   "execution_count": 102,
   "metadata": {},
   "outputs": [
    {
     "data": {
      "text/html": [
       "<div>\n",
       "<style scoped>\n",
       "    .dataframe tbody tr th:only-of-type {\n",
       "        vertical-align: middle;\n",
       "    }\n",
       "\n",
       "    .dataframe tbody tr th {\n",
       "        vertical-align: top;\n",
       "    }\n",
       "\n",
       "    .dataframe thead th {\n",
       "        text-align: right;\n",
       "    }\n",
       "</style>\n",
       "<table border=\"1\" class=\"dataframe\">\n",
       "  <thead>\n",
       "    <tr style=\"text-align: right;\">\n",
       "      <th></th>\n",
       "      <th>Item_Weight</th>\n",
       "      <th>Item_Visibility</th>\n",
       "      <th>Item_MRP</th>\n",
       "      <th>Age_of_Outlet</th>\n",
       "      <th>Item_Fat_Content_Regular</th>\n",
       "      <th>Item_Type_Breads</th>\n",
       "      <th>Item_Type_Breakfast</th>\n",
       "      <th>Item_Type_Canned</th>\n",
       "      <th>Item_Type_Dairy</th>\n",
       "      <th>Item_Type_Frozen Foods</th>\n",
       "      <th>...</th>\n",
       "      <th>Item_Type_Snack Foods</th>\n",
       "      <th>Item_Type_Soft Drinks</th>\n",
       "      <th>Item_Type_Starchy Foods</th>\n",
       "      <th>Outlet_Size_Medium</th>\n",
       "      <th>Outlet_Size_Small</th>\n",
       "      <th>Outlet_Location_Type_Tier 2</th>\n",
       "      <th>Outlet_Location_Type_Tier 3</th>\n",
       "      <th>Outlet_Type_Supermarket Type1</th>\n",
       "      <th>Outlet_Type_Supermarket Type2</th>\n",
       "      <th>Outlet_Type_Supermarket Type3</th>\n",
       "    </tr>\n",
       "  </thead>\n",
       "  <tbody>\n",
       "    <tr>\n",
       "      <th>0</th>\n",
       "      <td>-0.770692</td>\n",
       "      <td>-1.149717</td>\n",
       "      <td>1.797440</td>\n",
       "      <td>-0.109446</td>\n",
       "      <td>0</td>\n",
       "      <td>0</td>\n",
       "      <td>0</td>\n",
       "      <td>0</td>\n",
       "      <td>1</td>\n",
       "      <td>0</td>\n",
       "      <td>...</td>\n",
       "      <td>0</td>\n",
       "      <td>0</td>\n",
       "      <td>0</td>\n",
       "      <td>1</td>\n",
       "      <td>0</td>\n",
       "      <td>0</td>\n",
       "      <td>0</td>\n",
       "      <td>1</td>\n",
       "      <td>0</td>\n",
       "      <td>0</td>\n",
       "    </tr>\n",
       "    <tr>\n",
       "      <th>1</th>\n",
       "      <td>-1.497729</td>\n",
       "      <td>-1.078020</td>\n",
       "      <td>-1.476348</td>\n",
       "      <td>-1.316357</td>\n",
       "      <td>1</td>\n",
       "      <td>0</td>\n",
       "      <td>0</td>\n",
       "      <td>0</td>\n",
       "      <td>0</td>\n",
       "      <td>0</td>\n",
       "      <td>...</td>\n",
       "      <td>0</td>\n",
       "      <td>1</td>\n",
       "      <td>0</td>\n",
       "      <td>1</td>\n",
       "      <td>0</td>\n",
       "      <td>0</td>\n",
       "      <td>1</td>\n",
       "      <td>0</td>\n",
       "      <td>1</td>\n",
       "      <td>0</td>\n",
       "    </tr>\n",
       "    <tr>\n",
       "      <th>2</th>\n",
       "      <td>0.993127</td>\n",
       "      <td>-1.133900</td>\n",
       "      <td>0.039997</td>\n",
       "      <td>-0.109446</td>\n",
       "      <td>0</td>\n",
       "      <td>0</td>\n",
       "      <td>0</td>\n",
       "      <td>0</td>\n",
       "      <td>0</td>\n",
       "      <td>0</td>\n",
       "      <td>...</td>\n",
       "      <td>0</td>\n",
       "      <td>0</td>\n",
       "      <td>0</td>\n",
       "      <td>1</td>\n",
       "      <td>0</td>\n",
       "      <td>0</td>\n",
       "      <td>0</td>\n",
       "      <td>1</td>\n",
       "      <td>0</td>\n",
       "      <td>0</td>\n",
       "    </tr>\n",
       "    <tr>\n",
       "      <th>3</th>\n",
       "      <td>1.358796</td>\n",
       "      <td>-0.997417</td>\n",
       "      <td>0.697500</td>\n",
       "      <td>0.011245</td>\n",
       "      <td>1</td>\n",
       "      <td>0</td>\n",
       "      <td>0</td>\n",
       "      <td>0</td>\n",
       "      <td>0</td>\n",
       "      <td>0</td>\n",
       "      <td>...</td>\n",
       "      <td>0</td>\n",
       "      <td>0</td>\n",
       "      <td>0</td>\n",
       "      <td>0</td>\n",
       "      <td>1</td>\n",
       "      <td>0</td>\n",
       "      <td>1</td>\n",
       "      <td>0</td>\n",
       "      <td>0</td>\n",
       "      <td>0</td>\n",
       "    </tr>\n",
       "    <tr>\n",
       "      <th>4</th>\n",
       "      <td>-0.850279</td>\n",
       "      <td>-1.147121</td>\n",
       "      <td>-1.385509</td>\n",
       "      <td>1.338848</td>\n",
       "      <td>0</td>\n",
       "      <td>0</td>\n",
       "      <td>0</td>\n",
       "      <td>0</td>\n",
       "      <td>0</td>\n",
       "      <td>0</td>\n",
       "      <td>...</td>\n",
       "      <td>0</td>\n",
       "      <td>0</td>\n",
       "      <td>0</td>\n",
       "      <td>0</td>\n",
       "      <td>0</td>\n",
       "      <td>0</td>\n",
       "      <td>1</td>\n",
       "      <td>1</td>\n",
       "      <td>0</td>\n",
       "      <td>0</td>\n",
       "    </tr>\n",
       "  </tbody>\n",
       "</table>\n",
       "<p>5 rows × 27 columns</p>\n",
       "</div>"
      ],
      "text/plain": [
       "   Item_Weight  Item_Visibility  Item_MRP  Age_of_Outlet  \\\n",
       "0    -0.770692        -1.149717  1.797440      -0.109446   \n",
       "1    -1.497729        -1.078020 -1.476348      -1.316357   \n",
       "2     0.993127        -1.133900  0.039997      -0.109446   \n",
       "3     1.358796        -0.997417  0.697500       0.011245   \n",
       "4    -0.850279        -1.147121 -1.385509       1.338848   \n",
       "\n",
       "   Item_Fat_Content_Regular  Item_Type_Breads  Item_Type_Breakfast  \\\n",
       "0                         0                 0                    0   \n",
       "1                         1                 0                    0   \n",
       "2                         0                 0                    0   \n",
       "3                         1                 0                    0   \n",
       "4                         0                 0                    0   \n",
       "\n",
       "   Item_Type_Canned  Item_Type_Dairy  Item_Type_Frozen Foods  \\\n",
       "0                 0                1                       0   \n",
       "1                 0                0                       0   \n",
       "2                 0                0                       0   \n",
       "3                 0                0                       0   \n",
       "4                 0                0                       0   \n",
       "\n",
       "               ...                Item_Type_Snack Foods  \\\n",
       "0              ...                                    0   \n",
       "1              ...                                    0   \n",
       "2              ...                                    0   \n",
       "3              ...                                    0   \n",
       "4              ...                                    0   \n",
       "\n",
       "   Item_Type_Soft Drinks  Item_Type_Starchy Foods  Outlet_Size_Medium  \\\n",
       "0                      0                        0                   1   \n",
       "1                      1                        0                   1   \n",
       "2                      0                        0                   1   \n",
       "3                      0                        0                   0   \n",
       "4                      0                        0                   0   \n",
       "\n",
       "   Outlet_Size_Small  Outlet_Location_Type_Tier 2  \\\n",
       "0                  0                            0   \n",
       "1                  0                            0   \n",
       "2                  0                            0   \n",
       "3                  1                            0   \n",
       "4                  0                            0   \n",
       "\n",
       "   Outlet_Location_Type_Tier 3  Outlet_Type_Supermarket Type1  \\\n",
       "0                            0                              1   \n",
       "1                            1                              0   \n",
       "2                            0                              1   \n",
       "3                            1                              0   \n",
       "4                            1                              1   \n",
       "\n",
       "   Outlet_Type_Supermarket Type2  Outlet_Type_Supermarket Type3  \n",
       "0                              0                              0  \n",
       "1                              1                              0  \n",
       "2                              0                              0  \n",
       "3                              0                              0  \n",
       "4                              0                              0  \n",
       "\n",
       "[5 rows x 27 columns]"
      ]
     },
     "execution_count": 102,
     "metadata": {},
     "output_type": "execute_result"
    }
   ],
   "source": [
    "X.head()"
   ]
  },
  {
   "cell_type": "markdown",
   "metadata": {},
   "source": [
    "### Check relationship between IV and DV"
   ]
  },
  {
   "cell_type": "code",
   "execution_count": 103,
   "metadata": {},
   "outputs": [
    {
     "data": {
      "text/html": [
       "<div>\n",
       "<style scoped>\n",
       "    .dataframe tbody tr th:only-of-type {\n",
       "        vertical-align: middle;\n",
       "    }\n",
       "\n",
       "    .dataframe tbody tr th {\n",
       "        vertical-align: top;\n",
       "    }\n",
       "\n",
       "    .dataframe thead th {\n",
       "        text-align: right;\n",
       "    }\n",
       "</style>\n",
       "<table border=\"1\" class=\"dataframe\">\n",
       "  <thead>\n",
       "    <tr style=\"text-align: right;\">\n",
       "      <th></th>\n",
       "      <th>Item_Identifier</th>\n",
       "      <th>Item_Weight</th>\n",
       "      <th>Item_Fat_Content</th>\n",
       "      <th>Item_Visibility</th>\n",
       "      <th>Item_Type</th>\n",
       "      <th>Item_MRP</th>\n",
       "      <th>Outlet_Identifier</th>\n",
       "      <th>Outlet_Establishment_Year</th>\n",
       "      <th>Outlet_Size</th>\n",
       "      <th>Outlet_Location_Type</th>\n",
       "      <th>Outlet_Type</th>\n",
       "      <th>Item_Outlet_Sales</th>\n",
       "    </tr>\n",
       "  </thead>\n",
       "  <tbody>\n",
       "    <tr>\n",
       "      <th>0</th>\n",
       "      <td>FDA15</td>\n",
       "      <td>9.30</td>\n",
       "      <td>Low Fat</td>\n",
       "      <td>0.016047</td>\n",
       "      <td>Dairy</td>\n",
       "      <td>249.8092</td>\n",
       "      <td>OUT049</td>\n",
       "      <td>1999</td>\n",
       "      <td>Medium</td>\n",
       "      <td>Tier 1</td>\n",
       "      <td>Supermarket Type1</td>\n",
       "      <td>3735.1380</td>\n",
       "    </tr>\n",
       "    <tr>\n",
       "      <th>1</th>\n",
       "      <td>DRC01</td>\n",
       "      <td>5.92</td>\n",
       "      <td>Regular</td>\n",
       "      <td>0.019278</td>\n",
       "      <td>Soft Drinks</td>\n",
       "      <td>48.2692</td>\n",
       "      <td>OUT018</td>\n",
       "      <td>2009</td>\n",
       "      <td>Medium</td>\n",
       "      <td>Tier 3</td>\n",
       "      <td>Supermarket Type2</td>\n",
       "      <td>443.4228</td>\n",
       "    </tr>\n",
       "    <tr>\n",
       "      <th>2</th>\n",
       "      <td>FDN15</td>\n",
       "      <td>17.50</td>\n",
       "      <td>Low Fat</td>\n",
       "      <td>0.016760</td>\n",
       "      <td>Meat</td>\n",
       "      <td>141.6180</td>\n",
       "      <td>OUT049</td>\n",
       "      <td>1999</td>\n",
       "      <td>Medium</td>\n",
       "      <td>Tier 1</td>\n",
       "      <td>Supermarket Type1</td>\n",
       "      <td>2097.2700</td>\n",
       "    </tr>\n",
       "    <tr>\n",
       "      <th>3</th>\n",
       "      <td>FDX07</td>\n",
       "      <td>19.20</td>\n",
       "      <td>Regular</td>\n",
       "      <td>0.000000</td>\n",
       "      <td>Fruits and Vegetables</td>\n",
       "      <td>182.0950</td>\n",
       "      <td>OUT010</td>\n",
       "      <td>1998</td>\n",
       "      <td>NaN</td>\n",
       "      <td>Tier 3</td>\n",
       "      <td>Grocery Store</td>\n",
       "      <td>732.3800</td>\n",
       "    </tr>\n",
       "    <tr>\n",
       "      <th>4</th>\n",
       "      <td>NCD19</td>\n",
       "      <td>8.93</td>\n",
       "      <td>Low Fat</td>\n",
       "      <td>0.000000</td>\n",
       "      <td>Household</td>\n",
       "      <td>53.8614</td>\n",
       "      <td>OUT013</td>\n",
       "      <td>1987</td>\n",
       "      <td>High</td>\n",
       "      <td>Tier 3</td>\n",
       "      <td>Supermarket Type1</td>\n",
       "      <td>994.7052</td>\n",
       "    </tr>\n",
       "  </tbody>\n",
       "</table>\n",
       "</div>"
      ],
      "text/plain": [
       "  Item_Identifier  Item_Weight Item_Fat_Content  Item_Visibility  \\\n",
       "0           FDA15         9.30          Low Fat         0.016047   \n",
       "1           DRC01         5.92          Regular         0.019278   \n",
       "2           FDN15        17.50          Low Fat         0.016760   \n",
       "3           FDX07        19.20          Regular         0.000000   \n",
       "4           NCD19         8.93          Low Fat         0.000000   \n",
       "\n",
       "               Item_Type  Item_MRP Outlet_Identifier  \\\n",
       "0                  Dairy  249.8092            OUT049   \n",
       "1            Soft Drinks   48.2692            OUT018   \n",
       "2                   Meat  141.6180            OUT049   \n",
       "3  Fruits and Vegetables  182.0950            OUT010   \n",
       "4              Household   53.8614            OUT013   \n",
       "\n",
       "   Outlet_Establishment_Year Outlet_Size Outlet_Location_Type  \\\n",
       "0                       1999      Medium               Tier 1   \n",
       "1                       2009      Medium               Tier 3   \n",
       "2                       1999      Medium               Tier 1   \n",
       "3                       1998         NaN               Tier 3   \n",
       "4                       1987        High               Tier 3   \n",
       "\n",
       "         Outlet_Type  Item_Outlet_Sales  \n",
       "0  Supermarket Type1          3735.1380  \n",
       "1  Supermarket Type2           443.4228  \n",
       "2  Supermarket Type1          2097.2700  \n",
       "3      Grocery Store           732.3800  \n",
       "4  Supermarket Type1           994.7052  "
      ]
     },
     "execution_count": 103,
     "metadata": {},
     "output_type": "execute_result"
    }
   ],
   "source": [
    "df_train = pd.read_csv(\"../Big_Mart_Sales/Train.csv\")\n",
    "df_train.head()"
   ]
  },
  {
   "cell_type": "code",
   "execution_count": 104,
   "metadata": {},
   "outputs": [
    {
     "data": {
      "text/html": [
       "<div>\n",
       "<style scoped>\n",
       "    .dataframe tbody tr th:only-of-type {\n",
       "        vertical-align: middle;\n",
       "    }\n",
       "\n",
       "    .dataframe tbody tr th {\n",
       "        vertical-align: top;\n",
       "    }\n",
       "\n",
       "    .dataframe thead th {\n",
       "        text-align: right;\n",
       "    }\n",
       "</style>\n",
       "<table border=\"1\" class=\"dataframe\">\n",
       "  <thead>\n",
       "    <tr style=\"text-align: right;\">\n",
       "      <th></th>\n",
       "      <th>Item_Weight</th>\n",
       "      <th>Item_Visibility</th>\n",
       "      <th>Item_MRP</th>\n",
       "      <th>Outlet_Establishment_Year</th>\n",
       "      <th>Item_Outlet_Sales</th>\n",
       "    </tr>\n",
       "  </thead>\n",
       "  <tbody>\n",
       "    <tr>\n",
       "      <th>Item_Weight</th>\n",
       "      <td>1.000000</td>\n",
       "      <td>-0.014048</td>\n",
       "      <td>0.027141</td>\n",
       "      <td>-0.011588</td>\n",
       "      <td>0.014123</td>\n",
       "    </tr>\n",
       "    <tr>\n",
       "      <th>Item_Visibility</th>\n",
       "      <td>-0.014048</td>\n",
       "      <td>1.000000</td>\n",
       "      <td>-0.001315</td>\n",
       "      <td>-0.074834</td>\n",
       "      <td>-0.128625</td>\n",
       "    </tr>\n",
       "    <tr>\n",
       "      <th>Item_MRP</th>\n",
       "      <td>0.027141</td>\n",
       "      <td>-0.001315</td>\n",
       "      <td>1.000000</td>\n",
       "      <td>0.005020</td>\n",
       "      <td>0.567574</td>\n",
       "    </tr>\n",
       "    <tr>\n",
       "      <th>Outlet_Establishment_Year</th>\n",
       "      <td>-0.011588</td>\n",
       "      <td>-0.074834</td>\n",
       "      <td>0.005020</td>\n",
       "      <td>1.000000</td>\n",
       "      <td>-0.049135</td>\n",
       "    </tr>\n",
       "    <tr>\n",
       "      <th>Item_Outlet_Sales</th>\n",
       "      <td>0.014123</td>\n",
       "      <td>-0.128625</td>\n",
       "      <td>0.567574</td>\n",
       "      <td>-0.049135</td>\n",
       "      <td>1.000000</td>\n",
       "    </tr>\n",
       "  </tbody>\n",
       "</table>\n",
       "</div>"
      ],
      "text/plain": [
       "                           Item_Weight  Item_Visibility  Item_MRP  \\\n",
       "Item_Weight                   1.000000        -0.014048  0.027141   \n",
       "Item_Visibility              -0.014048         1.000000 -0.001315   \n",
       "Item_MRP                      0.027141        -0.001315  1.000000   \n",
       "Outlet_Establishment_Year    -0.011588        -0.074834  0.005020   \n",
       "Item_Outlet_Sales             0.014123        -0.128625  0.567574   \n",
       "\n",
       "                           Outlet_Establishment_Year  Item_Outlet_Sales  \n",
       "Item_Weight                                -0.011588           0.014123  \n",
       "Item_Visibility                            -0.074834          -0.128625  \n",
       "Item_MRP                                    0.005020           0.567574  \n",
       "Outlet_Establishment_Year                   1.000000          -0.049135  \n",
       "Item_Outlet_Sales                          -0.049135           1.000000  "
      ]
     },
     "execution_count": 104,
     "metadata": {},
     "output_type": "execute_result"
    }
   ],
   "source": [
    "df_train.corr()"
   ]
  },
  {
   "cell_type": "markdown",
   "metadata": {},
   "source": [
    "### Train Test Split for Linear Regression"
   ]
  },
  {
   "cell_type": "code",
   "execution_count": 105,
   "metadata": {},
   "outputs": [],
   "source": [
    "from sklearn.model_selection import train_test_split"
   ]
  },
  {
   "cell_type": "code",
   "execution_count": 106,
   "metadata": {},
   "outputs": [],
   "source": [
    "x_train, x_test, y_train, y_test = train_test_split(X, y, test_size = 0.2)"
   ]
  },
  {
   "cell_type": "markdown",
   "metadata": {},
   "source": [
    "### Making predictive model using Linear Regression"
   ]
  },
  {
   "cell_type": "code",
   "execution_count": 107,
   "metadata": {},
   "outputs": [],
   "source": [
    "from sklearn.linear_model import LinearRegression"
   ]
  },
  {
   "cell_type": "code",
   "execution_count": 108,
   "metadata": {},
   "outputs": [],
   "source": [
    "model_lr = LinearRegression()"
   ]
  },
  {
   "cell_type": "code",
   "execution_count": 109,
   "metadata": {},
   "outputs": [
    {
     "data": {
      "text/plain": [
       "LinearRegression(copy_X=True, fit_intercept=True, n_jobs=1, normalize=False)"
      ]
     },
     "execution_count": 109,
     "metadata": {},
     "output_type": "execute_result"
    }
   ],
   "source": [
    "model_lr.fit(x_train, y_train)"
   ]
  },
  {
   "cell_type": "code",
   "execution_count": 110,
   "metadata": {},
   "outputs": [],
   "source": [
    "y_predict = model_lr.predict(x_test)"
   ]
  },
  {
   "cell_type": "markdown",
   "metadata": {},
   "source": [
    "### Evaluate the Model"
   ]
  },
  {
   "cell_type": "code",
   "execution_count": 111,
   "metadata": {},
   "outputs": [],
   "source": [
    "from sklearn.metrics import r2_score, mean_squared_error, mean_absolute_error"
   ]
  },
  {
   "cell_type": "code",
   "execution_count": 112,
   "metadata": {},
   "outputs": [
    {
     "name": "stdout",
     "output_type": "stream",
     "text": [
      "R2 Score: 0.543459826863099\n"
     ]
    }
   ],
   "source": [
    "print(\"R2 Score:\", r2_score(y_test, y_predict))"
   ]
  },
  {
   "cell_type": "code",
   "execution_count": 113,
   "metadata": {},
   "outputs": [
    {
     "name": "stdout",
     "output_type": "stream",
     "text": [
      "MSE: 0.42515244367973926\n"
     ]
    }
   ],
   "source": [
    "print(\"MSE:\", mean_squared_error(y_test, y_predict))"
   ]
  },
  {
   "cell_type": "code",
   "execution_count": 114,
   "metadata": {},
   "outputs": [
    {
     "name": "stdout",
     "output_type": "stream",
     "text": [
      "MAE 0.5007797817849973\n"
     ]
    }
   ],
   "source": [
    "print(\"MAE\", mean_absolute_error(y_test, y_predict))"
   ]
  },
  {
   "cell_type": "code",
   "execution_count": 115,
   "metadata": {},
   "outputs": [
    {
     "name": "stdout",
     "output_type": "stream",
     "text": [
      "RMAE: 0.7076579553604957\n"
     ]
    }
   ],
   "source": [
    "print(\"RMAE:\", np.sqrt(mean_absolute_error(y_test, y_predict)))"
   ]
  },
  {
   "cell_type": "code",
   "execution_count": 116,
   "metadata": {},
   "outputs": [],
   "source": [
    "r2scores.append(r2_score(y_test, y_predict))\n",
    "RMAE.append(np.sqrt(mean_absolute_error(y_test, y_predict)))\n",
    "algos.append(\"Linear Regression\")"
   ]
  },
  {
   "cell_type": "markdown",
   "metadata": {},
   "source": [
    "### Prepare data for Non Linear Regression Algos"
   ]
  },
  {
   "cell_type": "code",
   "execution_count": 117,
   "metadata": {},
   "outputs": [],
   "source": [
    "trainnewnl = trainnew.copy()"
   ]
  },
  {
   "cell_type": "markdown",
   "metadata": {},
   "source": [
    "### Seperate features and target"
   ]
  },
  {
   "cell_type": "code",
   "execution_count": 118,
   "metadata": {},
   "outputs": [],
   "source": [
    "X = trainnewnl.drop(\"Item_Outlet_Sales\", axis = 1)\n",
    "y = trainnewnl['Item_Outlet_Sales']"
   ]
  },
  {
   "cell_type": "markdown",
   "metadata": {},
   "source": [
    "### Label Encoding"
   ]
  },
  {
   "cell_type": "code",
   "execution_count": 119,
   "metadata": {},
   "outputs": [],
   "source": [
    "from sklearn.preprocessing import LabelEncoder"
   ]
  },
  {
   "cell_type": "code",
   "execution_count": 120,
   "metadata": {},
   "outputs": [],
   "source": [
    "label = LabelEncoder()"
   ]
  },
  {
   "cell_type": "code",
   "execution_count": 121,
   "metadata": {},
   "outputs": [],
   "source": [
    "cat_features = X.describe(include=['object']).columns.tolist()"
   ]
  },
  {
   "cell_type": "code",
   "execution_count": 122,
   "metadata": {},
   "outputs": [
    {
     "data": {
      "text/plain": [
       "['Item_Fat_Content',\n",
       " 'Item_Type',\n",
       " 'Outlet_Size',\n",
       " 'Outlet_Location_Type',\n",
       " 'Outlet_Type']"
      ]
     },
     "execution_count": 122,
     "metadata": {},
     "output_type": "execute_result"
    }
   ],
   "source": [
    "cat_features"
   ]
  },
  {
   "cell_type": "code",
   "execution_count": 123,
   "metadata": {},
   "outputs": [],
   "source": [
    "for i in cat_features:\n",
    "    X[i] = label.fit_transform(X[i])"
   ]
  },
  {
   "cell_type": "markdown",
   "metadata": {},
   "source": [
    "### One Hot Encoding"
   ]
  },
  {
   "cell_type": "code",
   "execution_count": 124,
   "metadata": {},
   "outputs": [],
   "source": [
    "from sklearn.preprocessing import OneHotEncoder"
   ]
  },
  {
   "cell_type": "code",
   "execution_count": 125,
   "metadata": {},
   "outputs": [
    {
     "name": "stdout",
     "output_type": "stream",
     "text": [
      "(0, 'Item_Weight')\n",
      "(1, 'Item_Fat_Content')\n",
      "(2, 'Item_Visibility')\n",
      "(3, 'Item_Type')\n",
      "(4, 'Item_MRP')\n",
      "(5, 'Outlet_Size')\n",
      "(6, 'Outlet_Location_Type')\n",
      "(7, 'Outlet_Type')\n",
      "(8, 'Age_of_Outlet')\n"
     ]
    }
   ],
   "source": [
    "for i in enumerate(X.columns):\n",
    "    print(i)"
   ]
  },
  {
   "cell_type": "code",
   "execution_count": 126,
   "metadata": {},
   "outputs": [],
   "source": [
    "ohc = OneHotEncoder(categorical_features=[3,5,6,7])"
   ]
  },
  {
   "cell_type": "code",
   "execution_count": 127,
   "metadata": {},
   "outputs": [],
   "source": [
    "X = ohc.fit_transform(X)"
   ]
  },
  {
   "cell_type": "code",
   "execution_count": 128,
   "metadata": {},
   "outputs": [
    {
     "data": {
      "text/plain": [
       "<8189x31 sparse matrix of type '<class 'numpy.float64'>'\n",
       "\twith 68392 stored elements in COOrdinate format>"
      ]
     },
     "execution_count": 128,
     "metadata": {},
     "output_type": "execute_result"
    }
   ],
   "source": [
    "X"
   ]
  },
  {
   "cell_type": "code",
   "execution_count": 129,
   "metadata": {},
   "outputs": [],
   "source": [
    "X = X.toarray()"
   ]
  },
  {
   "cell_type": "code",
   "execution_count": 130,
   "metadata": {},
   "outputs": [
    {
     "data": {
      "text/plain": [
       "array([[0.00000000e+00, 0.00000000e+00, 0.00000000e+00, ...,\n",
       "        1.60473010e-02, 2.49809200e+02, 1.90000000e+01],\n",
       "       [0.00000000e+00, 0.00000000e+00, 0.00000000e+00, ...,\n",
       "        1.92782160e-02, 4.82692000e+01, 9.00000000e+00],\n",
       "       [0.00000000e+00, 0.00000000e+00, 0.00000000e+00, ...,\n",
       "        1.67600750e-02, 1.41618000e+02, 1.90000000e+01],\n",
       "       ...,\n",
       "       [0.00000000e+00, 0.00000000e+00, 0.00000000e+00, ...,\n",
       "        3.51862710e-02, 8.51224000e+01, 1.40000000e+01],\n",
       "       [0.00000000e+00, 0.00000000e+00, 0.00000000e+00, ...,\n",
       "        1.45220646e-01, 1.03133200e+02, 9.00000000e+00],\n",
       "       [0.00000000e+00, 0.00000000e+00, 0.00000000e+00, ...,\n",
       "        4.48782800e-02, 7.54670000e+01, 2.10000000e+01]])"
      ]
     },
     "execution_count": 130,
     "metadata": {},
     "output_type": "execute_result"
    }
   ],
   "source": [
    "X"
   ]
  },
  {
   "cell_type": "code",
   "execution_count": 131,
   "metadata": {},
   "outputs": [],
   "source": [
    "np.set_printoptions(suppress=True)"
   ]
  },
  {
   "cell_type": "code",
   "execution_count": 132,
   "metadata": {},
   "outputs": [
    {
     "data": {
      "text/plain": [
       "array([[  0.        ,   0.        ,   0.        , ...,   0.0160473 ,\n",
       "        249.8092    ,  19.        ],\n",
       "       [  0.        ,   0.        ,   0.        , ...,   0.01927822,\n",
       "         48.2692    ,   9.        ],\n",
       "       [  0.        ,   0.        ,   0.        , ...,   0.01676007,\n",
       "        141.618     ,  19.        ],\n",
       "       ...,\n",
       "       [  0.        ,   0.        ,   0.        , ...,   0.03518627,\n",
       "         85.1224    ,  14.        ],\n",
       "       [  0.        ,   0.        ,   0.        , ...,   0.14522065,\n",
       "        103.1332    ,   9.        ],\n",
       "       [  0.        ,   0.        ,   0.        , ...,   0.04487828,\n",
       "         75.467     ,  21.        ]])"
      ]
     },
     "execution_count": 132,
     "metadata": {},
     "output_type": "execute_result"
    }
   ],
   "source": [
    "X"
   ]
  },
  {
   "cell_type": "markdown",
   "metadata": {},
   "source": [
    "### Prepare data for Support Vector Regressor"
   ]
  },
  {
   "cell_type": "code",
   "execution_count": 133,
   "metadata": {},
   "outputs": [],
   "source": [
    "X_svr = X.copy()"
   ]
  },
  {
   "cell_type": "code",
   "execution_count": 134,
   "metadata": {},
   "outputs": [],
   "source": [
    "y_svr = y.copy()"
   ]
  },
  {
   "cell_type": "markdown",
   "metadata": {},
   "source": [
    "### Applying Standard Scaling"
   ]
  },
  {
   "cell_type": "code",
   "execution_count": 135,
   "metadata": {},
   "outputs": [
    {
     "data": {
      "text/plain": [
       "array([  0.       ,   0.       ,   0.       ,   0.       ,   1.       ,\n",
       "         0.       ,   0.       ,   0.       ,   0.       ,   0.       ,\n",
       "         0.       ,   0.       ,   0.       ,   0.       ,   0.       ,\n",
       "         0.       ,   0.       ,   1.       ,   0.       ,   1.       ,\n",
       "         0.       ,   0.       ,   0.       ,   1.       ,   0.       ,\n",
       "         0.       ,   9.3      ,   0.       ,   0.0160473, 249.8092   ,\n",
       "        19.       ])"
      ]
     },
     "execution_count": 135,
     "metadata": {},
     "output_type": "execute_result"
    }
   ],
   "source": [
    "X_svr[0]"
   ]
  },
  {
   "cell_type": "code",
   "execution_count": 136,
   "metadata": {},
   "outputs": [
    {
     "data": {
      "text/plain": [
       "array([19.,  9., 19., ..., 14.,  9., 21.])"
      ]
     },
     "execution_count": 136,
     "metadata": {},
     "output_type": "execute_result"
    }
   ],
   "source": [
    "X_svr[:, -1]"
   ]
  },
  {
   "cell_type": "code",
   "execution_count": 137,
   "metadata": {},
   "outputs": [],
   "source": [
    "from sklearn.preprocessing import StandardScaler"
   ]
  },
  {
   "cell_type": "code",
   "execution_count": 138,
   "metadata": {},
   "outputs": [],
   "source": [
    "scalar = StandardScaler()"
   ]
  },
  {
   "cell_type": "code",
   "execution_count": 139,
   "metadata": {},
   "outputs": [],
   "source": [
    "X_svr[:, -1] = scalar.fit_transform(X_svr[:, -1].reshape(-1,1)).flatten()"
   ]
  },
  {
   "cell_type": "code",
   "execution_count": 140,
   "metadata": {},
   "outputs": [],
   "source": [
    "X_svr[:, -2] = scalar.fit_transform(X_svr[:, -2].reshape(-1,1)).flatten()\n",
    "\n",
    "X_svr[:, -3] = scalar.fit_transform(X_svr[:, -3].reshape(-1,1)).flatten()\n",
    "\n",
    "X_svr[:, -5] = scalar.fit_transform(X_svr[:, -5].reshape(-1,1)).flatten()"
   ]
  },
  {
   "cell_type": "code",
   "execution_count": 141,
   "metadata": {},
   "outputs": [
    {
     "data": {
      "text/plain": [
       "array([ 0.        ,  0.        ,  0.        ,  0.        ,  1.        ,\n",
       "        0.        ,  0.        ,  0.        ,  0.        ,  0.        ,\n",
       "        0.        ,  0.        ,  0.        ,  0.        ,  0.        ,\n",
       "        0.        ,  0.        ,  1.        ,  0.        ,  1.        ,\n",
       "        0.        ,  0.        ,  0.        ,  1.        ,  0.        ,\n",
       "        0.        , -0.7706918 ,  0.        , -1.14971707,  1.79744013,\n",
       "       -0.10944591])"
      ]
     },
     "execution_count": 141,
     "metadata": {},
     "output_type": "execute_result"
    }
   ],
   "source": [
    "X_svr[0]"
   ]
  },
  {
   "cell_type": "code",
   "execution_count": 142,
   "metadata": {},
   "outputs": [],
   "source": [
    "y_svr = scalar.fit_transform(y_svr.values.reshape(-1,1))"
   ]
  },
  {
   "cell_type": "code",
   "execution_count": 143,
   "metadata": {},
   "outputs": [
    {
     "data": {
      "text/plain": [
       "array([[ 1.09705019],\n",
       "       [-1.09458261],\n",
       "       [ 0.00655329],\n",
       "       ...,\n",
       "       [-0.59543647],\n",
       "       [-0.16101087],\n",
       "       [-0.88002956]])"
      ]
     },
     "execution_count": 143,
     "metadata": {},
     "output_type": "execute_result"
    }
   ],
   "source": [
    "y_svr"
   ]
  },
  {
   "cell_type": "markdown",
   "metadata": {},
   "source": [
    "### Train Test Split for SVR"
   ]
  },
  {
   "cell_type": "code",
   "execution_count": 144,
   "metadata": {},
   "outputs": [],
   "source": [
    "x_train, x_test, y_train, y_test = train_test_split(X_svr, y_svr, test_size = 0.2)"
   ]
  },
  {
   "cell_type": "markdown",
   "metadata": {},
   "source": [
    "### Making predictive model using Support Vector Regressor"
   ]
  },
  {
   "cell_type": "code",
   "execution_count": 145,
   "metadata": {},
   "outputs": [],
   "source": [
    "from sklearn.svm import SVR"
   ]
  },
  {
   "cell_type": "code",
   "execution_count": 146,
   "metadata": {},
   "outputs": [],
   "source": [
    "model_svr = SVR()"
   ]
  },
  {
   "cell_type": "code",
   "execution_count": 147,
   "metadata": {},
   "outputs": [
    {
     "data": {
      "text/plain": [
       "SVR(C=1.0, cache_size=200, coef0=0.0, degree=3, epsilon=0.1, gamma='auto',\n",
       "  kernel='rbf', max_iter=-1, shrinking=True, tol=0.001, verbose=False)"
      ]
     },
     "execution_count": 147,
     "metadata": {},
     "output_type": "execute_result"
    }
   ],
   "source": [
    "model_svr.fit(x_train, y_train)"
   ]
  },
  {
   "cell_type": "code",
   "execution_count": 148,
   "metadata": {},
   "outputs": [],
   "source": [
    "y_predict = model_svr.predict(x_test)"
   ]
  },
  {
   "cell_type": "markdown",
   "metadata": {},
   "source": [
    "### Evaluate the Model"
   ]
  },
  {
   "cell_type": "code",
   "execution_count": 149,
   "metadata": {},
   "outputs": [
    {
     "name": "stdout",
     "output_type": "stream",
     "text": [
      "R2 Score: 0.5970295479259773\n"
     ]
    }
   ],
   "source": [
    "print(\"R2 Score:\", r2_score(y_test, y_predict))"
   ]
  },
  {
   "cell_type": "code",
   "execution_count": 150,
   "metadata": {},
   "outputs": [
    {
     "name": "stdout",
     "output_type": "stream",
     "text": [
      "MSE: 0.40036070650185407\n"
     ]
    }
   ],
   "source": [
    "print(\"MSE:\", mean_squared_error(y_test, y_predict))"
   ]
  },
  {
   "cell_type": "code",
   "execution_count": 151,
   "metadata": {},
   "outputs": [
    {
     "name": "stdout",
     "output_type": "stream",
     "text": [
      "MAE 0.4518230635851869\n"
     ]
    }
   ],
   "source": [
    "print(\"MAE\", mean_absolute_error(y_test, y_predict))"
   ]
  },
  {
   "cell_type": "code",
   "execution_count": 152,
   "metadata": {},
   "outputs": [
    {
     "name": "stdout",
     "output_type": "stream",
     "text": [
      "RMAE: 0.672177851156364\n"
     ]
    }
   ],
   "source": [
    "print(\"RMAE:\", np.sqrt(mean_absolute_error(y_test, y_predict)))"
   ]
  },
  {
   "cell_type": "code",
   "execution_count": 153,
   "metadata": {},
   "outputs": [],
   "source": [
    "r2scores.append(r2_score(y_test, y_predict))\n",
    "RMAE.append(np.sqrt(mean_absolute_error(y_test, y_predict)))\n",
    "algos.append(\"Support Vector\")"
   ]
  },
  {
   "cell_type": "markdown",
   "metadata": {},
   "source": [
    "### Prepare Data for Decision Tree, Random Forest and XGBoost Regressor\n",
    "### Train Test Split"
   ]
  },
  {
   "cell_type": "code",
   "execution_count": 154,
   "metadata": {},
   "outputs": [],
   "source": [
    "x_train, x_test, y_train, y_test = train_test_split(X, y, test_size = 0.2)"
   ]
  },
  {
   "cell_type": "markdown",
   "metadata": {},
   "source": [
    "### Making predictive model using Decision Tree Regressor"
   ]
  },
  {
   "cell_type": "code",
   "execution_count": 155,
   "metadata": {},
   "outputs": [],
   "source": [
    "from sklearn.tree import DecisionTreeRegressor"
   ]
  },
  {
   "cell_type": "code",
   "execution_count": 156,
   "metadata": {},
   "outputs": [],
   "source": [
    "model_dt = DecisionTreeRegressor()"
   ]
  },
  {
   "cell_type": "code",
   "execution_count": 157,
   "metadata": {},
   "outputs": [
    {
     "data": {
      "text/plain": [
       "DecisionTreeRegressor(criterion='mse', max_depth=None, max_features=None,\n",
       "           max_leaf_nodes=None, min_impurity_decrease=0.0,\n",
       "           min_impurity_split=None, min_samples_leaf=1,\n",
       "           min_samples_split=2, min_weight_fraction_leaf=0.0,\n",
       "           presort=False, random_state=None, splitter='best')"
      ]
     },
     "execution_count": 157,
     "metadata": {},
     "output_type": "execute_result"
    }
   ],
   "source": [
    "model_dt.fit(x_train, y_train)"
   ]
  },
  {
   "cell_type": "code",
   "execution_count": 158,
   "metadata": {},
   "outputs": [],
   "source": [
    "y_predict = model_dt.predict(x_test)"
   ]
  },
  {
   "cell_type": "markdown",
   "metadata": {},
   "source": [
    "### Evaluate the Model"
   ]
  },
  {
   "cell_type": "code",
   "execution_count": 159,
   "metadata": {},
   "outputs": [
    {
     "name": "stdout",
     "output_type": "stream",
     "text": [
      "R2 Score: 0.16146852275371193\n"
     ]
    }
   ],
   "source": [
    "print(\"R2 Score:\", r2_score(y_test, y_predict))"
   ]
  },
  {
   "cell_type": "code",
   "execution_count": 160,
   "metadata": {},
   "outputs": [
    {
     "name": "stdout",
     "output_type": "stream",
     "text": [
      "MSE: 1931476.1746367896\n"
     ]
    }
   ],
   "source": [
    "print(\"MSE:\", mean_squared_error(y_test, y_predict))"
   ]
  },
  {
   "cell_type": "code",
   "execution_count": 161,
   "metadata": {},
   "outputs": [
    {
     "name": "stdout",
     "output_type": "stream",
     "text": [
      "RMSE: 1389.7755842713561\n"
     ]
    }
   ],
   "source": [
    "print(\"RMSE:\", np.sqrt(mean_squared_error(y_test, y_predict)))"
   ]
  },
  {
   "cell_type": "code",
   "execution_count": 162,
   "metadata": {},
   "outputs": [
    {
     "name": "stdout",
     "output_type": "stream",
     "text": [
      "MAE 1001.0457459096458\n"
     ]
    }
   ],
   "source": [
    "print(\"MAE\", mean_absolute_error(y_test, y_predict))"
   ]
  },
  {
   "cell_type": "code",
   "execution_count": 163,
   "metadata": {},
   "outputs": [
    {
     "name": "stdout",
     "output_type": "stream",
     "text": [
      "RMAE: 31.63930697581168\n"
     ]
    }
   ],
   "source": [
    "print(\"RMAE:\", np.sqrt(mean_absolute_error(y_test, y_predict)))"
   ]
  },
  {
   "cell_type": "code",
   "execution_count": 164,
   "metadata": {},
   "outputs": [],
   "source": [
    "r2scores.append(r2_score(y_test, y_predict))\n",
    "RMAE.append(np.sqrt(mean_absolute_error(y_test, y_predict)))\n",
    "algos.append(\"Decision Tree\")"
   ]
  },
  {
   "cell_type": "markdown",
   "metadata": {},
   "source": [
    "### Making predictive model using Random Forest Regressor"
   ]
  },
  {
   "cell_type": "code",
   "execution_count": 165,
   "metadata": {},
   "outputs": [],
   "source": [
    "from sklearn.ensemble import RandomForestRegressor"
   ]
  },
  {
   "cell_type": "code",
   "execution_count": 166,
   "metadata": {},
   "outputs": [],
   "source": [
    "model_rf = RandomForestRegressor(n_estimators = 100)"
   ]
  },
  {
   "cell_type": "code",
   "execution_count": 167,
   "metadata": {},
   "outputs": [
    {
     "data": {
      "text/plain": [
       "RandomForestRegressor(bootstrap=True, criterion='mse', max_depth=None,\n",
       "           max_features='auto', max_leaf_nodes=None,\n",
       "           min_impurity_decrease=0.0, min_impurity_split=None,\n",
       "           min_samples_leaf=1, min_samples_split=2,\n",
       "           min_weight_fraction_leaf=0.0, n_estimators=100, n_jobs=1,\n",
       "           oob_score=False, random_state=None, verbose=0, warm_start=False)"
      ]
     },
     "execution_count": 167,
     "metadata": {},
     "output_type": "execute_result"
    }
   ],
   "source": [
    "model_rf.fit(x_train, y_train)"
   ]
  },
  {
   "cell_type": "code",
   "execution_count": 168,
   "metadata": {},
   "outputs": [],
   "source": [
    "y_predict = model_rf.predict(x_test)"
   ]
  },
  {
   "cell_type": "markdown",
   "metadata": {},
   "source": [
    "### Evaluate the Model"
   ]
  },
  {
   "cell_type": "code",
   "execution_count": 169,
   "metadata": {},
   "outputs": [
    {
     "name": "stdout",
     "output_type": "stream",
     "text": [
      "R2 Score: 0.5263296440097049\n"
     ]
    }
   ],
   "source": [
    "print(\"R2 Score:\", r2_score(y_test, y_predict))"
   ]
  },
  {
   "cell_type": "code",
   "execution_count": 170,
   "metadata": {},
   "outputs": [
    {
     "name": "stdout",
     "output_type": "stream",
     "text": [
      "MSE: 1091053.8626783926\n"
     ]
    }
   ],
   "source": [
    "print(\"MSE:\", mean_squared_error(y_test, y_predict))"
   ]
  },
  {
   "cell_type": "code",
   "execution_count": 171,
   "metadata": {},
   "outputs": [
    {
     "name": "stdout",
     "output_type": "stream",
     "text": [
      "RMSE: 1044.535237643227\n"
     ]
    }
   ],
   "source": [
    "print(\"RMSE:\", np.sqrt(mean_squared_error(y_test, y_predict)))"
   ]
  },
  {
   "cell_type": "code",
   "execution_count": 172,
   "metadata": {},
   "outputs": [
    {
     "name": "stdout",
     "output_type": "stream",
     "text": [
      "MAE 759.457390934066\n"
     ]
    }
   ],
   "source": [
    "print(\"MAE\", mean_absolute_error(y_test, y_predict))"
   ]
  },
  {
   "cell_type": "code",
   "execution_count": 173,
   "metadata": {},
   "outputs": [
    {
     "name": "stdout",
     "output_type": "stream",
     "text": [
      "RMAE: 27.558254497229427\n"
     ]
    }
   ],
   "source": [
    "print(\"RMAE:\", np.sqrt(mean_absolute_error(y_test, y_predict)))"
   ]
  },
  {
   "cell_type": "code",
   "execution_count": 174,
   "metadata": {},
   "outputs": [],
   "source": [
    "r2scores.append(r2_score(y_test, y_predict))\n",
    "RMAE.append(np.sqrt(mean_absolute_error(y_test, y_predict)))\n",
    "algos.append(\"Random Forest\")"
   ]
  },
  {
   "cell_type": "markdown",
   "metadata": {},
   "source": [
    "### Making predictive model using XgBoost Regressor"
   ]
  },
  {
   "cell_type": "code",
   "execution_count": 175,
   "metadata": {},
   "outputs": [],
   "source": [
    "import xgboost as xg"
   ]
  },
  {
   "cell_type": "code",
   "execution_count": 176,
   "metadata": {},
   "outputs": [],
   "source": [
    "model_xg = xg.XGBRegressor()"
   ]
  },
  {
   "cell_type": "code",
   "execution_count": 177,
   "metadata": {},
   "outputs": [
    {
     "data": {
      "text/plain": [
       "XGBRegressor(base_score=0.5, booster='gbtree', colsample_bylevel=1,\n",
       "       colsample_bytree=1, gamma=0, learning_rate=0.1, max_delta_step=0,\n",
       "       max_depth=3, min_child_weight=1, missing=None, n_estimators=100,\n",
       "       n_jobs=1, nthread=None, objective='reg:linear', random_state=0,\n",
       "       reg_alpha=0, reg_lambda=1, scale_pos_weight=1, seed=None,\n",
       "       silent=True, subsample=1)"
      ]
     },
     "execution_count": 177,
     "metadata": {},
     "output_type": "execute_result"
    }
   ],
   "source": [
    "model_xg.fit(x_train, y_train)"
   ]
  },
  {
   "cell_type": "code",
   "execution_count": 178,
   "metadata": {},
   "outputs": [],
   "source": [
    "y_predict = model_xg.predict(x_test)"
   ]
  },
  {
   "cell_type": "markdown",
   "metadata": {},
   "source": [
    "### Evaluate the Model"
   ]
  },
  {
   "cell_type": "code",
   "execution_count": 179,
   "metadata": {},
   "outputs": [
    {
     "name": "stdout",
     "output_type": "stream",
     "text": [
      "R2 Score: 0.5706637826306258\n"
     ]
    }
   ],
   "source": [
    "print(\"R2 Score:\", r2_score(y_test, y_predict))"
   ]
  },
  {
   "cell_type": "code",
   "execution_count": 180,
   "metadata": {},
   "outputs": [
    {
     "name": "stdout",
     "output_type": "stream",
     "text": [
      "MSE: 988934.4613285938\n"
     ]
    }
   ],
   "source": [
    "print(\"MSE:\", mean_squared_error(y_test, y_predict))"
   ]
  },
  {
   "cell_type": "code",
   "execution_count": 181,
   "metadata": {},
   "outputs": [
    {
     "name": "stdout",
     "output_type": "stream",
     "text": [
      "RMSE: 994.4518396225097\n"
     ]
    }
   ],
   "source": [
    "print(\"RMSE:\", np.sqrt(mean_squared_error(y_test, y_predict)))"
   ]
  },
  {
   "cell_type": "code",
   "execution_count": 182,
   "metadata": {},
   "outputs": [
    {
     "name": "stdout",
     "output_type": "stream",
     "text": [
      "MAE 726.6203994418527\n"
     ]
    }
   ],
   "source": [
    "print(\"MAE\", mean_absolute_error(y_test, y_predict))"
   ]
  },
  {
   "cell_type": "code",
   "execution_count": 183,
   "metadata": {},
   "outputs": [
    {
     "name": "stdout",
     "output_type": "stream",
     "text": [
      "RMAE: 26.955897303593005\n"
     ]
    }
   ],
   "source": [
    "print(\"RMAE:\", np.sqrt(mean_absolute_error(y_test, y_predict)))"
   ]
  },
  {
   "cell_type": "code",
   "execution_count": 184,
   "metadata": {},
   "outputs": [],
   "source": [
    "r2scores.append(r2_score(y_test, y_predict))\n",
    "RMAE.append(np.sqrt(mean_absolute_error(y_test, y_predict)))\n",
    "algos.append(\"XGBoost\")"
   ]
  },
  {
   "cell_type": "markdown",
   "metadata": {},
   "source": [
    "### Create a Model Report"
   ]
  },
  {
   "cell_type": "code",
   "execution_count": 185,
   "metadata": {},
   "outputs": [
    {
     "data": {
      "text/html": [
       "<div>\n",
       "<style scoped>\n",
       "    .dataframe tbody tr th:only-of-type {\n",
       "        vertical-align: middle;\n",
       "    }\n",
       "\n",
       "    .dataframe tbody tr th {\n",
       "        vertical-align: top;\n",
       "    }\n",
       "\n",
       "    .dataframe thead th {\n",
       "        text-align: right;\n",
       "    }\n",
       "</style>\n",
       "<table border=\"1\" class=\"dataframe\">\n",
       "  <thead>\n",
       "    <tr style=\"text-align: right;\">\n",
       "      <th></th>\n",
       "      <th>Algos</th>\n",
       "      <th>R2 Score</th>\n",
       "      <th>Root_Mean_Absolute_Error</th>\n",
       "    </tr>\n",
       "  </thead>\n",
       "  <tbody>\n",
       "    <tr>\n",
       "      <th>0</th>\n",
       "      <td>Linear Regression</td>\n",
       "      <td>0.543460</td>\n",
       "      <td>0.707658</td>\n",
       "    </tr>\n",
       "    <tr>\n",
       "      <th>1</th>\n",
       "      <td>Support Vector</td>\n",
       "      <td>0.597030</td>\n",
       "      <td>0.672178</td>\n",
       "    </tr>\n",
       "    <tr>\n",
       "      <th>2</th>\n",
       "      <td>Decision Tree</td>\n",
       "      <td>0.161469</td>\n",
       "      <td>31.639307</td>\n",
       "    </tr>\n",
       "    <tr>\n",
       "      <th>3</th>\n",
       "      <td>Random Forest</td>\n",
       "      <td>0.526330</td>\n",
       "      <td>27.558254</td>\n",
       "    </tr>\n",
       "    <tr>\n",
       "      <th>4</th>\n",
       "      <td>XGBoost</td>\n",
       "      <td>0.570664</td>\n",
       "      <td>26.955897</td>\n",
       "    </tr>\n",
       "  </tbody>\n",
       "</table>\n",
       "</div>"
      ],
      "text/plain": [
       "               Algos  R2 Score  Root_Mean_Absolute_Error\n",
       "0  Linear Regression  0.543460                  0.707658\n",
       "1     Support Vector  0.597030                  0.672178\n",
       "2      Decision Tree  0.161469                 31.639307\n",
       "3      Random Forest  0.526330                 27.558254\n",
       "4            XGBoost  0.570664                 26.955897"
      ]
     },
     "execution_count": 185,
     "metadata": {},
     "output_type": "execute_result"
    }
   ],
   "source": [
    "report = pd.DataFrame({\"Algos\": algos, \"R2 Score\": r2scores, \"Root_Mean_Absolute_Error\": RMAE})\n",
    "report"
   ]
  },
  {
   "cell_type": "markdown",
   "metadata": {},
   "source": [
    "### We will select XGBoost as a final Model"
   ]
  },
  {
   "cell_type": "markdown",
   "metadata": {},
   "source": [
    "### Following All above things of Data Preprocessing for Test.csv Dataset"
   ]
  },
  {
   "cell_type": "code",
   "execution_count": 186,
   "metadata": {},
   "outputs": [
    {
     "data": {
      "text/html": [
       "<div>\n",
       "<style scoped>\n",
       "    .dataframe tbody tr th:only-of-type {\n",
       "        vertical-align: middle;\n",
       "    }\n",
       "\n",
       "    .dataframe tbody tr th {\n",
       "        vertical-align: top;\n",
       "    }\n",
       "\n",
       "    .dataframe thead th {\n",
       "        text-align: right;\n",
       "    }\n",
       "</style>\n",
       "<table border=\"1\" class=\"dataframe\">\n",
       "  <thead>\n",
       "    <tr style=\"text-align: right;\">\n",
       "      <th></th>\n",
       "      <th>Item_Identifier</th>\n",
       "      <th>Item_Weight</th>\n",
       "      <th>Item_Fat_Content</th>\n",
       "      <th>Item_Visibility</th>\n",
       "      <th>Item_Type</th>\n",
       "      <th>Item_MRP</th>\n",
       "      <th>Outlet_Identifier</th>\n",
       "      <th>Outlet_Establishment_Year</th>\n",
       "      <th>Outlet_Size</th>\n",
       "      <th>Outlet_Location_Type</th>\n",
       "      <th>Outlet_Type</th>\n",
       "    </tr>\n",
       "  </thead>\n",
       "  <tbody>\n",
       "    <tr>\n",
       "      <th>0</th>\n",
       "      <td>FDW58</td>\n",
       "      <td>20.750</td>\n",
       "      <td>Low Fat</td>\n",
       "      <td>0.007565</td>\n",
       "      <td>Snack Foods</td>\n",
       "      <td>107.8622</td>\n",
       "      <td>OUT049</td>\n",
       "      <td>1999</td>\n",
       "      <td>Medium</td>\n",
       "      <td>Tier 1</td>\n",
       "      <td>Supermarket Type1</td>\n",
       "    </tr>\n",
       "    <tr>\n",
       "      <th>1</th>\n",
       "      <td>FDW14</td>\n",
       "      <td>8.300</td>\n",
       "      <td>reg</td>\n",
       "      <td>0.038428</td>\n",
       "      <td>Dairy</td>\n",
       "      <td>87.3198</td>\n",
       "      <td>OUT017</td>\n",
       "      <td>2007</td>\n",
       "      <td>NaN</td>\n",
       "      <td>Tier 2</td>\n",
       "      <td>Supermarket Type1</td>\n",
       "    </tr>\n",
       "    <tr>\n",
       "      <th>2</th>\n",
       "      <td>NCN55</td>\n",
       "      <td>14.600</td>\n",
       "      <td>Low Fat</td>\n",
       "      <td>0.099575</td>\n",
       "      <td>Others</td>\n",
       "      <td>241.7538</td>\n",
       "      <td>OUT010</td>\n",
       "      <td>1998</td>\n",
       "      <td>NaN</td>\n",
       "      <td>Tier 3</td>\n",
       "      <td>Grocery Store</td>\n",
       "    </tr>\n",
       "    <tr>\n",
       "      <th>3</th>\n",
       "      <td>FDQ58</td>\n",
       "      <td>7.315</td>\n",
       "      <td>Low Fat</td>\n",
       "      <td>0.015388</td>\n",
       "      <td>Snack Foods</td>\n",
       "      <td>155.0340</td>\n",
       "      <td>OUT017</td>\n",
       "      <td>2007</td>\n",
       "      <td>NaN</td>\n",
       "      <td>Tier 2</td>\n",
       "      <td>Supermarket Type1</td>\n",
       "    </tr>\n",
       "    <tr>\n",
       "      <th>4</th>\n",
       "      <td>FDY38</td>\n",
       "      <td>NaN</td>\n",
       "      <td>Regular</td>\n",
       "      <td>0.118599</td>\n",
       "      <td>Dairy</td>\n",
       "      <td>234.2300</td>\n",
       "      <td>OUT027</td>\n",
       "      <td>1985</td>\n",
       "      <td>Medium</td>\n",
       "      <td>Tier 3</td>\n",
       "      <td>Supermarket Type3</td>\n",
       "    </tr>\n",
       "  </tbody>\n",
       "</table>\n",
       "</div>"
      ],
      "text/plain": [
       "  Item_Identifier  Item_Weight Item_Fat_Content  Item_Visibility    Item_Type  \\\n",
       "0           FDW58       20.750          Low Fat         0.007565  Snack Foods   \n",
       "1           FDW14        8.300              reg         0.038428        Dairy   \n",
       "2           NCN55       14.600          Low Fat         0.099575       Others   \n",
       "3           FDQ58        7.315          Low Fat         0.015388  Snack Foods   \n",
       "4           FDY38          NaN          Regular         0.118599        Dairy   \n",
       "\n",
       "   Item_MRP Outlet_Identifier  Outlet_Establishment_Year Outlet_Size  \\\n",
       "0  107.8622            OUT049                       1999      Medium   \n",
       "1   87.3198            OUT017                       2007         NaN   \n",
       "2  241.7538            OUT010                       1998         NaN   \n",
       "3  155.0340            OUT017                       2007         NaN   \n",
       "4  234.2300            OUT027                       1985      Medium   \n",
       "\n",
       "  Outlet_Location_Type        Outlet_Type  \n",
       "0               Tier 1  Supermarket Type1  \n",
       "1               Tier 2  Supermarket Type1  \n",
       "2               Tier 3      Grocery Store  \n",
       "3               Tier 2  Supermarket Type1  \n",
       "4               Tier 3  Supermarket Type3  "
      ]
     },
     "execution_count": 186,
     "metadata": {},
     "output_type": "execute_result"
    }
   ],
   "source": [
    "test = pd.read_csv(\"../Big_Mart_Sales/Test.csv\")\n",
    "test.head()"
   ]
  },
  {
   "cell_type": "code",
   "execution_count": 187,
   "metadata": {},
   "outputs": [
    {
     "data": {
      "text/plain": [
       "(5681, 11)"
      ]
     },
     "execution_count": 187,
     "metadata": {},
     "output_type": "execute_result"
    }
   ],
   "source": [
    "test.shape"
   ]
  },
  {
   "cell_type": "code",
   "execution_count": 188,
   "metadata": {},
   "outputs": [
    {
     "data": {
      "text/plain": [
       "Item_Identifier                 0\n",
       "Item_Weight                   976\n",
       "Item_Fat_Content                0\n",
       "Item_Visibility                 0\n",
       "Item_Type                       0\n",
       "Item_MRP                        0\n",
       "Outlet_Identifier               0\n",
       "Outlet_Establishment_Year       0\n",
       "Outlet_Size                  1606\n",
       "Outlet_Location_Type            0\n",
       "Outlet_Type                     0\n",
       "dtype: int64"
      ]
     },
     "execution_count": 188,
     "metadata": {},
     "output_type": "execute_result"
    }
   ],
   "source": [
    "test.isnull().sum()"
   ]
  },
  {
   "cell_type": "code",
   "execution_count": 189,
   "metadata": {},
   "outputs": [
    {
     "data": {
      "text/html": [
       "<div>\n",
       "<style scoped>\n",
       "    .dataframe tbody tr th:only-of-type {\n",
       "        vertical-align: middle;\n",
       "    }\n",
       "\n",
       "    .dataframe tbody tr th {\n",
       "        vertical-align: top;\n",
       "    }\n",
       "\n",
       "    .dataframe thead th {\n",
       "        text-align: right;\n",
       "    }\n",
       "</style>\n",
       "<table border=\"1\" class=\"dataframe\">\n",
       "  <thead>\n",
       "    <tr style=\"text-align: right;\">\n",
       "      <th></th>\n",
       "      <th>Item_Weight</th>\n",
       "      <th>Item_Visibility</th>\n",
       "      <th>Item_MRP</th>\n",
       "      <th>Outlet_Establishment_Year</th>\n",
       "    </tr>\n",
       "  </thead>\n",
       "  <tbody>\n",
       "    <tr>\n",
       "      <th>count</th>\n",
       "      <td>4705.000000</td>\n",
       "      <td>5681.000000</td>\n",
       "      <td>5681.000000</td>\n",
       "      <td>5681.000000</td>\n",
       "    </tr>\n",
       "    <tr>\n",
       "      <th>mean</th>\n",
       "      <td>12.695633</td>\n",
       "      <td>0.065684</td>\n",
       "      <td>141.023273</td>\n",
       "      <td>1997.828903</td>\n",
       "    </tr>\n",
       "    <tr>\n",
       "      <th>std</th>\n",
       "      <td>4.664849</td>\n",
       "      <td>0.051252</td>\n",
       "      <td>61.809091</td>\n",
       "      <td>8.372256</td>\n",
       "    </tr>\n",
       "    <tr>\n",
       "      <th>min</th>\n",
       "      <td>4.555000</td>\n",
       "      <td>0.000000</td>\n",
       "      <td>31.990000</td>\n",
       "      <td>1985.000000</td>\n",
       "    </tr>\n",
       "    <tr>\n",
       "      <th>25%</th>\n",
       "      <td>8.645000</td>\n",
       "      <td>0.027047</td>\n",
       "      <td>94.412000</td>\n",
       "      <td>1987.000000</td>\n",
       "    </tr>\n",
       "    <tr>\n",
       "      <th>50%</th>\n",
       "      <td>12.500000</td>\n",
       "      <td>0.054154</td>\n",
       "      <td>141.415400</td>\n",
       "      <td>1999.000000</td>\n",
       "    </tr>\n",
       "    <tr>\n",
       "      <th>75%</th>\n",
       "      <td>16.700000</td>\n",
       "      <td>0.093463</td>\n",
       "      <td>186.026600</td>\n",
       "      <td>2004.000000</td>\n",
       "    </tr>\n",
       "    <tr>\n",
       "      <th>max</th>\n",
       "      <td>21.350000</td>\n",
       "      <td>0.323637</td>\n",
       "      <td>266.588400</td>\n",
       "      <td>2009.000000</td>\n",
       "    </tr>\n",
       "  </tbody>\n",
       "</table>\n",
       "</div>"
      ],
      "text/plain": [
       "       Item_Weight  Item_Visibility     Item_MRP  Outlet_Establishment_Year\n",
       "count  4705.000000      5681.000000  5681.000000                5681.000000\n",
       "mean     12.695633         0.065684   141.023273                1997.828903\n",
       "std       4.664849         0.051252    61.809091                   8.372256\n",
       "min       4.555000         0.000000    31.990000                1985.000000\n",
       "25%       8.645000         0.027047    94.412000                1987.000000\n",
       "50%      12.500000         0.054154   141.415400                1999.000000\n",
       "75%      16.700000         0.093463   186.026600                2004.000000\n",
       "max      21.350000         0.323637   266.588400                2009.000000"
      ]
     },
     "execution_count": 189,
     "metadata": {},
     "output_type": "execute_result"
    }
   ],
   "source": [
    "test.describe()"
   ]
  },
  {
   "cell_type": "code",
   "execution_count": 190,
   "metadata": {},
   "outputs": [
    {
     "data": {
      "text/plain": [
       "['Item_Identifier',\n",
       " 'Item_Fat_Content',\n",
       " 'Item_Type',\n",
       " 'Outlet_Identifier',\n",
       " 'Outlet_Size',\n",
       " 'Outlet_Location_Type',\n",
       " 'Outlet_Type']"
      ]
     },
     "execution_count": 190,
     "metadata": {},
     "output_type": "execute_result"
    }
   ],
   "source": [
    "cat_features = test.describe(include=['object']).columns.tolist()\n",
    "cat_features"
   ]
  },
  {
   "cell_type": "code",
   "execution_count": 191,
   "metadata": {
    "scrolled": true
   },
   "outputs": [
    {
     "name": "stdout",
     "output_type": "stream",
     "text": [
      "Column: Item_Identifier\n",
      "Unique Values: ['FDW58' 'FDW14' 'NCN55' ... 'NCI29' 'FDP28' 'FDF04']\n",
      "\n",
      "Column: Item_Fat_Content\n",
      "Unique Values: ['Low Fat' 'reg' 'Regular' 'LF' 'low fat']\n",
      "\n",
      "Column: Item_Type\n",
      "Unique Values: ['Snack Foods' 'Dairy' 'Others' 'Fruits and Vegetables' 'Baking Goods'\n",
      " 'Health and Hygiene' 'Breads' 'Hard Drinks' 'Seafood' 'Soft Drinks'\n",
      " 'Household' 'Frozen Foods' 'Meat' 'Canned' 'Starchy Foods' 'Breakfast']\n",
      "\n",
      "Column: Outlet_Identifier\n",
      "Unique Values: ['OUT049' 'OUT017' 'OUT010' 'OUT027' 'OUT046' 'OUT018' 'OUT045' 'OUT019'\n",
      " 'OUT013' 'OUT035']\n",
      "\n",
      "Column: Outlet_Size\n",
      "Unique Values: ['Medium' nan 'Small' 'High']\n",
      "\n",
      "Column: Outlet_Location_Type\n",
      "Unique Values: ['Tier 1' 'Tier 2' 'Tier 3']\n",
      "\n",
      "Column: Outlet_Type\n",
      "Unique Values: ['Supermarket Type1' 'Grocery Store' 'Supermarket Type3'\n",
      " 'Supermarket Type2']\n",
      "\n"
     ]
    }
   ],
   "source": [
    "for i in cat_features:\n",
    "    print(\"Column:\", i)\n",
    "    print(\"Unique Values:\", test[i].unique())\n",
    "    print(\"\")"
   ]
  },
  {
   "cell_type": "markdown",
   "metadata": {},
   "source": [
    "### Replace LF low fat as Low Fat and reg as Regular"
   ]
  },
  {
   "cell_type": "code",
   "execution_count": 192,
   "metadata": {},
   "outputs": [],
   "source": [
    "test.Item_Fat_Content.replace(\"LF\", 'Low Fat', inplace=True)\n",
    "test.Item_Fat_Content.replace(\"low fat\", 'Low Fat', inplace=True)\n",
    "test.Item_Fat_Content.replace(\"reg\", 'Regular', inplace=True)"
   ]
  },
  {
   "cell_type": "code",
   "execution_count": 193,
   "metadata": {},
   "outputs": [
    {
     "data": {
      "text/plain": [
       "array(['Low Fat', 'Regular'], dtype=object)"
      ]
     },
     "execution_count": 193,
     "metadata": {},
     "output_type": "execute_result"
    }
   ],
   "source": [
    "test.Item_Fat_Content.unique()"
   ]
  },
  {
   "cell_type": "markdown",
   "metadata": {},
   "source": [
    "### Missing values handling for Item Weight "
   ]
  },
  {
   "cell_type": "code",
   "execution_count": 194,
   "metadata": {},
   "outputs": [],
   "source": [
    "iwvalues = []; iwindex = []\n",
    "\n",
    "for j in test.Item_Identifier.unique():\n",
    "    \n",
    "    avg = test[test['Item_Identifier'] == j]['Item_Weight'].mean(skipna = True)\n",
    "    \n",
    "    result = test[test['Item_Identifier'] == j]['Item_Weight'].fillna(round(avg, 2))\n",
    "    \n",
    "    for k in result.values:\n",
    "        iwvalues.append(k)\n",
    "    for k in result.index:\n",
    "        iwindex.append(k)"
   ]
  },
  {
   "cell_type": "code",
   "execution_count": 195,
   "metadata": {},
   "outputs": [
    {
     "data": {
      "text/plain": [
       "0    20.750\n",
       "1     8.300\n",
       "2    14.600\n",
       "3     7.315\n",
       "4    13.600\n",
       "dtype: float64"
      ]
     },
     "execution_count": 195,
     "metadata": {},
     "output_type": "execute_result"
    }
   ],
   "source": [
    "result = pd.Series(iwvalues, index = iwindex)\n",
    "result.sort_index(inplace = True)\n",
    "result.head()"
   ]
  },
  {
   "cell_type": "code",
   "execution_count": 196,
   "metadata": {},
   "outputs": [
    {
     "name": "stdout",
     "output_type": "stream",
     "text": [
      "(0, 'Item_Identifier')\n",
      "(1, 'Item_Weight')\n",
      "(2, 'Item_Fat_Content')\n",
      "(3, 'Item_Visibility')\n",
      "(4, 'Item_Type')\n",
      "(5, 'Item_MRP')\n",
      "(6, 'Outlet_Identifier')\n",
      "(7, 'Outlet_Establishment_Year')\n",
      "(8, 'Outlet_Size')\n",
      "(9, 'Outlet_Location_Type')\n",
      "(10, 'Outlet_Type')\n"
     ]
    }
   ],
   "source": [
    "for i in enumerate(test.columns):\n",
    "    print(i)"
   ]
  },
  {
   "cell_type": "code",
   "execution_count": 197,
   "metadata": {},
   "outputs": [],
   "source": [
    "test.drop('Item_Weight', axis=1, inplace=True)"
   ]
  },
  {
   "cell_type": "code",
   "execution_count": 198,
   "metadata": {},
   "outputs": [],
   "source": [
    "test.insert(1, 'Item_Weight', result)"
   ]
  },
  {
   "cell_type": "code",
   "execution_count": 199,
   "metadata": {},
   "outputs": [
    {
     "data": {
      "text/plain": [
       "Item_Identifier                 0\n",
       "Item_Weight                    20\n",
       "Item_Fat_Content                0\n",
       "Item_Visibility                 0\n",
       "Item_Type                       0\n",
       "Item_MRP                        0\n",
       "Outlet_Identifier               0\n",
       "Outlet_Establishment_Year       0\n",
       "Outlet_Size                  1606\n",
       "Outlet_Location_Type            0\n",
       "Outlet_Type                     0\n",
       "dtype: int64"
      ]
     },
     "execution_count": 199,
     "metadata": {},
     "output_type": "execute_result"
    }
   ],
   "source": [
    "test.isnull().sum()"
   ]
  },
  {
   "cell_type": "code",
   "execution_count": 200,
   "metadata": {},
   "outputs": [
    {
     "name": "stdout",
     "output_type": "stream",
     "text": [
      "Row Label: 58\n",
      "Item_Identifier                      FDL58\n",
      "Item_Weight                            NaN\n",
      "Item_Fat_Content                   Regular\n",
      "Item_Visibility                   0.129825\n",
      "Item_Type                      Snack Foods\n",
      "Item_MRP                           263.257\n",
      "Outlet_Identifier                   OUT019\n",
      "Outlet_Establishment_Year             1985\n",
      "Outlet_Size                          Small\n",
      "Outlet_Location_Type                Tier 1\n",
      "Outlet_Type                  Grocery Store\n",
      "Name: 58, dtype: object\n",
      "\n",
      "Row Label: 482\n",
      "Item_Identifier                          FDY57\n",
      "Item_Weight                                NaN\n",
      "Item_Fat_Content                       Regular\n",
      "Item_Visibility                       0.120667\n",
      "Item_Type                          Snack Foods\n",
      "Item_MRP                               94.6752\n",
      "Outlet_Identifier                       OUT027\n",
      "Outlet_Establishment_Year                 1985\n",
      "Outlet_Size                             Medium\n",
      "Outlet_Location_Type                    Tier 3\n",
      "Outlet_Type                  Supermarket Type3\n",
      "Name: 482, dtype: object\n",
      "\n",
      "Row Label: 882\n",
      "Item_Identifier                          FDH58\n",
      "Item_Weight                                NaN\n",
      "Item_Fat_Content                       Low Fat\n",
      "Item_Visibility                      0.0367608\n",
      "Item_Type                          Snack Foods\n",
      "Item_MRP                               116.983\n",
      "Outlet_Identifier                       OUT027\n",
      "Outlet_Establishment_Year                 1985\n",
      "Outlet_Size                             Medium\n",
      "Outlet_Location_Type                    Tier 3\n",
      "Outlet_Type                  Supermarket Type3\n",
      "Name: 882, dtype: object\n",
      "\n",
      "Row Label: 884\n",
      "Item_Identifier                              FDI45\n",
      "Item_Weight                                    NaN\n",
      "Item_Fat_Content                           Low Fat\n",
      "Item_Visibility                          0.0373993\n",
      "Item_Type                    Fruits and Vegetables\n",
      "Item_MRP                                   173.105\n",
      "Outlet_Identifier                           OUT027\n",
      "Outlet_Establishment_Year                     1985\n",
      "Outlet_Size                                 Medium\n",
      "Outlet_Location_Type                        Tier 3\n",
      "Outlet_Type                      Supermarket Type3\n",
      "Name: 884, dtype: object\n",
      "\n",
      "Row Label: 1203\n",
      "Item_Identifier                          FDG50\n",
      "Item_Weight                                NaN\n",
      "Item_Fat_Content                       Low Fat\n",
      "Item_Visibility                      0.0151978\n",
      "Item_Type                               Canned\n",
      "Item_MRP                               89.7146\n",
      "Outlet_Identifier                       OUT027\n",
      "Outlet_Establishment_Year                 1985\n",
      "Outlet_Size                             Medium\n",
      "Outlet_Location_Type                    Tier 3\n",
      "Outlet_Type                  Supermarket Type3\n",
      "Name: 1203, dtype: object\n",
      "\n",
      "Row Label: 1297\n",
      "Item_Identifier                              FDG57\n",
      "Item_Weight                                    NaN\n",
      "Item_Fat_Content                           Low Fat\n",
      "Item_Visibility                          0.0719483\n",
      "Item_Type                    Fruits and Vegetables\n",
      "Item_MRP                                   48.8034\n",
      "Outlet_Identifier                           OUT027\n",
      "Outlet_Establishment_Year                     1985\n",
      "Outlet_Size                                 Medium\n",
      "Outlet_Location_Type                        Tier 3\n",
      "Outlet_Type                      Supermarket Type3\n",
      "Name: 1297, dtype: object\n",
      "\n",
      "Row Label: 1300\n",
      "Item_Identifier                          FDJ09\n",
      "Item_Weight                                NaN\n",
      "Item_Fat_Content                       Low Fat\n",
      "Item_Visibility                       0.058112\n",
      "Item_Type                          Snack Foods\n",
      "Item_MRP                               45.5744\n",
      "Outlet_Identifier                       OUT027\n",
      "Outlet_Establishment_Year                 1985\n",
      "Outlet_Size                             Medium\n",
      "Outlet_Location_Type                    Tier 3\n",
      "Outlet_Type                  Supermarket Type3\n",
      "Name: 1300, dtype: object\n",
      "\n",
      "Row Label: 1571\n",
      "Item_Identifier                          FDF22\n",
      "Item_Weight                                NaN\n",
      "Item_Fat_Content                       Low Fat\n",
      "Item_Visibility                      0.0565555\n",
      "Item_Type                          Snack Foods\n",
      "Item_MRP                               214.222\n",
      "Outlet_Identifier                       OUT027\n",
      "Outlet_Establishment_Year                 1985\n",
      "Outlet_Size                             Medium\n",
      "Outlet_Location_Type                    Tier 3\n",
      "Outlet_Type                  Supermarket Type3\n",
      "Name: 1571, dtype: object\n",
      "\n",
      "Row Label: 1741\n",
      "Item_Identifier                              FDI45\n",
      "Item_Weight                                    NaN\n",
      "Item_Fat_Content                           Low Fat\n",
      "Item_Visibility                          0.0657999\n",
      "Item_Type                    Fruits and Vegetables\n",
      "Item_MRP                                   177.005\n",
      "Outlet_Identifier                           OUT019\n",
      "Outlet_Establishment_Year                     1985\n",
      "Outlet_Size                                  Small\n",
      "Outlet_Location_Type                        Tier 1\n",
      "Outlet_Type                          Grocery Store\n",
      "Name: 1741, dtype: object\n",
      "\n",
      "Row Label: 2302\n",
      "Item_Identifier                      FDF22\n",
      "Item_Weight                            NaN\n",
      "Item_Fat_Content                   Low Fat\n",
      "Item_Visibility                  0.0995032\n",
      "Item_Type                      Snack Foods\n",
      "Item_MRP                           212.522\n",
      "Outlet_Identifier                   OUT019\n",
      "Outlet_Establishment_Year             1985\n",
      "Outlet_Size                          Small\n",
      "Outlet_Location_Type                Tier 1\n",
      "Outlet_Type                  Grocery Store\n",
      "Name: 2302, dtype: object\n",
      "\n",
      "Row Label: 2600\n",
      "Item_Identifier                      FDG50\n",
      "Item_Weight                            NaN\n",
      "Item_Fat_Content                   Low Fat\n",
      "Item_Visibility                  0.0267389\n",
      "Item_Type                           Canned\n",
      "Item_MRP                           89.6146\n",
      "Outlet_Identifier                   OUT019\n",
      "Outlet_Establishment_Year             1985\n",
      "Outlet_Size                          Small\n",
      "Outlet_Location_Type                Tier 1\n",
      "Outlet_Type                  Grocery Store\n",
      "Name: 2600, dtype: object\n",
      "\n",
      "Row Label: 3619\n",
      "Item_Identifier                          FDL58\n",
      "Item_Weight                                NaN\n",
      "Item_Fat_Content                       Regular\n",
      "Item_Visibility                        0.07379\n",
      "Item_Type                          Snack Foods\n",
      "Item_MRP                               265.057\n",
      "Outlet_Identifier                       OUT027\n",
      "Outlet_Establishment_Year                 1985\n",
      "Outlet_Size                             Medium\n",
      "Outlet_Location_Type                    Tier 3\n",
      "Outlet_Type                  Supermarket Type3\n",
      "Name: 3619, dtype: object\n",
      "\n",
      "Row Label: 3734\n",
      "Item_Identifier                      DRN47\n",
      "Item_Weight                            NaN\n",
      "Item_Fat_Content                   Low Fat\n",
      "Item_Visibility                  0.0294615\n",
      "Item_Type                      Hard Drinks\n",
      "Item_MRP                           181.166\n",
      "Outlet_Identifier                   OUT019\n",
      "Outlet_Establishment_Year             1985\n",
      "Outlet_Size                          Small\n",
      "Outlet_Location_Type                Tier 1\n",
      "Outlet_Type                  Grocery Store\n",
      "Name: 3734, dtype: object\n",
      "\n",
      "Row Label: 3875\n",
      "Item_Identifier                      NCJ30\n",
      "Item_Weight                            NaN\n",
      "Item_Fat_Content                   Low Fat\n",
      "Item_Visibility                   0.141191\n",
      "Item_Type                        Household\n",
      "Item_MRP                           167.979\n",
      "Outlet_Identifier                   OUT019\n",
      "Outlet_Establishment_Year             1985\n",
      "Outlet_Size                          Small\n",
      "Outlet_Location_Type                Tier 1\n",
      "Outlet_Type                  Grocery Store\n",
      "Name: 3875, dtype: object\n",
      "\n",
      "Row Label: 3909\n",
      "Item_Identifier                      FDT21\n",
      "Item_Weight                            NaN\n",
      "Item_Fat_Content                   Low Fat\n",
      "Item_Visibility                  0.0357035\n",
      "Item_Type                      Snack Foods\n",
      "Item_MRP                           248.009\n",
      "Outlet_Identifier                   OUT019\n",
      "Outlet_Establishment_Year             1985\n",
      "Outlet_Size                          Small\n",
      "Outlet_Location_Type                Tier 1\n",
      "Outlet_Type                  Grocery Store\n",
      "Name: 3909, dtype: object\n",
      "\n",
      "Row Label: 4298\n",
      "Item_Identifier                          FDO22\n",
      "Item_Weight                                NaN\n",
      "Item_Fat_Content                       Regular\n",
      "Item_Visibility                       0.017773\n",
      "Item_Type                          Snack Foods\n",
      "Item_MRP                                80.296\n",
      "Outlet_Identifier                       OUT027\n",
      "Outlet_Establishment_Year                 1985\n",
      "Outlet_Size                             Medium\n",
      "Outlet_Location_Type                    Tier 3\n",
      "Outlet_Type                  Supermarket Type3\n",
      "Name: 4298, dtype: object\n",
      "\n",
      "Row Label: 4496\n",
      "Item_Identifier                              FDG09\n",
      "Item_Weight                                    NaN\n",
      "Item_Fat_Content                           Regular\n",
      "Item_Visibility                          0.0839302\n",
      "Item_Type                    Fruits and Vegetables\n",
      "Item_MRP                                   188.956\n",
      "Outlet_Identifier                           OUT019\n",
      "Outlet_Establishment_Year                     1985\n",
      "Outlet_Size                                  Small\n",
      "Outlet_Location_Type                        Tier 1\n",
      "Outlet_Type                          Grocery Store\n",
      "Name: 4496, dtype: object\n",
      "\n",
      "Row Label: 5346\n",
      "Item_Identifier                      FDF05\n",
      "Item_Weight                            NaN\n",
      "Item_Fat_Content                   Low Fat\n",
      "Item_Visibility                  0.0470475\n",
      "Item_Type                     Frozen Foods\n",
      "Item_MRP                           261.691\n",
      "Outlet_Identifier                   OUT019\n",
      "Outlet_Establishment_Year             1985\n",
      "Outlet_Size                          Small\n",
      "Outlet_Location_Type                Tier 1\n",
      "Outlet_Type                  Grocery Store\n",
      "Name: 5346, dtype: object\n",
      "\n",
      "Row Label: 5609\n",
      "Item_Identifier                          FDP28\n",
      "Item_Weight                                NaN\n",
      "Item_Fat_Content                       Regular\n",
      "Item_Visibility                        0.08025\n",
      "Item_Type                         Frozen Foods\n",
      "Item_MRP                               259.494\n",
      "Outlet_Identifier                       OUT027\n",
      "Outlet_Establishment_Year                 1985\n",
      "Outlet_Size                             Medium\n",
      "Outlet_Location_Type                    Tier 3\n",
      "Outlet_Type                  Supermarket Type3\n",
      "Name: 5609, dtype: object\n",
      "\n",
      "Row Label: 5615\n",
      "Item_Identifier                          FDF04\n",
      "Item_Weight                                NaN\n",
      "Item_Fat_Content                       Low Fat\n",
      "Item_Visibility                       0.013571\n",
      "Item_Type                         Frozen Foods\n",
      "Item_MRP                                258.53\n",
      "Outlet_Identifier                       OUT027\n",
      "Outlet_Establishment_Year                 1985\n",
      "Outlet_Size                             Medium\n",
      "Outlet_Location_Type                    Tier 3\n",
      "Outlet_Type                  Supermarket Type3\n",
      "Name: 5615, dtype: object\n",
      "\n"
     ]
    }
   ],
   "source": [
    "j = test['Item_Weight'].isnull()\n",
    "rows = []\n",
    "for i,k in zip(j.index, j.values):\n",
    "    if k == True:\n",
    "        print(\"Row Label:\",i)\n",
    "        print(test.loc[i])\n",
    "        rows.append(i)\n",
    "        print(\"\")"
   ]
  },
  {
   "cell_type": "code",
   "execution_count": 201,
   "metadata": {},
   "outputs": [
    {
     "name": "stdout",
     "output_type": "stream",
     "text": [
      "[58, 482, 882, 884, 1203, 1297, 1300, 1571, 1741, 2302, 2600, 3619, 3734, 3875, 3909, 4298, 4496, 5346, 5609, 5615]\n"
     ]
    }
   ],
   "source": [
    "print(rows)"
   ]
  },
  {
   "cell_type": "code",
   "execution_count": 202,
   "metadata": {},
   "outputs": [],
   "source": [
    "for i in rows:\n",
    "    it = test.loc[i]['Item_Type']\n",
    "    avg = test[test['Item_Type'] == it]['Item_Weight'].mean(skipna = True)\n",
    "    test.loc[i] = test.loc[i].fillna(avg)"
   ]
  },
  {
   "cell_type": "code",
   "execution_count": 203,
   "metadata": {},
   "outputs": [
    {
     "data": {
      "text/plain": [
       "Item_Identifier                 0\n",
       "Item_Weight                     0\n",
       "Item_Fat_Content                0\n",
       "Item_Visibility                 0\n",
       "Item_Type                       0\n",
       "Item_MRP                        0\n",
       "Outlet_Identifier               0\n",
       "Outlet_Establishment_Year       0\n",
       "Outlet_Size                  1606\n",
       "Outlet_Location_Type            0\n",
       "Outlet_Type                     0\n",
       "dtype: int64"
      ]
     },
     "execution_count": 203,
     "metadata": {},
     "output_type": "execute_result"
    }
   ],
   "source": [
    "test.isnull().sum()"
   ]
  },
  {
   "cell_type": "code",
   "execution_count": 204,
   "metadata": {},
   "outputs": [
    {
     "data": {
      "text/plain": [
       "353"
      ]
     },
     "execution_count": 204,
     "metadata": {},
     "output_type": "execute_result"
    }
   ],
   "source": [
    "test[test['Item_Visibility'] == 0].shape[0]"
   ]
  },
  {
   "cell_type": "code",
   "execution_count": 205,
   "metadata": {},
   "outputs": [],
   "source": [
    "test['Item_Visibility'].replace(0.0, np.NaN, inplace = True)"
   ]
  },
  {
   "cell_type": "code",
   "execution_count": 206,
   "metadata": {},
   "outputs": [
    {
     "data": {
      "text/plain": [
       "Item_Identifier                 0\n",
       "Item_Weight                     0\n",
       "Item_Fat_Content                0\n",
       "Item_Visibility               353\n",
       "Item_Type                       0\n",
       "Item_MRP                        0\n",
       "Outlet_Identifier               0\n",
       "Outlet_Establishment_Year       0\n",
       "Outlet_Size                  1606\n",
       "Outlet_Location_Type            0\n",
       "Outlet_Type                     0\n",
       "dtype: int64"
      ]
     },
     "execution_count": 206,
     "metadata": {},
     "output_type": "execute_result"
    }
   ],
   "source": [
    "test.isnull().sum()"
   ]
  },
  {
   "cell_type": "markdown",
   "metadata": {},
   "source": [
    "### Missing values handling for Item Visibility: "
   ]
  },
  {
   "cell_type": "code",
   "execution_count": 207,
   "metadata": {},
   "outputs": [],
   "source": [
    "iwvalues = []; iwindex = []\n",
    "\n",
    "for j in test.Item_Identifier.unique():\n",
    "    \n",
    "    avg = test[test['Item_Identifier'] == j]['Item_Visibility'].mean(skipna = True)\n",
    "    \n",
    "    result = test[test['Item_Identifier'] == j]['Item_Visibility'].fillna(avg)\n",
    "    \n",
    "    for k in result.values:\n",
    "        iwvalues.append(k)\n",
    "    for k in result.index:\n",
    "        iwindex.append(k)"
   ]
  },
  {
   "cell_type": "code",
   "execution_count": 208,
   "metadata": {},
   "outputs": [
    {
     "data": {
      "text/plain": [
       "0    0.007565\n",
       "1    0.038428\n",
       "2    0.099575\n",
       "3    0.015388\n",
       "4    0.118599\n",
       "dtype: float64"
      ]
     },
     "execution_count": 208,
     "metadata": {},
     "output_type": "execute_result"
    }
   ],
   "source": [
    "result = pd.Series(iwvalues, index = iwindex)\n",
    "result.sort_index(inplace = True)\n",
    "result.head()"
   ]
  },
  {
   "cell_type": "code",
   "execution_count": 209,
   "metadata": {},
   "outputs": [
    {
     "name": "stdout",
     "output_type": "stream",
     "text": [
      "(0, 'Item_Identifier')\n",
      "(1, 'Item_Weight')\n",
      "(2, 'Item_Fat_Content')\n",
      "(3, 'Item_Visibility')\n",
      "(4, 'Item_Type')\n",
      "(5, 'Item_MRP')\n",
      "(6, 'Outlet_Identifier')\n",
      "(7, 'Outlet_Establishment_Year')\n",
      "(8, 'Outlet_Size')\n",
      "(9, 'Outlet_Location_Type')\n",
      "(10, 'Outlet_Type')\n"
     ]
    }
   ],
   "source": [
    "for i in enumerate(test.columns):\n",
    "    print(i)"
   ]
  },
  {
   "cell_type": "code",
   "execution_count": 210,
   "metadata": {},
   "outputs": [],
   "source": [
    "test.drop('Item_Visibility', axis=1, inplace=True)"
   ]
  },
  {
   "cell_type": "code",
   "execution_count": 211,
   "metadata": {},
   "outputs": [],
   "source": [
    "test.insert(3, 'Item_Visibility', result)"
   ]
  },
  {
   "cell_type": "code",
   "execution_count": 212,
   "metadata": {},
   "outputs": [
    {
     "data": {
      "text/plain": [
       "Item_Identifier                 0\n",
       "Item_Weight                     0\n",
       "Item_Fat_Content                0\n",
       "Item_Visibility                13\n",
       "Item_Type                       0\n",
       "Item_MRP                        0\n",
       "Outlet_Identifier               0\n",
       "Outlet_Establishment_Year       0\n",
       "Outlet_Size                  1606\n",
       "Outlet_Location_Type            0\n",
       "Outlet_Type                     0\n",
       "dtype: int64"
      ]
     },
     "execution_count": 212,
     "metadata": {},
     "output_type": "execute_result"
    }
   ],
   "source": [
    "test.isnull().sum()"
   ]
  },
  {
   "cell_type": "code",
   "execution_count": 213,
   "metadata": {},
   "outputs": [
    {
     "name": "stdout",
     "output_type": "stream",
     "text": [
      "Row Label: 732\n",
      "Item_Identifier                          FDH50\n",
      "Item_Weight                                 15\n",
      "Item_Fat_Content                       Regular\n",
      "Item_Visibility                            NaN\n",
      "Item_Type                               Canned\n",
      "Item_MRP                               185.227\n",
      "Outlet_Identifier                       OUT049\n",
      "Outlet_Establishment_Year                 1999\n",
      "Outlet_Size                             Medium\n",
      "Outlet_Location_Type                    Tier 1\n",
      "Outlet_Type                  Supermarket Type1\n",
      "Name: 732, dtype: object\n",
      "\n",
      "Row Label: 1634\n",
      "Item_Identifier                          NCS06\n",
      "Item_Weight                              7.935\n",
      "Item_Fat_Content                       Low Fat\n",
      "Item_Visibility                            NaN\n",
      "Item_Type                            Household\n",
      "Item_MRP                               264.791\n",
      "Outlet_Identifier                       OUT017\n",
      "Outlet_Establishment_Year                 2007\n",
      "Outlet_Size                                NaN\n",
      "Outlet_Location_Type                    Tier 2\n",
      "Outlet_Type                  Supermarket Type1\n",
      "Name: 1634, dtype: object\n",
      "\n",
      "Row Label: 2201\n",
      "Item_Identifier                          FDO12\n",
      "Item_Weight                              15.75\n",
      "Item_Fat_Content                       Low Fat\n",
      "Item_Visibility                            NaN\n",
      "Item_Type                         Baking Goods\n",
      "Item_MRP                               194.945\n",
      "Outlet_Identifier                       OUT027\n",
      "Outlet_Establishment_Year                 1985\n",
      "Outlet_Size                             Medium\n",
      "Outlet_Location_Type                    Tier 3\n",
      "Outlet_Type                  Supermarket Type3\n",
      "Name: 2201, dtype: object\n",
      "\n",
      "Row Label: 2570\n",
      "Item_Identifier                          FDB36\n",
      "Item_Weight                              5.465\n",
      "Item_Fat_Content                       Regular\n",
      "Item_Visibility                            NaN\n",
      "Item_Type                         Baking Goods\n",
      "Item_MRP                               129.263\n",
      "Outlet_Identifier                       OUT049\n",
      "Outlet_Establishment_Year                 1999\n",
      "Outlet_Size                             Medium\n",
      "Outlet_Location_Type                    Tier 1\n",
      "Outlet_Type                  Supermarket Type1\n",
      "Name: 2570, dtype: object\n",
      "\n",
      "Row Label: 3359\n",
      "Item_Identifier                          FDO10\n",
      "Item_Weight                              13.65\n",
      "Item_Fat_Content                       Regular\n",
      "Item_Visibility                            NaN\n",
      "Item_Type                          Snack Foods\n",
      "Item_MRP                               57.7588\n",
      "Outlet_Identifier                       OUT049\n",
      "Outlet_Establishment_Year                 1999\n",
      "Outlet_Size                             Medium\n",
      "Outlet_Location_Type                    Tier 1\n",
      "Outlet_Type                  Supermarket Type1\n",
      "Name: 3359, dtype: object\n",
      "\n",
      "Row Label: 4367\n",
      "Item_Identifier                              FDK20\n",
      "Item_Weight                                   12.6\n",
      "Item_Fat_Content                           Regular\n",
      "Item_Visibility                                NaN\n",
      "Item_Type                    Fruits and Vegetables\n",
      "Item_MRP                                   121.907\n",
      "Outlet_Identifier                           OUT035\n",
      "Outlet_Establishment_Year                     2004\n",
      "Outlet_Size                                  Small\n",
      "Outlet_Location_Type                        Tier 2\n",
      "Outlet_Type                      Supermarket Type1\n",
      "Name: 4367, dtype: object\n",
      "\n",
      "Row Label: 4443\n",
      "Item_Identifier                              FDY07\n",
      "Item_Weight                                   11.8\n",
      "Item_Fat_Content                           Low Fat\n",
      "Item_Visibility                                NaN\n",
      "Item_Type                    Fruits and Vegetables\n",
      "Item_MRP                                   44.1402\n",
      "Outlet_Identifier                           OUT035\n",
      "Outlet_Establishment_Year                     2004\n",
      "Outlet_Size                                  Small\n",
      "Outlet_Location_Type                        Tier 2\n",
      "Outlet_Type                      Supermarket Type1\n",
      "Name: 4443, dtype: object\n",
      "\n",
      "Row Label: 4602\n",
      "Item_Identifier                          FDO12\n",
      "Item_Weight                              15.75\n",
      "Item_Fat_Content                       Low Fat\n",
      "Item_Visibility                            NaN\n",
      "Item_Type                         Baking Goods\n",
      "Item_MRP                               194.845\n",
      "Outlet_Identifier                       OUT045\n",
      "Outlet_Establishment_Year                 2002\n",
      "Outlet_Size                                NaN\n",
      "Outlet_Location_Type                    Tier 2\n",
      "Outlet_Type                  Supermarket Type1\n",
      "Name: 4602, dtype: object\n",
      "\n",
      "Row Label: 4736\n",
      "Item_Identifier                              FDY07\n",
      "Item_Weight                                   11.8\n",
      "Item_Fat_Content                           Low Fat\n",
      "Item_Visibility                                NaN\n",
      "Item_Type                    Fruits and Vegetables\n",
      "Item_MRP                                   45.5402\n",
      "Outlet_Identifier                           OUT046\n",
      "Outlet_Establishment_Year                     1997\n",
      "Outlet_Size                                  Small\n",
      "Outlet_Location_Type                        Tier 1\n",
      "Outlet_Type                      Supermarket Type1\n",
      "Name: 4736, dtype: object\n",
      "\n",
      "Row Label: 4786\n",
      "Item_Identifier                          NCV06\n",
      "Item_Weight                               11.3\n",
      "Item_Fat_Content                       Low Fat\n",
      "Item_Visibility                            NaN\n",
      "Item_Type                            Household\n",
      "Item_MRP                               192.848\n",
      "Outlet_Identifier                       OUT049\n",
      "Outlet_Establishment_Year                 1999\n",
      "Outlet_Size                             Medium\n",
      "Outlet_Location_Type                    Tier 1\n",
      "Outlet_Type                  Supermarket Type1\n",
      "Name: 4786, dtype: object\n",
      "\n",
      "Row Label: 4906\n",
      "Item_Identifier                      NCV06\n",
      "Item_Weight                           11.3\n",
      "Item_Fat_Content                   Low Fat\n",
      "Item_Visibility                        NaN\n",
      "Item_Type                        Household\n",
      "Item_MRP                           192.248\n",
      "Outlet_Identifier                   OUT010\n",
      "Outlet_Establishment_Year             1998\n",
      "Outlet_Size                            NaN\n",
      "Outlet_Location_Type                Tier 3\n",
      "Outlet_Type                  Grocery Store\n",
      "Name: 4906, dtype: object\n",
      "\n",
      "Row Label: 4918\n",
      "Item_Identifier                           NCP05\n",
      "Item_Weight                                19.6\n",
      "Item_Fat_Content                        Low Fat\n",
      "Item_Visibility                             NaN\n",
      "Item_Type                    Health and Hygiene\n",
      "Item_MRP                                149.802\n",
      "Outlet_Identifier                        OUT013\n",
      "Outlet_Establishment_Year                  1987\n",
      "Outlet_Size                                High\n",
      "Outlet_Location_Type                     Tier 3\n",
      "Outlet_Type                   Supermarket Type1\n",
      "Name: 4918, dtype: object\n",
      "\n",
      "Row Label: 5281\n",
      "Item_Identifier                          FDO10\n",
      "Item_Weight                              13.65\n",
      "Item_Fat_Content                       Regular\n",
      "Item_Visibility                            NaN\n",
      "Item_Type                          Snack Foods\n",
      "Item_MRP                               56.3588\n",
      "Outlet_Identifier                       OUT018\n",
      "Outlet_Establishment_Year                 2009\n",
      "Outlet_Size                             Medium\n",
      "Outlet_Location_Type                    Tier 3\n",
      "Outlet_Type                  Supermarket Type2\n",
      "Name: 5281, dtype: object\n",
      "\n"
     ]
    }
   ],
   "source": [
    "j = test['Item_Visibility'].isnull()\n",
    "rows = []\n",
    "for i,k in zip(j.index, j.values):\n",
    "    if k == True:\n",
    "        print(\"Row Label:\",i)\n",
    "        print(test.loc[i])\n",
    "        rows.append(i)\n",
    "        print(\"\")"
   ]
  },
  {
   "cell_type": "code",
   "execution_count": 214,
   "metadata": {},
   "outputs": [
    {
     "name": "stdout",
     "output_type": "stream",
     "text": [
      "[732, 1634, 2201, 2570, 3359, 4367, 4443, 4602, 4736, 4786, 4906, 4918, 5281]\n"
     ]
    }
   ],
   "source": [
    "print(rows)"
   ]
  },
  {
   "cell_type": "markdown",
   "metadata": {},
   "source": [
    "### Missing values handling for Outlet Size: "
   ]
  },
  {
   "cell_type": "code",
   "execution_count": 215,
   "metadata": {},
   "outputs": [
    {
     "name": "stdout",
     "output_type": "stream",
     "text": [
      "Outlet_Identifier: OUT049 ['Medium']\n",
      "Outlet_Identifier: OUT017 [nan]\n",
      "Outlet_Identifier: OUT010 [nan]\n",
      "Outlet_Identifier: OUT027 ['Medium']\n",
      "Outlet_Identifier: OUT046 ['Small']\n",
      "Outlet_Identifier: OUT018 ['Medium']\n",
      "Outlet_Identifier: OUT045 [nan]\n",
      "Outlet_Identifier: OUT019 ['Small']\n",
      "Outlet_Identifier: OUT013 ['High']\n",
      "Outlet_Identifier: OUT035 ['Small']\n"
     ]
    }
   ],
   "source": [
    "for i in test['Outlet_Identifier'].unique():\n",
    "    print(\"Outlet_Identifier:\",i,test[test['Outlet_Identifier'] == i]['Outlet_Size'].unique())"
   ]
  },
  {
   "cell_type": "code",
   "execution_count": 216,
   "metadata": {},
   "outputs": [],
   "source": [
    "r1 = test[test['Outlet_Identifier'] == 'OUT010']['Outlet_Size'].fillna(\"Small\")"
   ]
  },
  {
   "cell_type": "code",
   "execution_count": 217,
   "metadata": {},
   "outputs": [],
   "source": [
    "r2 = test[test['Outlet_Identifier'] == 'OUT017']['Outlet_Size'].fillna(\"Small\")"
   ]
  },
  {
   "cell_type": "code",
   "execution_count": 218,
   "metadata": {},
   "outputs": [],
   "source": [
    "r3 = test[test['Outlet_Identifier'] == 'OUT045']['Outlet_Size'].fillna(\"Small\")"
   ]
  },
  {
   "cell_type": "code",
   "execution_count": 219,
   "metadata": {},
   "outputs": [],
   "source": [
    "result = pd.concat([r1, r2, r3], axis=0)"
   ]
  },
  {
   "cell_type": "code",
   "execution_count": 220,
   "metadata": {},
   "outputs": [],
   "source": [
    "result.sort_index(inplace=True)"
   ]
  },
  {
   "cell_type": "code",
   "execution_count": 221,
   "metadata": {},
   "outputs": [
    {
     "data": {
      "text/plain": [
       "1    Small\n",
       "2    Small\n",
       "3    Small\n",
       "8    Small\n",
       "9    Small\n",
       "Name: Outlet_Size, dtype: object"
      ]
     },
     "execution_count": 221,
     "metadata": {},
     "output_type": "execute_result"
    }
   ],
   "source": [
    "result.head()"
   ]
  },
  {
   "cell_type": "code",
   "execution_count": 222,
   "metadata": {},
   "outputs": [],
   "source": [
    "osindex = []; osvalues = []\n",
    "for i, j in test['Outlet_Size'].isnull().items():\n",
    "    if j == False:\n",
    "        osindex.append(i)\n",
    "        osvalues.append(test['Outlet_Size'][i])"
   ]
  },
  {
   "cell_type": "code",
   "execution_count": 223,
   "metadata": {},
   "outputs": [
    {
     "data": {
      "text/plain": [
       "0    Medium\n",
       "4    Medium\n",
       "5     Small\n",
       "6    Medium\n",
       "7    Medium\n",
       "dtype: object"
      ]
     },
     "execution_count": 223,
     "metadata": {},
     "output_type": "execute_result"
    }
   ],
   "source": [
    "remaining_items = pd.Series(osvalues, index=osindex)\n",
    "remaining_items.head()"
   ]
  },
  {
   "cell_type": "code",
   "execution_count": 224,
   "metadata": {},
   "outputs": [],
   "source": [
    "result = pd.concat([result, remaining_items], axis=0)"
   ]
  },
  {
   "cell_type": "code",
   "execution_count": 225,
   "metadata": {},
   "outputs": [],
   "source": [
    "result.sort_index(inplace=True)"
   ]
  },
  {
   "cell_type": "code",
   "execution_count": 226,
   "metadata": {},
   "outputs": [
    {
     "data": {
      "text/plain": [
       "0    Medium\n",
       "1     Small\n",
       "2     Small\n",
       "3     Small\n",
       "4    Medium\n",
       "dtype: object"
      ]
     },
     "execution_count": 226,
     "metadata": {},
     "output_type": "execute_result"
    }
   ],
   "source": [
    "result.head()"
   ]
  },
  {
   "cell_type": "code",
   "execution_count": 227,
   "metadata": {},
   "outputs": [],
   "source": [
    "test.drop('Outlet_Size', axis=1, inplace=True)"
   ]
  },
  {
   "cell_type": "code",
   "execution_count": 228,
   "metadata": {},
   "outputs": [],
   "source": [
    "test.insert(8, 'Outlet_Size', result)"
   ]
  },
  {
   "cell_type": "code",
   "execution_count": 229,
   "metadata": {},
   "outputs": [
    {
     "data": {
      "text/plain": [
       "Item_Identifier               0\n",
       "Item_Weight                   0\n",
       "Item_Fat_Content              0\n",
       "Item_Visibility              13\n",
       "Item_Type                     0\n",
       "Item_MRP                      0\n",
       "Outlet_Identifier             0\n",
       "Outlet_Establishment_Year     0\n",
       "Outlet_Size                   0\n",
       "Outlet_Location_Type          0\n",
       "Outlet_Type                   0\n",
       "dtype: int64"
      ]
     },
     "execution_count": 229,
     "metadata": {},
     "output_type": "execute_result"
    }
   ],
   "source": [
    "test.isnull().sum()"
   ]
  },
  {
   "cell_type": "markdown",
   "metadata": {},
   "source": [
    "### Missing values handling for Remaining Item Visibility:"
   ]
  },
  {
   "cell_type": "code",
   "execution_count": 230,
   "metadata": {},
   "outputs": [],
   "source": [
    "for i in rows:\n",
    "    it = test.loc[i]['Item_Type']\n",
    "    avg = test[test['Item_Type'] == it]['Item_Visibility'].mean(skipna = True)\n",
    "    test.loc[i] = test.loc[i].fillna(avg)"
   ]
  },
  {
   "cell_type": "code",
   "execution_count": 231,
   "metadata": {},
   "outputs": [
    {
     "data": {
      "text/plain": [
       "Item_Identifier              0\n",
       "Item_Weight                  0\n",
       "Item_Fat_Content             0\n",
       "Item_Visibility              0\n",
       "Item_Type                    0\n",
       "Item_MRP                     0\n",
       "Outlet_Identifier            0\n",
       "Outlet_Establishment_Year    0\n",
       "Outlet_Size                  0\n",
       "Outlet_Location_Type         0\n",
       "Outlet_Type                  0\n",
       "dtype: int64"
      ]
     },
     "execution_count": 231,
     "metadata": {},
     "output_type": "execute_result"
    }
   ],
   "source": [
    "test.isnull().sum()"
   ]
  },
  {
   "cell_type": "markdown",
   "metadata": {},
   "source": [
    "### Create a new column Age of Outlet"
   ]
  },
  {
   "cell_type": "code",
   "execution_count": 232,
   "metadata": {},
   "outputs": [],
   "source": [
    "import datetime"
   ]
  },
  {
   "cell_type": "code",
   "execution_count": 233,
   "metadata": {},
   "outputs": [],
   "source": [
    "today = datetime.date.today()"
   ]
  },
  {
   "cell_type": "code",
   "execution_count": 234,
   "metadata": {},
   "outputs": [
    {
     "data": {
      "text/plain": [
       "datetime.date(2018, 12, 28)"
      ]
     },
     "execution_count": 234,
     "metadata": {},
     "output_type": "execute_result"
    }
   ],
   "source": [
    "today"
   ]
  },
  {
   "cell_type": "code",
   "execution_count": 235,
   "metadata": {},
   "outputs": [
    {
     "data": {
      "text/plain": [
       "2018"
      ]
     },
     "execution_count": 235,
     "metadata": {},
     "output_type": "execute_result"
    }
   ],
   "source": [
    "today.year"
   ]
  },
  {
   "cell_type": "code",
   "execution_count": 236,
   "metadata": {},
   "outputs": [],
   "source": [
    "test['Age_of_Outlet'] = test['Outlet_Establishment_Year'].apply(lambda i : today.year - i)"
   ]
  },
  {
   "cell_type": "code",
   "execution_count": 237,
   "metadata": {},
   "outputs": [
    {
     "data": {
      "text/html": [
       "<div>\n",
       "<style scoped>\n",
       "    .dataframe tbody tr th:only-of-type {\n",
       "        vertical-align: middle;\n",
       "    }\n",
       "\n",
       "    .dataframe tbody tr th {\n",
       "        vertical-align: top;\n",
       "    }\n",
       "\n",
       "    .dataframe thead th {\n",
       "        text-align: right;\n",
       "    }\n",
       "</style>\n",
       "<table border=\"1\" class=\"dataframe\">\n",
       "  <thead>\n",
       "    <tr style=\"text-align: right;\">\n",
       "      <th></th>\n",
       "      <th>Item_Identifier</th>\n",
       "      <th>Item_Weight</th>\n",
       "      <th>Item_Fat_Content</th>\n",
       "      <th>Item_Visibility</th>\n",
       "      <th>Item_Type</th>\n",
       "      <th>Item_MRP</th>\n",
       "      <th>Outlet_Identifier</th>\n",
       "      <th>Outlet_Establishment_Year</th>\n",
       "      <th>Outlet_Size</th>\n",
       "      <th>Outlet_Location_Type</th>\n",
       "      <th>Outlet_Type</th>\n",
       "      <th>Age_of_Outlet</th>\n",
       "    </tr>\n",
       "  </thead>\n",
       "  <tbody>\n",
       "    <tr>\n",
       "      <th>0</th>\n",
       "      <td>FDW58</td>\n",
       "      <td>20.750</td>\n",
       "      <td>Low Fat</td>\n",
       "      <td>0.007565</td>\n",
       "      <td>Snack Foods</td>\n",
       "      <td>107.8622</td>\n",
       "      <td>OUT049</td>\n",
       "      <td>1999</td>\n",
       "      <td>Medium</td>\n",
       "      <td>Tier 1</td>\n",
       "      <td>Supermarket Type1</td>\n",
       "      <td>19</td>\n",
       "    </tr>\n",
       "    <tr>\n",
       "      <th>1</th>\n",
       "      <td>FDW14</td>\n",
       "      <td>8.300</td>\n",
       "      <td>Regular</td>\n",
       "      <td>0.038428</td>\n",
       "      <td>Dairy</td>\n",
       "      <td>87.3198</td>\n",
       "      <td>OUT017</td>\n",
       "      <td>2007</td>\n",
       "      <td>Small</td>\n",
       "      <td>Tier 2</td>\n",
       "      <td>Supermarket Type1</td>\n",
       "      <td>11</td>\n",
       "    </tr>\n",
       "    <tr>\n",
       "      <th>2</th>\n",
       "      <td>NCN55</td>\n",
       "      <td>14.600</td>\n",
       "      <td>Low Fat</td>\n",
       "      <td>0.099575</td>\n",
       "      <td>Others</td>\n",
       "      <td>241.7538</td>\n",
       "      <td>OUT010</td>\n",
       "      <td>1998</td>\n",
       "      <td>Small</td>\n",
       "      <td>Tier 3</td>\n",
       "      <td>Grocery Store</td>\n",
       "      <td>20</td>\n",
       "    </tr>\n",
       "    <tr>\n",
       "      <th>3</th>\n",
       "      <td>FDQ58</td>\n",
       "      <td>7.315</td>\n",
       "      <td>Low Fat</td>\n",
       "      <td>0.015388</td>\n",
       "      <td>Snack Foods</td>\n",
       "      <td>155.0340</td>\n",
       "      <td>OUT017</td>\n",
       "      <td>2007</td>\n",
       "      <td>Small</td>\n",
       "      <td>Tier 2</td>\n",
       "      <td>Supermarket Type1</td>\n",
       "      <td>11</td>\n",
       "    </tr>\n",
       "    <tr>\n",
       "      <th>4</th>\n",
       "      <td>FDY38</td>\n",
       "      <td>13.600</td>\n",
       "      <td>Regular</td>\n",
       "      <td>0.118599</td>\n",
       "      <td>Dairy</td>\n",
       "      <td>234.2300</td>\n",
       "      <td>OUT027</td>\n",
       "      <td>1985</td>\n",
       "      <td>Medium</td>\n",
       "      <td>Tier 3</td>\n",
       "      <td>Supermarket Type3</td>\n",
       "      <td>33</td>\n",
       "    </tr>\n",
       "  </tbody>\n",
       "</table>\n",
       "</div>"
      ],
      "text/plain": [
       "  Item_Identifier  Item_Weight Item_Fat_Content  Item_Visibility    Item_Type  \\\n",
       "0           FDW58       20.750          Low Fat         0.007565  Snack Foods   \n",
       "1           FDW14        8.300          Regular         0.038428        Dairy   \n",
       "2           NCN55       14.600          Low Fat         0.099575       Others   \n",
       "3           FDQ58        7.315          Low Fat         0.015388  Snack Foods   \n",
       "4           FDY38       13.600          Regular         0.118599        Dairy   \n",
       "\n",
       "   Item_MRP Outlet_Identifier  Outlet_Establishment_Year Outlet_Size  \\\n",
       "0  107.8622            OUT049                       1999      Medium   \n",
       "1   87.3198            OUT017                       2007       Small   \n",
       "2  241.7538            OUT010                       1998       Small   \n",
       "3  155.0340            OUT017                       2007       Small   \n",
       "4  234.2300            OUT027                       1985      Medium   \n",
       "\n",
       "  Outlet_Location_Type        Outlet_Type  Age_of_Outlet  \n",
       "0               Tier 1  Supermarket Type1             19  \n",
       "1               Tier 2  Supermarket Type1             11  \n",
       "2               Tier 3      Grocery Store             20  \n",
       "3               Tier 2  Supermarket Type1             11  \n",
       "4               Tier 3  Supermarket Type3             33  "
      ]
     },
     "execution_count": 237,
     "metadata": {},
     "output_type": "execute_result"
    }
   ],
   "source": [
    "test.head()"
   ]
  },
  {
   "cell_type": "markdown",
   "metadata": {},
   "source": [
    "### Drop unnecessary columns"
   ]
  },
  {
   "cell_type": "code",
   "execution_count": 238,
   "metadata": {},
   "outputs": [],
   "source": [
    "test.drop(['Item_Identifier', 'Outlet_Identifier', 'Outlet_Establishment_Year'], axis=1, inplace=True)"
   ]
  },
  {
   "cell_type": "code",
   "execution_count": 239,
   "metadata": {},
   "outputs": [
    {
     "data": {
      "text/html": [
       "<div>\n",
       "<style scoped>\n",
       "    .dataframe tbody tr th:only-of-type {\n",
       "        vertical-align: middle;\n",
       "    }\n",
       "\n",
       "    .dataframe tbody tr th {\n",
       "        vertical-align: top;\n",
       "    }\n",
       "\n",
       "    .dataframe thead th {\n",
       "        text-align: right;\n",
       "    }\n",
       "</style>\n",
       "<table border=\"1\" class=\"dataframe\">\n",
       "  <thead>\n",
       "    <tr style=\"text-align: right;\">\n",
       "      <th></th>\n",
       "      <th>Item_Weight</th>\n",
       "      <th>Item_Fat_Content</th>\n",
       "      <th>Item_Visibility</th>\n",
       "      <th>Item_Type</th>\n",
       "      <th>Item_MRP</th>\n",
       "      <th>Outlet_Size</th>\n",
       "      <th>Outlet_Location_Type</th>\n",
       "      <th>Outlet_Type</th>\n",
       "      <th>Age_of_Outlet</th>\n",
       "    </tr>\n",
       "  </thead>\n",
       "  <tbody>\n",
       "    <tr>\n",
       "      <th>0</th>\n",
       "      <td>20.750</td>\n",
       "      <td>Low Fat</td>\n",
       "      <td>0.007565</td>\n",
       "      <td>Snack Foods</td>\n",
       "      <td>107.8622</td>\n",
       "      <td>Medium</td>\n",
       "      <td>Tier 1</td>\n",
       "      <td>Supermarket Type1</td>\n",
       "      <td>19</td>\n",
       "    </tr>\n",
       "    <tr>\n",
       "      <th>1</th>\n",
       "      <td>8.300</td>\n",
       "      <td>Regular</td>\n",
       "      <td>0.038428</td>\n",
       "      <td>Dairy</td>\n",
       "      <td>87.3198</td>\n",
       "      <td>Small</td>\n",
       "      <td>Tier 2</td>\n",
       "      <td>Supermarket Type1</td>\n",
       "      <td>11</td>\n",
       "    </tr>\n",
       "    <tr>\n",
       "      <th>2</th>\n",
       "      <td>14.600</td>\n",
       "      <td>Low Fat</td>\n",
       "      <td>0.099575</td>\n",
       "      <td>Others</td>\n",
       "      <td>241.7538</td>\n",
       "      <td>Small</td>\n",
       "      <td>Tier 3</td>\n",
       "      <td>Grocery Store</td>\n",
       "      <td>20</td>\n",
       "    </tr>\n",
       "    <tr>\n",
       "      <th>3</th>\n",
       "      <td>7.315</td>\n",
       "      <td>Low Fat</td>\n",
       "      <td>0.015388</td>\n",
       "      <td>Snack Foods</td>\n",
       "      <td>155.0340</td>\n",
       "      <td>Small</td>\n",
       "      <td>Tier 2</td>\n",
       "      <td>Supermarket Type1</td>\n",
       "      <td>11</td>\n",
       "    </tr>\n",
       "    <tr>\n",
       "      <th>4</th>\n",
       "      <td>13.600</td>\n",
       "      <td>Regular</td>\n",
       "      <td>0.118599</td>\n",
       "      <td>Dairy</td>\n",
       "      <td>234.2300</td>\n",
       "      <td>Medium</td>\n",
       "      <td>Tier 3</td>\n",
       "      <td>Supermarket Type3</td>\n",
       "      <td>33</td>\n",
       "    </tr>\n",
       "  </tbody>\n",
       "</table>\n",
       "</div>"
      ],
      "text/plain": [
       "   Item_Weight Item_Fat_Content  Item_Visibility    Item_Type  Item_MRP  \\\n",
       "0       20.750          Low Fat         0.007565  Snack Foods  107.8622   \n",
       "1        8.300          Regular         0.038428        Dairy   87.3198   \n",
       "2       14.600          Low Fat         0.099575       Others  241.7538   \n",
       "3        7.315          Low Fat         0.015388  Snack Foods  155.0340   \n",
       "4       13.600          Regular         0.118599        Dairy  234.2300   \n",
       "\n",
       "  Outlet_Size Outlet_Location_Type        Outlet_Type  Age_of_Outlet  \n",
       "0      Medium               Tier 1  Supermarket Type1             19  \n",
       "1       Small               Tier 2  Supermarket Type1             11  \n",
       "2       Small               Tier 3      Grocery Store             20  \n",
       "3       Small               Tier 2  Supermarket Type1             11  \n",
       "4      Medium               Tier 3  Supermarket Type3             33  "
      ]
     },
     "execution_count": 239,
     "metadata": {},
     "output_type": "execute_result"
    }
   ],
   "source": [
    "test.head()"
   ]
  },
  {
   "cell_type": "markdown",
   "metadata": {},
   "source": [
    "### Label Encoding"
   ]
  },
  {
   "cell_type": "code",
   "execution_count": 240,
   "metadata": {},
   "outputs": [],
   "source": [
    "from sklearn.preprocessing import LabelEncoder"
   ]
  },
  {
   "cell_type": "code",
   "execution_count": 241,
   "metadata": {},
   "outputs": [],
   "source": [
    "label = LabelEncoder()"
   ]
  },
  {
   "cell_type": "code",
   "execution_count": 242,
   "metadata": {},
   "outputs": [],
   "source": [
    "cat_features = test.describe(include=['object']).columns.tolist()"
   ]
  },
  {
   "cell_type": "code",
   "execution_count": 243,
   "metadata": {},
   "outputs": [
    {
     "data": {
      "text/plain": [
       "['Item_Fat_Content',\n",
       " 'Item_Type',\n",
       " 'Outlet_Size',\n",
       " 'Outlet_Location_Type',\n",
       " 'Outlet_Type']"
      ]
     },
     "execution_count": 243,
     "metadata": {},
     "output_type": "execute_result"
    }
   ],
   "source": [
    "cat_features"
   ]
  },
  {
   "cell_type": "code",
   "execution_count": 244,
   "metadata": {},
   "outputs": [],
   "source": [
    "for i in cat_features:\n",
    "    test[i] = label.fit_transform(test[i])"
   ]
  },
  {
   "cell_type": "code",
   "execution_count": 245,
   "metadata": {},
   "outputs": [
    {
     "data": {
      "text/html": [
       "<div>\n",
       "<style scoped>\n",
       "    .dataframe tbody tr th:only-of-type {\n",
       "        vertical-align: middle;\n",
       "    }\n",
       "\n",
       "    .dataframe tbody tr th {\n",
       "        vertical-align: top;\n",
       "    }\n",
       "\n",
       "    .dataframe thead th {\n",
       "        text-align: right;\n",
       "    }\n",
       "</style>\n",
       "<table border=\"1\" class=\"dataframe\">\n",
       "  <thead>\n",
       "    <tr style=\"text-align: right;\">\n",
       "      <th></th>\n",
       "      <th>Item_Weight</th>\n",
       "      <th>Item_Fat_Content</th>\n",
       "      <th>Item_Visibility</th>\n",
       "      <th>Item_Type</th>\n",
       "      <th>Item_MRP</th>\n",
       "      <th>Outlet_Size</th>\n",
       "      <th>Outlet_Location_Type</th>\n",
       "      <th>Outlet_Type</th>\n",
       "      <th>Age_of_Outlet</th>\n",
       "    </tr>\n",
       "  </thead>\n",
       "  <tbody>\n",
       "    <tr>\n",
       "      <th>0</th>\n",
       "      <td>20.750</td>\n",
       "      <td>0</td>\n",
       "      <td>0.007565</td>\n",
       "      <td>13</td>\n",
       "      <td>107.8622</td>\n",
       "      <td>1</td>\n",
       "      <td>0</td>\n",
       "      <td>1</td>\n",
       "      <td>19</td>\n",
       "    </tr>\n",
       "    <tr>\n",
       "      <th>1</th>\n",
       "      <td>8.300</td>\n",
       "      <td>1</td>\n",
       "      <td>0.038428</td>\n",
       "      <td>4</td>\n",
       "      <td>87.3198</td>\n",
       "      <td>2</td>\n",
       "      <td>1</td>\n",
       "      <td>1</td>\n",
       "      <td>11</td>\n",
       "    </tr>\n",
       "    <tr>\n",
       "      <th>2</th>\n",
       "      <td>14.600</td>\n",
       "      <td>0</td>\n",
       "      <td>0.099575</td>\n",
       "      <td>11</td>\n",
       "      <td>241.7538</td>\n",
       "      <td>2</td>\n",
       "      <td>2</td>\n",
       "      <td>0</td>\n",
       "      <td>20</td>\n",
       "    </tr>\n",
       "    <tr>\n",
       "      <th>3</th>\n",
       "      <td>7.315</td>\n",
       "      <td>0</td>\n",
       "      <td>0.015388</td>\n",
       "      <td>13</td>\n",
       "      <td>155.0340</td>\n",
       "      <td>2</td>\n",
       "      <td>1</td>\n",
       "      <td>1</td>\n",
       "      <td>11</td>\n",
       "    </tr>\n",
       "    <tr>\n",
       "      <th>4</th>\n",
       "      <td>13.600</td>\n",
       "      <td>1</td>\n",
       "      <td>0.118599</td>\n",
       "      <td>4</td>\n",
       "      <td>234.2300</td>\n",
       "      <td>1</td>\n",
       "      <td>2</td>\n",
       "      <td>3</td>\n",
       "      <td>33</td>\n",
       "    </tr>\n",
       "  </tbody>\n",
       "</table>\n",
       "</div>"
      ],
      "text/plain": [
       "   Item_Weight  Item_Fat_Content  Item_Visibility  Item_Type  Item_MRP  \\\n",
       "0       20.750                 0         0.007565         13  107.8622   \n",
       "1        8.300                 1         0.038428          4   87.3198   \n",
       "2       14.600                 0         0.099575         11  241.7538   \n",
       "3        7.315                 0         0.015388         13  155.0340   \n",
       "4       13.600                 1         0.118599          4  234.2300   \n",
       "\n",
       "   Outlet_Size  Outlet_Location_Type  Outlet_Type  Age_of_Outlet  \n",
       "0            1                     0            1             19  \n",
       "1            2                     1            1             11  \n",
       "2            2                     2            0             20  \n",
       "3            2                     1            1             11  \n",
       "4            1                     2            3             33  "
      ]
     },
     "execution_count": 245,
     "metadata": {},
     "output_type": "execute_result"
    }
   ],
   "source": [
    "test.head()"
   ]
  },
  {
   "cell_type": "markdown",
   "metadata": {},
   "source": [
    "### One Hot Encoding"
   ]
  },
  {
   "cell_type": "code",
   "execution_count": 246,
   "metadata": {},
   "outputs": [],
   "source": [
    "from sklearn.preprocessing import OneHotEncoder"
   ]
  },
  {
   "cell_type": "code",
   "execution_count": 247,
   "metadata": {},
   "outputs": [
    {
     "name": "stdout",
     "output_type": "stream",
     "text": [
      "(0, 'Item_Weight')\n",
      "(1, 'Item_Fat_Content')\n",
      "(2, 'Item_Visibility')\n",
      "(3, 'Item_Type')\n",
      "(4, 'Item_MRP')\n",
      "(5, 'Outlet_Size')\n",
      "(6, 'Outlet_Location_Type')\n",
      "(7, 'Outlet_Type')\n",
      "(8, 'Age_of_Outlet')\n"
     ]
    }
   ],
   "source": [
    "for i in enumerate(test.columns):\n",
    "    print(i)"
   ]
  },
  {
   "cell_type": "code",
   "execution_count": 248,
   "metadata": {},
   "outputs": [],
   "source": [
    "ohc = OneHotEncoder(categorical_features=[3,5,6,7])"
   ]
  },
  {
   "cell_type": "code",
   "execution_count": 249,
   "metadata": {},
   "outputs": [],
   "source": [
    "X = ohc.fit_transform(test)"
   ]
  },
  {
   "cell_type": "code",
   "execution_count": 250,
   "metadata": {},
   "outputs": [],
   "source": [
    "X = X.toarray()"
   ]
  },
  {
   "cell_type": "code",
   "execution_count": 251,
   "metadata": {},
   "outputs": [
    {
     "data": {
      "text/plain": [
       "array([[  0.        ,   0.        ,   0.        , ...,   0.00756484,\n",
       "        107.8622    ,  19.        ],\n",
       "       [  0.        ,   0.        ,   0.        , ...,   0.03842768,\n",
       "         87.3198    ,  11.        ],\n",
       "       [  0.        ,   0.        ,   0.        , ...,   0.09957491,\n",
       "        241.7538    ,  20.        ],\n",
       "       ...,\n",
       "       [  0.        ,   0.        ,   0.        , ...,   0.07352856,\n",
       "        118.744     ,  16.        ],\n",
       "       [  0.        ,   0.        ,   0.        , ...,   0.11497102,\n",
       "        214.6218    ,  11.        ],\n",
       "       [  0.        ,   0.        ,   0.        , ...,   0.10472015,\n",
       "         79.796     ,  16.        ]])"
      ]
     },
     "execution_count": 251,
     "metadata": {},
     "output_type": "execute_result"
    }
   ],
   "source": [
    "X"
   ]
  },
  {
   "cell_type": "markdown",
   "metadata": {},
   "source": [
    "### Make Predictions using XGBoost Model"
   ]
  },
  {
   "cell_type": "code",
   "execution_count": 252,
   "metadata": {},
   "outputs": [],
   "source": [
    "y_predict = model_xg.predict(X)"
   ]
  },
  {
   "cell_type": "markdown",
   "metadata": {},
   "source": [
    "### Collect item identifiers for all items"
   ]
  },
  {
   "cell_type": "code",
   "execution_count": 253,
   "metadata": {},
   "outputs": [
    {
     "data": {
      "text/html": [
       "<div>\n",
       "<style scoped>\n",
       "    .dataframe tbody tr th:only-of-type {\n",
       "        vertical-align: middle;\n",
       "    }\n",
       "\n",
       "    .dataframe tbody tr th {\n",
       "        vertical-align: top;\n",
       "    }\n",
       "\n",
       "    .dataframe thead th {\n",
       "        text-align: right;\n",
       "    }\n",
       "</style>\n",
       "<table border=\"1\" class=\"dataframe\">\n",
       "  <thead>\n",
       "    <tr style=\"text-align: right;\">\n",
       "      <th></th>\n",
       "      <th>Item_Identifier</th>\n",
       "      <th>Item_Weight</th>\n",
       "      <th>Item_Fat_Content</th>\n",
       "      <th>Item_Visibility</th>\n",
       "      <th>Item_Type</th>\n",
       "      <th>Item_MRP</th>\n",
       "      <th>Outlet_Identifier</th>\n",
       "      <th>Outlet_Establishment_Year</th>\n",
       "      <th>Outlet_Size</th>\n",
       "      <th>Outlet_Location_Type</th>\n",
       "      <th>Outlet_Type</th>\n",
       "    </tr>\n",
       "  </thead>\n",
       "  <tbody>\n",
       "    <tr>\n",
       "      <th>0</th>\n",
       "      <td>FDW58</td>\n",
       "      <td>20.750</td>\n",
       "      <td>Low Fat</td>\n",
       "      <td>0.007565</td>\n",
       "      <td>Snack Foods</td>\n",
       "      <td>107.8622</td>\n",
       "      <td>OUT049</td>\n",
       "      <td>1999</td>\n",
       "      <td>Medium</td>\n",
       "      <td>Tier 1</td>\n",
       "      <td>Supermarket Type1</td>\n",
       "    </tr>\n",
       "    <tr>\n",
       "      <th>1</th>\n",
       "      <td>FDW14</td>\n",
       "      <td>8.300</td>\n",
       "      <td>reg</td>\n",
       "      <td>0.038428</td>\n",
       "      <td>Dairy</td>\n",
       "      <td>87.3198</td>\n",
       "      <td>OUT017</td>\n",
       "      <td>2007</td>\n",
       "      <td>NaN</td>\n",
       "      <td>Tier 2</td>\n",
       "      <td>Supermarket Type1</td>\n",
       "    </tr>\n",
       "    <tr>\n",
       "      <th>2</th>\n",
       "      <td>NCN55</td>\n",
       "      <td>14.600</td>\n",
       "      <td>Low Fat</td>\n",
       "      <td>0.099575</td>\n",
       "      <td>Others</td>\n",
       "      <td>241.7538</td>\n",
       "      <td>OUT010</td>\n",
       "      <td>1998</td>\n",
       "      <td>NaN</td>\n",
       "      <td>Tier 3</td>\n",
       "      <td>Grocery Store</td>\n",
       "    </tr>\n",
       "    <tr>\n",
       "      <th>3</th>\n",
       "      <td>FDQ58</td>\n",
       "      <td>7.315</td>\n",
       "      <td>Low Fat</td>\n",
       "      <td>0.015388</td>\n",
       "      <td>Snack Foods</td>\n",
       "      <td>155.0340</td>\n",
       "      <td>OUT017</td>\n",
       "      <td>2007</td>\n",
       "      <td>NaN</td>\n",
       "      <td>Tier 2</td>\n",
       "      <td>Supermarket Type1</td>\n",
       "    </tr>\n",
       "    <tr>\n",
       "      <th>4</th>\n",
       "      <td>FDY38</td>\n",
       "      <td>NaN</td>\n",
       "      <td>Regular</td>\n",
       "      <td>0.118599</td>\n",
       "      <td>Dairy</td>\n",
       "      <td>234.2300</td>\n",
       "      <td>OUT027</td>\n",
       "      <td>1985</td>\n",
       "      <td>Medium</td>\n",
       "      <td>Tier 3</td>\n",
       "      <td>Supermarket Type3</td>\n",
       "    </tr>\n",
       "  </tbody>\n",
       "</table>\n",
       "</div>"
      ],
      "text/plain": [
       "  Item_Identifier  Item_Weight Item_Fat_Content  Item_Visibility    Item_Type  \\\n",
       "0           FDW58       20.750          Low Fat         0.007565  Snack Foods   \n",
       "1           FDW14        8.300              reg         0.038428        Dairy   \n",
       "2           NCN55       14.600          Low Fat         0.099575       Others   \n",
       "3           FDQ58        7.315          Low Fat         0.015388  Snack Foods   \n",
       "4           FDY38          NaN          Regular         0.118599        Dairy   \n",
       "\n",
       "   Item_MRP Outlet_Identifier  Outlet_Establishment_Year Outlet_Size  \\\n",
       "0  107.8622            OUT049                       1999      Medium   \n",
       "1   87.3198            OUT017                       2007         NaN   \n",
       "2  241.7538            OUT010                       1998         NaN   \n",
       "3  155.0340            OUT017                       2007         NaN   \n",
       "4  234.2300            OUT027                       1985      Medium   \n",
       "\n",
       "  Outlet_Location_Type        Outlet_Type  \n",
       "0               Tier 1  Supermarket Type1  \n",
       "1               Tier 2  Supermarket Type1  \n",
       "2               Tier 3      Grocery Store  \n",
       "3               Tier 2  Supermarket Type1  \n",
       "4               Tier 3  Supermarket Type3  "
      ]
     },
     "execution_count": 253,
     "metadata": {},
     "output_type": "execute_result"
    }
   ],
   "source": [
    "df = pd.read_csv(\"../Big_Mart_Sales/Test.csv\")\n",
    "df.head()"
   ]
  },
  {
   "cell_type": "code",
   "execution_count": 254,
   "metadata": {},
   "outputs": [],
   "source": [
    "itemids = df['Item_Identifier'].tolist()\n",
    "outletids = df['Outlet_Identifier'].tolist()"
   ]
  },
  {
   "cell_type": "markdown",
   "metadata": {},
   "source": [
    "### Final Report"
   ]
  },
  {
   "cell_type": "code",
   "execution_count": 255,
   "metadata": {},
   "outputs": [],
   "source": [
    "report = pd.DataFrame({\"Item_Identifier\": itemids, \n",
    "                       \"Outlet_Identifier\": outletids,\n",
    "                       \"Item_Outlet_Sales\": y_predict})"
   ]
  },
  {
   "cell_type": "code",
   "execution_count": 256,
   "metadata": {},
   "outputs": [
    {
     "data": {
      "text/html": [
       "<div>\n",
       "<style scoped>\n",
       "    .dataframe tbody tr th:only-of-type {\n",
       "        vertical-align: middle;\n",
       "    }\n",
       "\n",
       "    .dataframe tbody tr th {\n",
       "        vertical-align: top;\n",
       "    }\n",
       "\n",
       "    .dataframe thead th {\n",
       "        text-align: right;\n",
       "    }\n",
       "</style>\n",
       "<table border=\"1\" class=\"dataframe\">\n",
       "  <thead>\n",
       "    <tr style=\"text-align: right;\">\n",
       "      <th></th>\n",
       "      <th>Item_Identifier</th>\n",
       "      <th>Outlet_Identifier</th>\n",
       "      <th>Item_Outlet_Sales</th>\n",
       "    </tr>\n",
       "  </thead>\n",
       "  <tbody>\n",
       "    <tr>\n",
       "      <th>0</th>\n",
       "      <td>FDW58</td>\n",
       "      <td>OUT049</td>\n",
       "      <td>1833.370605</td>\n",
       "    </tr>\n",
       "    <tr>\n",
       "      <th>1</th>\n",
       "      <td>FDW14</td>\n",
       "      <td>OUT017</td>\n",
       "      <td>1426.552246</td>\n",
       "    </tr>\n",
       "    <tr>\n",
       "      <th>2</th>\n",
       "      <td>NCN55</td>\n",
       "      <td>OUT010</td>\n",
       "      <td>652.913025</td>\n",
       "    </tr>\n",
       "    <tr>\n",
       "      <th>3</th>\n",
       "      <td>FDQ58</td>\n",
       "      <td>OUT017</td>\n",
       "      <td>2512.300781</td>\n",
       "    </tr>\n",
       "    <tr>\n",
       "      <th>4</th>\n",
       "      <td>FDY38</td>\n",
       "      <td>OUT027</td>\n",
       "      <td>4814.980957</td>\n",
       "    </tr>\n",
       "    <tr>\n",
       "      <th>5</th>\n",
       "      <td>FDH56</td>\n",
       "      <td>OUT046</td>\n",
       "      <td>1881.910767</td>\n",
       "    </tr>\n",
       "    <tr>\n",
       "      <th>6</th>\n",
       "      <td>FDL48</td>\n",
       "      <td>OUT018</td>\n",
       "      <td>557.277405</td>\n",
       "    </tr>\n",
       "    <tr>\n",
       "      <th>7</th>\n",
       "      <td>FDC48</td>\n",
       "      <td>OUT027</td>\n",
       "      <td>2215.436035</td>\n",
       "    </tr>\n",
       "    <tr>\n",
       "      <th>8</th>\n",
       "      <td>FDN33</td>\n",
       "      <td>OUT045</td>\n",
       "      <td>1514.896851</td>\n",
       "    </tr>\n",
       "    <tr>\n",
       "      <th>9</th>\n",
       "      <td>FDA36</td>\n",
       "      <td>OUT017</td>\n",
       "      <td>3291.675537</td>\n",
       "    </tr>\n",
       "  </tbody>\n",
       "</table>\n",
       "</div>"
      ],
      "text/plain": [
       "  Item_Identifier Outlet_Identifier  Item_Outlet_Sales\n",
       "0           FDW58            OUT049        1833.370605\n",
       "1           FDW14            OUT017        1426.552246\n",
       "2           NCN55            OUT010         652.913025\n",
       "3           FDQ58            OUT017        2512.300781\n",
       "4           FDY38            OUT027        4814.980957\n",
       "5           FDH56            OUT046        1881.910767\n",
       "6           FDL48            OUT018         557.277405\n",
       "7           FDC48            OUT027        2215.436035\n",
       "8           FDN33            OUT045        1514.896851\n",
       "9           FDA36            OUT017        3291.675537"
      ]
     },
     "execution_count": 256,
     "metadata": {},
     "output_type": "execute_result"
    }
   ],
   "source": [
    "report.head(10)"
   ]
  },
  {
   "cell_type": "markdown",
   "metadata": {},
   "source": [
    "### Create submission file in CSV format"
   ]
  },
  {
   "cell_type": "code",
   "execution_count": 257,
   "metadata": {},
   "outputs": [],
   "source": [
    "report.to_csv(\"Submission.csv\")"
   ]
  }
 ],
 "metadata": {
  "kernelspec": {
   "display_name": "Python 3",
   "language": "python",
   "name": "python3"
  },
  "language_info": {
   "codemirror_mode": {
    "name": "ipython",
    "version": 3
   },
   "file_extension": ".py",
   "mimetype": "text/x-python",
   "name": "python",
   "nbconvert_exporter": "python",
   "pygments_lexer": "ipython3",
   "version": "3.6.5"
  }
 },
 "nbformat": 4,
 "nbformat_minor": 2
}
